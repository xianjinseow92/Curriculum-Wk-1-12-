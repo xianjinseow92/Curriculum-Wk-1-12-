{
 "cells": [
  {
   "cell_type": "markdown",
   "metadata": {},
   "source": [
    "# Scraping from SuperCuts\n",
    "\n",
    "Imagine you work for Great Clips. Congratulations. Now imagine your boss wants you to find the address for every Super Cuts currently in business, so you can see where they exist, for competition purposes. How could you do this with Beautiful Soup?"
   ]
  },
  {
   "cell_type": "code",
   "execution_count": null,
   "metadata": {},
   "outputs": [],
   "source": [
    "import requests\n",
    "from bs4 import BeautifulSoup\n",
    "\n",
    "source_code = requests.get('https://www.supercuts.com/salon-directory.html')\n",
    "\n",
    "soup = BeautifulSoup(source_code.text, 'html5lib')\n",
    "\n",
    "# store the addresses here:\n",
    "addr = []"
   ]
  },
  {
   "cell_type": "markdown",
   "metadata": {},
   "source": [
    "Idea:\n",
    "1. Use the inspector? What sort of tag does each store belong to? Is it in its own `div`? It's own `li`? Is there a class that will get match them all?\n",
    "2. Make a selector (i.e. `soup.find(.....)`) to get all the stores\n",
    "3. Iterate through the selector, and pull out the link for that specific store. Store the links somewher\n",
    "\n",
    "Once you have the links,  visit the link for **one** store. Using the Chrome inspector, figure out how to select the address. Once you think you can do that, it is time to scrape _all_ the links in our list.\n",
    "\n",
    "1. Iterate through the links one at a time.\n",
    "  1. Make a _new_ request for the link\n",
    "  2. Turn the link into \"soup\"\n",
    "  3. Extract the address from the link\n",
    "  4. Store the address in the list  `addr`\n"
   ]
  },
  {
   "cell_type": "code",
   "execution_count": null,
   "metadata": {},
   "outputs": [],
   "source": [
    "#This prints out print(len(addr))\n",
    "for add in addr[:50]:\n",
    "    print(add)\n",
    "    "
   ]
  },
  {
   "cell_type": "code",
   "execution_count": null,
   "metadata": {},
   "outputs": [],
   "source": [
    "# pretty print\n",
    "\n",
    "import pandas as pd\n",
    "print('Number of stores = ', len(addr))\n",
    "pd.DataFrame(addr, columns=[\"Addresses\"]).head(50)\n"
   ]
  },
  {
   "cell_type": "code",
   "execution_count": null,
   "metadata": {},
   "outputs": [],
   "source": []
  }
 ],
 "metadata": {
  "kernelspec": {
   "display_name": "metis",
   "language": "python",
   "name": "metis"
  },
  "language_info": {
   "codemirror_mode": {
    "name": "ipython",
    "version": 3
   },
   "file_extension": ".py",
   "mimetype": "text/x-python",
   "name": "python",
   "nbconvert_exporter": "python",
   "pygments_lexer": "ipython3",
   "version": "3.6.5"
  }
 },
 "nbformat": 4,
 "nbformat_minor": 2
}
