{
 "cells": [
  {
   "cell_type": "markdown",
   "metadata": {},
   "source": [
    "# Version Checking"
   ]
  },
  {
   "cell_type": "code",
   "execution_count": 1,
   "metadata": {
    "ExecuteTime": {
     "end_time": "2019-04-11T19:19:48.882190Z",
     "start_time": "2019-04-11T19:19:48.876331Z"
    }
   },
   "outputs": [
    {
     "name": "stdout",
     "output_type": "stream",
     "text": [
      "Python Version: 3.7.3 | packaged by conda-forge | (default, Jul  1 2019, 22:01:29) [MSC v.1900 64 bit (AMD64)] \n",
      "\n"
     ]
    }
   ],
   "source": [
    "import sys\n",
    "print(\"Python Version:\", sys.version, '\\n')"
   ]
  },
  {
   "cell_type": "markdown",
   "metadata": {},
   "source": [
    "# Object Oriented Programming (OOP)\n",
    "\n",
    "There's a common problem that comes up with programming. Let's examine it by thinking about how we might design a game, starting by examining this screen shot from Super Mario Brothers, the Nintendo game.\n",
    "\n",
    "<img src=\"images/smb_screenshot.jpg\" style=\"max-width:50%; float:left; margin-right:20px;\">\n",
    "\n",
    "So there's a lot to unpack here, but let's focus on a few things. First, notice the characters on the right side of the screen. These are known as \"goombas\" and they are one of the main enemies that Mario must overcome. That's all well and good, but when you start thinking about how you might program those, it raises an interesting question: **do I have write code for every individual goomba?**\n",
    "\n",
    "Spoiler alert: no, you don't. \n",
    "\n",
    "Instead we're going to try to write the code for \"what makes a goomba and how does that goomba behave\" one time, then ask the code to reuse it over and over. So what do we need from that type of code:\n",
    "  \n",
    "\n",
    "  \n",
    "  \n",
    "  \n",
    "  \n",
    "* Each goomba can be tracked individually. If one moves, it doesn't change the location of the other one.\n",
    "* Each goomba follows the same set of rules. If we define that a goomba always walks left until it hits something, then all goombas must follow those rules.\n",
    "* We want to be able to have the goomba do things, and remember things about itself (like how healthy it feels). \n",
    "* We want to be able to control where the goomba's start their journey's so we can tweak each one to be slightly unique, while still following the main rules.\n",
    "\n",
    "So in pseudo-code we want something that looks like this:\n",
    "\n",
    "```python\n",
    "\n",
    "goomba_type(starting_x, starting_y):\n",
    "    goomba.health = 1\n",
    "    gommba.speed = 1\n",
    "    goomba.x_location = starting_x\n",
    "    goomba.y_location = starting_y\n",
    "    \n",
    "    def goomba_walk_left():\n",
    "        goomba.x_location -= goomba.speed\n",
    "        \n",
    "goomba1 = goomba_type(10,0)\n",
    "goomba2 = goomba_type(7,0)\n",
    "```\n",
    "\n",
    "which defines what makes a goomba, has the ability to make the goomba walk, and allows us to make multiple goombas that are independent of one another. Let's go build something like this, but in real python."
   ]
  },
  {
   "cell_type": "markdown",
   "metadata": {},
   "source": [
    "# OOP in practice\n",
    "\n",
    "The whole idea of OOP is that **when we standardize our code, we can make use of it over and over**. Just like functions, classes allow us a method to do this, but classes allow us to have multiple instances of everything. It's a bit hard to explain without an example. Let's start with the classic example of building out a basic character interaction system for a video game. "
   ]
  },
  {
   "cell_type": "code",
   "execution_count": 50,
   "metadata": {
    "ExecuteTime": {
     "end_time": "2019-04-11T19:19:52.169859Z",
     "start_time": "2019-04-11T19:19:52.161052Z"
    }
   },
   "outputs": [],
   "source": [
    "class character(): # we define the behavior of something by making it a class\n",
    "    \n",
    "    def __init__(self, name=\"PeePeePooPoo\"): # These are commands that happen when a new member of the class is created\n",
    "        self.health= 10\n",
    "        self.speed = 2 # This is known as an attribute. It's a property of the object\n",
    "        self.strength = 1\n",
    "        self.alive = True\n",
    "        self.name = name\n",
    "        \n",
    "    def heal(self, HP): # This is known as a method (it's a function inside of a class)\n",
    "        self.health += HP\n",
    "        \n",
    "    def damage(self, HP):\n",
    "        self.health -= HP\n",
    "        self.check_death()\n",
    "        \n",
    "    def check_death(self):\n",
    "        if self.health <= 0:\n",
    "            print(\"The target has perished!\")\n",
    "            self.alive = False"
   ]
  },
  {
   "cell_type": "markdown",
   "metadata": {},
   "source": [
    "We've defined how we want our class to behave, now let's make some instances of the class (aka \"objects\")."
   ]
  },
  {
   "cell_type": "code",
   "execution_count": 51,
   "metadata": {
    "ExecuteTime": {
     "end_time": "2019-04-11T19:19:53.373526Z",
     "start_time": "2019-04-11T19:19:53.368554Z"
    }
   },
   "outputs": [],
   "source": [
    "bob = character(name='bob')\n",
    "charlie = character()"
   ]
  },
  {
   "cell_type": "markdown",
   "metadata": {},
   "source": [
    "Now let's check out some of the attributes. We can get to the attributes by asking each instance of the class to tell us one of the keywords we set above using the `variable_name.attribute_name` notation."
   ]
  },
  {
   "cell_type": "code",
   "execution_count": 52,
   "metadata": {
    "ExecuteTime": {
     "end_time": "2019-04-11T19:19:54.440690Z",
     "start_time": "2019-04-11T19:19:54.436037Z"
    }
   },
   "outputs": [
    {
     "name": "stdout",
     "output_type": "stream",
     "text": [
      "bob , PeePeePooPoo\n"
     ]
    }
   ],
   "source": [
    "print(bob.name,\",\", charlie.name)"
   ]
  },
  {
   "cell_type": "markdown",
   "metadata": {},
   "source": [
    "Accessing the \"Health\" attribute as defined in the Character() class"
   ]
  },
  {
   "cell_type": "code",
   "execution_count": 53,
   "metadata": {
    "ExecuteTime": {
     "end_time": "2019-04-11T19:19:54.935348Z",
     "start_time": "2019-04-11T19:19:54.928590Z"
    }
   },
   "outputs": [
    {
     "name": "stdout",
     "output_type": "stream",
     "text": [
      "Bob health:  10\n",
      "Charlie Health:  10\n"
     ]
    }
   ],
   "source": [
    "print(\"Bob health: \", bob.health)\n",
    "print(\"Charlie Health: \", charlie.health)"
   ]
  },
  {
   "cell_type": "markdown",
   "metadata": {},
   "source": [
    "To use a method, we also use `variable_name.method_name()` notation, but note the `()` are required. Also note that when `bob` changes, `charlie` does not!"
   ]
  },
  {
   "cell_type": "code",
   "execution_count": 54,
   "metadata": {
    "ExecuteTime": {
     "end_time": "2019-04-11T19:19:56.116965Z",
     "start_time": "2019-04-11T19:19:56.107078Z"
    }
   },
   "outputs": [
    {
     "name": "stdout",
     "output_type": "stream",
     "text": [
      "Bob health:  10\n",
      "Charlie Health:  5\n"
     ]
    }
   ],
   "source": [
    "charlie.damage(5)\n",
    "print(\"Bob health: \", bob.health)\n",
    "print(\"Charlie Health: \", charlie.health)"
   ]
  },
  {
   "cell_type": "code",
   "execution_count": 55,
   "metadata": {
    "ExecuteTime": {
     "end_time": "2019-04-11T19:19:56.728127Z",
     "start_time": "2019-04-11T19:19:56.720991Z"
    }
   },
   "outputs": [
    {
     "name": "stdout",
     "output_type": "stream",
     "text": [
      "Bob speed:  2\n",
      "Charlie speed:  25\n"
     ]
    }
   ],
   "source": [
    "charlie.speed = 25\n",
    "print(\"Bob speed: \", bob.speed)\n",
    "print(\"Charlie speed: \", charlie.speed)"
   ]
  },
  {
   "cell_type": "markdown",
   "metadata": {},
   "source": [
    "#### Aside: A slightly more practical application of simple classes"
   ]
  },
  {
   "cell_type": "markdown",
   "metadata": {},
   "source": [
    "More generally, if we were reading some information and needed to store it somehow, we could uses classes to do that. For instance imagine we're reading a sales table. Let's start by defining how we want each record to \"behave\" then we'll actually allow that class to organize how we think about things."
   ]
  },
  {
   "cell_type": "code",
   "execution_count": 56,
   "metadata": {
    "ExecuteTime": {
     "end_time": "2019-04-11T19:19:58.596253Z",
     "start_time": "2019-04-11T19:19:58.590621Z"
    }
   },
   "outputs": [],
   "source": [
    "class sales_record():\n",
    "    \n",
    "    def __init__(self):\n",
    "        self.purchase_id = 0\n",
    "        self.customer_id = 0\n",
    "        self.item_id = 0\n",
    "        self.sale = 0\n",
    "    \n",
    "    def parse_row(self, row_as_string):\n",
    "        record = row_as_string.split(',') # Splits one line of the dataset\n",
    "        # assigns each index of the list (split by \",\") to attributes in this class\n",
    "        self.purchase_id = int(record[0]) \n",
    "        self.customer_id = int(record[1])\n",
    "        self.item_id = int(record[2])\n",
    "        self.sale = float(record[3])"
   ]
  },
  {
   "cell_type": "markdown",
   "metadata": {},
   "source": [
    "Now let's read a CSV with some test sales information in it, and each new line will be put into the class format."
   ]
  },
  {
   "cell_type": "code",
   "execution_count": 57,
   "metadata": {
    "ExecuteTime": {
     "end_time": "2019-04-11T19:19:59.953845Z",
     "start_time": "2019-04-11T19:19:59.947892Z"
    }
   },
   "outputs": [],
   "source": [
    "records = []\n",
    "with open('./data/test_sales.csv') as f:\n",
    "    for line in f.readlines():\n",
    "        sr = sales_record()\n",
    "        sr.parse_row(line)\n",
    "        records.append(sr)"
   ]
  },
  {
   "cell_type": "code",
   "execution_count": 58,
   "metadata": {
    "ExecuteTime": {
     "end_time": "2019-04-11T19:20:00.898957Z",
     "start_time": "2019-04-11T19:20:00.895276Z"
    }
   },
   "outputs": [
    {
     "name": "stdout",
     "output_type": "stream",
     "text": [
      "[<__main__.sales_record object at 0x0000027258E33358>, <__main__.sales_record object at 0x0000027258E38550>, <__main__.sales_record object at 0x0000027258E386D8>, <__main__.sales_record object at 0x0000027258E38780>]\n"
     ]
    }
   ],
   "source": [
    "print(records)  \n",
    "# This tells you that every element in this list is a sales_record object"
   ]
  },
  {
   "cell_type": "code",
   "execution_count": 59,
   "metadata": {},
   "outputs": [
    {
     "data": {
      "text/plain": [
       "list"
      ]
     },
     "execution_count": 59,
     "metadata": {},
     "output_type": "execute_result"
    }
   ],
   "source": [
    "type(records)"
   ]
  },
  {
   "cell_type": "markdown",
   "metadata": {},
   "source": [
    "Neat! We created a list of records. What did that actually do for us? Now instead of having to remember a bunch of column numbers, we can just ask for the sales information directly."
   ]
  },
  {
   "cell_type": "code",
   "execution_count": 60,
   "metadata": {},
   "outputs": [
    {
     "data": {
      "text/html": [
       "<div>\n",
       "<style scoped>\n",
       "    .dataframe tbody tr th:only-of-type {\n",
       "        vertical-align: middle;\n",
       "    }\n",
       "\n",
       "    .dataframe tbody tr th {\n",
       "        vertical-align: top;\n",
       "    }\n",
       "\n",
       "    .dataframe thead th {\n",
       "        text-align: right;\n",
       "    }\n",
       "</style>\n",
       "<table border=\"1\" class=\"dataframe\">\n",
       "  <thead>\n",
       "    <tr style=\"text-align: right;\">\n",
       "      <th></th>\n",
       "      <th>1</th>\n",
       "      <th>9</th>\n",
       "      <th>4</th>\n",
       "      <th>25.37</th>\n",
       "    </tr>\n",
       "  </thead>\n",
       "  <tbody>\n",
       "    <tr>\n",
       "      <td>0</td>\n",
       "      <td>2</td>\n",
       "      <td>1</td>\n",
       "      <td>3</td>\n",
       "      <td>17.99</td>\n",
       "    </tr>\n",
       "    <tr>\n",
       "      <td>1</td>\n",
       "      <td>3</td>\n",
       "      <td>2</td>\n",
       "      <td>1</td>\n",
       "      <td>2.99</td>\n",
       "    </tr>\n",
       "    <tr>\n",
       "      <td>2</td>\n",
       "      <td>4</td>\n",
       "      <td>5</td>\n",
       "      <td>11</td>\n",
       "      <td>13.77</td>\n",
       "    </tr>\n",
       "  </tbody>\n",
       "</table>\n",
       "</div>"
      ],
      "text/plain": [
       "   1   9   4   25.37\n",
       "0  2   1   3   17.99\n",
       "1  3   2   1    2.99\n",
       "2  4   5  11   13.77"
      ]
     },
     "execution_count": 60,
     "metadata": {},
     "output_type": "execute_result"
    }
   ],
   "source": [
    "import pandas as pd\n",
    "df = pd.read_csv('./data/test_sales.csv')\n",
    "df"
   ]
  },
  {
   "cell_type": "code",
   "execution_count": 61,
   "metadata": {
    "ExecuteTime": {
     "end_time": "2019-04-11T19:20:02.066118Z",
     "start_time": "2019-04-11T19:20:02.060337Z"
    }
   },
   "outputs": [
    {
     "name": "stdout",
     "output_type": "stream",
     "text": [
      "25.37\n",
      "17.99\n",
      "2.99\n",
      "13.77\n"
     ]
    }
   ],
   "source": [
    "for rec in records:\n",
    "    print(rec.sale)"
   ]
  },
  {
   "cell_type": "markdown",
   "metadata": {},
   "source": [
    "This means we don't have to store a list of lists, or a list of lists of dictionaries of lists... or anything like that. If we create a class, we can just store class objects that we can iterate through and act upon. Let's go back to our game example. "
   ]
  },
  {
   "cell_type": "code",
   "execution_count": 62,
   "metadata": {
    "ExecuteTime": {
     "end_time": "2019-04-11T19:20:03.199577Z",
     "start_time": "2019-04-11T19:20:03.182238Z"
    }
   },
   "outputs": [
    {
     "data": {
      "text/plain": [
       "True"
      ]
     },
     "execution_count": 62,
     "metadata": {},
     "output_type": "execute_result"
    }
   ],
   "source": [
    "our_heroes = [character(),character(),character()]\n",
    "\n",
    "def check_if_team_alive(team):\n",
    "    for hero in team:\n",
    "        if hero.alive:\n",
    "            return True\n",
    "    return False\n",
    "\n",
    "check_if_team_alive(our_heroes)"
   ]
  },
  {
   "cell_type": "code",
   "execution_count": 66,
   "metadata": {
    "ExecuteTime": {
     "end_time": "2019-04-11T19:20:04.107520Z",
     "start_time": "2019-04-11T19:20:03.719382Z"
    }
   },
   "outputs": [
    {
     "name": "stdout",
     "output_type": "stream",
     "text": [
      "9\n",
      "9\n",
      "8\n",
      "9\n",
      "7\n",
      "8\n",
      "7\n",
      "6\n",
      "5\n",
      "6\n",
      "5\n",
      "4\n",
      "4\n",
      "3\n",
      "3\n",
      "2\n",
      "1\n",
      "The target has perished!\n",
      "0\n",
      "2\n",
      "1\n",
      "The target has perished!\n",
      "0\n",
      "8\n",
      "7\n",
      "6\n",
      "5\n",
      "4\n",
      "3\n",
      "2\n",
      "1\n",
      "The target has perished!\n",
      "0\n"
     ]
    }
   ],
   "source": [
    "import numpy as np\n",
    "\n",
    "our_heroes = [character(),character(),character()]\n",
    "\n",
    "while check_if_team_alive(our_heroes): \n",
    "    who_gets_hit = np.random.choice(our_heroes)\n",
    "\n",
    "    while not who_gets_hit.alive:\n",
    "        who_gets_hit = np.random.choice(our_heroes)\n",
    "    who_gets_hit.damage(np.random.randint(1,2))\n",
    "    print(who_gets_hit.health,)\n",
    "    "
   ]
  },
  {
   "cell_type": "code",
   "execution_count": 48,
   "metadata": {
    "ExecuteTime": {
     "end_time": "2019-04-11T19:20:05.309667Z",
     "start_time": "2019-04-11T19:20:05.306391Z"
    }
   },
   "outputs": [],
   "source": [
    "# Your code here!\n",
    "\n",
    "class Pet():\n",
    "    \n",
    "    def __init__(self,name=None,species=None,num_lives=None):\n",
    "        self.name = name\n",
    "        self.species= species\n",
    "        self.num_lives = num_lives\n",
    "        self.alive = True\n",
    "        \n",
    "        \n",
    "    def attack_pet(self,damage):\n",
    "        self.num_lives -= damage\n",
    "        if self.num_lives <= 0:\n",
    "            print(\"Your pet is dead.\")\n",
    "            self.alive = False"
   ]
  },
  {
   "cell_type": "code",
   "execution_count": null,
   "metadata": {},
   "outputs": [],
   "source": []
  },
  {
   "cell_type": "markdown",
   "metadata": {},
   "source": [
    "## Okay. All neat and stuff, but why does this matter?\n",
    "\n",
    "The reason this matters is, you've been using all of this stuff already. Let's think about some classes that you might not even know you were using. "
   ]
  },
  {
   "cell_type": "code",
   "execution_count": 67,
   "metadata": {
    "ExecuteTime": {
     "end_time": "2019-04-11T19:20:07.138995Z",
     "start_time": "2019-04-11T19:20:07.130982Z"
    }
   },
   "outputs": [
    {
     "data": {
      "text/plain": [
       "(6,)"
      ]
     },
     "execution_count": 67,
     "metadata": {},
     "output_type": "execute_result"
    }
   ],
   "source": [
    "import numpy as np\n",
    "\n",
    "a = np.array([1,2,3,4,5,6])\n",
    "b = np.array([4,5,6,7,8,10])\n",
    "\n",
    "a.shape"
   ]
  },
  {
   "cell_type": "markdown",
   "metadata": {},
   "source": [
    "Based on our previous discussion, why are we able to just ask the numpy array for some information by using `a.thing` notation? \n",
    "\n",
    "It's because numpy array's are a class that has attributes. The class is called `array` and the attribute in this case is called `shape`. If that's true, then what is `a.reshape()`?"
   ]
  },
  {
   "cell_type": "code",
   "execution_count": 68,
   "metadata": {
    "ExecuteTime": {
     "end_time": "2019-04-11T19:20:08.236889Z",
     "start_time": "2019-04-11T19:20:08.229548Z"
    }
   },
   "outputs": [
    {
     "data": {
      "text/plain": [
       "array([[1, 2, 3],\n",
       "       [4, 5, 6]])"
      ]
     },
     "execution_count": 68,
     "metadata": {},
     "output_type": "execute_result"
    }
   ],
   "source": [
    "a.reshape(2,3)"
   ]
  },
  {
   "cell_type": "markdown",
   "metadata": {},
   "source": [
    "That's a method that acts on arrays. Okay... well that's just one example. "
   ]
  },
  {
   "cell_type": "code",
   "execution_count": 69,
   "metadata": {
    "ExecuteTime": {
     "end_time": "2019-04-11T19:20:09.877215Z",
     "start_time": "2019-04-11T19:20:09.036502Z"
    }
   },
   "outputs": [
    {
     "data": {
      "text/html": [
       "<div>\n",
       "<style scoped>\n",
       "    .dataframe tbody tr th:only-of-type {\n",
       "        vertical-align: middle;\n",
       "    }\n",
       "\n",
       "    .dataframe tbody tr th {\n",
       "        vertical-align: top;\n",
       "    }\n",
       "\n",
       "    .dataframe thead th {\n",
       "        text-align: right;\n",
       "    }\n",
       "</style>\n",
       "<table border=\"1\" class=\"dataframe\">\n",
       "  <thead>\n",
       "    <tr style=\"text-align: right;\">\n",
       "      <th></th>\n",
       "      <th>0</th>\n",
       "      <th>1</th>\n",
       "      <th>2</th>\n",
       "    </tr>\n",
       "  </thead>\n",
       "  <tbody>\n",
       "    <tr>\n",
       "      <td>0</td>\n",
       "      <td>1</td>\n",
       "      <td>2</td>\n",
       "      <td>3</td>\n",
       "    </tr>\n",
       "    <tr>\n",
       "      <td>1</td>\n",
       "      <td>4</td>\n",
       "      <td>5</td>\n",
       "      <td>6</td>\n",
       "    </tr>\n",
       "  </tbody>\n",
       "</table>\n",
       "</div>"
      ],
      "text/plain": [
       "   0  1  2\n",
       "0  1  2  3\n",
       "1  4  5  6"
      ]
     },
     "execution_count": 69,
     "metadata": {},
     "output_type": "execute_result"
    }
   ],
   "source": [
    "import pandas as pd\n",
    "\n",
    "df = pd.DataFrame(a.reshape(2,3))\n",
    "df2 = pd.DataFrame(b.reshape(3,2))\n",
    "df.head()"
   ]
  },
  {
   "cell_type": "markdown",
   "metadata": {},
   "source": [
    "DataFrames are also classes. Every dataframe has the same expected behavior and we're allowed to have many of them that all remember things about themselves. Even more meta, DataFrames are made up of Series. What is a Series?"
   ]
  },
  {
   "cell_type": "code",
   "execution_count": 70,
   "metadata": {
    "ExecuteTime": {
     "end_time": "2019-04-11T19:20:10.147385Z",
     "start_time": "2019-04-11T19:20:10.134205Z"
    }
   },
   "outputs": [
    {
     "data": {
      "text/plain": [
       "1    1\n",
       "4    1\n",
       "Name: 0, dtype: int64"
      ]
     },
     "execution_count": 70,
     "metadata": {},
     "output_type": "execute_result"
    }
   ],
   "source": [
    "df[0].value_counts()"
   ]
  },
  {
   "cell_type": "markdown",
   "metadata": {},
   "source": [
    "Series are also classes. They have methods (like `value_counts`) and attributes (like `dtype`)"
   ]
  },
  {
   "cell_type": "markdown",
   "metadata": {},
   "source": [
    "## The Importance of Inheritance\n",
    "\n",
    "<img src=\"images/smb_screenshot2.jpg\" style=\"max-width:50%; float:right; margin-left:20px;\">\n",
    "\n",
    "Let's go back to thinking about Mario again. In Mario, there are many different types of enemies. We've already seen the goomba, but now let's introduce the Koopa (bird turtle thing on the right of the image). If we want to include this next enemy type, we have two options:\n",
    "\n",
    "* Write the entire class from scratch, duplicating a lot of the work we already did with the Goomba.\n",
    "* Steal the parts of the goomba that we want to keep, then edit the rest to make it special to the Koopa.\n",
    "\n",
    "Idea 2 is the whole point of inheritance. It allows us to \"inherit\" bits and pieces of another class which we can then specialize into our new class. Inheritance also allows us to make some generic over-arching classes that 'feed' into more specific classes. To demonstrate: let's use 'character' as our baseline and then make some more specific classes."
   ]
  },
  {
   "cell_type": "code",
   "execution_count": null,
   "metadata": {},
   "outputs": [],
   "source": [
    "class character(): # we define the behavior of something by making it a class\n",
    "    \n",
    "    def __init__(self, name=\"PeePeePooPoo\"): # These are commands that happen when a new member of the class is created\n",
    "        self.health= 10\n",
    "        self.speed = 2 # This is known as an attribute. It's a property of the object\n",
    "        self.strength = 1\n",
    "        self.alive = True\n",
    "        self.name = name\n",
    "        \n",
    "    def heal(self, HP): # This is known as a method (it's a function inside of a class)\n",
    "        self.health += HP\n",
    "        \n",
    "    def damage(self, HP):\n",
    "        self.health -= HP\n",
    "        self.check_death()\n",
    "        \n",
    "    def check_death(self):\n",
    "        if self.health <= 0:\n",
    "            print(\"The target has perished!\")\n",
    "            self.alive = False"
   ]
  },
  {
   "cell_type": "code",
   "execution_count": 71,
   "metadata": {
    "ExecuteTime": {
     "end_time": "2019-04-11T19:20:11.856285Z",
     "start_time": "2019-04-11T19:20:11.851203Z"
    }
   },
   "outputs": [],
   "source": [
    "class goblin(character): # here we're creating the goblin class, but telling it \n",
    "                         # to use \"character class\" as its base\n",
    "    def __init__(self):\n",
    "        self.health = 5 # This will over write the health setting from character\n",
    "        self.speed = 1 # This will over write the speed setting from character\n",
    "        self.stench = 10000 # this is a property specific to goblin class\n",
    "        \n",
    "    # We don't need to re-do the damage/heal functions since we've \n",
    "    # INHERITED those from our parent \"character\" class    "
   ]
  },
  {
   "cell_type": "code",
   "execution_count": 72,
   "metadata": {
    "ExecuteTime": {
     "end_time": "2019-04-11T19:20:13.681519Z",
     "start_time": "2019-04-11T19:20:13.674445Z"
    },
    "scrolled": true
   },
   "outputs": [
    {
     "data": {
      "text/plain": [
       "5"
      ]
     },
     "execution_count": 72,
     "metadata": {},
     "output_type": "execute_result"
    }
   ],
   "source": [
    "gb = goblin()\n",
    "gb.health"
   ]
  },
  {
   "cell_type": "code",
   "execution_count": 76,
   "metadata": {},
   "outputs": [],
   "source": [
    "class doggo(character):\n",
    "    \n",
    "    def __init(self):\n",
    "#         self.health = 5\n",
    "        self.speed=1\n",
    "        self.wolf = 69\n"
   ]
  },
  {
   "cell_type": "code",
   "execution_count": 77,
   "metadata": {
    "scrolled": true
   },
   "outputs": [
    {
     "ename": "AttributeError",
     "evalue": "type object 'doggo' has no attribute 'health'",
     "output_type": "error",
     "traceback": [
      "\u001b[1;31m---------------------------------------------------------------------------\u001b[0m",
      "\u001b[1;31mAttributeError\u001b[0m                            Traceback (most recent call last)",
      "\u001b[1;32m<ipython-input-77-50fc4af2d3ba>\u001b[0m in \u001b[0;36m<module>\u001b[1;34m\u001b[0m\n\u001b[1;32m----> 1\u001b[1;33m \u001b[0mdoggo\u001b[0m\u001b[1;33m.\u001b[0m\u001b[0mhealth\u001b[0m\u001b[1;33m\u001b[0m\u001b[1;33m\u001b[0m\u001b[0m\n\u001b[0m",
      "\u001b[1;31mAttributeError\u001b[0m: type object 'doggo' has no attribute 'health'"
     ]
    }
   ],
   "source": [
    "# We talked about inheritance of a class.\n",
    "# However, the sub-class does NOT inherit the main class's init\n",
    "doggo.health"
   ]
  },
  {
   "cell_type": "markdown",
   "metadata": {},
   "source": [
    "Let's try using the damage method, even though we didn't write it explicitly in the `goblin` class"
   ]
  },
  {
   "cell_type": "code",
   "execution_count": 73,
   "metadata": {
    "ExecuteTime": {
     "end_time": "2019-04-11T19:20:14.774288Z",
     "start_time": "2019-04-11T19:20:14.769792Z"
    }
   },
   "outputs": [
    {
     "name": "stdout",
     "output_type": "stream",
     "text": [
      "The target has perished!\n"
     ]
    }
   ],
   "source": [
    "gb.damage(5)"
   ]
  },
  {
   "cell_type": "markdown",
   "metadata": {},
   "source": [
    "Did this change `character`? Does it have a `stench` parameter now?\n",
    "\n",
    "Uncomment the line below and see"
   ]
  },
  {
   "cell_type": "code",
   "execution_count": 74,
   "metadata": {
    "ExecuteTime": {
     "end_time": "2019-04-11T19:20:52.055116Z",
     "start_time": "2019-04-11T19:20:52.051353Z"
    }
   },
   "outputs": [
    {
     "ename": "AttributeError",
     "evalue": "'character' object has no attribute 'stench'",
     "output_type": "error",
     "traceback": [
      "\u001b[1;31m---------------------------------------------------------------------------\u001b[0m",
      "\u001b[1;31mAttributeError\u001b[0m                            Traceback (most recent call last)",
      "\u001b[1;32m<ipython-input-74-ce4f8b438abc>\u001b[0m in \u001b[0;36m<module>\u001b[1;34m\u001b[0m\n\u001b[1;32m----> 1\u001b[1;33m \u001b[0mcharacter\u001b[0m\u001b[1;33m(\u001b[0m\u001b[1;33m)\u001b[0m\u001b[1;33m.\u001b[0m\u001b[0mstench\u001b[0m\u001b[1;33m\u001b[0m\u001b[1;33m\u001b[0m\u001b[0m\n\u001b[0m",
      "\u001b[1;31mAttributeError\u001b[0m: 'character' object has no attribute 'stench'"
     ]
    }
   ],
   "source": [
    "character().stench"
   ]
  },
  {
   "cell_type": "code",
   "execution_count": 75,
   "metadata": {
    "ExecuteTime": {
     "end_time": "2019-04-11T19:20:52.754672Z",
     "start_time": "2019-04-11T19:20:52.747434Z"
    }
   },
   "outputs": [
    {
     "data": {
      "text/plain": [
       "10000"
      ]
     },
     "execution_count": 75,
     "metadata": {},
     "output_type": "execute_result"
    }
   ],
   "source": [
    "goblin().stench"
   ]
  },
  {
   "cell_type": "markdown",
   "metadata": {},
   "source": [
    "Let's make another class that requies a name and also has a spiffy new death message using the name."
   ]
  },
  {
   "cell_type": "code",
   "execution_count": null,
   "metadata": {},
   "outputs": [],
   "source": [
    "class character(): # we define the behavior of something by making it a class\n",
    "    \n",
    "    def __init__(self, name=\"PeePeePooPoo\"): # These are commands that happen when a new member of the class is created\n",
    "        self.health= 10\n",
    "        self.speed = 2 # This is known as an attribute. It's a property of the object\n",
    "        self.strength = 1\n",
    "        self.alive = True\n",
    "        self.name = name\n",
    "        \n",
    "    def heal(self, HP): # This is known as a method (it's a function inside of a class)\n",
    "        self.health += HP\n",
    "        \n",
    "    def damage(self, HP):\n",
    "        self.health -= HP\n",
    "        self.check_death()\n",
    "        \n",
    "    def check_death(self):\n",
    "        if self.health <= 0:\n",
    "            print(\"The target has perished!\")\n",
    "            self.alive = False"
   ]
  },
  {
   "cell_type": "code",
   "execution_count": 79,
   "metadata": {
    "ExecuteTime": {
     "end_time": "2019-04-11T19:20:53.884243Z",
     "start_time": "2019-04-11T19:20:53.878646Z"
    }
   },
   "outputs": [],
   "source": [
    "class hero(character):\n",
    "    \n",
    "    def __init__(self,name):\n",
    "        character.__init__(self,name=name)         \n",
    "    # Here we're using the character init function, \n",
    "    # but feeding it a value from this init!\n",
    "    # this class will therefore also inherit the attributes from the Character() class\n",
    "        \n",
    "        \n",
    "    # We don't need to re-do the damage/heal functions since we've \n",
    "    # INHERITED those from our parent \"character\" class    \n",
    "        \n",
    "    def check_death(self): # This has the same name as the parent and will supercede it!\n",
    "        if self.health <= 0:\n",
    "            print(str(self.name) + \" has perished!\")\n",
    "            self.alive = False"
   ]
  },
  {
   "cell_type": "code",
   "execution_count": 80,
   "metadata": {
    "ExecuteTime": {
     "end_time": "2019-04-11T19:20:54.505101Z",
     "start_time": "2019-04-11T19:20:54.497582Z"
    }
   },
   "outputs": [
    {
     "data": {
      "text/plain": [
       "'steve-o'"
      ]
     },
     "execution_count": 80,
     "metadata": {},
     "output_type": "execute_result"
    }
   ],
   "source": [
    "steve = hero('steve-o')\n",
    "steve.name"
   ]
  },
  {
   "cell_type": "code",
   "execution_count": 81,
   "metadata": {
    "ExecuteTime": {
     "end_time": "2019-04-11T19:20:55.054474Z",
     "start_time": "2019-04-11T19:20:55.048757Z"
    }
   },
   "outputs": [
    {
     "name": "stdout",
     "output_type": "stream",
     "text": [
      "steve-o has perished!\n"
     ]
    }
   ],
   "source": [
    "steve.damage(20)"
   ]
  },
  {
   "cell_type": "markdown",
   "metadata": {},
   "source": [
    "## We can also make a class of classes!\n",
    "\n",
    "Sometimes we want to layer our classes. Let's make a team of heroes and also incorporate our \"is team alive\" function from above."
   ]
  },
  {
   "cell_type": "code",
   "execution_count": 82,
   "metadata": {
    "ExecuteTime": {
     "end_time": "2019-04-11T19:20:56.189175Z",
     "start_time": "2019-04-11T19:20:56.178365Z"
    }
   },
   "outputs": [
    {
     "name": "stdout",
     "output_type": "stream",
     "text": [
      "True\n",
      "steve has perished!\n",
      "True\n"
     ]
    }
   ],
   "source": [
    "class team():\n",
    "    def __init__(self, h1, h2, h3):\n",
    "        self.hero1 = h1\n",
    "        self.hero2 = h2\n",
    "        self.hero3 = h3\n",
    "        self.team_list = [self.hero1,self.hero2,self.hero3]\n",
    "        \n",
    "    def check_if_team_alive(self):\n",
    "        for hero in self.team_list:\n",
    "            if hero.alive:\n",
    "                return True\n",
    "        return False\n",
    "    \n",
    "good_guys = team(hero('steve'),hero('bob'),hero('Lord Van Smoot III'))\n",
    "print(good_guys.check_if_team_alive())\n",
    "good_guys.team_list[0].damage(20)\n",
    "print(good_guys.check_if_team_alive())"
   ]
  },
  {
   "cell_type": "code",
   "execution_count": 83,
   "metadata": {
    "ExecuteTime": {
     "end_time": "2019-04-11T19:20:56.954256Z",
     "start_time": "2019-04-11T19:20:56.943826Z"
    }
   },
   "outputs": [
    {
     "name": "stdout",
     "output_type": "stream",
     "text": [
      "5\n",
      "steve has perished!\n",
      "0\n",
      "5\n",
      "5\n",
      "Lord Van Smoot III has perished!\n",
      "0\n",
      "bob has perished!\n",
      "0\n"
     ]
    }
   ],
   "source": [
    "good_guys = team(hero('steve'),hero('bob'),hero('Lord Van Smoot III'))\n",
    "while good_guys.check_if_team_alive():\n",
    "    who_gets_hit = np.random.choice(good_guys.team_list,replace=True)\n",
    "    \n",
    "    while not who_gets_hit.alive:\n",
    "        who_gets_hit = np.random.choice(good_guys.team_list,replace=True)\n",
    "        \n",
    "    who_gets_hit.damage(5)\n",
    "    print(who_gets_hit.health,)"
   ]
  },
  {
   "cell_type": "markdown",
   "metadata": {},
   "source": [
    "### Exercise 2\n",
    "\n",
    "Write two special case classes of the 'pet' class. We want a class called 'cat' and a class called 'dog.' For the cat class make sure lives=9, and add an attribute specific to that class called, \"loves_boxes\" that is a boolean. For the dog class, set lives to 1, add a boolean for \"chases_squirrels\" and add a function called \"current_thoughts\" that returns a random thought the dog might be having."
   ]
  },
  {
   "cell_type": "code",
   "execution_count": 145,
   "metadata": {},
   "outputs": [],
   "source": [
    "# Your code here!\n",
    "class Pet():\n",
    "    \n",
    "    def __init__(self,name=None,species=None,num_lives=None):\n",
    "        self.name = name\n",
    "        self.species= species\n",
    "        self.num_lives = num_lives\n",
    "        self.alive = True\n",
    "        \n",
    "        \n",
    "    def beat_pet(self):\n",
    "        self.num_lives -= 1\n",
    "        if self.num_lives <= 0:\n",
    "            print(\"Your pet is dead. You monster\")\n",
    "            self.alive = False\n",
    "        elif self.num_lives > 0:\n",
    "            print(f'Your pet has {self.num_lives} lives now.')"
   ]
  },
  {
   "cell_type": "code",
   "execution_count": 146,
   "metadata": {},
   "outputs": [],
   "source": [
    "# # Your code here!\n",
    "\n",
    "# class Cat(Pet):\n",
    "    \n",
    "#     def _init__(self):\n",
    "#         Pet.__init__(self)\n",
    "#         self.loves_boxes = True\n",
    "    \n",
    "    \n",
    "# class Dog(Pet):\n",
    "    \n",
    "#     def _init__(self):\n",
    "#         Pet.__init__(self)\n",
    "# #         self.num_lives = 1\n",
    "#         self.chases_squirrels = True\n",
    "    \n",
    "#     def random_thoughts(self):\n",
    "#         thoughts = ['I wanna pee',\"I'm hungry\",\"I'm a good boy\"]\n",
    "#         print(np.random.choice(thoughts))"
   ]
  },
  {
   "cell_type": "code",
   "execution_count": 147,
   "metadata": {},
   "outputs": [],
   "source": [
    "# Easier method:\n",
    "\n",
    "class Cat(Pet):\n",
    "    def __init__(self, name, species):\n",
    "        self.name = name\n",
    "        self.species = species\n",
    "        self.num_lives = 9\n",
    "        self.loves_boxes = True\n",
    "        \n",
    "class Dog(Pet):\n",
    "    def __init__(self, name, species):\n",
    "        self.name = name\n",
    "        self.species = species\n",
    "        self.num_lives = 1\n",
    "        self.chases_squirrels = True\n",
    "        \n",
    "    def random_thoughts(self):\n",
    "        thoughts = ['I wanna pee',\"I'm hungry\",\"I'm a good boy\"]\n",
    "        print(np.random.choice(thoughts))"
   ]
  },
  {
   "cell_type": "code",
   "execution_count": 148,
   "metadata": {},
   "outputs": [],
   "source": [
    "Boots = Cat('Boots','Cat')\n",
    "Spot = Dog('Spot','Dog')"
   ]
  },
  {
   "cell_type": "code",
   "execution_count": 149,
   "metadata": {},
   "outputs": [
    {
     "name": "stdout",
     "output_type": "stream",
     "text": [
      "Your pet has 8 lives now.\n"
     ]
    }
   ],
   "source": [
    "Boots.beat_pet()"
   ]
  },
  {
   "cell_type": "code",
   "execution_count": 150,
   "metadata": {},
   "outputs": [
    {
     "name": "stdout",
     "output_type": "stream",
     "text": [
      "Your pet is dead. You monster\n"
     ]
    }
   ],
   "source": [
    "Spot.beat_pet()"
   ]
  },
  {
   "cell_type": "code",
   "execution_count": 128,
   "metadata": {},
   "outputs": [
    {
     "name": "stdout",
     "output_type": "stream",
     "text": [
      "9\n",
      "1\n"
     ]
    }
   ],
   "source": [
    "print(Boots.num_lives)\n",
    "print(Spot.num_lives)"
   ]
  },
  {
   "cell_type": "code",
   "execution_count": 153,
   "metadata": {},
   "outputs": [
    {
     "name": "stdout",
     "output_type": "stream",
     "text": [
      "I'm hungry\n"
     ]
    }
   ],
   "source": [
    "Spot.random_thoughts()"
   ]
  },
  {
   "cell_type": "code",
   "execution_count": null,
   "metadata": {},
   "outputs": [],
   "source": []
  }
 ],
 "metadata": {
  "kernelspec": {
   "display_name": "Python [conda env:metis] *",
   "language": "python",
   "name": "conda-env-metis-py"
  },
  "language_info": {
   "codemirror_mode": {
    "name": "ipython",
    "version": 3
   },
   "file_extension": ".py",
   "mimetype": "text/x-python",
   "name": "python",
   "nbconvert_exporter": "python",
   "pygments_lexer": "ipython3",
   "version": "3.7.3"
  }
 },
 "nbformat": 4,
 "nbformat_minor": 2
}
