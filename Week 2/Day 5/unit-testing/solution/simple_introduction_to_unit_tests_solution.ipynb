{
 "cells": [
  {
   "cell_type": "markdown",
   "metadata": {},
   "source": [
    "# Unit Testing: How we make sure our code doesn't break\n",
    "\n",
    "Unit testing is something that software engineers love to a borderline unhealthy level. If you ever want a SE to talk at length, just mention unit testing. However, they aren't wrong to be smitten with the concept. So, what is unit testing?\n",
    "\n",
    "Unit testing is the idea that we want to make sure our functions always do what we think they do. In order to do that, we come up with a series of tests where we know what the function SHOULD do, and then make sure it does that. Let's start with a hand-coded, silly example."
   ]
  },
  {
   "cell_type": "code",
   "execution_count": 1,
   "metadata": {},
   "outputs": [
    {
     "data": {
      "text/plain": [
       "6"
      ]
     },
     "execution_count": 1,
     "metadata": {},
     "output_type": "execute_result"
    }
   ],
   "source": [
    "def add_two_to_int(input_int):\n",
    "    return input_int + 2\n",
    "\n",
    "add_two_to_int(4) # I know this should result in 6"
   ]
  },
  {
   "cell_type": "markdown",
   "metadata": {},
   "source": [
    "Great, it did the thing! However, if I put this code out to my team and someone typos or screws things up, will we know later? Right now, we'd have to come back in and manually check things out. So let's write a little function that will automate that testing."
   ]
  },
  {
   "cell_type": "code",
   "execution_count": 2,
   "metadata": {},
   "outputs": [
    {
     "ename": "AssertionError",
     "evalue": "Test 2 failed!",
     "output_type": "error",
     "traceback": [
      "\u001b[0;31m---------------------------------------------------------------------------\u001b[0m",
      "\u001b[0;31mAssertionError\u001b[0m                            Traceback (most recent call last)",
      "\u001b[0;32m<ipython-input-2-d393b2c18f5b>\u001b[0m in \u001b[0;36m<module>\u001b[0;34m\u001b[0m\n\u001b[1;32m      4\u001b[0m     \u001b[0;32mreturn\u001b[0m \u001b[0;34m\"Passed!\"\u001b[0m\u001b[0;34m\u001b[0m\u001b[0;34m\u001b[0m\u001b[0m\n\u001b[1;32m      5\u001b[0m \u001b[0;34m\u001b[0m\u001b[0m\n\u001b[0;32m----> 6\u001b[0;31m \u001b[0mtest_add_two_to_int\u001b[0m\u001b[0;34m(\u001b[0m\u001b[0;34m)\u001b[0m\u001b[0;34m\u001b[0m\u001b[0;34m\u001b[0m\u001b[0m\n\u001b[0m",
      "\u001b[0;32m<ipython-input-2-d393b2c18f5b>\u001b[0m in \u001b[0;36mtest_add_two_to_int\u001b[0;34m()\u001b[0m\n\u001b[1;32m      1\u001b[0m \u001b[0;32mdef\u001b[0m \u001b[0mtest_add_two_to_int\u001b[0m\u001b[0;34m(\u001b[0m\u001b[0;34m)\u001b[0m\u001b[0;34m:\u001b[0m\u001b[0;34m\u001b[0m\u001b[0;34m\u001b[0m\u001b[0m\n\u001b[1;32m      2\u001b[0m     \u001b[0;32massert\u001b[0m \u001b[0madd_two_to_int\u001b[0m\u001b[0;34m(\u001b[0m\u001b[0;36m4\u001b[0m\u001b[0;34m)\u001b[0m \u001b[0;34m==\u001b[0m \u001b[0;36m6\u001b[0m\u001b[0;34m,\u001b[0m \u001b[0;34m\"Test 1 failed!\"\u001b[0m\u001b[0;34m\u001b[0m\u001b[0;34m\u001b[0m\u001b[0m\n\u001b[0;32m----> 3\u001b[0;31m     \u001b[0;32massert\u001b[0m \u001b[0madd_two_to_int\u001b[0m\u001b[0;34m(\u001b[0m\u001b[0;36m4.7\u001b[0m\u001b[0;34m)\u001b[0m \u001b[0;34m==\u001b[0m \u001b[0;36m6\u001b[0m\u001b[0;34m,\u001b[0m \u001b[0;34m\"Test 2 failed!\"\u001b[0m\u001b[0;34m\u001b[0m\u001b[0;34m\u001b[0m\u001b[0m\n\u001b[0m\u001b[1;32m      4\u001b[0m     \u001b[0;32mreturn\u001b[0m \u001b[0;34m\"Passed!\"\u001b[0m\u001b[0;34m\u001b[0m\u001b[0;34m\u001b[0m\u001b[0m\n\u001b[1;32m      5\u001b[0m \u001b[0;34m\u001b[0m\u001b[0m\n",
      "\u001b[0;31mAssertionError\u001b[0m: Test 2 failed!"
     ]
    }
   ],
   "source": [
    "def test_add_two_to_int():\n",
    "    assert add_two_to_int(4) == 6, \"Test 1 failed!\"\n",
    "    assert add_two_to_int(4.7) == 6, \"Test 2 failed!\"\n",
    "    return \"Passed!\"\n",
    "    \n",
    "test_add_two_to_int()"
   ]
  },
  {
   "cell_type": "markdown",
   "metadata": {},
   "source": [
    "We failed a test! Why is that? We can see that our version of the function doesn't enforce that the input must be an integer. So we need to clean that up. Let's re-write the function."
   ]
  },
  {
   "cell_type": "code",
   "execution_count": 3,
   "metadata": {},
   "outputs": [
    {
     "data": {
      "text/plain": [
       "6"
      ]
     },
     "execution_count": 3,
     "metadata": {},
     "output_type": "execute_result"
    }
   ],
   "source": [
    "def add_two_to_int(input_int):\n",
    "    return int(input_int) + 2\n",
    "\n",
    "add_two_to_int(4.7) # I know this should result in 6"
   ]
  },
  {
   "cell_type": "code",
   "execution_count": 4,
   "metadata": {},
   "outputs": [
    {
     "data": {
      "text/plain": [
       "'Passed!'"
      ]
     },
     "execution_count": 4,
     "metadata": {},
     "output_type": "execute_result"
    }
   ],
   "source": [
    "test_add_two_to_int()"
   ]
  },
  {
   "cell_type": "markdown",
   "metadata": {},
   "source": [
    "That's unit testing in a nutshell. We're going to write a bunch of tests that make sure that our code works the way we think it does. And then every time an update is made to the code, we'll re-run the tests to make sure all the functions still do what they're supposed to.\n",
    "\n",
    "There are a few concepts to consider when writing tests:\n",
    "\n",
    "**What are the edge cases?**\n",
    "\n",
    "In the above example, `4.7` was an edge case. It isn't something that was an obvious way the function would break. When writing tests, you need to think about all of the ways the code might ever be accessed. Do you need to handle types differently? Are there kwargs that might get weird? What happens if the user puts in something really strange?\n",
    "\n",
    "**How should your code break?**\n",
    "\n",
    "One of the things we didn't do above was check to see if the code breaks gracefully. As an example, if the user puts in a `string` where we expect an `int` we want to make sure the code appropriately raises a `TypeError`. That's hard to do in the \"handmade\" version of testing we did above. So let's introduce a better library called `unittest`."
   ]
  },
  {
   "cell_type": "code",
   "execution_count": 5,
   "metadata": {},
   "outputs": [],
   "source": [
    "import unittest"
   ]
  },
  {
   "cell_type": "markdown",
   "metadata": {},
   "source": [
    "`unittest` assumes we're going to build a class of tests that work on something. Let's take a look at the canonical example from the `unittest` documentation. We're going to test a bunch of string methods. \n",
    "\n",
    "First, we design a class that inherits from the `TestCase` class that has all of the major functionality. Each test we build is named `test_WHATEVER_THE_TEST_DOES_WITH_EXPECTED_RESULT`. "
   ]
  },
  {
   "cell_type": "code",
   "execution_count": 11,
   "metadata": {},
   "outputs": [],
   "source": [
    "class TestStringMethods(unittest.TestCase):\n",
    "\n",
    "    def test_upper_converts_lower_case_to_upper_case(self):\n",
    "        self.assertEqual('foo'.upper(), 'FOO')\n",
    "\n",
    "    def test_isupper_returns_true_on_strings_with_only_uppercase_letters(self):\n",
    "        self.assertTrue('FOO'.isupper())\n",
    "        self.assertFalse('Foo'.isupper())\n",
    "\n",
    "    def test_split_separates_on_strings_into_list_of_strings(self):\n",
    "        s = 'hello world'\n",
    "        self.assertEqual(s.split(), ['hello', 'world'])\n",
    "        # check that s.split fails when the separator is not a string\n",
    "        with self.assertRaises(TypeError):\n",
    "            s.split(2)"
   ]
  },
  {
   "cell_type": "markdown",
   "metadata": {},
   "source": [
    "Now we actually tell `unittest` to get to work and see if anything breaks. \n",
    "\n",
    "> The kwargs in `unittest.main()` are because we're running this in a Jupyter Notebook. Normally this would be run from the command line. "
   ]
  },
  {
   "cell_type": "code",
   "execution_count": 12,
   "metadata": {},
   "outputs": [
    {
     "name": "stderr",
     "output_type": "stream",
     "text": [
      ".........F..\n",
      "======================================================================\n",
      "FAIL: test_isupper_returns_true_on_strings_with_only_uppercase_letters (__main__.TestStringMethods)\n",
      "----------------------------------------------------------------------\n",
      "Traceback (most recent call last):\n",
      "  File \"<ipython-input-11-40da155ace6a>\", line 8, in test_isupper_returns_true_on_strings_with_only_uppercase_letters\n",
      "    self.assertTrue('Foo'.isupper())\n",
      "AssertionError: False is not true\n",
      "\n",
      "----------------------------------------------------------------------\n",
      "Ran 12 tests in 0.012s\n",
      "\n",
      "FAILED (failures=1)\n"
     ]
    },
    {
     "data": {
      "text/plain": [
       "<unittest.main.TestProgram at 0x10fb99748>"
      ]
     },
     "execution_count": 12,
     "metadata": {},
     "output_type": "execute_result"
    }
   ],
   "source": [
    "unittest.main(argv=['first-arg-is-ignored'], exit=False)"
   ]
  },
  {
   "cell_type": "markdown",
   "metadata": {},
   "source": [
    "Hooray! Everything is OK. Let's break it really quickly. Go to the line in `test_isupper` and change `assertFalse` to `assertTrue` then re-run those cells. You should see it break and tell you exactly where it broke.  "
   ]
  },
  {
   "cell_type": "markdown",
   "metadata": {},
   "source": [
    "### Note on what to test"
   ]
  },
  {
   "cell_type": "markdown",
   "metadata": {},
   "source": [
    "Our example `TestStringMethods` is an example of how to use unit tests without adding a lot of code for us to test. We typically _wouldn't_ test a system library, unless we were actively developing it. Instead we concentrate on making unit tests for the code we have written. A more typical example of a unit test is given in the exercise below."
   ]
  },
  {
   "cell_type": "markdown",
   "metadata": {},
   "source": [
    "## Exercise: Building and testing an anagram finder\n",
    "\n",
    "I'm writing below a unit testing class. It will help you decode what you need a function to do. Your goal is to fill in the function below to make it pass all of those tests. After this, we'll move on to bigger fish."
   ]
  },
  {
   "cell_type": "code",
   "execution_count": 8,
   "metadata": {},
   "outputs": [],
   "source": [
    "from collections import defaultdict\n",
    "\n",
    "def check_if_anagrams(input1, input2):\n",
    "    if type(input1) not in [int, str, float]:\n",
    "        raise TypeError(\"Must be int, str, or float inputs\")\n",
    "    if type(input2) not in [int, str, float]:\n",
    "        raise TypeError(\"Must be int, str, or float inputs\")\n",
    "    in1_dict = defaultdict(int)\n",
    "    in2_dict = defaultdict(int)\n",
    "    for character in str(input1).lower():\n",
    "        in1_dict[character] += 1\n",
    "    for character in str(input2).lower():\n",
    "        in2_dict[character] += 1\n",
    "    return in1_dict == in2_dict"
   ]
  },
  {
   "cell_type": "code",
   "execution_count": 9,
   "metadata": {},
   "outputs": [],
   "source": [
    "class TestAnagrams(unittest.TestCase):\n",
    "    \n",
    "    def test_output_type_is_boolean(self):\n",
    "        self.assertIs(type(check_if_anagrams(\"tar\",\"rat\")), bool)\n",
    "\n",
    "    def test_anagrams_work_on_strings(self):\n",
    "        self.assertTrue(check_if_anagrams(\"elvis\",\"lives\"))\n",
    "        self.assertFalse(check_if_anagrams(\"prince\",\"lives\"))\n",
    "\n",
    "    def test_anagrams_of_int_digits_in_base_10(self):\n",
    "        self.assertTrue(check_if_anagrams(1234,4321))\n",
    "        # note that 0xAF=175 and 0xFA=250 are anagrams\n",
    "        # in base-16, but not in base-10. We are checking\n",
    "        # that anagrams assume base 10 when given ints\n",
    "        self.assertFalse(check_if_anagrams(0xAF,0xFA))\n",
    "\n",
    "    def test_floats_in_base_10_can_be_anagrams(self):\n",
    "        self.assertTrue(check_if_anagrams(12.34,4.213))\n",
    "        self.assertFalse(check_if_anagrams(1.234,53.21))\n",
    "        \n",
    "    def test_floats_single_trailing_zero_is_used_in_anagram(self):\n",
    "        self.assertTrue(check_if_anagrams(78.0, 70.8))\n",
    "        \n",
    "    def test_floats_multiple_zeros_simplified_to_one_in_anagram(self):\n",
    "        self.assertTrue(check_if_anagrams(78.00, 70.8))\n",
    "        self.assertFalse(check_if_anagrams(78.00, 700.8))\n",
    "        \n",
    "    def test_anagrams_have_same_number_of_spaces(self):\n",
    "        self.assertTrue(check_if_anagrams(\"clint eastwood\",\"old westaction\"))\n",
    "        self.assertFalse(check_if_anagrams(\"clint eastwood\",\"old west action\"))\n",
    "        \n",
    "    def test_reordering_lists_and_tuples_gives_TypeError(self):\n",
    "        with self.assertRaises(TypeError):\n",
    "            check_if_anagrams([1,2,3,4],[2,3,4,1])\n",
    "        with self.assertRaises(TypeError):\n",
    "            check_if_anagrams(\"steve\",(2,3,4,1))\n",
    "        with self.assertRaises(TypeError):\n",
    "            check_if_anagrams((2,3,4,1), 1101)\n",
    "            \n",
    "    def test_anagrams_are_case_insensitive(self):\n",
    "        self.assertTrue(check_if_anagrams(\"TEST\",\"test\"))\n",
    "        self.assertTrue(check_if_anagrams(\"ClInT EaStWooD\",\"old westaction\"))\n",
    "        "
   ]
  },
  {
   "cell_type": "code",
   "execution_count": 10,
   "metadata": {},
   "outputs": [
    {
     "name": "stderr",
     "output_type": "stream",
     "text": [
      "............\n",
      "----------------------------------------------------------------------\n",
      "Ran 12 tests in 0.010s\n",
      "\n",
      "OK\n"
     ]
    },
    {
     "data": {
      "text/plain": [
       "<unittest.main.TestProgram at 0x10fa7dfd0>"
      ]
     },
     "execution_count": 10,
     "metadata": {},
     "output_type": "execute_result"
    }
   ],
   "source": [
    "unittest.main(argv=['first-arg-is-ignored'], exit=False)"
   ]
  },
  {
   "cell_type": "markdown",
   "metadata": {},
   "source": [
    "## Notes on code style and unit tests"
   ]
  },
  {
   "cell_type": "markdown",
   "metadata": {},
   "source": [
    "* __Test names should decribe what should happen__:\n",
    "  Test names should be long and descriptive. For example, consider the last test in the `TestAnagrams` class. If the test `test_anagrams_are_case_insensitive` fails (the output we would get from running the test), we know that anagrams should be case-insensitive AND our current implementation didn't respect that part of the design. \n",
    "  \n",
    "  If we named the test `test_capitals` and it failed, we don't know if the anagrams should be case sensitive but the implmentation isn't, or whether they shouldn't be case sensitive but the implementation is.\n",
    "  \n",
    "* __Tests are exempt from code style__:\n",
    "  Tests function names tend to be very long, because we want them to be descriptive. They also tend to include a lot of very similar looking code. For tests, we want to be as explicit as possible, so they are not typically subject to the same code style guidelines/linters as the rest of the codebase."
   ]
  }
 ],
 "metadata": {
  "kernelspec": {
   "display_name": "metis",
   "language": "python",
   "name": "metis"
  },
  "language_info": {
   "codemirror_mode": {
    "name": "ipython",
    "version": 3
   },
   "file_extension": ".py",
   "mimetype": "text/x-python",
   "name": "python",
   "nbconvert_exporter": "python",
   "pygments_lexer": "ipython3",
   "version": "3.7.1"
  }
 },
 "nbformat": 4,
 "nbformat_minor": 2
}
