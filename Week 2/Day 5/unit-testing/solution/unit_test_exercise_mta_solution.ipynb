{
 "cells": [
  {
   "cell_type": "markdown",
   "metadata": {},
   "source": [
    "# More Unit Testing"
   ]
  },
  {
   "cell_type": "code",
   "execution_count": 1,
   "metadata": {
    "ExecuteTime": {
     "end_time": "2019-02-07T00:21:10.315358Z",
     "start_time": "2019-02-07T00:21:08.504271Z"
    }
   },
   "outputs": [
    {
     "name": "stdout",
     "output_type": "stream",
     "text": [
      "Python Version: 3.7.1 (default, Dec 14 2018, 13:28:58) \n",
      "[Clang 4.0.1 (tags/RELEASE_401/final)] \n",
      "\n",
      "Matplotlib Version: 3.0.2\n",
      "Numpy Version: 1.15.4\n",
      "Pandas Version: 0.23.4\n"
     ]
    }
   ],
   "source": [
    "import numpy as np\n",
    "import matplotlib\n",
    "%matplotlib inline\n",
    "import pandas as pd\n",
    "import sys\n",
    "libraries = (('Matplotlib', matplotlib), ('Numpy', np), ('Pandas', pd))\n",
    "\n",
    "print(\"Python Version:\", sys.version, '\\n')\n",
    "for lib in libraries:\n",
    "    print('{0} Version: {1}'.format(lib[0], lib[1].__version__))"
   ]
  },
  {
   "cell_type": "code",
   "execution_count": 9,
   "metadata": {
    "ExecuteTime": {
     "end_time": "2019-02-07T00:21:22.709745Z",
     "start_time": "2019-02-07T00:21:14.374130Z"
    }
   },
   "outputs": [
    {
     "name": "stdout",
     "output_type": "stream",
     "text": [
      "Warning: Failed to set locale category LC_NUMERIC to en_SG.\n",
      "Warning: Failed to set locale category LC_TIME to en_SG.\n",
      "Warning: Failed to set locale category LC_COLLATE to en_SG.\n",
      "Warning: Failed to set locale category LC_MONETARY to en_SG.\n",
      "Warning: Failed to set locale category LC_MESSAGES to en_SG.\n",
      "--2019-10-16 23:57:08--  https://s3.amazonaws.com/gamma-datasets/P2/mta_turnstile_160903.txt\n",
      "Resolving s3.amazonaws.com (s3.amazonaws.com)... 52.216.26.230\n",
      "Connecting to s3.amazonaws.com (s3.amazonaws.com)|52.216.26.230|:443... connected.\n",
      "HTTP request sent, awaiting response... 200 OK\n",
      "Length: 25301340 (24M) [text/plain]\n",
      "Saving to: ‘data/mta_turnstile_160903.txt’\n",
      "\n",
      "mta_turnstile_16090 100%[===================>]  24.13M  3.86MB/s    in 12s     \n",
      "\n",
      "2019-10-16 23:57:21 (2.06 MB/s) - ‘data/mta_turnstile_160903.txt’ saved [25301340/25301340]\n",
      "\n",
      "--2019-10-16 23:57:21--  https://s3.amazonaws.com/gamma-datasets/P2/mta_turnstile_160910.txt\n",
      "Reusing existing connection to s3.amazonaws.com:443.\n",
      "HTTP request sent, awaiting response... 200 OK\n",
      "Length: 25529149 (24M) [text/plain]\n",
      "Saving to: ‘data/mta_turnstile_160910.txt’\n",
      "\n",
      "mta_turnstile_16091 100%[===================>]  24.35M  6.86MB/s    in 3.5s    \n",
      "\n",
      "2019-10-16 23:57:25 (6.86 MB/s) - ‘data/mta_turnstile_160910.txt’ saved [25529149/25529149]\n",
      "\n",
      "--2019-10-16 23:57:25--  https://s3.amazonaws.com/gamma-datasets/P2/mta_turnstile_160917.txt\n",
      "Reusing existing connection to s3.amazonaws.com:443.\n",
      "HTTP request sent, awaiting response... 200 OK\n",
      "Length: 25267149 (24M) [text/plain]\n",
      "Saving to: ‘data/mta_turnstile_160917.txt’\n",
      "\n",
      "mta_turnstile_16091 100%[===================>]  24.10M  7.88MB/s    in 3.1s    \n",
      "\n",
      "2019-10-16 23:57:28 (7.88 MB/s) - ‘data/mta_turnstile_160917.txt’ saved [25267149/25267149]\n",
      "\n",
      "FINISHED --2019-10-16 23:57:28--\n",
      "Total wall clock time: 20s\n",
      "Downloaded: 3 files, 73M in 18s (3.96 MB/s)\n"
     ]
    }
   ],
   "source": [
    "# !mkdir data\n",
    "!wget -nc -P data https://s3.amazonaws.com/gamma-datasets/P2/mta_turnstile_160903.txt https://s3.amazonaws.com/gamma-datasets/P2/mta_turnstile_160910.txt https://s3.amazonaws.com/gamma-datasets/P2/mta_turnstile_160917.txt"
   ]
  },
  {
   "cell_type": "markdown",
   "metadata": {},
   "source": [
    "## Exercise: UnitTesting with Real Data\n",
    "\n",
    "We're going to revisit the MTA data and get started with building some unit tests together. I'm providing the tests in the TestDataLoader class, you need to write a function that \n",
    "* takes in a list of week IDs as input\n",
    "* loads the dataframe corresponding to those week IDs (check out the data folder) and combines them\n",
    "* returns the single dataframe\n",
    "\n",
    "You should be able to pass all of the tests. Note that some of them require some minimal cleaning already before returning things!"
   ]
  },
  {
   "cell_type": "code",
   "execution_count": 3,
   "metadata": {},
   "outputs": [],
   "source": [
    "def load_data_into_dataframe():\n",
    "    pass"
   ]
  },
  {
   "cell_type": "code",
   "execution_count": 4,
   "metadata": {},
   "outputs": [],
   "source": [
    "def clean_column_names(df):\n",
    "    new_cols = [col.strip() for col in df.columns]\n",
    "    df.columns = new_cols\n",
    "    return df\n",
    "\n",
    "def load_data_into_dataframe(week_nums):\n",
    "    if type(week_nums) not in [tuple, list, set]:\n",
    "        raise TypeError(\"Input Files must be a list\")\n",
    "    filename = \"./data/mta_turnstile_{}.txt\"\n",
    "    dfs = []\n",
    "    for week_num in week_nums:\n",
    "        file_url = filename.format(week_num)\n",
    "        dfs.append(pd.read_csv(file_url))\n",
    "    df = pd.concat(dfs)\n",
    "    df = clean_column_names(df)\n",
    "    return df"
   ]
  },
  {
   "cell_type": "code",
   "execution_count": 5,
   "metadata": {},
   "outputs": [
    {
     "name": "stderr",
     "output_type": "stream",
     "text": [
      "E.EE\n",
      "======================================================================\n",
      "ERROR: test_column_names (__main__.TestDataLoader)\n",
      "----------------------------------------------------------------------\n",
      "Traceback (most recent call last):\n",
      "  File \"<ipython-input-5-2ea43de4ec22>\", line 15, in test_column_names\n",
      "    df = load_data_into_dataframe([160903])\n",
      "  File \"<ipython-input-4-d7ba1a220dbe>\", line 13, in load_data_into_dataframe\n",
      "    dfs.append(pd.read_csv(file_url))\n",
      "  File \"/anaconda3/lib/python3.7/site-packages/pandas/io/parsers.py\", line 678, in parser_f\n",
      "    return _read(filepath_or_buffer, kwds)\n",
      "  File \"/anaconda3/lib/python3.7/site-packages/pandas/io/parsers.py\", line 440, in _read\n",
      "    parser = TextFileReader(filepath_or_buffer, **kwds)\n",
      "  File \"/anaconda3/lib/python3.7/site-packages/pandas/io/parsers.py\", line 787, in __init__\n",
      "    self._make_engine(self.engine)\n",
      "  File \"/anaconda3/lib/python3.7/site-packages/pandas/io/parsers.py\", line 1014, in _make_engine\n",
      "    self._engine = CParserWrapper(self.f, **self.options)\n",
      "  File \"/anaconda3/lib/python3.7/site-packages/pandas/io/parsers.py\", line 1708, in __init__\n",
      "    self._reader = parsers.TextReader(src, **kwds)\n",
      "  File \"pandas/_libs/parsers.pyx\", line 384, in pandas._libs.parsers.TextReader.__cinit__\n",
      "  File \"pandas/_libs/parsers.pyx\", line 695, in pandas._libs.parsers.TextReader._setup_parser_source\n",
      "FileNotFoundError: File b'./data/mta_turnstile_160903.txt' does not exist\n",
      "\n",
      "======================================================================\n",
      "ERROR: test_multiple_files_of_data (__main__.TestDataLoader)\n",
      "----------------------------------------------------------------------\n",
      "Traceback (most recent call last):\n",
      "  File \"<ipython-input-5-2ea43de4ec22>\", line 21, in test_multiple_files_of_data\n",
      "    df = load_data_into_dataframe([160903,160910])\n",
      "  File \"<ipython-input-4-d7ba1a220dbe>\", line 13, in load_data_into_dataframe\n",
      "    dfs.append(pd.read_csv(file_url))\n",
      "  File \"/anaconda3/lib/python3.7/site-packages/pandas/io/parsers.py\", line 678, in parser_f\n",
      "    return _read(filepath_or_buffer, kwds)\n",
      "  File \"/anaconda3/lib/python3.7/site-packages/pandas/io/parsers.py\", line 440, in _read\n",
      "    parser = TextFileReader(filepath_or_buffer, **kwds)\n",
      "  File \"/anaconda3/lib/python3.7/site-packages/pandas/io/parsers.py\", line 787, in __init__\n",
      "    self._make_engine(self.engine)\n",
      "  File \"/anaconda3/lib/python3.7/site-packages/pandas/io/parsers.py\", line 1014, in _make_engine\n",
      "    self._engine = CParserWrapper(self.f, **self.options)\n",
      "  File \"/anaconda3/lib/python3.7/site-packages/pandas/io/parsers.py\", line 1708, in __init__\n",
      "    self._reader = parsers.TextReader(src, **kwds)\n",
      "  File \"pandas/_libs/parsers.pyx\", line 384, in pandas._libs.parsers.TextReader.__cinit__\n",
      "  File \"pandas/_libs/parsers.pyx\", line 695, in pandas._libs.parsers.TextReader._setup_parser_source\n",
      "FileNotFoundError: File b'./data/mta_turnstile_160903.txt' does not exist\n",
      "\n",
      "======================================================================\n",
      "ERROR: test_output_type (__main__.TestDataLoader)\n",
      "----------------------------------------------------------------------\n",
      "Traceback (most recent call last):\n",
      "  File \"<ipython-input-5-2ea43de4ec22>\", line 12, in test_output_type\n",
      "    self.assertIs(type(load_data_into_dataframe([160903])), type(pd.DataFrame()))\n",
      "  File \"<ipython-input-4-d7ba1a220dbe>\", line 13, in load_data_into_dataframe\n",
      "    dfs.append(pd.read_csv(file_url))\n",
      "  File \"/anaconda3/lib/python3.7/site-packages/pandas/io/parsers.py\", line 678, in parser_f\n",
      "    return _read(filepath_or_buffer, kwds)\n",
      "  File \"/anaconda3/lib/python3.7/site-packages/pandas/io/parsers.py\", line 440, in _read\n",
      "    parser = TextFileReader(filepath_or_buffer, **kwds)\n",
      "  File \"/anaconda3/lib/python3.7/site-packages/pandas/io/parsers.py\", line 787, in __init__\n",
      "    self._make_engine(self.engine)\n",
      "  File \"/anaconda3/lib/python3.7/site-packages/pandas/io/parsers.py\", line 1014, in _make_engine\n",
      "    self._engine = CParserWrapper(self.f, **self.options)\n",
      "  File \"/anaconda3/lib/python3.7/site-packages/pandas/io/parsers.py\", line 1708, in __init__\n",
      "    self._reader = parsers.TextReader(src, **kwds)\n",
      "  File \"pandas/_libs/parsers.pyx\", line 384, in pandas._libs.parsers.TextReader.__cinit__\n",
      "  File \"pandas/_libs/parsers.pyx\", line 695, in pandas._libs.parsers.TextReader._setup_parser_source\n",
      "FileNotFoundError: File b'./data/mta_turnstile_160903.txt' does not exist\n",
      "\n",
      "----------------------------------------------------------------------\n",
      "Ran 4 tests in 0.020s\n",
      "\n",
      "FAILED (errors=3)\n"
     ]
    },
    {
     "data": {
      "text/plain": [
       "<unittest.main.TestProgram at 0x116bb3a58>"
      ]
     },
     "execution_count": 5,
     "metadata": {},
     "output_type": "execute_result"
    }
   ],
   "source": [
    "import unittest\n",
    "\n",
    "class TestDataLoader(unittest.TestCase):\n",
    "    \n",
    "    def test_fails_without_file_list(self):\n",
    "        with self.assertRaises(TypeError):\n",
    "            load_data_into_dataframe()\n",
    "        with self.assertRaises(TypeError):\n",
    "            load_data_into_dataframe(160903)\n",
    "    \n",
    "    def test_output_type(self):\n",
    "        self.assertIs(type(load_data_into_dataframe([160903])), type(pd.DataFrame()))\n",
    "        \n",
    "    def test_column_names(self):\n",
    "        df = load_data_into_dataframe([160903])\n",
    "        bool_cols = (df.columns == ['C/A', 'UNIT', 'SCP', 'STATION', 'LINENAME', 'DIVISION', 'DATE', 'TIME',\n",
    "       'DESC', 'ENTRIES','EXITS'])\n",
    "        self.assertTrue(bool_cols.all())\n",
    "        \n",
    "    def test_multiple_files_of_data(self):\n",
    "        df = load_data_into_dataframe([160903,160910])\n",
    "        self.assertIs(type(df), type(pd.DataFrame()))\n",
    "\n",
    "unittest.main(TestDataLoader(), argv=['first-arg-is-ignored'], exit=False)\n",
    "# Note that this time I added the name of the testing class as an arg so it only runs that tester!"
   ]
  },
  {
   "cell_type": "markdown",
   "metadata": {},
   "source": [
    "## Exercise 2: Writing the function and the Tests\n",
    "\n",
    "Now your goal is to write both the functions and the tests. The goal here is that we're going to write a function to clean and prepare our data. The function should:\n",
    "\n",
    "* Take in a dataframe\n",
    "* Create a DATE_TIME column using the DATE and TIME columns\n",
    "* Make sure that each grouping of [\"C/A\", \"UNIT\", \"SCP\", \"STATION\", \"DATE_TIME\"] is unique\n",
    "\n",
    "For tests, you should write tests to check the output types of columns, check that the uniqueness values are being handled properly, as well as any other tests you can think of. \n",
    "\n",
    "In ~15 minutes, we'll have someone come up and present both their code and their tests and other folks can chime in about the types of tests they've written as well."
   ]
  },
  {
   "cell_type": "code",
   "execution_count": 6,
   "metadata": {},
   "outputs": [
    {
     "ename": "FileNotFoundError",
     "evalue": "File b'./data/mta_turnstile_160917.txt' does not exist",
     "output_type": "error",
     "traceback": [
      "\u001b[0;31m---------------------------------------------------------------------------\u001b[0m",
      "\u001b[0;31mFileNotFoundError\u001b[0m                         Traceback (most recent call last)",
      "\u001b[0;32m<ipython-input-6-834efc9a7df5>\u001b[0m in \u001b[0;36m<module>\u001b[0;34m\u001b[0m\n\u001b[0;32m----> 1\u001b[0;31m \u001b[0mdf\u001b[0m \u001b[0;34m=\u001b[0m \u001b[0mload_data_into_dataframe\u001b[0m\u001b[0;34m(\u001b[0m\u001b[0;34m[\u001b[0m\u001b[0;36m160917\u001b[0m\u001b[0;34m]\u001b[0m\u001b[0;34m)\u001b[0m\u001b[0;34m\u001b[0m\u001b[0;34m\u001b[0m\u001b[0m\n\u001b[0m",
      "\u001b[0;32m<ipython-input-4-d7ba1a220dbe>\u001b[0m in \u001b[0;36mload_data_into_dataframe\u001b[0;34m(week_nums)\u001b[0m\n\u001b[1;32m     11\u001b[0m     \u001b[0;32mfor\u001b[0m \u001b[0mweek_num\u001b[0m \u001b[0;32min\u001b[0m \u001b[0mweek_nums\u001b[0m\u001b[0;34m:\u001b[0m\u001b[0;34m\u001b[0m\u001b[0;34m\u001b[0m\u001b[0m\n\u001b[1;32m     12\u001b[0m         \u001b[0mfile_url\u001b[0m \u001b[0;34m=\u001b[0m \u001b[0mfilename\u001b[0m\u001b[0;34m.\u001b[0m\u001b[0mformat\u001b[0m\u001b[0;34m(\u001b[0m\u001b[0mweek_num\u001b[0m\u001b[0;34m)\u001b[0m\u001b[0;34m\u001b[0m\u001b[0;34m\u001b[0m\u001b[0m\n\u001b[0;32m---> 13\u001b[0;31m         \u001b[0mdfs\u001b[0m\u001b[0;34m.\u001b[0m\u001b[0mappend\u001b[0m\u001b[0;34m(\u001b[0m\u001b[0mpd\u001b[0m\u001b[0;34m.\u001b[0m\u001b[0mread_csv\u001b[0m\u001b[0;34m(\u001b[0m\u001b[0mfile_url\u001b[0m\u001b[0;34m)\u001b[0m\u001b[0;34m)\u001b[0m\u001b[0;34m\u001b[0m\u001b[0;34m\u001b[0m\u001b[0m\n\u001b[0m\u001b[1;32m     14\u001b[0m     \u001b[0mdf\u001b[0m \u001b[0;34m=\u001b[0m \u001b[0mpd\u001b[0m\u001b[0;34m.\u001b[0m\u001b[0mconcat\u001b[0m\u001b[0;34m(\u001b[0m\u001b[0mdfs\u001b[0m\u001b[0;34m)\u001b[0m\u001b[0;34m\u001b[0m\u001b[0;34m\u001b[0m\u001b[0m\n\u001b[1;32m     15\u001b[0m     \u001b[0mdf\u001b[0m \u001b[0;34m=\u001b[0m \u001b[0mclean_column_names\u001b[0m\u001b[0;34m(\u001b[0m\u001b[0mdf\u001b[0m\u001b[0;34m)\u001b[0m\u001b[0;34m\u001b[0m\u001b[0;34m\u001b[0m\u001b[0m\n",
      "\u001b[0;32m/anaconda3/lib/python3.7/site-packages/pandas/io/parsers.py\u001b[0m in \u001b[0;36mparser_f\u001b[0;34m(filepath_or_buffer, sep, delimiter, header, names, index_col, usecols, squeeze, prefix, mangle_dupe_cols, dtype, engine, converters, true_values, false_values, skipinitialspace, skiprows, nrows, na_values, keep_default_na, na_filter, verbose, skip_blank_lines, parse_dates, infer_datetime_format, keep_date_col, date_parser, dayfirst, iterator, chunksize, compression, thousands, decimal, lineterminator, quotechar, quoting, escapechar, comment, encoding, dialect, tupleize_cols, error_bad_lines, warn_bad_lines, skipfooter, doublequote, delim_whitespace, low_memory, memory_map, float_precision)\u001b[0m\n\u001b[1;32m    676\u001b[0m                     skip_blank_lines=skip_blank_lines)\n\u001b[1;32m    677\u001b[0m \u001b[0;34m\u001b[0m\u001b[0m\n\u001b[0;32m--> 678\u001b[0;31m         \u001b[0;32mreturn\u001b[0m \u001b[0m_read\u001b[0m\u001b[0;34m(\u001b[0m\u001b[0mfilepath_or_buffer\u001b[0m\u001b[0;34m,\u001b[0m \u001b[0mkwds\u001b[0m\u001b[0;34m)\u001b[0m\u001b[0;34m\u001b[0m\u001b[0;34m\u001b[0m\u001b[0m\n\u001b[0m\u001b[1;32m    679\u001b[0m \u001b[0;34m\u001b[0m\u001b[0m\n\u001b[1;32m    680\u001b[0m     \u001b[0mparser_f\u001b[0m\u001b[0;34m.\u001b[0m\u001b[0m__name__\u001b[0m \u001b[0;34m=\u001b[0m \u001b[0mname\u001b[0m\u001b[0;34m\u001b[0m\u001b[0;34m\u001b[0m\u001b[0m\n",
      "\u001b[0;32m/anaconda3/lib/python3.7/site-packages/pandas/io/parsers.py\u001b[0m in \u001b[0;36m_read\u001b[0;34m(filepath_or_buffer, kwds)\u001b[0m\n\u001b[1;32m    438\u001b[0m \u001b[0;34m\u001b[0m\u001b[0m\n\u001b[1;32m    439\u001b[0m     \u001b[0;31m# Create the parser.\u001b[0m\u001b[0;34m\u001b[0m\u001b[0;34m\u001b[0m\u001b[0;34m\u001b[0m\u001b[0m\n\u001b[0;32m--> 440\u001b[0;31m     \u001b[0mparser\u001b[0m \u001b[0;34m=\u001b[0m \u001b[0mTextFileReader\u001b[0m\u001b[0;34m(\u001b[0m\u001b[0mfilepath_or_buffer\u001b[0m\u001b[0;34m,\u001b[0m \u001b[0;34m**\u001b[0m\u001b[0mkwds\u001b[0m\u001b[0;34m)\u001b[0m\u001b[0;34m\u001b[0m\u001b[0;34m\u001b[0m\u001b[0m\n\u001b[0m\u001b[1;32m    441\u001b[0m \u001b[0;34m\u001b[0m\u001b[0m\n\u001b[1;32m    442\u001b[0m     \u001b[0;32mif\u001b[0m \u001b[0mchunksize\u001b[0m \u001b[0;32mor\u001b[0m \u001b[0miterator\u001b[0m\u001b[0;34m:\u001b[0m\u001b[0;34m\u001b[0m\u001b[0;34m\u001b[0m\u001b[0m\n",
      "\u001b[0;32m/anaconda3/lib/python3.7/site-packages/pandas/io/parsers.py\u001b[0m in \u001b[0;36m__init__\u001b[0;34m(self, f, engine, **kwds)\u001b[0m\n\u001b[1;32m    785\u001b[0m             \u001b[0mself\u001b[0m\u001b[0;34m.\u001b[0m\u001b[0moptions\u001b[0m\u001b[0;34m[\u001b[0m\u001b[0;34m'has_index_names'\u001b[0m\u001b[0;34m]\u001b[0m \u001b[0;34m=\u001b[0m \u001b[0mkwds\u001b[0m\u001b[0;34m[\u001b[0m\u001b[0;34m'has_index_names'\u001b[0m\u001b[0;34m]\u001b[0m\u001b[0;34m\u001b[0m\u001b[0;34m\u001b[0m\u001b[0m\n\u001b[1;32m    786\u001b[0m \u001b[0;34m\u001b[0m\u001b[0m\n\u001b[0;32m--> 787\u001b[0;31m         \u001b[0mself\u001b[0m\u001b[0;34m.\u001b[0m\u001b[0m_make_engine\u001b[0m\u001b[0;34m(\u001b[0m\u001b[0mself\u001b[0m\u001b[0;34m.\u001b[0m\u001b[0mengine\u001b[0m\u001b[0;34m)\u001b[0m\u001b[0;34m\u001b[0m\u001b[0;34m\u001b[0m\u001b[0m\n\u001b[0m\u001b[1;32m    788\u001b[0m \u001b[0;34m\u001b[0m\u001b[0m\n\u001b[1;32m    789\u001b[0m     \u001b[0;32mdef\u001b[0m \u001b[0mclose\u001b[0m\u001b[0;34m(\u001b[0m\u001b[0mself\u001b[0m\u001b[0;34m)\u001b[0m\u001b[0;34m:\u001b[0m\u001b[0;34m\u001b[0m\u001b[0;34m\u001b[0m\u001b[0m\n",
      "\u001b[0;32m/anaconda3/lib/python3.7/site-packages/pandas/io/parsers.py\u001b[0m in \u001b[0;36m_make_engine\u001b[0;34m(self, engine)\u001b[0m\n\u001b[1;32m   1012\u001b[0m     \u001b[0;32mdef\u001b[0m \u001b[0m_make_engine\u001b[0m\u001b[0;34m(\u001b[0m\u001b[0mself\u001b[0m\u001b[0;34m,\u001b[0m \u001b[0mengine\u001b[0m\u001b[0;34m=\u001b[0m\u001b[0;34m'c'\u001b[0m\u001b[0;34m)\u001b[0m\u001b[0;34m:\u001b[0m\u001b[0;34m\u001b[0m\u001b[0;34m\u001b[0m\u001b[0m\n\u001b[1;32m   1013\u001b[0m         \u001b[0;32mif\u001b[0m \u001b[0mengine\u001b[0m \u001b[0;34m==\u001b[0m \u001b[0;34m'c'\u001b[0m\u001b[0;34m:\u001b[0m\u001b[0;34m\u001b[0m\u001b[0;34m\u001b[0m\u001b[0m\n\u001b[0;32m-> 1014\u001b[0;31m             \u001b[0mself\u001b[0m\u001b[0;34m.\u001b[0m\u001b[0m_engine\u001b[0m \u001b[0;34m=\u001b[0m \u001b[0mCParserWrapper\u001b[0m\u001b[0;34m(\u001b[0m\u001b[0mself\u001b[0m\u001b[0;34m.\u001b[0m\u001b[0mf\u001b[0m\u001b[0;34m,\u001b[0m \u001b[0;34m**\u001b[0m\u001b[0mself\u001b[0m\u001b[0;34m.\u001b[0m\u001b[0moptions\u001b[0m\u001b[0;34m)\u001b[0m\u001b[0;34m\u001b[0m\u001b[0;34m\u001b[0m\u001b[0m\n\u001b[0m\u001b[1;32m   1015\u001b[0m         \u001b[0;32melse\u001b[0m\u001b[0;34m:\u001b[0m\u001b[0;34m\u001b[0m\u001b[0;34m\u001b[0m\u001b[0m\n\u001b[1;32m   1016\u001b[0m             \u001b[0;32mif\u001b[0m \u001b[0mengine\u001b[0m \u001b[0;34m==\u001b[0m \u001b[0;34m'python'\u001b[0m\u001b[0;34m:\u001b[0m\u001b[0;34m\u001b[0m\u001b[0;34m\u001b[0m\u001b[0m\n",
      "\u001b[0;32m/anaconda3/lib/python3.7/site-packages/pandas/io/parsers.py\u001b[0m in \u001b[0;36m__init__\u001b[0;34m(self, src, **kwds)\u001b[0m\n\u001b[1;32m   1706\u001b[0m         \u001b[0mkwds\u001b[0m\u001b[0;34m[\u001b[0m\u001b[0;34m'usecols'\u001b[0m\u001b[0;34m]\u001b[0m \u001b[0;34m=\u001b[0m \u001b[0mself\u001b[0m\u001b[0;34m.\u001b[0m\u001b[0musecols\u001b[0m\u001b[0;34m\u001b[0m\u001b[0;34m\u001b[0m\u001b[0m\n\u001b[1;32m   1707\u001b[0m \u001b[0;34m\u001b[0m\u001b[0m\n\u001b[0;32m-> 1708\u001b[0;31m         \u001b[0mself\u001b[0m\u001b[0;34m.\u001b[0m\u001b[0m_reader\u001b[0m \u001b[0;34m=\u001b[0m \u001b[0mparsers\u001b[0m\u001b[0;34m.\u001b[0m\u001b[0mTextReader\u001b[0m\u001b[0;34m(\u001b[0m\u001b[0msrc\u001b[0m\u001b[0;34m,\u001b[0m \u001b[0;34m**\u001b[0m\u001b[0mkwds\u001b[0m\u001b[0;34m)\u001b[0m\u001b[0;34m\u001b[0m\u001b[0;34m\u001b[0m\u001b[0m\n\u001b[0m\u001b[1;32m   1709\u001b[0m \u001b[0;34m\u001b[0m\u001b[0m\n\u001b[1;32m   1710\u001b[0m         \u001b[0mpassed_names\u001b[0m \u001b[0;34m=\u001b[0m \u001b[0mself\u001b[0m\u001b[0;34m.\u001b[0m\u001b[0mnames\u001b[0m \u001b[0;32mis\u001b[0m \u001b[0;32mNone\u001b[0m\u001b[0;34m\u001b[0m\u001b[0;34m\u001b[0m\u001b[0m\n",
      "\u001b[0;32mpandas/_libs/parsers.pyx\u001b[0m in \u001b[0;36mpandas._libs.parsers.TextReader.__cinit__\u001b[0;34m()\u001b[0m\n",
      "\u001b[0;32mpandas/_libs/parsers.pyx\u001b[0m in \u001b[0;36mpandas._libs.parsers.TextReader._setup_parser_source\u001b[0;34m()\u001b[0m\n",
      "\u001b[0;31mFileNotFoundError\u001b[0m: File b'./data/mta_turnstile_160917.txt' does not exist"
     ]
    }
   ],
   "source": [
    "df = load_data_into_dataframe([160917])"
   ]
  },
  {
   "cell_type": "code",
   "execution_count": null,
   "metadata": {},
   "outputs": [],
   "source": [
    "def clean_dataframe(df):\n",
    "    df['DATE_TIME'] = pd.to_datetime(df.DATE + \" \" + df.TIME, format=\"%m/%d/%Y %H:%M:%S\")\n",
    "    df.drop_duplicates(subset=[\"C/A\", \"UNIT\", \"SCP\", \"STATION\", \"DATE_TIME\"], inplace=True)\n",
    "    return df"
   ]
  },
  {
   "cell_type": "code",
   "execution_count": 7,
   "metadata": {},
   "outputs": [
    {
     "name": "stderr",
     "output_type": "stream",
     "text": [
      "EEEEE\n",
      "======================================================================\n",
      "ERROR: test_column_types (__main__.TestDataCleaner)\n",
      "----------------------------------------------------------------------\n",
      "Traceback (most recent call last):\n",
      "  File \"<ipython-input-7-77906038626d>\", line 11, in test_column_types\n",
      "    clean_df = clean_dataframe(df)\n",
      "NameError: name 'clean_dataframe' is not defined\n",
      "\n",
      "======================================================================\n",
      "ERROR: test_date_time_conversion (__main__.TestDataCleaner)\n",
      "----------------------------------------------------------------------\n",
      "Traceback (most recent call last):\n",
      "  File \"<ipython-input-7-77906038626d>\", line 24, in test_date_time_conversion\n",
      "    converted_date_of_known_test_row = clean_dataframe(df)['DATE_TIME'].iloc[0]\n",
      "NameError: name 'clean_dataframe' is not defined\n",
      "\n",
      "======================================================================\n",
      "ERROR: test_fails_without_df (__main__.TestDataCleaner)\n",
      "----------------------------------------------------------------------\n",
      "Traceback (most recent call last):\n",
      "  File \"<ipython-input-7-77906038626d>\", line 5, in test_fails_without_df\n",
      "    clean_dataframe()\n",
      "NameError: name 'clean_dataframe' is not defined\n",
      "\n",
      "======================================================================\n",
      "ERROR: test_output_type (__main__.TestDataCleaner)\n",
      "----------------------------------------------------------------------\n",
      "Traceback (most recent call last):\n",
      "  File \"<ipython-input-7-77906038626d>\", line 8, in test_output_type\n",
      "    self.assertIs(type(clean_dataframe(df)), type(pd.DataFrame()))\n",
      "NameError: name 'clean_dataframe' is not defined\n",
      "\n",
      "======================================================================\n",
      "ERROR: test_row_uniqueness (__main__.TestDataCleaner)\n",
      "----------------------------------------------------------------------\n",
      "Traceback (most recent call last):\n",
      "  File \"<ipython-input-7-77906038626d>\", line 16, in test_row_uniqueness\n",
      "    max_entries = (clean_dataframe(df)\n",
      "NameError: name 'clean_dataframe' is not defined\n",
      "\n",
      "----------------------------------------------------------------------\n",
      "Ran 5 tests in 0.004s\n",
      "\n",
      "FAILED (errors=5)\n"
     ]
    },
    {
     "data": {
      "text/plain": [
       "<unittest.main.TestProgram at 0x116b5acc0>"
      ]
     },
     "execution_count": 7,
     "metadata": {},
     "output_type": "execute_result"
    }
   ],
   "source": [
    "class TestDataCleaner(unittest.TestCase):\n",
    "    \n",
    "    def test_fails_without_df(self):\n",
    "        with self.assertRaises(TypeError):\n",
    "            clean_dataframe()\n",
    "    \n",
    "    def test_output_type(self):\n",
    "        self.assertIs(type(clean_dataframe(df)), type(pd.DataFrame()))\n",
    "        \n",
    "    def test_column_types(self):\n",
    "        clean_df = clean_dataframe(df)\n",
    "        self.assertTrue(\"DATE_TIME\" in clean_df.columns)\n",
    "        self.assertTrue(clean_df['DATE_TIME'].dtype == '<M8[ns]')\n",
    "        \n",
    "    def test_row_uniqueness(self):\n",
    "        max_entries = (clean_dataframe(df)\n",
    "                         .groupby([\"C/A\", \"UNIT\", \"SCP\", \"STATION\", \"DATE_TIME\"])\n",
    "                         .ENTRIES.count()\n",
    "                         .reset_index()\n",
    "                         .sort_values(\"ENTRIES\", ascending=False)).head(1)['ENTRIES'].iloc[0]\n",
    "        self.assertTrue(max_entries == 1)\n",
    "        \n",
    "    def test_date_time_conversion(self):\n",
    "        converted_date_of_known_test_row = clean_dataframe(df)['DATE_TIME'].iloc[0]\n",
    "        self.assertTrue(converted_date_of_known_test_row == pd.to_datetime('2016-09-10 00:00:00'))\n",
    "\n",
    "unittest.main(TestDataCleaner(), argv=['first-arg-is-ignored'], exit=False)"
   ]
  },
  {
   "cell_type": "markdown",
   "metadata": {},
   "source": [
    ">Instructor note: Flat files are large but kept locally in the repo to support this exercise. They are [also](https://s3.amazonaws.com/gamma-datasets/P2/mta_turnstile_160903.txt) [hosted](https://s3.amazonaws.com/gamma-datasets/P2/mta_turnstile_160910.txt) [here](https://s3.amazonaws.com/gamma-datasets/P2/mta_turnstile_160917.txt) in the Gamma S3 bucket as backup."
   ]
  },
  {
   "cell_type": "code",
   "execution_count": null,
   "metadata": {},
   "outputs": [],
   "source": []
  }
 ],
 "metadata": {
  "anaconda-cloud": {},
  "kernelspec": {
   "display_name": "metis",
   "language": "python",
   "name": "metis"
  },
  "language_info": {
   "codemirror_mode": {
    "name": "ipython",
    "version": 3
   },
   "file_extension": ".py",
   "mimetype": "text/x-python",
   "name": "python",
   "nbconvert_exporter": "python",
   "pygments_lexer": "ipython3",
   "version": "3.7.1"
  },
  "toc": {
   "colors": {
    "hover_highlight": "#DAA520",
    "navigate_num": "#000000",
    "navigate_text": "#333333",
    "running_highlight": "#FF0000",
    "selected_highlight": "#FFD700",
    "sidebar_border": "#EEEEEE",
    "wrapper_background": "#FFFFFF"
   },
   "moveMenuLeft": false,
   "nav_menu": {
    "height": "66px",
    "width": "252px"
   },
   "navigate_menu": true,
   "number_sections": false,
   "sideBar": false,
   "threshold": "3",
   "toc_cell": false,
   "toc_section_display": "block",
   "toc_window_display": false,
   "widenNotebook": false
  }
 },
 "nbformat": 4,
 "nbformat_minor": 2
}
