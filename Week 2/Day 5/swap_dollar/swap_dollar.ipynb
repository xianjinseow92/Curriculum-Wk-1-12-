{
 "cells": [
  {
   "cell_type": "code",
   "execution_count": 1,
   "metadata": {},
   "outputs": [
    {
     "name": "stdout",
     "output_type": "stream",
     "text": [
      "dollars:67.0, cents:33\n"
     ]
    }
   ],
   "source": [
    "# A is dollars\n",
    "# B is cents \n",
    "# 100A + B = 2(100B + A) - 1\n",
    "# 100A + B = 200B + 2A - 1\n",
    "# 98A = 199B - 1\n",
    "# A = (199 B - 1) / 98\n",
    "# 0 <= A,B <= 99\n",
    "\n",
    "\n",
    "for B in range(100):\n",
    "    A = (199*B - 1) / 98\n",
    "    if A==int(A) and A>=0 and A<=99:\n",
    "        print(f\"dollars:{A}, cents:{B}\")\n",
    "        break"
   ]
  }
 ],
 "metadata": {
  "kernelspec": {
   "display_name": "Python [conda env:metis] *",
   "language": "python",
   "name": "conda-env-metis-py"
  },
  "language_info": {
   "codemirror_mode": {
    "name": "ipython",
    "version": 3
   },
   "file_extension": ".py",
   "mimetype": "text/x-python",
   "name": "python",
   "nbconvert_exporter": "python",
   "pygments_lexer": "ipython3",
   "version": "3.7.3"
  }
 },
 "nbformat": 4,
 "nbformat_minor": 2
}
