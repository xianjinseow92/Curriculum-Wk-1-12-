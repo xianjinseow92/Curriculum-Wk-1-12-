{
 "cells": [
  {
   "cell_type": "code",
   "execution_count": 1,
   "metadata": {},
   "outputs": [],
   "source": [
    "import numpy as np \n",
    "import pandas as np"
   ]
  },
  {
   "cell_type": "code",
   "execution_count": null,
   "metadata": {},
   "outputs": [],
   "source": [
    "ps = 0.5 # just giving it a random number\n"
   ]
  },
  {
   "cell_type": "markdown",
   "metadata": {},
   "source": [
    "# Amoebas, Amoebas!\n",
    "\n",
    "At time zero there is one amoeba in a petri dish. It splits with probability ps. With probability 1-ps it dies without splitting,\n",
    "and its entire line (only itself at this point) is eliminated. If it splits, on the other hand, it produces two amoeba that both live\n",
    "to next period (period 1.) At period 1, if there are any amoeba, each has a probability ps of splitting and 1-ps of dying\n",
    "without splitting. This occurs again and again as long as there are amoeba in the dish; at evenly spaced intervals, if there are any\n",
    "amoeba left, each one splits and survives with probability ps and dies without splitting with probability 1-ps.\n",
    "\n",
    "```\n",
    "1. What is the probability that the amoeba line continues forever,\n",
    "\t* if ps=3/4?\n",
    "\t* if ps=1/2?\n",
    "\t* if ps=9/10?  One formula should solve all cases.\n",
    "2. Can you simulate a bunch of amoeba lines for a number of periods?  \n",
    "\tWhat percentage of the lines still have amoeba at the end?  \n",
    "\tDoes the empirical frequency seem to match the theoretic probability, from part 1?\n",
    "```\n",
    "\n",
    "Both of these are tricky.  If you can't get one, try the other.  Some hints:\n",
    "* Sometimes it's helpful to formulate the probability of an event _not_ occuring.  What is the probability of the line NOT surviving forever?\n",
    "* For simulation, choose the right probability function for random draws.  It's possible to make this very inefficient. If so, you might only be able to run it around 20 time periods.  A better choice could yield hundreds of time periods for a thousand amoeba lines.\n",
    "* If the number of amoeba gets too large, Python will hit memory problems and start making the counts negative.  This causes problems for random draws and might throw an error if the cumulative count dips negative.  I didn't have problems when simulating about 50 periods."
   ]
  },
  {
   "cell_type": "code",
   "execution_count": null,
   "metadata": {},
   "outputs": [],
   "source": []
  }
 ],
 "metadata": {
  "kernelspec": {
   "display_name": "Python [conda env:metis] *",
   "language": "python",
   "name": "conda-env-metis-py"
  },
  "language_info": {
   "codemirror_mode": {
    "name": "ipython",
    "version": 3
   },
   "file_extension": ".py",
   "mimetype": "text/x-python",
   "name": "python",
   "nbconvert_exporter": "python",
   "pygments_lexer": "ipython3",
   "version": "3.7.3"
  }
 },
 "nbformat": 4,
 "nbformat_minor": 2
}
