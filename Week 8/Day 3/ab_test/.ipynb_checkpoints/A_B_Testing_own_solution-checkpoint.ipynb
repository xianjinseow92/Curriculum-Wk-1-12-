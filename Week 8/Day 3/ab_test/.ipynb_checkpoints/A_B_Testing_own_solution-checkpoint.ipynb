{
 "cells": [
  {
   "cell_type": "markdown",
   "metadata": {},
   "source": [
    "### Pair Problem\n",
    "\n",
    "In today's pair problem, we will be simulating drawing from a  _binomial distribution_. The binomial distribution is used to describe cases where we undergo a fixed number of trials, each trial has two possible outcomes, the probability of the outcomes does not change from trial to trial, and the trials are independent. The typical example of a binomial distribution problem is flipping a coin a fixed number of times. A less common example would be checking the number of parachutes that failed to open in a test batch at a parachute company.\n",
    "\n",
    "For a binomial distribution problem, we normally phrase our questions as:\n",
    "\"If I do `N` trials, and each trial has a probability `prob` of succeeding, what is the probability I get X as a result?\"\n",
    "If you can answer this question, you can calculate the mean, variance, and other quantities of interest.\n",
    "\n",
    "We have written a function for you that will make a sample. To use it, import it in your code as follows\n",
    "```python\n",
    "from generate_sample import get_sample_success\n",
    "\n",
    "# to use it to generate the number of heads you would get flipping a coin 10 times\n",
    "get_sample_success(0.5, 10)  # might return 4\n",
    "get_sample_success(0.5, 10)  # might return 8\n",
    "\n",
    "# to simulate counting the number of 6s you get after rolling a 1d6 15 times\n",
    "get_sample_success(1/6.0, 15)  # might return 3\n",
    "```\n",
    "\n",
    "For many processes, such as testing whether parachutes open, we don't know the probability `p` beforehand. Instead, we know the data we have collected, and we need to infer the probability `p` from our data.\n",
    "\n",
    "#### Your problem\n",
    "\n",
    "We are trying to improve the proportion of defects we have when manufacturing Banana cell phones. We have some data on two different processes we want to try and use, which we call `process0` (our current process) and `process1` (the new process). It is expensive to switch to `process1` unless we are reasonably sure it makes a substaintial improvement in the rates. We will make a small production line at one factory, a run a batch of size `N` through both processes. We are employing you to help us scope out how large a batch `N` we need.\n",
    "\n",
    "1) Suppose `p0 = 0.05` and `p1 = 0.03` (i.e `p1` is better), and we make 1,000 phones through each process. Simulate this 10,000 times and tell us in how many of those simulations `p0` ends up with fewer defects than `p1` (i.e. how many times out of this 10,000 simulations did we get the wrong result)?\n",
    "\n",
    "2) Suppose `p0 = 0.05` and `p1 = 0.04` (i.e. `p1` is better, but less so) and we make 1,000 phones through each process. Simulating 10,000 times: how many simulations did `p0` end up with fewer defects than `p1`? How does this compare to the previous result?\n",
    "\n",
    "3) Suppose `p0 = 0.05` and `p1 = 0.04` and we make 20,000 phones through each process. Simulating 10,000 times, what proportion of simulations did we end up with the wrong answer (i.e. claiming that we should stick with `p0`?)\n",
    "\n",
    "4) We think that the differences are probably `p0 = 0.05` and `p1 = 0.048`. How many phones do we need to put in the batch to make sure the probability of making the wrong call is less than 1%?"
   ]
  },
  {
   "cell_type": "code",
   "execution_count": 4,
   "metadata": {},
   "outputs": [],
   "source": [
    "from generate_sample import get_sample_success\n",
    "from scipy.stats import binom\n",
    "\n",
    "import random"
   ]
  },
  {
   "cell_type": "code",
   "execution_count": 14,
   "metadata": {},
   "outputs": [
    {
     "name": "stdout",
     "output_type": "stream",
     "text": [
      "----------\n",
      "The following represent a binomial distribution:\n",
      "----------\n",
      "# of Heads After 10 Trials:\n",
      "----------\n",
      "8.0\n",
      "5.0\n",
      "5.0\n",
      "3.0\n",
      "5.0\n",
      "----------\n",
      "# of 6's After 15 Trials:\n",
      "----------\n",
      "5.0\n",
      "5.0\n",
      "0.0\n",
      "3.0\n",
      "4.0\n"
     ]
    }
   ],
   "source": [
    "# For Coin FLipping\n",
    "print('----------')\n",
    "print(\"The following represent a binomial distribution:\")\n",
    "print('----------')\n",
    "\n",
    "print(\"# of Heads After 10 Trials:\")\n",
    "print('----------')\n",
    "for _ in range(5):\n",
    "    print(get_sample_success(0.5, 10))  # Number of heads we get after 10 trials from flipping a FAIR COIN (p=0.5)\n",
    "    \n",
    "print('----------')\n",
    "\n",
    "print(\"# of 6's After 15 Trials:\")\n",
    "print('----------')\n",
    "for _ in range(5):\n",
    "    print(get_sample_success(1/6, 15)) # No. of 6's you get from rolling a dice 15 times"
   ]
  },
  {
   "cell_type": "markdown",
   "metadata": {},
   "source": [
    "## Class Solution"
   ]
  },
  {
   "cell_type": "code",
   "execution_count": 15,
   "metadata": {},
   "outputs": [],
   "source": [
    "# To test if a new process is more viable than the current one"
   ]
  },
  {
   "cell_type": "markdown",
   "metadata": {},
   "source": [
    "#### Your problem\n",
    "\n",
    "We are trying to improve the proportion of defects we have when manufacturing Banana cell phones. We have some data on two different processes we want to try and use, which we call `process0` (our current process) and `process1` (the new process). It is expensive to switch to `process1` unless we are reasonably sure it makes a substaintial improvement in the rates. We will make a small production line at one factory, a run a batch of size `N` through both processes. We are employing you to help us scope out how large a batch `N` we need.\n",
    "\n",
    "1) Suppose `p0 = 0.05` and `p1 = 0.03` (i.e `p1` is better), and we make 1,000 phones through each process. Simulate this 10,000 times and tell us in how many of those simulations `p0` ends up with fewer defects than `p1` (i.e. how many times out of this 10,000 simulations did we get the wrong result)?\n",
    "\n",
    "2) Suppose `p0 = 0.05` and `p1 = 0.04` (i.e. `p1` is better, but less so) and we make 1,000 phones through each process. Simulating 10,000 times: how many simulations did `p0` end up with fewer defects than `p1`? How does this compare to the previous result?\n",
    "\n",
    "3) Suppose `p0 = 0.05` and `p1 = 0.04` and we make 20,000 phones through each process. Simulating 10,000 times, what proportion of simulations did we end up with the wrong answer (i.e. claiming that we should stick with `p0`?)\n",
    "\n",
    "4) We think that the differences are probably `p0 = 0.05` and `p1 = 0.048`. How many phones do we need to put in the batch to make sure the probability of making the wrong call is less than 1%?   (we can't keep experimenting foreveR!!)"
   ]
  },
  {
   "cell_type": "code",
   "execution_count": null,
   "metadata": {},
   "outputs": [],
   "source": [
    "# p0 = 0.05 (probability of making a defect phone on the first process)\n",
    "# p1 = 0.03 (probability of mkaing a defect phone on the second process)"
   ]
  },
  {
   "cell_type": "code",
   "execution_count": null,
   "metadata": {},
   "outputs": [],
   "source": [
    "def generate_sample(p_success, n_trials):\n",
    "    return np.array([get_sample_success(p_success, sample_size) for _ in range(n_trials)])"
   ]
  },
  {
   "cell_type": "code",
   "execution_count": 24,
   "metadata": {},
   "outputs": [
    {
     "name": "stdout",
     "output_type": "stream",
     "text": [
      "53.0 29.0\n"
     ]
    },
    {
     "ename": "TypeError",
     "evalue": "'bool' object is not iterable",
     "output_type": "error",
     "traceback": [
      "\u001b[1;31m---------------------------------------------------------------------------\u001b[0m",
      "\u001b[1;31mTypeError\u001b[0m                                 Traceback (most recent call last)",
      "\u001b[1;32m<ipython-input-24-93668bfa4b06>\u001b[0m in \u001b[0;36m<module>\u001b[1;34m\u001b[0m\n\u001b[0;32m      6\u001b[0m \u001b[1;33m\u001b[0m\u001b[0m\n\u001b[0;32m      7\u001b[0m \u001b[0mprint\u001b[0m\u001b[1;33m(\u001b[0m\u001b[0mprocess0\u001b[0m\u001b[1;33m,\u001b[0m \u001b[0mprocess1\u001b[0m\u001b[1;33m)\u001b[0m\u001b[1;33m\u001b[0m\u001b[1;33m\u001b[0m\u001b[0m\n\u001b[1;32m----> 8\u001b[1;33m \u001b[0mprint\u001b[0m\u001b[1;33m(\u001b[0m\u001b[1;34m\"Case 1: Number of cases where we made a mistake: \"\u001b[0m\u001b[1;33m,\u001b[0m \u001b[0msum\u001b[0m\u001b[1;33m(\u001b[0m\u001b[0mprocess0\u001b[0m \u001b[1;33m<\u001b[0m \u001b[0mprocess1\u001b[0m\u001b[1;33m)\u001b[0m\u001b[1;33m)\u001b[0m\u001b[1;33m\u001b[0m\u001b[1;33m\u001b[0m\u001b[0m\n\u001b[0m",
      "\u001b[1;31mTypeError\u001b[0m: 'bool' object is not iterable"
     ]
    }
   ],
   "source": [
    "# Case 1\n",
    "# p0= 0.05, p1 = 0.03, N=1000\n",
    "\n",
    "process0 = float(get_sample_success(0.05, 1000))\n",
    "process1 = float(get_sample_success(0.03, 1000))\n",
    "\n",
    "print(process0, process1)\n",
    "print(\"Case 1: Number of cases where we made a mistake: \", sum(process0 < process1))"
   ]
  },
  {
   "cell_type": "code",
   "execution_count": null,
   "metadata": {},
   "outputs": [],
   "source": [
    "# Case 2\n",
    "process1 = get_sample_success(0.04, 1000)\n",
    "print(\"Case 2: Number of cases where we made a mistake: \", sum(process0 < process1))"
   ]
  },
  {
   "cell_type": "code",
   "execution_count": 22,
   "metadata": {},
   "outputs": [
    {
     "ename": "TypeError",
     "evalue": "'numpy.bool_' object is not iterable",
     "output_type": "error",
     "traceback": [
      "\u001b[1;31m---------------------------------------------------------------------------\u001b[0m",
      "\u001b[1;31mTypeError\u001b[0m                                 Traceback (most recent call last)",
      "\u001b[1;32m<ipython-input-22-cf752e91d983>\u001b[0m in \u001b[0;36m<module>\u001b[1;34m\u001b[0m\n\u001b[0;32m      3\u001b[0m \u001b[0mprocess0\u001b[0m \u001b[1;33m=\u001b[0m \u001b[0mget_sample_success\u001b[0m\u001b[1;33m(\u001b[0m\u001b[1;36m0.05\u001b[0m\u001b[1;33m,\u001b[0m \u001b[1;36m20000\u001b[0m\u001b[1;33m)\u001b[0m\u001b[1;33m\u001b[0m\u001b[1;33m\u001b[0m\u001b[0m\n\u001b[0;32m      4\u001b[0m \u001b[0mprocess1\u001b[0m \u001b[1;33m=\u001b[0m \u001b[0mget_sample_success\u001b[0m\u001b[1;33m(\u001b[0m\u001b[1;36m0.04\u001b[0m\u001b[1;33m,\u001b[0m \u001b[1;36m20000\u001b[0m\u001b[1;33m)\u001b[0m\u001b[1;33m\u001b[0m\u001b[1;33m\u001b[0m\u001b[0m\n\u001b[1;32m----> 5\u001b[1;33m \u001b[0mprint\u001b[0m\u001b[1;33m(\u001b[0m\u001b[1;34m\"Case 2: Number of cases where we made a mistake: \"\u001b[0m\u001b[1;33m,\u001b[0m \u001b[0msum\u001b[0m\u001b[1;33m(\u001b[0m\u001b[0mprocess0\u001b[0m \u001b[1;33m<\u001b[0m \u001b[0mprocess1\u001b[0m\u001b[1;33m)\u001b[0m\u001b[1;33m)\u001b[0m\u001b[1;33m\u001b[0m\u001b[1;33m\u001b[0m\u001b[0m\n\u001b[0m",
      "\u001b[1;31mTypeError\u001b[0m: 'numpy.bool_' object is not iterable"
     ]
    }
   ],
   "source": [
    "# Case 3\n",
    "# p0= 0.05, p1 = 0.03, N=20000\n",
    "process0 = get_sample_success(0.05, 20000)\n",
    "process1 = get_sample_success(0.04, 20000)\n",
    "print(\"Case 2: Number of cases where we made a mistake: \", sum(process0 < process1))"
   ]
  },
  {
   "cell_type": "code",
   "execution_count": null,
   "metadata": {},
   "outputs": [],
   "source": []
  },
  {
   "cell_type": "code",
   "execution_count": null,
   "metadata": {},
   "outputs": [],
   "source": []
  }
 ],
 "metadata": {
  "kernelspec": {
   "display_name": "Python [conda env:metis] *",
   "language": "python",
   "name": "conda-env-metis-py"
  },
  "language_info": {
   "codemirror_mode": {
    "name": "ipython",
    "version": 3
   },
   "file_extension": ".py",
   "mimetype": "text/x-python",
   "name": "python",
   "nbconvert_exporter": "python",
   "pygments_lexer": "ipython3",
   "version": "3.7.3"
  }
 },
 "nbformat": 4,
 "nbformat_minor": 2
}
