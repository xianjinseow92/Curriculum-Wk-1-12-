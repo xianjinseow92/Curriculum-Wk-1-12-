{
 "cells": [
  {
   "cell_type": "markdown",
   "metadata": {},
   "source": [
    "To get the maximum score, we need to assign 26 to the most frequent letter, 25 to the next, etc. So what we want is the frequency count per letter. THen we can sort and assign values. \n",
    "  \n",
    "First we clean the text: convert to lower case and remove everything but alphabets.  \n",
    "  \n",
    "Then we put the characters into a dictionary, to do the counts. We retrieve the values into a list and sort it."
   ]
  },
  {
   "cell_type": "code",
   "execution_count": 1,
   "metadata": {},
   "outputs": [],
   "source": [
    "from __future__ import print_function, division\n",
    "\n",
    "from collections import defaultdict\n",
    "import re\n",
    "\n",
    "def getScore(text):\n",
    "    text = text.lower()\n",
    "    text = re.sub(\"[a-z]\", \"\", text) \n",
    "    # ^ refers to everything not in\n",
    "    # [a-z] is what the ^ is acting on\n",
    "    # So in this case, this code removes every character that is not in [a-z]\n",
    "    d = defaultdict(int)\n",
    "    for c in text:\n",
    "        d[c] += 1\n",
    "    counts = sorted([v for k,v in d.items()], reverse=True)\n",
    "    print(counts)\n",
    "    return sum([(26-i)*counts[i] for i in range(len(counts))])"
   ]
  },
  {
   "cell_type": "code",
   "execution_count": 2,
   "metadata": {},
   "outputs": [],
   "source": [
    "s1 = 'ABbCcc'\n",
    "s2 = 'Good luck in the Facebook Hacker Cup this year'\n",
    "s3 = 'Ignore punctuation, please 🙂'\n",
    "s4 = 'Sometimes test cases are hard to make up.'\n",
    "s5 = 'So I just go consult Professor Dalves'"
   ]
  },
  {
   "cell_type": "code",
   "execution_count": 3,
   "metadata": {},
   "outputs": [
    {
     "name": "stdout",
     "output_type": "stream",
     "text": [
      "[]\n"
     ]
    },
    {
     "data": {
      "text/plain": [
       "0"
      ]
     },
     "execution_count": 3,
     "metadata": {},
     "output_type": "execute_result"
    }
   ],
   "source": [
    "getScore(s1)"
   ]
  },
  {
   "cell_type": "code",
   "execution_count": null,
   "metadata": {},
   "outputs": [],
   "source": []
  }
 ],
 "metadata": {
  "kernelspec": {
   "display_name": "Python [conda env:metis] *",
   "language": "python",
   "name": "conda-env-metis-py"
  },
  "language_info": {
   "codemirror_mode": {
    "name": "ipython",
    "version": 3
   },
   "file_extension": ".py",
   "mimetype": "text/x-python",
   "name": "python",
   "nbconvert_exporter": "python",
   "pygments_lexer": "ipython3",
   "version": "3.7.3"
  }
 },
 "nbformat": 4,
 "nbformat_minor": 2
}
