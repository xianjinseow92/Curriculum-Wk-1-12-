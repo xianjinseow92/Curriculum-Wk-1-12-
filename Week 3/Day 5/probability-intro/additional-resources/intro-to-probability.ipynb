{
 "cells": [
  {
   "cell_type": "code",
   "execution_count": null,
   "metadata": {},
   "outputs": [],
   "source": [
    "# Default code block\n",
    "\n",
    "# line magic\n",
    "%pylab inline \n",
    "\n",
    "import pandas as pd\n",
    "import seaborn\n",
    "\n",
    "%config InlineBackend.figure_format = 'svg'\n",
    "seaborn.set_style(\"white\")"
   ]
  },
  {
   "cell_type": "markdown",
   "metadata": {},
   "source": [
    "# Introduction to Probability"
   ]
  },
  {
   "cell_type": "markdown",
   "metadata": {},
   "source": [
    "## What is Probability?\n",
    "- The study of theoretical possibilities and their likelihood of occuring.\n",
    "- **(Theoretical) Examples:** \n",
    "    - What is the chance of flipping three (fair) coins and getting heads twice?\n",
    "    - What is the chance of a (unbiased) drunk driver getting from point A to point B in NYC?\n",
    "    - What is the chance that the sum of 17 (fair) die rolls is greater than 100? "
   ]
  },
  {
   "cell_type": "markdown",
   "metadata": {},
   "source": [
    "<img src=\"https://upload.wikimedia.org/wikipedia/commons/3/3e/BluePlatonicDice2.jpg\" width=\"300\">\n"
   ]
  },
  {
   "cell_type": "markdown",
   "metadata": {},
   "source": [
    "## Some examples:"
   ]
  },
  {
   "cell_type": "markdown",
   "metadata": {},
   "source": [
    "### Chance of flipping three (fair) coins and getting (exactly) two heads\n",
    "- Each coin has probability 1/2 of heads and 1/2 of tails, and all are **independent**.\n",
    "- Naming the coins as C_1, C_2 and C_3, we see that the probability of two heads is the sum of the probabilities of all possible ways that this can happen:\n",
    "$$ $$\n",
    "\\begin{eqnarray*}\n",
    "P(\\text{\"Exactly Two Heads\"}) &=& \n",
    "\\,\\,\\,\\,\\,\\,P(C_1 = \\text{\"H\"}) \\times P(C_2 = \\text{\"H\"}) \\times P(C_3 = \\text{\"T\"}) \\\\\n",
    "&&+ P(C_1 = \\text{\"H\"}) \\times P(C_2 = \\text{\"T\"}) \\times P(C_3 = \\text{\"H\"}) \\\\\n",
    "&&+ P(C_1 = \\text{\"T\"}) \\times P(C_2 = \\text{\"H\"}) \\times P(C_3 = \\text{\"H\"}) \\\\\n",
    "&=& 1/8 + 1/8 + 1/8 \\\\\n",
    "&=& 3/8\n",
    "\\end{eqnarray*}\n",
    "\n",
    "<img src=\"https://upload.wikimedia.org/wikipedia/commons/5/58/Roman_gold_coins_excavated_in_Pudukottai_India_one_coin_of_Caligula_31_41_and_two_coins_of_Nero_54_68.jpg\" width=\"400\">\n",
    " "
   ]
  },
  {
   "cell_type": "markdown",
   "metadata": {},
   "source": [
    "### Similarly for numeric values for the outcomes, as for a fair die $D_1$:\n",
    "\\begin{align}\n",
    "&P(D_1 = 1) = 1/6, \n",
    "\\qquad\n",
    "P(D_1 = 2) = 1/6, \n",
    "\\qquad\n",
    "P(D_1 = 3) = 1/6, \n",
    "\\\\\n",
    "&P(D_1 = 4) = 1/6, \n",
    "\\qquad\n",
    "P(D_1 = 5) = 1/6, \n",
    "\\qquad\n",
    "P(D_1 = 6) = 1/6, \n",
    "\\qquad\n",
    "\\end{align}\n",
    "\n",
    "<img src=\"https://upload.wikimedia.org/wikipedia/commons/a/a5/6sided_dice.jpg\" width=\"300\">\n",
    "\n",
    "We could also go through and answer the question of the probability that the sum of 17 die rolls is > 100 if we wanted to..."
   ]
  },
  {
   "cell_type": "markdown",
   "metadata": {},
   "source": [
    "### What's going on?\n",
    "- **Joint Probability** (Intersections):\n",
    "    - **Independent** events occur with probability the product of their individual probabilities!\n",
    "    - I.e., $P(A \\text{ and } B) = P(A) \\times P(B)$\n",
    "- Disjoint events (Unions):\n",
    "    - The probability of either $A$ or $B$ occurring is $P(A) + P(B) - P(A \\text{ and } B)$\n",
    "    - For disjoint events (i.e. both can't occur) this is just the sum $P(A) + P(B)$\n",
    "    \n",
    "If you don't believe this -- look at a Venn Diagram!"
   ]
  },
  {
   "cell_type": "code",
   "execution_count": null,
   "metadata": {},
   "outputs": [],
   "source": [
    "## Look at a Venn Diagram to see this!"
   ]
  },
  {
   "cell_type": "code",
   "execution_count": null,
   "metadata": {},
   "outputs": [],
   "source": []
  },
  {
   "cell_type": "markdown",
   "metadata": {},
   "source": [
    "### Dependent variables and Conditional probabilty\n",
    "\n",
    "#### Not all probabilities are independent -- here's an example:\n",
    "\n",
    "I am allergic to dogs. (Sad but true.)  They make me sneeze.\n",
    "Sometimes dogs say hello to me.  What is the probability that I sneeze?\n",
    "\n",
    "Here I know some probabilities about the friendliness of dogs:\n",
    "- $P(\\text{\"Dog greets me\"}) = 1/4$ \n",
    "- $P(\\text{\"Dog doesn't greet me\"}) = 3/4$ \n",
    "\n",
    "Sometimes we know the **conditional probabilities** that depend on whether dogs say hello:\n",
    "- $P(\\text{\"I sneeze\"} |\\, \\text{\"Dog greets me\"}) = 9/10$\n",
    "- $P(\\text{\"I don't sneeze\"} |\\, \\text{\"Dog greets me\"}) = 1/10$\n",
    "- $P(\\text{\"I sneeze\"} |\\, \\text{\"Dog doesn't greet me\"}) = 2/10$\n",
    "- $P(\\text{\"I don't sneeze\"} |\\, \\text{\"Dog doesn't greet me\"}) = 8/10$\n",
    "\n",
    "How can I find the probability of sneezing in general?\n",
    "$$ $$\n",
    "\\begin{align}\n",
    "P(\\text{\"I sneeze\"}) \n",
    "&= P(\\text{\"I sneeze\"} |\\, \\text{\"Dog greets me\"}) \\times P(\\text{\"Dog greets me\"}) \n",
    "\\\\\n",
    "&= P(\\text{\"I sneeze\"} |\\, \\text{\"Dog doesn't greet me\"}) \\times P(\\text{\"Dog doesn't greet me\"}) \n",
    "\\\\\n",
    "&= \\frac{9}{10} \\times \\frac{1}{4} + \\frac{2}{10} \\times \\frac{3}{4}\n",
    "\\\\\n",
    "&= \\frac{9 + 6}{40} = \\frac{3}{8} = 37.5\\%\n",
    "\\end{align}\n",
    "\n",
    "What does the probability space look like?  **DRAW IT!**\n",
    "\n",
    "Note that $P(\\text{\"I sneeze\"})$ depends on the value of $\\text{\"Dog greets me\"}$!\n",
    "  \n",
    "   **The random variables \"I sneeze\" and \"Dog greets me\" are not independent!**\n",
    "  \n",
    "If we thought they were independent, we would conclude that the probabilty \n",
    "  that I sneeze when a dog greets me is $\\frac{1}{4} \\cdot \\frac{3}{8} = \\frac{3}{32} \\approx 9.3\\%$, \n",
    "  but its actually $\\frac{1}{4} \\cdot \\frac{9}{10} = 22.5\\%$!\n"
   ]
  },
  {
   "cell_type": "markdown",
   "metadata": {},
   "source": [
    "## How does the theory work?\n",
    "\n",
    "### Basic Setup\n",
    "- Probability space -- a weighted set giving the possible universes that you live in!\n",
    "- Events -- Subsets of this probability space describing the universes where your \"event\" happens!\n",
    "- Random variables -- a rule to assign a value to each possible universe.\n",
    "\n",
    "### Rules \n",
    "- All event weightings must be non-negative, and must add to one.\n",
    "- No \"funny business\" with making events. (Don't worry -- this is hard to do badly.)"
   ]
  },
  {
   "cell_type": "markdown",
   "metadata": {},
   "source": [
    "### Visualize the probability space and various events for each value of a coin flip:\n",
    "- Two coins -- Probability space(all joint probabilities) as boxes\n",
    "- Two coins -- Event: $C_1 = H$\n",
    "- Two coins -- Event: $C_1 = T$\n",
    "- Two coins -- Event: $C_2 = H$\n",
    "- Two coins -- Event: $C_2 = T$\n",
    "- Two coins -- Event: Both heads\n",
    "- Two coins -- Event: Both tails\n",
    "- Two coins -- Event: $C_1 = H$, $C_2$ = Anything\n",
    "- **Some Random variables:** $C_1$, $C_2$, Concatenate($C_1$, $C_1$, $C_2$), etc.\n",
    "     \n",
    "     \n",
    "- Three coins -- Probability space as boxes    \n",
    "- Three coins -- Event: $C_1 = H$, $C_2 = C_3 =$ Anything\n",
    "     \n",
    "     \n",
    "- Two Dice -- Probability space\n",
    "- Two Dice -- Sum of values is 2\n",
    "- Two Dice -- Sum of values is 3\n",
    "- Two Dice -- Sum of values is ... through 12\n",
    "- Two Dice -- Sum of values is >6\n",
    "- **Some Random Variables:** $D_1$, $D_2$, $D_1+D_2$, $D_1*D_2$, etc.\n",
    "\n",
    "**NOTE:** Probability Space Pictures are **NOT UNIQUE** -- make your own! =)\n"
   ]
  },
  {
   "cell_type": "code",
   "execution_count": null,
   "metadata": {},
   "outputs": [],
   "source": [
    "## Draw these pictures on the board!"
   ]
  },
  {
   "cell_type": "markdown",
   "metadata": {},
   "source": [
    "### Random Variables\n",
    "They assign a value to every possible universe.  These can also be used to define events (as the set of universes where the random variable has a certain set of values).\n",
    "\n",
    "Examples of Random Variables:\n",
    "- $C_1$\n",
    "- $D_1$\n",
    "- $D_2$\n",
    "- $D_1 + D_2 + 5(D_3)^2$\n",
    "\n",
    "Events from Random Variables:\n",
    "- $D_1 = 5$\n",
    "- $D_1 + D_2 <=4$\n",
    "- \"Exactly two heads\"\n",
    "\n",
    "**NOTE:** Often theses are taken to be **numeric** random variables, with real number values!\n"
   ]
  },
  {
   "cell_type": "markdown",
   "metadata": {},
   "source": [
    "### Visualizing Random Variables (two ways):\n",
    "- **Probability space (universe-centric)** -- What is the value for each possible universe?\n",
    "- **Probability densities (value-centric)** -- What is the weighting for each value?\n",
    "\n"
   ]
  },
  {
   "cell_type": "markdown",
   "metadata": {},
   "source": [
    "#### Probability Density Pictures:\n",
    "These can be also easily visualized by a \"normalized histogram\" which gives the \n",
    "values with their appropriate probability weightings:\n",
    "\n",
    "    Examples:\n",
    "        Fair Coin: 1/2, 1/2\n",
    "        Unfair Coin: 1/3, 2/3\n",
    "        Fair Die: 1/6, 1/6, 1/6, 1/6, 1/6, 1/6\n",
    "        Unfair Die: 1/20, 2/20, 2/20, 2/20, 2/20, 11/20"
   ]
  },
  {
   "cell_type": "code",
   "execution_count": null,
   "metadata": {},
   "outputs": [],
   "source": [
    "## PROBABILITIES FOR A FAIR COIN\n",
    "Left = [0,1]\n",
    "Vals = ['H', 'T']\n",
    "Probs = [1.0/2, 1.0/2]\n",
    "\n",
    "## Plot the probabilities\n",
    "fig = plt.figure()\n",
    "H = plt.bar(Left, Probs, align='center')\n",
    "H = plt.xticks(Left, Vals)\n",
    "H = plt.ylim((0,1))\n",
    "H = plt.title(\"Probabilities for a fair coin\")"
   ]
  },
  {
   "cell_type": "code",
   "execution_count": null,
   "metadata": {},
   "outputs": [],
   "source": [
    "## PROBABILITIES FOR OF AN UNFAIR COIN\n",
    "Left = [0,1]\n",
    "Vals = ['H', 'T']\n",
    "Probs = [1.0/3, 2.0/3]\n",
    "\n",
    "## Plot the histogram\n",
    "fig = plt.figure()\n",
    "H = plt.bar(Left, Probs, align='center')\n",
    "H = plt.xticks(Left, Vals)\n",
    "H = plt.ylim((0,1))\n",
    "H = plt.title(\"Probabilities for an unfair coin -- (1/3, 2/3)\")"
   ]
  },
  {
   "cell_type": "code",
   "execution_count": null,
   "metadata": {},
   "outputs": [],
   "source": [
    "## PROBABILITIES FOR A FAIR DIE\n",
    "n = 6\n",
    "Left = range(n)\n",
    "Vals = range(1,n+1)\n",
    "Probs = n * [1.0/n]\n",
    "\n",
    "## Plot the histogram\n",
    "fig = plt.figure()\n",
    "H = plt.bar(Left, Probs, align='center')\n",
    "H = plt.xticks(Left, Vals)\n",
    "H = plt.ylim((0,1))\n",
    "H = plt.title(\"Probabilities for a fair die\")"
   ]
  },
  {
   "cell_type": "code",
   "execution_count": null,
   "metadata": {},
   "outputs": [],
   "source": [
    "## PROBABILITIES FOR AN UNFAIR FAIR DIE\n",
    "n = 6\n",
    "Left = range(n)\n",
    "Vals = range(1,n+1)\n",
    "#Probs = n * [1.0/n]\n",
    "Probs = [1.0/20] + 4*[2.0/20] + [11.0/20]\n",
    "\n",
    "## Plot the histogram\n",
    "fig = plt.figure()\n",
    "H = plt.bar(Left, Probs, align='center')\n",
    "H = plt.xticks(Left, Vals)\n",
    "H = plt.ylim((0,1))\n",
    "H = plt.grid(True)\n",
    "H = plt.title(\"Probabilities for an unfair/weighted die\\n(1/20, 2/20, 2/20, 2/20, 2/20, 11/20)\")"
   ]
  },
  {
   "cell_type": "markdown",
   "metadata": {},
   "source": [
    "**Note:** Usually we talk about possibilities as having **numeric** values so we can compute useful numerical quantities to describe random variables.\n",
    "\n",
    "            "
   ]
  },
  {
   "cell_type": "markdown",
   "metadata": {},
   "source": [
    "When there are only finitely many values attained by your variable, \n",
    "it is called a **discrete random variable**.  (These are always thought \n",
    "of as functions on a fixed probability space!)\n",
    "\n",
    "\n",
    "For these we can compute the following important quantities:\n",
    "- **Expected value/mean value** \n",
    "$$E(X) := \\mu_X := \\sum_{\\text{values $x$ of $X$}} P(X = x) \\times x$$\n",
    "- **Variance** \n",
    "\\begin{align}\n",
    "Var(X) &:= (\\sigma_X)^2\n",
    "\\\\\n",
    "&:= \\sum_{\\text{values $x$ of $X$}} P(X = x) \\times (x - E(X))^2\n",
    "\\\\\n",
    "&=  E\\left((X - E(X))^2\\right)\n",
    "\\end{align}\n",
    "- **Standard Deviation**\n",
    "$$\n",
    "\\sigma_X := \\sqrt{Var(X)}\n",
    "$$\n",
    "    \n",
    "    \n",
    "For equallly weighted (i.e. fair) discrete random variables with $n$ values this becomes:\n",
    "- Expected value/mean value \n",
    "$$\n",
    "E(X) := \\mu_X := \\frac{\\sum_{\\text{values $x$ of $X$}} x}{n}\n",
    "$$\n",
    "- Variance \n",
    "$$\n",
    "Var(X) :=  \\frac{\\sum_{\\text{values $x$ of $X$}} (x - E(X))^2}{n}\n",
    "$$\n"
   ]
  },
  {
   "cell_type": "markdown",
   "metadata": {},
   "source": [
    "### Example: Mean and variance for a fair die \n",
    "\\begin{align}\n",
    "    E(X) &= \\frac{1 + 2 + 3 + 4 + 5 + 6}{6} = \\frac{21}{6} = 3.5 \\\\\n",
    "    \\\\\n",
    "    Var(X) &= \\frac{(1 - 3.5)^2 + \\cdots + (6 - 3.5)^2}{6} \\approx 2.91666...\n",
    "    \\\\\n",
    "    \\sigma_X &= \\sqrt{Var(X)} \\approx 1.7078...\n",
    "\\end{align}\n",
    "    \n",
    "**Note:** We cannot compute the expected value or variance of a fair coin \n",
    "        without assigning its values 'H' an 'T' to numbers!"
   ]
  },
  {
   "cell_type": "markdown",
   "metadata": {},
   "source": [
    "For two discrete random variables on the same probability space, \n",
    "we can talk about their **covariance**:\n",
    "$$ $$\n",
    "\\begin{align}\n",
    "\\text{Cov}&(X,Y) \\\\\n",
    "&= \\sum_{\\substack{\\text{values $x$ of $X$}\\\\ \\text{values $y$ of $Y$}}} P(X=x, Y=y) (x - E(X))(y - E(Y))\n",
    "\\end{align}\n",
    "For equal-weighted independent random variables (say with $n$ values each), this reduces to \n",
    "$$ $$\n",
    "    $$\\text{Cov}(X,Y) = \\frac{\\sum_{x,y} (x - E(X))(y - E(Y))}{n^2}$$\n",
    "If we take X = Y then \n",
    "$$ $$\n",
    "\\begin{align}\n",
    "\\text{Cov}(X,X) &= \\frac{\\sum_{x} \\sum_{x}(x - E(X))(x - E(X))}{n^2} \\\\\n",
    "             &= \\frac{n \\times \\sum_{x} (x - E(X))(x - E(X))}{n^2} \\\\\n",
    "             &= \\frac{\\sum_{x} (x - E(X))^2}{n} \\\\\n",
    "             &= \\text{Var}(X)\n",
    "\\end{align}"
   ]
  },
  {
   "cell_type": "markdown",
   "metadata": {},
   "source": [
    "## An important Probability theorem:\n",
    "\n",
    "**Law of Large Numbers (LLN informal)** -- The average value of a large number of independent \n",
    "samples of a random variable $X$ gets arbitrarily close to its expected value $E(X)$.\n",
    "\n",
    "**Law of Large Numbers (LLN formal)** -- Suppose that $X_1, ..., X_n$ are independent random \n",
    "variables with the same probability densities as the random variable $X$, then \n",
    "\n",
    "$$\n",
    "\\lim_{n \\rightarrow \\infty} \\frac{X_1 + X_2 + \\cdots + X_n}{n} = E(X).\n",
    "$$\n",
    "\n"
   ]
  },
  {
   "cell_type": "code",
   "execution_count": null,
   "metadata": {},
   "outputs": [],
   "source": [
    "## PROBABILITIES FOR A FAIR DIE\n",
    "def make_die(d=6):\n",
    "    # dict comprehensions: \n",
    "    # RV = {val: 1./6 for val in range(1, d+1)}\n",
    "    \n",
    "    RV = {}\n",
    "    for val in range(1, d+1):\n",
    "        RV[val] = 1.0/6    \n",
    "    return RV\n",
    "\n",
    "\n",
    "def make_sum_of_two_variables(V1, V2):\n",
    "    \"\"\"\n",
    "    RV = ([val_list], [prob_list])    \n",
    "    \"\"\"\n",
    "    new_V = {}\n",
    "    for v1 in V1:\n",
    "        for v2 in V2:            \n",
    "            new_V[v1 + v2] = new_V.get(v1 + v2, 0) + V1[v1] * V2[v2]\n",
    "\n",
    "    ## Adjust for roundoff error -- Rescale the probabilities to sum to one\n",
    "    inv_prob_sum = 1.0 / sum(list(new_V.values()))\n",
    "    for k in new_V:\n",
    "        new_V[k] *= inv_prob_sum \n",
    "        \n",
    "    return new_V\n",
    "            \n",
    "\n",
    "def RV_mean(V):\n",
    "    \"\"\"\n",
    "    Return the mean of the random variable.    \n",
    "    \"\"\"\n",
    "    # return sum(val*prob for val, prob in V.iteritems())\n",
    "    mean = 0.0\n",
    "    for val, prob in V.items():\n",
    "        mean += prob * val\n",
    "    return mean\n",
    "\n",
    "    \n",
    "def RV_histogram(V, n):\n",
    "    \n",
    "    Vals = list(V.keys())\n",
    "    Probs = [V[val] for val in Vals]\n",
    "    d = len(Vals)\n",
    "    Left = Vals\n",
    "    \n",
    "    ## Plot the histogram\n",
    "    fig = plt.figure()\n",
    "    H = plt.bar(Left, Probs, align='center', width = 1.0)\n",
    "    H = plt.xticks(Left, Vals)\n",
    "    H = plt.ylim((0,1))\n",
    "    if n == 1:\n",
    "        H = plt.title(\"Probabilities for one fair die\")\n",
    "    else:\n",
    "        H = plt.title(\"Probabilities for the sum of \" + str(n) + \" fair dice\")\n",
    "        \n",
    "    \n",
    "def RV_histogram__dots(V, n):\n",
    "    \n",
    "    Vals = list(V.keys())\n",
    "    Probs = [V[val] for val in Vals]\n",
    "    d = len(Vals)\n",
    "    Left = Vals\n",
    "    \n",
    "    ## Plot the histogram\n",
    "    fig = plt.figure()\n",
    "    H = plt.plot(Left, Probs, 'bo')\n",
    "    H = plt.xticks(Left, Vals)\n",
    "    H = plt.ylim((0,1))\n",
    "    x_min, x_max = plt.xlim()  \n",
    "    eps = 0.5\n",
    "    H = plt.xlim([x_min - eps, x_max + eps])\n",
    "    if n == 1:\n",
    "        H = plt.title(\"Probabilities for one fair die\")\n",
    "    else:\n",
    "        H = plt.title(\"Probabilities for the sum of \" + str(n) + \" fair dice\")\n",
    "        \n",
    "    \n",
    "def RV_mean_scaled_histogram(V, n, use_unscaled_xticks=True):\n",
    "    \n",
    "    mean = RV_mean(V)\n",
    "\n",
    "    Vals = V.keys()\n",
    "    Scaled_Vals = [1.0 * v / n   for v in V.keys()]\n",
    "    Probs = [n*V[val] for val in Vals]\n",
    "    max_prob = max(Probs + [1])\n",
    "    d = len(Vals)\n",
    "    Left = Vals\n",
    "    Scaled_Left = Scaled_Vals\n",
    "    \n",
    "    ## Plot the histogram\n",
    "    fig = plt.figure()\n",
    "    H = plt.bar(Scaled_Left, Probs, align='center', width=1.0/n)\n",
    "    if not use_unscaled_xticks:\n",
    "        H = plt.xticks(Scaled_Left, Scaled_Vals)\n",
    "    H = plt.ylim((0,max_prob))\n",
    "    if n == 1:\n",
    "        H = plt.title(\"Scaled Probabilities for one fair die\")\n",
    "    else:\n",
    "        H = plt.title(\"Scaled Probabilities for the sum of \" + str(n) + \" fair dice\")"
   ]
  },
  {
   "cell_type": "code",
   "execution_count": null,
   "metadata": {},
   "outputs": [],
   "source": [
    "## Let's do an example -- rolling many dice!\n",
    "D_list = [make_die()]\n",
    "for i in range(10):\n",
    "    D_list.append(make_sum_of_two_variables(D_list[-1], D_list[-1]))"
   ]
  },
  {
   "cell_type": "code",
   "execution_count": null,
   "metadata": {},
   "outputs": [],
   "source": [
    "## Try varying 0 <= k <= 10\n",
    "k = 10\n",
    "RV_mean_scaled_histogram(D_list[k],n = 2**k)"
   ]
  },
  {
   "cell_type": "code",
   "execution_count": null,
   "metadata": {},
   "outputs": [],
   "source": []
  },
  {
   "cell_type": "code",
   "execution_count": null,
   "metadata": {},
   "outputs": [],
   "source": []
  },
  {
   "cell_type": "code",
   "execution_count": null,
   "metadata": {},
   "outputs": [],
   "source": []
  },
  {
   "cell_type": "code",
   "execution_count": null,
   "metadata": {},
   "outputs": [],
   "source": []
  },
  {
   "cell_type": "code",
   "execution_count": null,
   "metadata": {},
   "outputs": [],
   "source": []
  },
  {
   "cell_type": "code",
   "execution_count": null,
   "metadata": {},
   "outputs": [],
   "source": []
  },
  {
   "cell_type": "markdown",
   "metadata": {},
   "source": [
    "#### Miscellaneous Calculations"
   ]
  },
  {
   "cell_type": "code",
   "execution_count": null,
   "metadata": {},
   "outputs": [],
   "source": [
    "## Compute variance of fair die\n",
    "var = sum([(v - 3.5)**2 for v in range(1,7)])/6.0; var"
   ]
  },
  {
   "cell_type": "code",
   "execution_count": null,
   "metadata": {},
   "outputs": [],
   "source": [
    "## Compute the standard deviation of a fair die\n",
    "from math import sqrt\n",
    "sqrt(var)"
   ]
  },
  {
   "cell_type": "markdown",
   "metadata": {},
   "source": [
    "### Compute the probabilities for a sum of n coins"
   ]
  },
  {
   "cell_type": "code",
   "execution_count": null,
   "metadata": {},
   "outputs": [],
   "source": [
    "D_list = [make_die()]\n",
    "for i in range(9):\n",
    "    D_list.append(make_sum_of_two_variables(D_list[-1], D_list[-1]))"
   ]
  },
  {
   "cell_type": "code",
   "execution_count": null,
   "metadata": {},
   "outputs": [],
   "source": [
    "k = 0\n",
    "RV_histogram__dots(D_list[k],n = 2**k)\n"
   ]
  },
  {
   "cell_type": "code",
   "execution_count": null,
   "metadata": {},
   "outputs": [],
   "source": [
    "k = 1\n",
    "RV_histogram__dots(D_list[k],n = 2**k)"
   ]
  },
  {
   "cell_type": "code",
   "execution_count": null,
   "metadata": {},
   "outputs": [],
   "source": [
    "k = 0\n",
    "RV_mean_scaled_histogram(D_list[k],n = 2**k)"
   ]
  },
  {
   "cell_type": "code",
   "execution_count": null,
   "metadata": {},
   "outputs": [],
   "source": [
    "k = 1\n",
    "RV_mean_scaled_histogram(D_list[k],n = 2**k)"
   ]
  },
  {
   "cell_type": "code",
   "execution_count": null,
   "metadata": {},
   "outputs": [],
   "source": [
    "k = 2\n",
    "RV_mean_scaled_histogram(D_list[k],n = 2**k)"
   ]
  },
  {
   "cell_type": "code",
   "execution_count": null,
   "metadata": {},
   "outputs": [],
   "source": [
    "k = 3\n",
    "RV_mean_scaled_histogram(D_list[k],n = 2**k)"
   ]
  },
  {
   "cell_type": "code",
   "execution_count": null,
   "metadata": {},
   "outputs": [],
   "source": [
    "k = 4\n",
    "RV_mean_scaled_histogram(D_list[k],n = 2**k)"
   ]
  },
  {
   "cell_type": "code",
   "execution_count": null,
   "metadata": {},
   "outputs": [],
   "source": [
    "k = 5\n",
    "RV_mean_scaled_histogram(D_list[k],n = 2**k)"
   ]
  },
  {
   "cell_type": "code",
   "execution_count": null,
   "metadata": {},
   "outputs": [],
   "source": [
    "k = 6\n",
    "RV_mean_scaled_histogram(D_list[k],n = 2**k)"
   ]
  },
  {
   "cell_type": "code",
   "execution_count": null,
   "metadata": {},
   "outputs": [],
   "source": [
    "k = 7\n",
    "RV_mean_scaled_histogram(D_list[k],n = 2**k)"
   ]
  },
  {
   "cell_type": "code",
   "execution_count": null,
   "metadata": {},
   "outputs": [],
   "source": [
    "RV_histogram(D_list[0], n=1)"
   ]
  },
  {
   "cell_type": "code",
   "execution_count": null,
   "metadata": {},
   "outputs": [],
   "source": [
    "RV_histogram(D_list[1], n=2)"
   ]
  },
  {
   "cell_type": "code",
   "execution_count": null,
   "metadata": {},
   "outputs": [],
   "source": []
  }
 ],
 "metadata": {
  "kernelspec": {
   "display_name": "metis",
   "language": "python",
   "name": "metis"
  },
  "language_info": {
   "codemirror_mode": {
    "name": "ipython",
    "version": 3
   },
   "file_extension": ".py",
   "mimetype": "text/x-python",
   "name": "python",
   "nbconvert_exporter": "python",
   "pygments_lexer": "ipython3",
   "version": "3.6.4"
  }
 },
 "nbformat": 4,
 "nbformat_minor": 1
}
