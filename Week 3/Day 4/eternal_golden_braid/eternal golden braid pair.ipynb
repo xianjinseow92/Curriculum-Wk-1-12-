{
 "cells": [
  {
   "cell_type": "markdown",
   "metadata": {},
   "source": [
    "We want to get the unique set of words for each of the text. Then for every word in the first text, we can see if it is also in the second text."
   ]
  },
  {
   "cell_type": "markdown",
   "metadata": {},
   "source": [
    "For the two strings below, given in Python syntax as `mmg` and `geb`, make a three-word phrase entirely from words five letters or longer that occur in both selections."
   ]
  },
  {
   "cell_type": "code",
   "execution_count": 2,
   "metadata": {},
   "outputs": [],
   "source": [
    "# Python 2 & 3 Compatibility\n",
    "from __future__ import print_function, division\n",
    "\n",
    "mmg = \"\"\"I am the very model of a modern Major-General,\n",
    "I've information vegetable, animal, and mineral,\n",
    "I know the kings of England, and I quote the fights historical\n",
    "From Marathon to Waterloo, in order categorical;\n",
    "I'm very well acquainted, too, with matters mathematical,\n",
    "I understand equations, both the simple and quadratical,\n",
    "About binomial theorem I'm teeming with a lot o' news, (bothered for a rhyme)\n",
    "With many cheerful facts about the square of the hypotenuse.\n",
    "I'm very good at integral and differential calculus;\n",
    "I know the scientific names of beings animalculous:\n",
    "In short, in matters vegetable, animal, and mineral,\n",
    "I am the very model of a modern Major-General.\n",
    "\n",
    "I know our mythic history, King Arthur's and Sir Caradoc's;\n",
    "I answer hard acrostics, I've a pretty taste for paradox,\n",
    "I quote in elegiacs all the crimes of Heliogabalus,\n",
    "In conics I can floor peculiarities parabolous;\n",
    "I can tell undoubted Raphaels from Gerard Dows and Zoffanies,\n",
    "I know the croaking chorus from The Frogs of Aristophanes!\n",
    "Then I can hum a fugue of which I've heard the music's din afore, (bothered for a rhyme)\n",
    "And whistle all the airs from that infernal nonsense Pinafore.\n",
    "Then I can write a washing bill in Babylonic cuneiform,\n",
    "And tell you ev'ry detail of Caractacus's uniform:\n",
    "In short, in matters vegetable, animal, and mineral,\n",
    "I am the very model of a modern Major-General.\n",
    "In fact, when I know what is meant by \"mamelon\" and \"ravelin\",\n",
    "When I can tell at sight a Mauser rifle from a javelin,\n",
    "When such affairs as sorties and surprises I'm more wary at,\n",
    "And when I know precisely what is meant by \"commissariat\",\n",
    "When I have learnt what progress has been made in modern gunnery,\n",
    "When I know more of tactics than a novice in a nunnery -\n",
    "In short, when I've a smattering of elemental strategy - (bothered for a rhyme)\n",
    "You'll say a better Major-General has never sat a gee.\n",
    "For my military knowledge, though I'm plucky and adventury,\n",
    "Has only been brought down to the beginning of the century;\n",
    "But still, in matters vegetable, animal, and mineral,\n",
    "I am the very model of a modern Major-General.\"\"\"\n",
    "\n",
    "geb = \"\"\"Gödel, Escher, Bach: An Eternal Golden Braid, also known as\n",
    "GEB, is a 1979 book by Douglas Hofstadter. The tagline \"a metaphorical\n",
    "fugue on minds and machines in the spirit of Lewis Carroll\" was used\n",
    "by the publisher to describe the book.\n",
    "\n",
    "By exploring common themes in the lives and works of logician Kurt\n",
    "Gödel, artist M. C. Escher and composer Johann Sebastian Bach, GEB\n",
    "expounds concepts fundamental to mathematics, symmetry, and\n",
    "intelligence. Through illustration and analysis, the book discusses\n",
    "how self-reference and formal rules allow systems to acquire meaning\n",
    "despite being made of \"meaningless\" elements. It also discusses what\n",
    "it means to communicate, how knowledge can be represented and stored,\n",
    "the methods and limitations of symbolic representation, and even the\n",
    "fundamental notion of \"meaning\" itself.\n",
    "\n",
    "In response to confusion over the book's theme, Hofstadter has\n",
    "emphasized that GEB is not about mathematics, art, and music but\n",
    "rather about how cognition and thinking emerge from well-hidden\n",
    "neurological mechanisms. In the book, he presents an analogy about how\n",
    "the individual neurons of the brain coordinate to create a unified\n",
    "sense of a coherent mind by comparing it to the social organization\n",
    "displayed in a colony of ants.\"\"\""
   ]
  },
  {
   "cell_type": "markdown",
   "metadata": {},
   "source": [
    "We create a function to tokenize the text: to give us a set of words. We can put all the words into a dictionary and get a list of keys."
   ]
  },
  {
   "cell_type": "code",
   "execution_count": 14,
   "metadata": {},
   "outputs": [],
   "source": [
    "from collections import defaultdict\n",
    "from collections import deque\n",
    "import string\n",
    "import re"
   ]
  },
  {
   "cell_type": "code",
   "execution_count": 15,
   "metadata": {},
   "outputs": [
    {
     "data": {
      "text/plain": [
       "'I am the very model of a modern Major-General,\\nI\\'ve information vegetable, animal, and mineral,\\nI know the kings of England, and I quote the fights historical\\nFrom Marathon to Waterloo, in order categorical;\\nI\\'m very well acquainted, too, with matters mathematical,\\nI understand equations, both the simple and quadratical,\\nAbout binomial theorem I\\'m teeming with a lot o\\' news, (bothered for a rhyme)\\nWith many cheerful facts about the square of the hypotenuse.\\nI\\'m very good at integral and differential calculus;\\nI know the scientific names of beings animalculous:\\nIn short, in matters vegetable, animal, and mineral,\\nI am the very model of a modern Major-General.\\n\\nI know our mythic history, King Arthur\\'s and Sir Caradoc\\'s;\\nI answer hard acrostics, I\\'ve a pretty taste for paradox,\\nI quote in elegiacs all the crimes of Heliogabalus,\\nIn conics I can floor peculiarities parabolous;\\nI can tell undoubted Raphaels from Gerard Dows and Zoffanies,\\nI know the croaking chorus from The Frogs of Aristophanes!\\nThen I can hum a fugue of which I\\'ve heard the music\\'s din afore, (bothered for a rhyme)\\nAnd whistle all the airs from that infernal nonsense Pinafore.\\nThen I can write a washing bill in Babylonic cuneiform,\\nAnd tell you ev\\'ry detail of Caractacus\\'s uniform:\\nIn short, in matters vegetable, animal, and mineral,\\nI am the very model of a modern Major-General.\\nIn fact, when I know what is meant by \"mamelon\" and \"ravelin\",\\nWhen I can tell at sight a Mauser rifle from a javelin,\\nWhen such affairs as sorties and surprises I\\'m more wary at,\\nAnd when I know precisely what is meant by \"commissariat\",\\nWhen I have learnt what progress has been made in modern gunnery,\\nWhen I know more of tactics than a novice in a nunnery -\\nIn short, when I\\'ve a smattering of elemental strategy - (bothered for a rhyme)\\nYou\\'ll say a better Major-General has never sat a gee.\\nFor my military knowledge, though I\\'m plucky and adventury,\\nHas only been brought down to the beginning of the century;\\nBut still, in matters vegetable, animal, and mineral,\\nI am the very model of a modern Major-General.'"
      ]
     },
     "execution_count": 15,
     "metadata": {},
     "output_type": "execute_result"
    }
   ],
   "source": [
    "mmg"
   ]
  },
  {
   "cell_type": "code",
   "execution_count": 48,
   "metadata": {},
   "outputs": [
    {
     "name": "stdout",
     "output_type": "stream",
     "text": [
      "['I', 'am', 'the', 'very', 'model', 'of', 'a', 'modern', 'MajorGeneral', \"I've\", 'information', 'vegetable', 'animal', 'and', 'mineral', 'I', 'know', 'the', 'kings', 'of', 'England', 'and', 'I', 'quote', 'the', 'fights', 'historical', 'From', 'Marathon', 'to', 'Waterloo', 'in', 'order', 'categorical', \"I'm\", 'very', 'well', 'acquainted', 'too', 'with', 'matters', 'mathematical', 'I', 'understand', 'equations', 'both', 'the', 'simple', 'and', 'quadratical', 'About', 'binomial', 'theorem', \"I'm\", 'teeming', 'with', 'a', 'lot', \"o'\", 'news', 'bothered', 'for', 'a', 'rhyme', 'With', 'many', 'cheerful', 'facts', 'about', 'the', 'square', 'of', 'the', 'hypotenuse', \"I'm\", 'very', 'good', 'at', 'integral', 'and', 'differential', 'calculus', 'I', 'know', 'the', 'scientific', 'names', 'of', 'beings', 'animalculous', 'In', 'short', 'in', 'matters', 'vegetable', 'animal', 'and', 'mineral', 'I', 'am', 'the', 'very', 'model', 'of', 'a', 'modern', 'MajorGeneral', 'I', 'know', 'our', 'mythic', 'history', 'King', \"Arthur's\", 'and', 'Sir', \"Caradoc's\", 'I', 'answer', 'hard', 'acrostics', \"I've\", 'a', 'pretty', 'taste', 'for', 'paradox', 'I', 'quote', 'in', 'elegiacs', 'all', 'the', 'crimes', 'of', 'Heliogabalus', 'In', 'conics', 'I', 'can', 'floor', 'peculiarities', 'parabolous', 'I', 'can', 'tell', 'undoubted', 'Raphaels', 'from', 'Gerard', 'Dows', 'and', 'Zoffanies', 'I', 'know', 'the', 'croaking', 'chorus', 'from', 'The', 'Frogs', 'of', 'Aristophanes', 'Then', 'I', 'can', 'hum', 'a', 'fugue', 'of', 'which', \"I've\", 'heard', 'the', \"music's\", 'din', 'afore', 'bothered', 'for', 'a', 'rhyme', 'And', 'whistle', 'all', 'the', 'airs', 'from', 'that', 'infernal', 'nonsense', 'Pinafore', 'Then', 'I', 'can', 'write', 'a', 'washing', 'bill', 'in', 'Babylonic', 'cuneiform', 'And', 'tell', 'you', \"ev'ry\", 'detail', 'of', \"Caractacus's\", 'uniform', 'In', 'short', 'in', 'matters', 'vegetable', 'animal', 'and', 'mineral', 'I', 'am', 'the', 'very', 'model', 'of', 'a', 'modern', 'MajorGeneral', 'In', 'fact', 'when', 'I', 'know', 'what', 'is', 'meant', 'by', 'mamelon', 'and', 'ravelin', 'When', 'I', 'can', 'tell', 'at', 'sight', 'a', 'Mauser', 'rifle', 'from', 'a', 'javelin', 'When', 'such', 'affairs', 'as', 'sorties', 'and', 'surprises', \"I'm\", 'more', 'wary', 'at', 'And', 'when', 'I', 'know', 'precisely', 'what', 'is', 'meant', 'by', 'commissariat', 'When', 'I', 'have', 'learnt', 'what', 'progress', 'has', 'been', 'made', 'in', 'modern', 'gunnery', 'When', 'I', 'know', 'more', 'of', 'tactics', 'than', 'a', 'novice', 'in', 'a', 'nunnery', 'In', 'short', 'when', \"I've\", 'a', 'smattering', 'of', 'elemental', 'strategy', 'bothered', 'for', 'a', 'rhyme', \"You'll\", 'say', 'a', 'better', 'MajorGeneral', 'has', 'never', 'sat', 'a', 'gee', 'For', 'my', 'military', 'knowledge', 'though', \"I'm\", 'plucky', 'and', 'adventury', 'Has', 'only', 'been', 'brought', 'down', 'to', 'the', 'beginning', 'of', 'the', 'century', 'But', 'still', 'in', 'matters', 'vegetable', 'animal', 'and', 'mineral', 'I', 'am', 'the', 'very', 'model', 'of', 'a', 'modern', 'MajorGeneral']\n",
      "------------------\n",
      "['Gödel', 'Escher', 'Bach', 'An', 'Eternal', 'Golden', 'Braid', 'also', 'known', 'as', 'GEB', 'is', 'a', '1979', 'book', 'by', 'Douglas', 'Hofstadter', 'The', 'tagline', 'a', 'metaphorical', 'fugue', 'on', 'minds', 'and', 'machines', 'in', 'the', 'spirit', 'of', 'Lewis', 'Carroll', 'was', 'used', 'by', 'the', 'publisher', 'to', 'describe', 'the', 'book', 'By', 'exploring', 'common', 'themes', 'in', 'the', 'lives', 'and', 'works', 'of', 'logician', 'Kurt', 'Gödel', 'artist', 'M', 'C', 'Escher', 'and', 'composer', 'Johann', 'Sebastian', 'Bach', 'GEB', 'expounds', 'concepts', 'fundamental', 'to', 'mathematics', 'symmetry', 'and', 'intelligence', 'Through', 'illustration', 'and', 'analysis', 'the', 'book', 'discusses', 'how', 'selfreference', 'and', 'formal', 'rules', 'allow', 'systems', 'to', 'acquire', 'meaning', 'despite', 'being', 'made', 'of', 'meaningless', 'elements', 'It', 'also', 'discusses', 'what', 'it', 'means', 'to', 'communicate', 'how', 'knowledge', 'can', 'be', 'represented', 'and', 'stored', 'the', 'methods', 'and', 'limitations', 'of', 'symbolic', 'representation', 'and', 'even', 'the', 'fundamental', 'notion', 'of', 'meaning', 'itself', 'In', 'response', 'to', 'confusion', 'over', 'the', \"book's\", 'theme', 'Hofstadter', 'has', 'emphasized', 'that', 'GEB', 'is', 'not', 'about', 'mathematics', 'art', 'and', 'music', 'but', 'rather', 'about', 'how', 'cognition', 'and', 'thinking', 'emerge', 'from', 'wellhidden', 'neurological', 'mechanisms', 'In', 'the', 'book', 'he', 'presents', 'an', 'analogy', 'about', 'how', 'the', 'individual', 'neurons', 'of', 'the', 'brain', 'coordinate', 'to', 'create', 'a', 'unified', 'sense', 'of', 'a', 'coherent', 'mind', 'by', 'comparing', 'it', 'to', 'the', 'social', 'organization', 'displayed', 'in', 'a', 'colony', 'of', 'ants']\n"
     ]
    }
   ],
   "source": [
    "# Clean mmg and geb\n",
    "mmg_clean = re.sub(\"[^\\w\\d'\\s]\" ,'',mmg).split()\n",
    "geb_clean = re.sub(\"[^\\w\\d'\\s]\" ,\"\",geb).split()\n",
    "\n",
    "print(mmg_clean)\n",
    "print(\"------------------\")\n",
    "print(geb_clean)"
   ]
  },
  {
   "cell_type": "code",
   "execution_count": 51,
   "metadata": {},
   "outputs": [
    {
     "name": "stdout",
     "output_type": "stream",
     "text": [
      "defaultdict(<class 'int'>, {'I': 1, 'am': 2, 'the': 3, 'very': 4, 'model': 5, 'of': 2, 'a': 1, 'modern': 6, 'MajorGeneral': 12, \"I've\": 4, 'information': 11, 'vegetable': 9, 'animal': 6, 'and': 3, 'mineral': 7, 'know': 4, 'kings': 5, 'England': 7, 'quote': 5, 'fights': 6, 'historical': 10, 'From': 4, 'Marathon': 8, 'to': 2, 'Waterloo': 8, 'in': 2, 'order': 5, 'categorical': 11, \"I'm\": 3, 'well': 4, 'acquainted': 10, 'too': 3, 'with': 4, 'matters': 7, 'mathematical': 12, 'understand': 10, 'equations': 9, 'both': 4, 'simple': 6, 'quadratical': 11, 'About': 5, 'binomial': 8, 'theorem': 7, 'teeming': 7, 'lot': 3, \"o'\": 2, 'news': 4, 'bothered': 8, 'for': 3, 'rhyme': 5, 'With': 4, 'many': 4, 'cheerful': 8, 'facts': 5, 'about': 5, 'square': 6, 'hypotenuse': 10, 'good': 4, 'at': 2, 'integral': 8, 'differential': 12, 'calculus': 8, 'scientific': 10, 'names': 5, 'beings': 6, 'animalculous': 12, 'In': 2, 'short': 5, 'our': 3, 'mythic': 6, 'history': 7, 'King': 4, \"Arthur's\": 8, 'Sir': 3, \"Caradoc's\": 9, 'answer': 6, 'hard': 4, 'acrostics': 9, 'pretty': 6, 'taste': 5, 'paradox': 7, 'elegiacs': 8, 'all': 3, 'crimes': 6, 'Heliogabalus': 12, 'conics': 6, 'can': 3, 'floor': 5, 'peculiarities': 13, 'parabolous': 10, 'tell': 4, 'undoubted': 9, 'Raphaels': 8, 'from': 4, 'Gerard': 6, 'Dows': 4, 'Zoffanies': 9, 'croaking': 8, 'chorus': 6, 'The': 3, 'Frogs': 5, 'Aristophanes': 12, 'Then': 4, 'hum': 3, 'fugue': 5, 'which': 5, 'heard': 5, \"music's\": 7, 'din': 3, 'afore': 5, 'And': 3, 'whistle': 7, 'airs': 4, 'that': 4, 'infernal': 8, 'nonsense': 8, 'Pinafore': 8, 'write': 5, 'washing': 7, 'bill': 4, 'Babylonic': 9, 'cuneiform': 9, 'you': 3, \"ev'ry\": 5, 'detail': 6, \"Caractacus's\": 12, 'uniform': 7, 'fact': 4, 'when': 4, 'what': 4, 'is': 2, 'meant': 5, 'by': 2, 'mamelon': 7, 'ravelin': 7, 'When': 4, 'sight': 5, 'Mauser': 6, 'rifle': 5, 'javelin': 7, 'such': 4, 'affairs': 7, 'as': 2, 'sorties': 7, 'surprises': 9, 'more': 4, 'wary': 4, 'precisely': 9, 'commissariat': 12, 'have': 4, 'learnt': 6, 'progress': 8, 'has': 3, 'been': 4, 'made': 4, 'gunnery': 7, 'tactics': 7, 'than': 4, 'novice': 6, 'nunnery': 7, 'smattering': 10, 'elemental': 9, 'strategy': 8, \"You'll\": 6, 'say': 3, 'better': 6, 'never': 5, 'sat': 3, 'gee': 3, 'For': 3, 'my': 2, 'military': 8, 'knowledge': 9, 'though': 6, 'plucky': 6, 'adventury': 9, 'Has': 3, 'only': 4, 'brought': 7, 'down': 4, 'beginning': 9, 'century': 7, 'But': 3, 'still': 5}) \n",
      "\n",
      "-----------\n",
      "defaultdict(<class 'int'>, {'Gödel': 5, 'Escher': 6, 'Bach': 4, 'An': 2, 'Eternal': 7, 'Golden': 6, 'Braid': 5, 'also': 4, 'known': 5, 'as': 2, 'GEB': 3, 'is': 2, 'a': 1, '1979': 4, 'book': 4, 'by': 2, 'Douglas': 7, 'Hofstadter': 10, 'The': 3, 'tagline': 7, 'metaphorical': 12, 'fugue': 5, 'on': 2, 'minds': 5, 'and': 3, 'machines': 8, 'in': 2, 'the': 3, 'spirit': 6, 'of': 2, 'Lewis': 5, 'Carroll': 7, 'was': 3, 'used': 4, 'publisher': 9, 'to': 2, 'describe': 8, 'By': 2, 'exploring': 9, 'common': 6, 'themes': 6, 'lives': 5, 'works': 5, 'logician': 8, 'Kurt': 4, 'artist': 6, 'M': 1, 'C': 1, 'composer': 8, 'Johann': 6, 'Sebastian': 9, 'expounds': 8, 'concepts': 8, 'fundamental': 11, 'mathematics': 11, 'symmetry': 8, 'intelligence': 12, 'Through': 7, 'illustration': 12, 'analysis': 8, 'discusses': 9, 'how': 3, 'selfreference': 13, 'formal': 6, 'rules': 5, 'allow': 5, 'systems': 7, 'acquire': 7, 'meaning': 7, 'despite': 7, 'being': 5, 'made': 4, 'meaningless': 11, 'elements': 8, 'It': 2, 'what': 4, 'it': 2, 'means': 5, 'communicate': 11, 'knowledge': 9, 'can': 3, 'be': 2, 'represented': 11, 'stored': 6, 'methods': 7, 'limitations': 11, 'symbolic': 8, 'representation': 14, 'even': 4, 'notion': 6, 'itself': 6, 'In': 2, 'response': 8, 'confusion': 9, 'over': 4, \"book's\": 6, 'theme': 5, 'has': 3, 'emphasized': 10, 'that': 4, 'not': 3, 'about': 5, 'art': 3, 'music': 5, 'but': 3, 'rather': 6, 'cognition': 9, 'thinking': 8, 'emerge': 6, 'from': 4, 'wellhidden': 10, 'neurological': 12, 'mechanisms': 10, 'he': 2, 'presents': 8, 'an': 2, 'analogy': 7, 'individual': 10, 'neurons': 7, 'brain': 5, 'coordinate': 10, 'create': 6, 'unified': 7, 'sense': 5, 'coherent': 8, 'mind': 4, 'comparing': 9, 'social': 6, 'organization': 12, 'displayed': 9, 'colony': 6, 'ants': 4})\n"
     ]
    }
   ],
   "source": [
    "# Defining Dictionaries\n",
    "\n",
    "d_mmg = defaultdict(int)\n",
    "d_geb = defaultdict(int)\n",
    "\n",
    "for char in mmg_clean:\n",
    "    d_mmg[char] = len(char)\n",
    "    \n",
    "for char in geb_clean:\n",
    "    d_geb[char] = len(char)\n",
    "    \n",
    "print(d_mmg,'\\n')\n",
    "print('-----------')\n",
    "print(d_geb)"
   ]
  },
  {
   "cell_type": "code",
   "execution_count": 52,
   "metadata": {},
   "outputs": [
    {
     "data": {
      "text/plain": [
       "[('peculiarities', 13),\n",
       " ('MajorGeneral', 12),\n",
       " ('mathematical', 12),\n",
       " ('differential', 12),\n",
       " ('animalculous', 12),\n",
       " ('Heliogabalus', 12),\n",
       " ('Aristophanes', 12),\n",
       " (\"Caractacus's\", 12),\n",
       " ('commissariat', 12),\n",
       " ('information', 11),\n",
       " ('categorical', 11),\n",
       " ('quadratical', 11),\n",
       " ('historical', 10),\n",
       " ('acquainted', 10),\n",
       " ('understand', 10),\n",
       " ('hypotenuse', 10),\n",
       " ('scientific', 10),\n",
       " ('parabolous', 10),\n",
       " ('smattering', 10),\n",
       " ('vegetable', 9),\n",
       " ('equations', 9),\n",
       " (\"Caradoc's\", 9),\n",
       " ('acrostics', 9),\n",
       " ('undoubted', 9),\n",
       " ('Zoffanies', 9),\n",
       " ('Babylonic', 9),\n",
       " ('cuneiform', 9),\n",
       " ('surprises', 9),\n",
       " ('precisely', 9),\n",
       " ('elemental', 9),\n",
       " ('knowledge', 9),\n",
       " ('adventury', 9),\n",
       " ('beginning', 9),\n",
       " ('Marathon', 8),\n",
       " ('Waterloo', 8),\n",
       " ('binomial', 8),\n",
       " ('bothered', 8),\n",
       " ('cheerful', 8),\n",
       " ('integral', 8),\n",
       " ('calculus', 8),\n",
       " (\"Arthur's\", 8),\n",
       " ('elegiacs', 8),\n",
       " ('Raphaels', 8),\n",
       " ('croaking', 8),\n",
       " ('infernal', 8),\n",
       " ('nonsense', 8),\n",
       " ('Pinafore', 8),\n",
       " ('progress', 8),\n",
       " ('strategy', 8),\n",
       " ('military', 8),\n",
       " ('mineral', 7),\n",
       " ('England', 7),\n",
       " ('matters', 7),\n",
       " ('theorem', 7),\n",
       " ('teeming', 7),\n",
       " ('history', 7),\n",
       " ('paradox', 7),\n",
       " (\"music's\", 7),\n",
       " ('whistle', 7),\n",
       " ('washing', 7),\n",
       " ('uniform', 7),\n",
       " ('mamelon', 7),\n",
       " ('ravelin', 7),\n",
       " ('javelin', 7),\n",
       " ('affairs', 7),\n",
       " ('sorties', 7),\n",
       " ('gunnery', 7),\n",
       " ('tactics', 7),\n",
       " ('nunnery', 7),\n",
       " ('brought', 7),\n",
       " ('century', 7),\n",
       " ('modern', 6),\n",
       " ('animal', 6),\n",
       " ('fights', 6),\n",
       " ('simple', 6),\n",
       " ('square', 6),\n",
       " ('beings', 6),\n",
       " ('mythic', 6),\n",
       " ('answer', 6),\n",
       " ('pretty', 6),\n",
       " ('crimes', 6),\n",
       " ('conics', 6),\n",
       " ('Gerard', 6),\n",
       " ('chorus', 6),\n",
       " ('detail', 6),\n",
       " ('Mauser', 6),\n",
       " ('learnt', 6),\n",
       " ('novice', 6),\n",
       " (\"You'll\", 6),\n",
       " ('better', 6),\n",
       " ('though', 6),\n",
       " ('plucky', 6),\n",
       " ('model', 5),\n",
       " ('kings', 5),\n",
       " ('quote', 5),\n",
       " ('order', 5),\n",
       " ('About', 5),\n",
       " ('rhyme', 5),\n",
       " ('facts', 5),\n",
       " ('about', 5),\n",
       " ('names', 5),\n",
       " ('short', 5),\n",
       " ('taste', 5),\n",
       " ('floor', 5),\n",
       " ('Frogs', 5),\n",
       " ('fugue', 5),\n",
       " ('which', 5),\n",
       " ('heard', 5),\n",
       " ('afore', 5),\n",
       " ('write', 5),\n",
       " (\"ev'ry\", 5),\n",
       " ('meant', 5),\n",
       " ('sight', 5),\n",
       " ('rifle', 5),\n",
       " ('never', 5),\n",
       " ('still', 5),\n",
       " ('very', 4),\n",
       " (\"I've\", 4),\n",
       " ('know', 4),\n",
       " ('From', 4),\n",
       " ('well', 4),\n",
       " ('with', 4),\n",
       " ('both', 4),\n",
       " ('news', 4),\n",
       " ('With', 4),\n",
       " ('many', 4),\n",
       " ('good', 4),\n",
       " ('King', 4),\n",
       " ('hard', 4),\n",
       " ('tell', 4),\n",
       " ('from', 4),\n",
       " ('Dows', 4),\n",
       " ('Then', 4),\n",
       " ('airs', 4),\n",
       " ('that', 4),\n",
       " ('bill', 4),\n",
       " ('fact', 4),\n",
       " ('when', 4),\n",
       " ('what', 4),\n",
       " ('When', 4),\n",
       " ('such', 4),\n",
       " ('more', 4),\n",
       " ('wary', 4),\n",
       " ('have', 4),\n",
       " ('been', 4),\n",
       " ('made', 4),\n",
       " ('than', 4),\n",
       " ('only', 4),\n",
       " ('down', 4),\n",
       " ('the', 3),\n",
       " ('and', 3),\n",
       " (\"I'm\", 3),\n",
       " ('too', 3),\n",
       " ('lot', 3),\n",
       " ('for', 3),\n",
       " ('our', 3),\n",
       " ('Sir', 3),\n",
       " ('all', 3),\n",
       " ('can', 3),\n",
       " ('The', 3),\n",
       " ('hum', 3),\n",
       " ('din', 3),\n",
       " ('And', 3),\n",
       " ('you', 3),\n",
       " ('has', 3),\n",
       " ('say', 3),\n",
       " ('sat', 3),\n",
       " ('gee', 3),\n",
       " ('For', 3),\n",
       " ('Has', 3),\n",
       " ('But', 3),\n",
       " ('am', 2),\n",
       " ('of', 2),\n",
       " ('to', 2),\n",
       " ('in', 2),\n",
       " (\"o'\", 2),\n",
       " ('at', 2),\n",
       " ('In', 2),\n",
       " ('is', 2),\n",
       " ('by', 2),\n",
       " ('as', 2),\n",
       " ('my', 2),\n",
       " ('I', 1),\n",
       " ('a', 1)]"
      ]
     },
     "execution_count": 52,
     "metadata": {},
     "output_type": "execute_result"
    }
   ],
   "source": [
    "sorted_mmg = sorted(d_mmg.items(), key=lambda kv: kv[1],reverse=True)\n",
    "sorted_mmg"
   ]
  },
  {
   "cell_type": "code",
   "execution_count": 53,
   "metadata": {},
   "outputs": [
    {
     "data": {
      "text/plain": [
       "[('representation', 14),\n",
       " ('selfreference', 13),\n",
       " ('metaphorical', 12),\n",
       " ('intelligence', 12),\n",
       " ('illustration', 12),\n",
       " ('neurological', 12),\n",
       " ('organization', 12),\n",
       " ('fundamental', 11),\n",
       " ('mathematics', 11),\n",
       " ('meaningless', 11),\n",
       " ('communicate', 11),\n",
       " ('represented', 11),\n",
       " ('limitations', 11),\n",
       " ('Hofstadter', 10),\n",
       " ('emphasized', 10),\n",
       " ('wellhidden', 10),\n",
       " ('mechanisms', 10),\n",
       " ('individual', 10),\n",
       " ('coordinate', 10),\n",
       " ('publisher', 9),\n",
       " ('exploring', 9),\n",
       " ('Sebastian', 9),\n",
       " ('discusses', 9),\n",
       " ('knowledge', 9),\n",
       " ('confusion', 9),\n",
       " ('cognition', 9),\n",
       " ('comparing', 9),\n",
       " ('displayed', 9),\n",
       " ('machines', 8),\n",
       " ('describe', 8),\n",
       " ('logician', 8),\n",
       " ('composer', 8),\n",
       " ('expounds', 8),\n",
       " ('concepts', 8),\n",
       " ('symmetry', 8),\n",
       " ('analysis', 8),\n",
       " ('elements', 8),\n",
       " ('symbolic', 8),\n",
       " ('response', 8),\n",
       " ('thinking', 8),\n",
       " ('presents', 8),\n",
       " ('coherent', 8),\n",
       " ('Eternal', 7),\n",
       " ('Douglas', 7),\n",
       " ('tagline', 7),\n",
       " ('Carroll', 7),\n",
       " ('Through', 7),\n",
       " ('systems', 7),\n",
       " ('acquire', 7),\n",
       " ('meaning', 7),\n",
       " ('despite', 7),\n",
       " ('methods', 7),\n",
       " ('analogy', 7),\n",
       " ('neurons', 7),\n",
       " ('unified', 7),\n",
       " ('Escher', 6),\n",
       " ('Golden', 6),\n",
       " ('spirit', 6),\n",
       " ('common', 6),\n",
       " ('themes', 6),\n",
       " ('artist', 6),\n",
       " ('Johann', 6),\n",
       " ('formal', 6),\n",
       " ('stored', 6),\n",
       " ('notion', 6),\n",
       " ('itself', 6),\n",
       " (\"book's\", 6),\n",
       " ('rather', 6),\n",
       " ('emerge', 6),\n",
       " ('create', 6),\n",
       " ('social', 6),\n",
       " ('colony', 6),\n",
       " ('Gödel', 5),\n",
       " ('Braid', 5),\n",
       " ('known', 5),\n",
       " ('fugue', 5),\n",
       " ('minds', 5),\n",
       " ('Lewis', 5),\n",
       " ('lives', 5),\n",
       " ('works', 5),\n",
       " ('rules', 5),\n",
       " ('allow', 5),\n",
       " ('being', 5),\n",
       " ('means', 5),\n",
       " ('theme', 5),\n",
       " ('about', 5),\n",
       " ('music', 5),\n",
       " ('brain', 5),\n",
       " ('sense', 5),\n",
       " ('Bach', 4),\n",
       " ('also', 4),\n",
       " ('1979', 4),\n",
       " ('book', 4),\n",
       " ('used', 4),\n",
       " ('Kurt', 4),\n",
       " ('made', 4),\n",
       " ('what', 4),\n",
       " ('even', 4),\n",
       " ('over', 4),\n",
       " ('that', 4),\n",
       " ('from', 4),\n",
       " ('mind', 4),\n",
       " ('ants', 4),\n",
       " ('GEB', 3),\n",
       " ('The', 3),\n",
       " ('and', 3),\n",
       " ('the', 3),\n",
       " ('was', 3),\n",
       " ('how', 3),\n",
       " ('can', 3),\n",
       " ('has', 3),\n",
       " ('not', 3),\n",
       " ('art', 3),\n",
       " ('but', 3),\n",
       " ('An', 2),\n",
       " ('as', 2),\n",
       " ('is', 2),\n",
       " ('by', 2),\n",
       " ('on', 2),\n",
       " ('in', 2),\n",
       " ('of', 2),\n",
       " ('to', 2),\n",
       " ('By', 2),\n",
       " ('It', 2),\n",
       " ('it', 2),\n",
       " ('be', 2),\n",
       " ('In', 2),\n",
       " ('he', 2),\n",
       " ('an', 2),\n",
       " ('a', 1),\n",
       " ('M', 1),\n",
       " ('C', 1)]"
      ]
     },
     "execution_count": 53,
     "metadata": {},
     "output_type": "execute_result"
    }
   ],
   "source": [
    "sorted_geb = sorted(d_geb.items(), key=lambda kv: kv[1],reverse=True)\n",
    "sorted_geb"
   ]
  },
  {
   "cell_type": "code",
   "execution_count": 59,
   "metadata": {},
   "outputs": [],
   "source": [
    "# Defining the common words in both phrases mmg and geb\n",
    "common_dict = defaultdict(int)\n",
    "\n",
    "for key in d_mmg.keys():\n",
    "    if key in d_geb.keys():\n",
    "        common_dict[key] = d_mmg[key]"
   ]
  },
  {
   "cell_type": "code",
   "execution_count": 60,
   "metadata": {},
   "outputs": [
    {
     "data": {
      "text/plain": [
       "defaultdict(int,\n",
       "            {'the': 3,\n",
       "             'of': 2,\n",
       "             'a': 1,\n",
       "             'and': 3,\n",
       "             'to': 2,\n",
       "             'in': 2,\n",
       "             'about': 5,\n",
       "             'In': 2,\n",
       "             'can': 3,\n",
       "             'from': 4,\n",
       "             'The': 3,\n",
       "             'fugue': 5,\n",
       "             'that': 4,\n",
       "             'what': 4,\n",
       "             'is': 2,\n",
       "             'by': 2,\n",
       "             'as': 2,\n",
       "             'has': 3,\n",
       "             'made': 4,\n",
       "             'knowledge': 9})"
      ]
     },
     "execution_count": 60,
     "metadata": {},
     "output_type": "execute_result"
    }
   ],
   "source": [
    "common_dict"
   ]
  },
  {
   "cell_type": "code",
   "execution_count": 65,
   "metadata": {},
   "outputs": [
    {
     "name": "stdout",
     "output_type": "stream",
     "text": [
      "the 3\n",
      "of 2\n",
      "a 1\n",
      "and 3\n",
      "to 2\n",
      "in 2\n",
      "about 5\n",
      "In 2\n",
      "can 3\n",
      "from 4\n",
      "The 3\n",
      "fugue 5\n",
      "that 4\n",
      "what 4\n",
      "is 2\n",
      "by 2\n",
      "as 2\n",
      "has 3\n",
      "made 4\n",
      "knowledge 9\n"
     ]
    }
   ],
   "source": [
    "for key, value in common_dict.items():\n",
    "    print(key, value)"
   ]
  },
  {
   "cell_type": "code",
   "execution_count": 66,
   "metadata": {},
   "outputs": [],
   "source": []
  },
  {
   "cell_type": "code",
   "execution_count": 69,
   "metadata": {},
   "outputs": [],
   "source": [
    "# Creating the 3-word phrase using words of len(mmg/geb) >= 5\n",
    "common_dict_more_length_words_more_than_5 = defaultdict(int)\n",
    "\n",
    "for key, value in common_dict.items():\n",
    "    if (value >= 5):\n",
    "        common_dict_more_length_words_more_than_5[key] = value"
   ]
  },
  {
   "cell_type": "code",
   "execution_count": 70,
   "metadata": {},
   "outputs": [
    {
     "data": {
      "text/plain": [
       "defaultdict(int, {'about': 5, 'fugue': 5, 'knowledge': 9})"
      ]
     },
     "execution_count": 70,
     "metadata": {},
     "output_type": "execute_result"
    }
   ],
   "source": [
    "common_dict_more_length_words_more_than_5"
   ]
  },
  {
   "cell_type": "code",
   "execution_count": 71,
   "metadata": {},
   "outputs": [
    {
     "data": {
      "text/plain": [
       "['about', 'fugue', 'knowledge']"
      ]
     },
     "execution_count": 71,
     "metadata": {},
     "output_type": "execute_result"
    }
   ],
   "source": [
    "three_word_phrase = [char for char in common_dict_more_length_words_more_than_5.keys()]\n",
    "three_word_phrase"
   ]
  },
  {
   "cell_type": "code",
   "execution_count": 72,
   "metadata": {},
   "outputs": [
    {
     "data": {
      "text/plain": [
       "['about', 'fugue', 'knowledge']"
      ]
     },
     "execution_count": 72,
     "metadata": {},
     "output_type": "execute_result"
    }
   ],
   "source": [
    "# One solution (My solution):\n",
    "\n",
    "from collections import defaultdict\n",
    "from collections import deque\n",
    "import string\n",
    "import re\n",
    "\n",
    "\n",
    "# Clean mmg and geb\n",
    "mmg_clean = re.sub(\"[^\\w\\d'\\s]\" ,'',mmg).split()\n",
    "geb_clean = re.sub(\"[^\\w\\d'\\s]\" ,\"\",geb).split()\n",
    "\n",
    "\n",
    "# Defining Dictionaries\n",
    "d_mmg = defaultdict(int)\n",
    "d_geb = defaultdict(int)\n",
    "\n",
    "for char in mmg_clean:\n",
    "    d_mmg[char] = len(char)\n",
    "for char in geb_clean:\n",
    "    d_geb[char] = len(char)\n",
    "    \n",
    "    \n",
    "# Defining a common dictionary\n",
    "common_dict = defaultdict(int)\n",
    "\n",
    "for key in d_mmg.keys():\n",
    "    if key in d_geb.keys():\n",
    "        common_dict[key] = d_mmg[key]\n",
    "\n",
    "        \n",
    "# Creating the 3-word phrase using words of len(mmg/geb) >= 5\n",
    "common_dict_more_length_words_more_than_5 = defaultdict(int)\n",
    "\n",
    "for key, value in common_dict.items():\n",
    "    if (value >= 5):\n",
    "        common_dict_more_length_words_more_than_5[key] = value\n",
    "\n",
    "three_word_phrase = [char for char in common_dict_more_length_words_more_than_5.keys()]\n",
    "three_word_phrase"
   ]
  },
  {
   "cell_type": "code",
   "execution_count": null,
   "metadata": {},
   "outputs": [],
   "source": []
  },
  {
   "cell_type": "code",
   "execution_count": 73,
   "metadata": {},
   "outputs": [],
   "source": [
    "from collections import defaultdict\n",
    "import re\n",
    "from collections import Counter\n",
    "\n",
    "def tokenize(text):\n",
    "    text = text.lower()\n",
    "    text = re.sub(\"[^a-z \\n]\", \"\", text)     \n",
    "    # ^ not in\n",
    "    # explanation: want everything not in a-z, and also remove everything with a \\n\n",
    "\n",
    "    d = defaultdict(int)\n",
    "    for w in text.split():\n",
    "        if len(w)>=5:\n",
    "            d[w]+=1\n",
    "    return [k for k,v in d.items()]"
   ]
  },
  {
   "cell_type": "markdown",
   "metadata": {},
   "source": [
    "Then it is just a matter of looking through the lists for common words."
   ]
  },
  {
   "cell_type": "code",
   "execution_count": null,
   "metadata": {},
   "outputs": [],
   "source": [
    "list1 = tokenize(mmg)  # Tokenize = removing all the punctuations, symbols and only getting the words/characters back\n",
    "list2 = tokenize(geb)\n",
    "common = []\n",
    "\n",
    "for w in list1:\n",
    "    if w in list2:\n",
    "        common.append(w)\n",
    "\n",
    "print(common)"
   ]
  },
  {
   "cell_type": "markdown",
   "metadata": {},
   "source": [
    "Instead of using a dictionary, we can use an in-built python function called set."
   ]
  },
  {
   "cell_type": "code",
   "execution_count": null,
   "metadata": {},
   "outputs": [],
   "source": [
    "def tokenize(text):\n",
    "    text = text.lower()\n",
    "    text = re.sub(\"[^a-z \\n]\", \"\", text)\n",
    "    return set([w for w in text.split() if len(w)>=5])"
   ]
  },
  {
   "cell_type": "markdown",
   "metadata": {},
   "source": [
    "Set also comes with a nifty intersection command"
   ]
  },
  {
   "cell_type": "code",
   "execution_count": null,
   "metadata": {},
   "outputs": [],
   "source": [
    "print(list(tokenize(mmg) & tokenize(geb)))"
   ]
  }
 ],
 "metadata": {
  "kernelspec": {
   "display_name": "Python [conda env:metis] *",
   "language": "python",
   "name": "conda-env-metis-py"
  },
  "language_info": {
   "codemirror_mode": {
    "name": "ipython",
    "version": 3
   },
   "file_extension": ".py",
   "mimetype": "text/x-python",
   "name": "python",
   "nbconvert_exporter": "python",
   "pygments_lexer": "ipython3",
   "version": "3.7.3"
  }
 },
 "nbformat": 4,
 "nbformat_minor": 1
}
