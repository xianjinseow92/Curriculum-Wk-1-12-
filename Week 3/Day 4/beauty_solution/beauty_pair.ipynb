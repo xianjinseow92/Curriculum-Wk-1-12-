{
 "cells": [
  {
   "cell_type": "markdown",
   "metadata": {},
   "source": [
    "To get the maximum score, we need to assign 26 to the most frequent letter, 25 to the next, etc. So what we want is the frequency count per letter. Then we can sort and assign values.\n",
    "\n",
    "First we clean the text: convert to lower case and remove everything but alphabets.\n",
    "\n",
    "Then we put the characters into a dictonary, to do the counts. We retrive the values into a list and sort it."
   ]
  },
  {
   "cell_type": "code",
   "execution_count": 1,
   "metadata": {},
   "outputs": [],
   "source": [
    "# Python 2 & 3 Compatibility\n",
    "from __future__ import print_function, division\n",
    "\n",
    "from collections import defaultdict\n",
    "import re\n",
    "\n",
    "def getScore(text):\n",
    "    text = text.lower()\n",
    "    text = re.sub(\"[^a-z]\", \"\", text)\n",
    "    d = defaultdict(int)\n",
    "    for c in text:\n",
    "        d[c]+=1\n",
    "    counts = sorted([v for k,v in d.items()],reverse=True)\n",
    "    print(counts)\n",
    "    return sum([(26-i)*counts[i] for i in range(len(counts))])"
   ]
  },
  {
   "cell_type": "code",
   "execution_count": 2,
   "metadata": {},
   "outputs": [
    {
     "name": "stdout",
     "output_type": "stream",
     "text": [
      "[4, 4, 4, 3, 3, 3, 2, 2, 2, 2, 1, 1, 1, 1, 1, 1, 1, 1, 1]\n",
      "754\n",
      "[3, 3, 2, 2, 2, 2, 2, 2, 1, 1, 1, 1, 1]\n",
      "491\n"
     ]
    }
   ],
   "source": [
    "print(getScore('Good luck in the Facebook Hacker Cup this year!'))\n",
    "print(getScore('Ignore punctuation, please :)'))"
   ]
  },
  {
   "cell_type": "markdown",
   "metadata": {},
   "source": [
    "Instead of dealing with indices and doing (26-i), which isn't that clear, we could built a score list going backwards from 26 to 1 and zip it with the sorted frequency list. Makes for a more readable code."
   ]
  },
  {
   "cell_type": "code",
   "execution_count": 31,
   "metadata": {},
   "outputs": [],
   "source": [
    "def getScore(text):\n",
    "    text = text.lower()\n",
    "    text = re.sub(\"[^a-z]\", \"\", text)\n",
    "    d = defaultdict(int)\n",
    "    for c in text:\n",
    "        d[c]+=1\n",
    "    counts = sorted([v for k,v in d.items()],reverse=True)\n",
    "    scores = range(26,0,-1)\n",
    "    for i in zip(counts, scores):\n",
    "        print(i)\n",
    "#     print(scores)\n",
    "    return sum([i*j for i,j in zip(counts,scores)])"
   ]
  },
  {
   "cell_type": "code",
   "execution_count": 32,
   "metadata": {},
   "outputs": [
    {
     "name": "stdout",
     "output_type": "stream",
     "text": [
      "(4, 26)\n",
      "(4, 25)\n",
      "(4, 24)\n",
      "(3, 23)\n",
      "(3, 22)\n",
      "(3, 21)\n",
      "(2, 20)\n",
      "(2, 19)\n",
      "(2, 18)\n",
      "(2, 17)\n",
      "(1, 16)\n",
      "(1, 15)\n",
      "(1, 14)\n",
      "(1, 13)\n",
      "(1, 12)\n",
      "(1, 11)\n",
      "(1, 10)\n",
      "(1, 9)\n",
      "(1, 8)\n",
      "754\n",
      "(3, 26)\n",
      "(3, 25)\n",
      "(2, 24)\n",
      "(2, 23)\n",
      "(2, 22)\n",
      "(2, 21)\n",
      "(2, 20)\n",
      "(2, 19)\n",
      "(1, 18)\n",
      "(1, 17)\n",
      "(1, 16)\n",
      "(1, 15)\n",
      "(1, 14)\n",
      "491\n"
     ]
    }
   ],
   "source": [
    "print(getScore('Good luck in the Facebook Hacker Cup this year!'))\n",
    "print(getScore('Ignore punctuation, please :)'))"
   ]
  },
  {
   "cell_type": "markdown",
   "metadata": {},
   "source": [
    "Python also has a nifty Counter that would do the dictionary building for us. And it comes with a most_common() function that will gives is the sorted frequency list that we want."
   ]
  },
  {
   "cell_type": "code",
   "execution_count": 34,
   "metadata": {},
   "outputs": [],
   "source": [
    "from collections import Counter\n",
    "\n",
    "def getScore(text):\n",
    "    text = text.lower()\n",
    "    text = re.sub(\"[^a-z]\", \"\", text)\n",
    "    counts = Counter(text).most_common()\n",
    "    print(counts)\n",
    "    return sum([(26-i)*counts[i][1] for i in range(len(counts))])"
   ]
  },
  {
   "cell_type": "code",
   "execution_count": 35,
   "metadata": {},
   "outputs": [
    {
     "name": "stdout",
     "output_type": "stream",
     "text": [
      "[('c', 4), ('e', 4), ('o', 4), ('a', 3), ('h', 3), ('k', 3), ('i', 2), ('r', 2), ('u', 2), ('t', 2), ('b', 1), ('d', 1), ('g', 1), ('f', 1), ('l', 1), ('n', 1), ('p', 1), ('s', 1), ('y', 1)]\n",
      "754\n",
      "[('e', 3), ('n', 3), ('a', 2), ('i', 2), ('o', 2), ('p', 2), ('u', 2), ('t', 2), ('c', 1), ('g', 1), ('l', 1), ('s', 1), ('r', 1)]\n",
      "491\n"
     ]
    }
   ],
   "source": [
    "print(getScore('Good luck in the Facebook Hacker Cup this year!'))\n",
    "print(getScore('Ignore punctuation, please :)'))"
   ]
  },
  {
   "cell_type": "code",
   "execution_count": null,
   "metadata": {},
   "outputs": [],
   "source": []
  },
  {
   "cell_type": "code",
   "execution_count": null,
   "metadata": {},
   "outputs": [],
   "source": []
  },
  {
   "cell_type": "code",
   "execution_count": null,
   "metadata": {},
   "outputs": [],
   "source": []
  },
  {
   "cell_type": "code",
   "execution_count": null,
   "metadata": {},
   "outputs": [],
   "source": []
  },
  {
   "cell_type": "code",
   "execution_count": null,
   "metadata": {},
   "outputs": [],
   "source": []
  },
  {
   "cell_type": "code",
   "execution_count": null,
   "metadata": {},
   "outputs": [],
   "source": []
  },
  {
   "cell_type": "code",
   "execution_count": null,
   "metadata": {},
   "outputs": [],
   "source": []
  },
  {
   "cell_type": "code",
   "execution_count": null,
   "metadata": {},
   "outputs": [],
   "source": []
  },
  {
   "cell_type": "code",
   "execution_count": null,
   "metadata": {},
   "outputs": [],
   "source": []
  },
  {
   "cell_type": "code",
   "execution_count": null,
   "metadata": {},
   "outputs": [],
   "source": []
  },
  {
   "cell_type": "code",
   "execution_count": null,
   "metadata": {},
   "outputs": [],
   "source": []
  },
  {
   "cell_type": "code",
   "execution_count": 8,
   "metadata": {},
   "outputs": [],
   "source": [
    "import networkx as nx\n",
    "G = nx.Graph()"
   ]
  },
  {
   "cell_type": "code",
   "execution_count": 14,
   "metadata": {},
   "outputs": [],
   "source": [
    "from networkx.algorithms.community.kclique import k_clique_communities"
   ]
  },
  {
   "cell_type": "code",
   "execution_count": 10,
   "metadata": {},
   "outputs": [],
   "source": [
    "G.add_nodes_from([1,2,3,4,5])"
   ]
  },
  {
   "cell_type": "code",
   "execution_count": 11,
   "metadata": {},
   "outputs": [],
   "source": [
    "G.add_edges_from([(1, 2), (1, 3), (1,4), (1,5), (2,3), (2,4), (2,5)])"
   ]
  },
  {
   "cell_type": "code",
   "execution_count": 12,
   "metadata": {},
   "outputs": [
    {
     "data": {
      "text/plain": [
       "7"
      ]
     },
     "execution_count": 12,
     "metadata": {},
     "output_type": "execute_result"
    }
   ],
   "source": [
    "G.number_of_edges()"
   ]
  },
  {
   "cell_type": "code",
   "execution_count": 16,
   "metadata": {},
   "outputs": [
    {
     "name": "stdout",
     "output_type": "stream",
     "text": [
      "2\n",
      "frozenset([1, 2, 3, 4, 5])\n",
      "3\n",
      "frozenset([1, 2, 3, 4, 5])\n"
     ]
    }
   ],
   "source": [
    "for j in range(2, 5):\n",
    "    for i in k_clique_communities(G, j):\n",
    "        print(j)\n",
    "        print(i)"
   ]
  },
  {
   "cell_type": "code",
   "execution_count": null,
   "metadata": {},
   "outputs": [],
   "source": [
    "[3, 2, 2]\n",
    "[2, 3, 2]\n",
    "[2, 2, 3]\n"
   ]
  }
 ],
 "metadata": {
  "kernelspec": {
   "display_name": "Python [conda env:metis] *",
   "language": "python",
   "name": "conda-env-metis-py"
  },
  "language_info": {
   "codemirror_mode": {
    "name": "ipython",
    "version": 3
   },
   "file_extension": ".py",
   "mimetype": "text/x-python",
   "name": "python",
   "nbconvert_exporter": "python",
   "pygments_lexer": "ipython3",
   "version": "3.7.3"
  }
 },
 "nbformat": 4,
 "nbformat_minor": 1
}
