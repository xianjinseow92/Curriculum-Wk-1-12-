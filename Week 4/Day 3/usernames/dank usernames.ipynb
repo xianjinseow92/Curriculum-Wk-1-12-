{
 "cells": [
  {
   "cell_type": "markdown",
   "metadata": {},
   "source": [
    "*This is a tough problem. If you are stuck, please ask an instructor for help.*\n",
    "\n",
    "If you're named Danny Kyung or Matthew Emes, it opens up the possibility of justifying your use of usernames such as [dank](https://github.com/dank) or [memes](https://github.com/memes).\n",
    "Your task is to find the longest word such that it satisfies the criteria - that is, it is a substring of the given string but not necessarily consecutively (we can call it a sparse substring). If there are multiple words of same maximum length, output all of them.\n",
    "You may use the the [Enable word list](http://norvig.com/ngrams/enable1.txt), or some other reasonable English word list. Every word in your output must appear in your word list.\n",
    "Formal Inputs & Outputs\n",
    "\n",
    "#### Input description\n",
    "```\n",
    "One string.\n",
    "```\n",
    "#### Example Inputs\n",
    "```\n",
    "Donald Knuth\n",
    "Alan Turing\n",
    "Claude Shannon\n",
    "```\n",
    "#### Output description\n",
    "```\n",
    "A single word (output the lengthiest word/words in case of multiple words satisfying the criteria)\n",
    "```\n",
    "#### Example outputs\n",
    "```\n",
    "Donut (because **Don**ald k**nut**h)\n",
    "Alanin, Anting\n",
    "Cannon\n",
    "```\n",
    "Note : Your outputs may differ from these outputs depending on the word list you are using\n",
    "\n",
    "#### Challenge Inputs\n",
    "```\n",
    "Ada Lovelace\n",
    "Haskell Curry\n",
    "**Your own name!**\n",
    "```"
   ]
  },
  {
   "cell_type": "code",
   "execution_count": null,
   "metadata": {},
   "outputs": [],
   "source": []
  },
  {
   "cell_type": "code",
   "execution_count": null,
   "metadata": {},
   "outputs": [],
   "source": []
  },
  {
   "cell_type": "code",
   "execution_count": null,
   "metadata": {},
   "outputs": [],
   "source": []
  },
  {
   "cell_type": "code",
   "execution_count": null,
   "metadata": {},
   "outputs": [],
   "source": []
  },
  {
   "cell_type": "code",
   "execution_count": null,
   "metadata": {},
   "outputs": [],
   "source": []
  },
  {
   "cell_type": "code",
   "execution_count": null,
   "metadata": {},
   "outputs": [],
   "source": []
  },
  {
   "cell_type": "code",
   "execution_count": null,
   "metadata": {},
   "outputs": [],
   "source": []
  },
  {
   "cell_type": "code",
   "execution_count": null,
   "metadata": {},
   "outputs": [],
   "source": []
  },
  {
   "cell_type": "code",
   "execution_count": null,
   "metadata": {},
   "outputs": [],
   "source": []
  },
  {
   "cell_type": "markdown",
   "metadata": {},
   "source": [
    "If you're named Danny Kyung or Matthew Emes, it opens up the possibility of justifying your use of usernames such as [dank](https://github.com/dank) or [memes](https://github.com/memes).\n"
   ]
  },
  {
   "cell_type": "markdown",
   "metadata": {},
   "source": [
    "Your task is to find the **longest word** such that it **satisfies the criteria**"
   ]
  },
  {
   "cell_type": "markdown",
   "metadata": {},
   "source": [
    "The criteria: \n",
    " - that is, it is a substring of the given string but not necessarily consecutively (we can call it a sparse substring).  \n",
    "   If there are multiple words of same maximum length, output all of them."
   ]
  },
  {
   "cell_type": "markdown",
   "metadata": {},
   "source": [
    "You may use the the [Enable word list](http://norvig.com/ngrams/enable1.txt), or some other reasonable English word list. Every word in your output must appear in your word list.\n",
    "Formal Inputs & Outputs"
   ]
  },
  {
   "cell_type": "code",
   "execution_count": null,
   "metadata": {},
   "outputs": [],
   "source": [
    "# you have a reference\n",
    "# given the "
   ]
  },
  {
   "cell_type": "code",
   "execution_count": 24,
   "metadata": {},
   "outputs": [],
   "source": [
    "import requests\n",
    "\n",
    "target_url = 'http://norvig.com/ngrams/enable1.txt'\n",
    "response = requests.get(target_url)\n",
    "data = response.text\n",
    "len(data)\n",
    "\n",
    "text_list = data.replace('\\n',' ').split()"
   ]
  },
  {
   "cell_type": "code",
   "execution_count": 28,
   "metadata": {},
   "outputs": [],
   "source": [
    "def username_generator(string):\n",
    "    for word in text_list:\n",
    "        if ''.join(sorted(word)) in ''.join(sorted(string)):\n",
    "            return word"
   ]
  },
  {
   "cell_type": "code",
   "execution_count": null,
   "metadata": {},
   "outputs": [],
   "source": []
  },
  {
   "cell_type": "markdown",
   "metadata": {},
   "source": [
    "2) For every word in the list, see if it’s substring of the name."
   ]
  },
  {
   "cell_type": "code",
   "execution_count": null,
   "metadata": {},
   "outputs": [],
   "source": []
  },
  {
   "cell_type": "code",
   "execution_count": null,
   "metadata": {},
   "outputs": [],
   "source": []
  },
  {
   "cell_type": "code",
   "execution_count": null,
   "metadata": {},
   "outputs": [],
   "source": []
  },
  {
   "cell_type": "code",
   "execution_count": null,
   "metadata": {},
   "outputs": [],
   "source": []
  },
  {
   "cell_type": "code",
   "execution_count": null,
   "metadata": {},
   "outputs": [],
   "source": []
  },
  {
   "cell_type": "code",
   "execution_count": null,
   "metadata": {},
   "outputs": [],
   "source": []
  }
 ],
 "metadata": {
  "kernelspec": {
   "display_name": "Python 3",
   "language": "python",
   "name": "python3"
  },
  "language_info": {
   "codemirror_mode": {
    "name": "ipython",
    "version": 3
   },
   "file_extension": ".py",
   "mimetype": "text/x-python",
   "name": "python",
   "nbconvert_exporter": "python",
   "pygments_lexer": "ipython3",
   "version": "3.7.3"
  }
 },
 "nbformat": 4,
 "nbformat_minor": 2
}
