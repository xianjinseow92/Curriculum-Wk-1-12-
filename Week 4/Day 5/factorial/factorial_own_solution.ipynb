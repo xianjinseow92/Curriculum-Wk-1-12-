{
 "cells": [
  {
   "cell_type": "markdown",
   "metadata": {},
   "source": [
    "#### Pair Problem #1: FACTORIAL\n",
    "\n",
    "Factorial(n) written as n! is the product of all the numbers up to n.\n",
    "8! = 1 x 2 x 3 x 4 x 5 x 6 x 7 x 8 = 40320\n",
    "\n",
    "Write a function to calculate the factorial of a given number.\n",
    "\n",
    "\t\tdef factorial(n):\n",
    "\n",
    "Once done, can you rewrite this function using recursion. A recursive function is one that calls itself.\n",
    "\n",
    "#### Pair Problem #2: FIBONACCI SERIES\n",
    "\n",
    "Fibonacci series goes like this: 0 1 1 2 3 5 8 13 21 34\n",
    "\n",
    "You start with 0 and 1. Each of the following numbers are the sum of the previous two numbers in the series.\n",
    "\n",
    "Write a function, that given N, will return the Nth number of the Fibonacci series.\n",
    "\n",
    "Once done, can you rewrite this function using recursion"
   ]
  },
  {
   "cell_type": "markdown",
   "metadata": {},
   "source": [
    "## Pair Problem 1: FACTORIAL"
   ]
  },
  {
   "cell_type": "code",
   "execution_count": 7,
   "metadata": {},
   "outputs": [
    {
     "name": "stdout",
     "output_type": "stream",
     "text": [
      "Non-recur method: 120\n",
      "Recur method: 120\n"
     ]
    }
   ],
   "source": [
    "# Non-recursion\n",
    "def factorial(n):\n",
    "    if n == 0:\n",
    "        return 1\n",
    "    num_factorial_sum = 1\n",
    "    for num in range(1, n+1):\n",
    "        num_factorial_sum = num_factorial_sum * num\n",
    "    return num_factorial_sum\n",
    "\n",
    "print('Non-recur method:', factorial(5))\n",
    "    \n",
    "    \n",
    "    \n",
    "# Recursive method\n",
    "def recur_factorial(n):\n",
    "    if n == 0:\n",
    "        return 1\n",
    "    elif n == 1:\n",
    "        return n\n",
    "    else:\n",
    "        return n*recur_factorial(n-1)\n",
    "\n",
    "print('Recur method:', recur_factorial(5))"
   ]
  },
  {
   "cell_type": "markdown",
   "metadata": {},
   "source": [
    "## Pair Problem 2: FIBONACCI SERIES"
   ]
  },
  {
   "cell_type": "markdown",
   "metadata": {},
   "source": [
    "#### Pair Problem #2: FIBONACCI SERIES\n",
    "\n",
    "Fibonacci series goes like this: 0 1 1 2 3 5 8 13 21 34\n",
    "\n",
    "You start with 0 and 1. Each of the following numbers are the sum of the previous two numbers in the series.\n",
    "\n",
    "Write a function, that given N, will return the Nth number of the Fibonacci series.\n",
    "\n",
    "Once done, can you rewrite this function using recursion"
   ]
  },
  {
   "cell_type": "code",
   "execution_count": 9,
   "metadata": {},
   "outputs": [],
   "source": [
    "def fibo_series(num_index):\n",
    "    if num_index == 0:\n",
    "        return 0\n",
    "    if num_index == 1:\n",
    "        return 1\n",
    "    \n",
    "    index = 3\n",
    "    fibo_series = \n",
    "    while index <= N:\n",
    "        \n",
    "    "
   ]
  },
  {
   "cell_type": "markdown",
   "metadata": {},
   "source": [
    "# Class Solutions"
   ]
  },
  {
   "cell_type": "code",
   "execution_count": 10,
   "metadata": {},
   "outputs": [],
   "source": [
    "import numpy as np\n",
    "def np_factorial(n):\n",
    "    return np.prod(range(1,n+1))"
   ]
  },
  {
   "cell_type": "code",
   "execution_count": null,
   "metadata": {},
   "outputs": [],
   "source": [
    "def iter_factorial(n):\n",
    "    p = 1\n",
    "    for i in range(1, n+1):  # A range does NOT give you a list. It IS a generator!\n",
    "        p*=i\n",
    "    return p"
   ]
  },
  {
   "cell_type": "code",
   "execution_count": null,
   "metadata": {},
   "outputs": [],
   "source": [
    "def recur_factorial(n):\n",
    "    if n<=1:\n",
    "        return 1\n",
    "    else:\n",
    "        return n*recur_factorial(n-1)"
   ]
  },
  {
   "cell_type": "code",
   "execution_count": null,
   "metadata": {},
   "outputs": [],
   "source": [
    "# Fibonacci\n",
    "# THe frist function builds a list. THe complexity of this code is O(N)\n",
    "\n",
    "fibSeries = [0,1]\n",
    "def fib2(n):\n",
    "    for i in range(2,n):\n",
    "        fibSeries.append(fibSeries[i-1]+fibSeries[i-2])\n",
    "        return fibSeries[n-1]"
   ]
  },
  {
   "cell_type": "code",
   "execution_count": 11,
   "metadata": {},
   "outputs": [],
   "source": [
    "# Recursive. But this is very memory-intensive\n",
    "def fib(n):\n",
    "    if n==1:\n",
    "        return 0\n",
    "    elif n==2:\n",
    "        return 1\n",
    "    else:\n",
    "        return fib(n-1)+fib(n-2)"
   ]
  },
  {
   "cell_type": "markdown",
   "metadata": {},
   "source": [
    "A more memory-efficient way of doing recursion"
   ]
  },
  {
   "cell_type": "code",
   "execution_count": null,
   "metadata": {},
   "outputs": [],
   "source": [
    "# Utilziing dictionary storage\n",
    "\n",
    "from collections import defaultdict\n",
    "d = defaultdict(int)\n",
    "def fib(n):\n",
    "    if d[n]:  # using n as a key. d[n] is a value! meaning if d[n] is NOT = 0. (python takes 0 as false).\n",
    "        # Therefore, this means that the moment d[n] has a value, retrieve it.\n",
    "        return d[n]  # first if conditions r\n",
    "    if n==1:\n",
    "        d[n]=0\n",
    "    elif n==2:\n",
    "        d[n]=1\n",
    "    else:\n",
    "        d[n]=fib(n-1)-fib(n-2)\n"
   ]
  }
 ],
 "metadata": {
  "kernelspec": {
   "display_name": "Python [conda env:metis] *",
   "language": "python",
   "name": "conda-env-metis-py"
  },
  "language_info": {
   "codemirror_mode": {
    "name": "ipython",
    "version": 3
   },
   "file_extension": ".py",
   "mimetype": "text/x-python",
   "name": "python",
   "nbconvert_exporter": "python",
   "pygments_lexer": "ipython3",
   "version": "3.7.3"
  }
 },
 "nbformat": 4,
 "nbformat_minor": 2
}
