{
 "cells": [
  {
   "cell_type": "markdown",
   "metadata": {},
   "source": [
    "# kNN example with bike frame geometries \n",
    "\n",
    "### We'll try to classify bicycle types using some information about their frame geometry"
   ]
  },
  {
   "cell_type": "markdown",
   "metadata": {},
   "source": [
    "General reminders about kNN:\n",
    "\n",
    "* A type of pattern recognition algorithm \n",
    "* Non-parametric \n",
    "* A type of **instance-based learning**:\n",
    "    * Fitting a model is easy (... because there is no model fitting, the data is just held in memory)\n",
    "    * Model prediction is computationally expensive\n",
    "* Simple but has been successful in several areas, e.g. handwritten digits"
   ]
  },
  {
   "cell_type": "code",
   "execution_count": 2,
   "metadata": {},
   "outputs": [],
   "source": [
    "import pandas as pd\n",
    "import numpy as np\n",
    "import matplotlib.pyplot as plt\n",
    "%matplotlib inline"
   ]
  },
  {
   "cell_type": "code",
   "execution_count": 3,
   "metadata": {},
   "outputs": [],
   "source": [
    "# We have data on several measurements of bike geometries for 56cm sized bikes \n",
    "# (we need to stick with the same size bike across all observations otherwise we'll conflate differences in scale)\n",
    "bike_geo = pd.read_csv(\"./data/bike_geometries_56cm.csv\")"
   ]
  },
  {
   "cell_type": "code",
   "execution_count": 4,
   "metadata": {},
   "outputs": [
    {
     "data": {
      "text/plain": [
       "Index(['Brand', 'Year', 'Model', 'Size', 'Steer Cat', 'Head Angle',\n",
       "       'Fork Offset', 'Seat Angle', 'Chain Stay', 'Wheelbase', 'Top Tube',\n",
       "       'BB Drop', 'Trail ', 'Flop'],\n",
       "      dtype='object')"
      ]
     },
     "execution_count": 4,
     "metadata": {},
     "output_type": "execute_result"
    }
   ],
   "source": [
    "bike_geo.columns"
   ]
  },
  {
   "cell_type": "code",
   "execution_count": 5,
   "metadata": {},
   "outputs": [],
   "source": [
    "bike_geo.rename(columns=lambda x: x.strip(), inplace=True)"
   ]
  },
  {
   "cell_type": "code",
   "execution_count": 6,
   "metadata": {},
   "outputs": [
    {
     "data": {
      "text/plain": [
       "race     104\n",
       "sport     49\n",
       "cross     40\n",
       "tour      18\n",
       "crit       4\n",
       "Name: Steer Cat, dtype: int64"
      ]
     },
     "execution_count": 6,
     "metadata": {},
     "output_type": "execute_result"
    }
   ],
   "source": [
    "bike_geo['Steer Cat'].value_counts()"
   ]
  },
  {
   "cell_type": "code",
   "execution_count": 7,
   "metadata": {},
   "outputs": [
    {
     "name": "stdout",
     "output_type": "stream",
     "text": [
      "<class 'pandas.core.frame.DataFrame'>\n",
      "RangeIndex: 436 entries, 0 to 435\n",
      "Data columns (total 14 columns):\n",
      "Brand          436 non-null object\n",
      "Year           418 non-null object\n",
      "Model          432 non-null object\n",
      "Size           425 non-null float64\n",
      "Steer Cat      215 non-null object\n",
      "Head Angle     434 non-null float64\n",
      "Fork Offset    413 non-null float64\n",
      "Seat Angle     434 non-null float64\n",
      "Chain Stay     432 non-null float64\n",
      "Wheelbase      325 non-null object\n",
      "Top Tube       382 non-null object\n",
      "BB Drop        215 non-null object\n",
      "Trail          417 non-null object\n",
      "Flop           417 non-null object\n",
      "dtypes: float64(5), object(9)\n",
      "memory usage: 47.8+ KB\n"
     ]
    }
   ],
   "source": [
    "bike_geo.info()"
   ]
  },
  {
   "cell_type": "code",
   "execution_count": 8,
   "metadata": {},
   "outputs": [],
   "source": [
    "# Create a new dataframe that includes only our modeling columns \n",
    "\n",
    "bike_geo_model = bike_geo[['Steer Cat','Head Angle','Fork Offset','Seat Angle','Chain Stay','Wheelbase','Top Tube','BB Drop','Trail',\n",
    "             'Flop']]"
   ]
  },
  {
   "cell_type": "code",
   "execution_count": 9,
   "metadata": {},
   "outputs": [
    {
     "data": {
      "text/plain": [
       "(436, 10)"
      ]
     },
     "execution_count": 9,
     "metadata": {},
     "output_type": "execute_result"
    }
   ],
   "source": [
    "bike_geo_model.shape"
   ]
  },
  {
   "cell_type": "code",
   "execution_count": 10,
   "metadata": {},
   "outputs": [],
   "source": [
    "bike_geo_model = bike_geo_model.dropna(subset=['Steer Cat'])"
   ]
  },
  {
   "cell_type": "code",
   "execution_count": 11,
   "metadata": {},
   "outputs": [
    {
     "data": {
      "text/plain": [
       "(215, 10)"
      ]
     },
     "execution_count": 11,
     "metadata": {},
     "output_type": "execute_result"
    }
   ],
   "source": [
    "bike_geo_model.shape"
   ]
  },
  {
   "cell_type": "code",
   "execution_count": 12,
   "metadata": {},
   "outputs": [
    {
     "data": {
      "text/html": [
       "<div>\n",
       "<style scoped>\n",
       "    .dataframe tbody tr th:only-of-type {\n",
       "        vertical-align: middle;\n",
       "    }\n",
       "\n",
       "    .dataframe tbody tr th {\n",
       "        vertical-align: top;\n",
       "    }\n",
       "\n",
       "    .dataframe thead th {\n",
       "        text-align: right;\n",
       "    }\n",
       "</style>\n",
       "<table border=\"1\" class=\"dataframe\">\n",
       "  <thead>\n",
       "    <tr style=\"text-align: right;\">\n",
       "      <th></th>\n",
       "      <th>Steer Cat</th>\n",
       "      <th>Head Angle</th>\n",
       "      <th>Fork Offset</th>\n",
       "      <th>Seat Angle</th>\n",
       "      <th>Chain Stay</th>\n",
       "      <th>Wheelbase</th>\n",
       "      <th>Top Tube</th>\n",
       "      <th>BB Drop</th>\n",
       "      <th>Trail</th>\n",
       "      <th>Flop</th>\n",
       "    </tr>\n",
       "  </thead>\n",
       "  <tbody>\n",
       "    <tr>\n",
       "      <th>0</th>\n",
       "      <td>crit</td>\n",
       "      <td>74.5</td>\n",
       "      <td>3.00</td>\n",
       "      <td>75.0</td>\n",
       "      <td>39.5</td>\n",
       "      <td>97.00</td>\n",
       "      <td>56.00</td>\n",
       "      <td>6.00</td>\n",
       "      <td>63.16</td>\n",
       "      <td>16.26</td>\n",
       "    </tr>\n",
       "    <tr>\n",
       "      <th>1</th>\n",
       "      <td>crit</td>\n",
       "      <td>74.0</td>\n",
       "      <td>3.18</td>\n",
       "      <td>75.0</td>\n",
       "      <td>41.3</td>\n",
       "      <td>99.10</td>\n",
       "      <td>56.00</td>\n",
       "      <td>NaN</td>\n",
       "      <td>64.41</td>\n",
       "      <td>17.07</td>\n",
       "    </tr>\n",
       "    <tr>\n",
       "      <th>2</th>\n",
       "      <td>crit</td>\n",
       "      <td>74.0</td>\n",
       "      <td>3.50</td>\n",
       "      <td>74.0</td>\n",
       "      <td>42.0</td>\n",
       "      <td>99.70</td>\n",
       "      <td>55.90</td>\n",
       "      <td>NaN</td>\n",
       "      <td>61.08</td>\n",
       "      <td>16.18</td>\n",
       "    </tr>\n",
       "    <tr>\n",
       "      <th>3</th>\n",
       "      <td>crit</td>\n",
       "      <td>74.0</td>\n",
       "      <td>3.80</td>\n",
       "      <td>73.0</td>\n",
       "      <td>43.2</td>\n",
       "      <td>101.30</td>\n",
       "      <td>59.70</td>\n",
       "      <td>NaN</td>\n",
       "      <td>57.96</td>\n",
       "      <td>15.36</td>\n",
       "    </tr>\n",
       "    <tr>\n",
       "      <th>4</th>\n",
       "      <td>cross</td>\n",
       "      <td>72.5</td>\n",
       "      <td>5.00</td>\n",
       "      <td>72.5</td>\n",
       "      <td>43.5</td>\n",
       "      <td>13.00</td>\n",
       "      <td>55.70</td>\n",
       "      <td>NaN</td>\n",
       "      <td>54.78</td>\n",
       "      <td>15.71</td>\n",
       "    </tr>\n",
       "  </tbody>\n",
       "</table>\n",
       "</div>"
      ],
      "text/plain": [
       "  Steer Cat  Head Angle  Fork Offset  Seat Angle  Chain Stay Wheelbase  \\\n",
       "0      crit        74.5         3.00        75.0        39.5     97.00   \n",
       "1      crit        74.0         3.18        75.0        41.3     99.10   \n",
       "2      crit        74.0         3.50        74.0        42.0     99.70   \n",
       "3      crit        74.0         3.80        73.0        43.2    101.30   \n",
       "4     cross        72.5         5.00        72.5        43.5     13.00   \n",
       "\n",
       "  Top Tube BB Drop  Trail   Flop  \n",
       "0    56.00    6.00  63.16  16.26  \n",
       "1    56.00     NaN  64.41  17.07  \n",
       "2    55.90     NaN  61.08  16.18  \n",
       "3    59.70     NaN  57.96  15.36  \n",
       "4    55.70     NaN  54.78  15.71  "
      ]
     },
     "execution_count": 12,
     "metadata": {},
     "output_type": "execute_result"
    }
   ],
   "source": [
    "bike_geo_model.head(5)"
   ]
  },
  {
   "cell_type": "code",
   "execution_count": 13,
   "metadata": {},
   "outputs": [],
   "source": [
    "bike_geo_model.fillna('0.0', inplace=True)"
   ]
  },
  {
   "cell_type": "code",
   "execution_count": 14,
   "metadata": {},
   "outputs": [
    {
     "data": {
      "text/html": [
       "<div>\n",
       "<style scoped>\n",
       "    .dataframe tbody tr th:only-of-type {\n",
       "        vertical-align: middle;\n",
       "    }\n",
       "\n",
       "    .dataframe tbody tr th {\n",
       "        vertical-align: top;\n",
       "    }\n",
       "\n",
       "    .dataframe thead th {\n",
       "        text-align: right;\n",
       "    }\n",
       "</style>\n",
       "<table border=\"1\" class=\"dataframe\">\n",
       "  <thead>\n",
       "    <tr style=\"text-align: right;\">\n",
       "      <th></th>\n",
       "      <th>Steer Cat</th>\n",
       "      <th>Head Angle</th>\n",
       "      <th>Fork Offset</th>\n",
       "      <th>Seat Angle</th>\n",
       "      <th>Chain Stay</th>\n",
       "      <th>Wheelbase</th>\n",
       "      <th>Top Tube</th>\n",
       "      <th>BB Drop</th>\n",
       "      <th>Trail</th>\n",
       "      <th>Flop</th>\n",
       "    </tr>\n",
       "  </thead>\n",
       "  <tbody>\n",
       "    <tr>\n",
       "      <th>0</th>\n",
       "      <td>crit</td>\n",
       "      <td>74.5</td>\n",
       "      <td>3.00</td>\n",
       "      <td>75.0</td>\n",
       "      <td>39.5</td>\n",
       "      <td>97.00</td>\n",
       "      <td>56.00</td>\n",
       "      <td>6.00</td>\n",
       "      <td>63.16</td>\n",
       "      <td>16.26</td>\n",
       "    </tr>\n",
       "    <tr>\n",
       "      <th>1</th>\n",
       "      <td>crit</td>\n",
       "      <td>74.0</td>\n",
       "      <td>3.18</td>\n",
       "      <td>75.0</td>\n",
       "      <td>41.3</td>\n",
       "      <td>99.10</td>\n",
       "      <td>56.00</td>\n",
       "      <td>0.0</td>\n",
       "      <td>64.41</td>\n",
       "      <td>17.07</td>\n",
       "    </tr>\n",
       "    <tr>\n",
       "      <th>2</th>\n",
       "      <td>crit</td>\n",
       "      <td>74.0</td>\n",
       "      <td>3.50</td>\n",
       "      <td>74.0</td>\n",
       "      <td>42</td>\n",
       "      <td>99.70</td>\n",
       "      <td>55.90</td>\n",
       "      <td>0.0</td>\n",
       "      <td>61.08</td>\n",
       "      <td>16.18</td>\n",
       "    </tr>\n",
       "    <tr>\n",
       "      <th>3</th>\n",
       "      <td>crit</td>\n",
       "      <td>74.0</td>\n",
       "      <td>3.80</td>\n",
       "      <td>73.0</td>\n",
       "      <td>43.2</td>\n",
       "      <td>101.30</td>\n",
       "      <td>59.70</td>\n",
       "      <td>0.0</td>\n",
       "      <td>57.96</td>\n",
       "      <td>15.36</td>\n",
       "    </tr>\n",
       "    <tr>\n",
       "      <th>4</th>\n",
       "      <td>cross</td>\n",
       "      <td>72.5</td>\n",
       "      <td>5.00</td>\n",
       "      <td>72.5</td>\n",
       "      <td>43.5</td>\n",
       "      <td>13.00</td>\n",
       "      <td>55.70</td>\n",
       "      <td>0.0</td>\n",
       "      <td>54.78</td>\n",
       "      <td>15.71</td>\n",
       "    </tr>\n",
       "    <tr>\n",
       "      <th>5</th>\n",
       "      <td>cross</td>\n",
       "      <td>72.5</td>\n",
       "      <td>5.00</td>\n",
       "      <td>72.5</td>\n",
       "      <td>43.5</td>\n",
       "      <td>13.00</td>\n",
       "      <td>55.70</td>\n",
       "      <td>0.0</td>\n",
       "      <td>54.78</td>\n",
       "      <td>15.71</td>\n",
       "    </tr>\n",
       "  </tbody>\n",
       "</table>\n",
       "</div>"
      ],
      "text/plain": [
       "  Steer Cat  Head Angle  Fork Offset  Seat Angle Chain Stay Wheelbase  \\\n",
       "0      crit        74.5         3.00        75.0       39.5     97.00   \n",
       "1      crit        74.0         3.18        75.0       41.3     99.10   \n",
       "2      crit        74.0         3.50        74.0         42     99.70   \n",
       "3      crit        74.0         3.80        73.0       43.2    101.30   \n",
       "4     cross        72.5         5.00        72.5       43.5     13.00   \n",
       "5     cross        72.5         5.00        72.5       43.5     13.00   \n",
       "\n",
       "  Top Tube BB Drop  Trail   Flop  \n",
       "0    56.00    6.00  63.16  16.26  \n",
       "1    56.00     0.0  64.41  17.07  \n",
       "2    55.90     0.0  61.08  16.18  \n",
       "3    59.70     0.0  57.96  15.36  \n",
       "4    55.70     0.0  54.78  15.71  \n",
       "5    55.70     0.0  54.78  15.71  "
      ]
     },
     "execution_count": 14,
     "metadata": {},
     "output_type": "execute_result"
    }
   ],
   "source": [
    "bike_geo_model.head(6)"
   ]
  },
  {
   "cell_type": "code",
   "execution_count": 15,
   "metadata": {},
   "outputs": [],
   "source": [
    "bike_geo_model = bike_geo_model.loc[(bike_geo_model['Steer Cat'] != 'crit') & (bike_geo_model['Steer Cat'] != 'tour'),:]"
   ]
  },
  {
   "cell_type": "code",
   "execution_count": 16,
   "metadata": {},
   "outputs": [
    {
     "data": {
      "text/plain": [
       "(193, 10)"
      ]
     },
     "execution_count": 16,
     "metadata": {},
     "output_type": "execute_result"
    }
   ],
   "source": [
    "bike_geo_model.shape"
   ]
  },
  {
   "cell_type": "code",
   "execution_count": 17,
   "metadata": {},
   "outputs": [
    {
     "data": {
      "text/plain": [
       "race     104\n",
       "sport     49\n",
       "cross     40\n",
       "Name: Steer Cat, dtype: int64"
      ]
     },
     "execution_count": 17,
     "metadata": {},
     "output_type": "execute_result"
    }
   ],
   "source": [
    "bike_geo_model['Steer Cat'].value_counts()"
   ]
  },
  {
   "cell_type": "markdown",
   "metadata": {},
   "source": [
    "# kNN classification"
   ]
  },
  {
   "cell_type": "code",
   "execution_count": 18,
   "metadata": {},
   "outputs": [
    {
     "name": "stderr",
     "output_type": "stream",
     "text": [
      "/Users/larakattan/anaconda3/lib/python3.6/importlib/_bootstrap.py:219: RuntimeWarning: numpy.dtype size changed, may indicate binary incompatibility. Expected 96, got 88\n",
      "  return f(*args, **kwds)\n",
      "/Users/larakattan/anaconda3/lib/python3.6/importlib/_bootstrap.py:219: RuntimeWarning: numpy.dtype size changed, may indicate binary incompatibility. Expected 96, got 88\n",
      "  return f(*args, **kwds)\n",
      "/Users/larakattan/anaconda3/lib/python3.6/importlib/_bootstrap.py:219: RuntimeWarning: numpy.dtype size changed, may indicate binary incompatibility. Expected 96, got 88\n",
      "  return f(*args, **kwds)\n",
      "/Users/larakattan/anaconda3/lib/python3.6/importlib/_bootstrap.py:219: RuntimeWarning: numpy.dtype size changed, may indicate binary incompatibility. Expected 96, got 88\n",
      "  return f(*args, **kwds)\n"
     ]
    }
   ],
   "source": [
    "from sklearn.neighbors import KNeighborsClassifier\n",
    "from sklearn import metrics\n",
    "from sklearn.model_selection import train_test_split"
   ]
  },
  {
   "cell_type": "code",
   "execution_count": 19,
   "metadata": {},
   "outputs": [
    {
     "name": "stdout",
     "output_type": "stream",
     "text": [
      "(193, 9) (193,)\n"
     ]
    }
   ],
   "source": [
    "# create X matrix and y vector from columns \n",
    "\n",
    "X = bike_geo_model.drop(columns='Steer Cat')\n",
    "y = bike_geo_model['Steer Cat']\n",
    "print(X.shape , y.shape)"
   ]
  },
  {
   "cell_type": "code",
   "execution_count": 20,
   "metadata": {},
   "outputs": [
    {
     "name": "stdout",
     "output_type": "stream",
     "text": [
      "<class 'pandas.core.frame.DataFrame'>\n",
      "Int64Index: 193 entries, 4 to 196\n",
      "Data columns (total 9 columns):\n",
      "Head Angle     193 non-null float64\n",
      "Fork Offset    193 non-null float64\n",
      "Seat Angle     193 non-null float64\n",
      "Chain Stay     193 non-null object\n",
      "Wheelbase      193 non-null object\n",
      "Top Tube       193 non-null object\n",
      "BB Drop        193 non-null object\n",
      "Trail          193 non-null object\n",
      "Flop           193 non-null object\n",
      "dtypes: float64(3), object(6)\n",
      "memory usage: 15.1+ KB\n"
     ]
    }
   ],
   "source": [
    "X.info()"
   ]
  },
  {
   "cell_type": "code",
   "execution_count": 21,
   "metadata": {},
   "outputs": [
    {
     "data": {
      "text/html": [
       "<div>\n",
       "<style scoped>\n",
       "    .dataframe tbody tr th:only-of-type {\n",
       "        vertical-align: middle;\n",
       "    }\n",
       "\n",
       "    .dataframe tbody tr th {\n",
       "        vertical-align: top;\n",
       "    }\n",
       "\n",
       "    .dataframe thead th {\n",
       "        text-align: right;\n",
       "    }\n",
       "</style>\n",
       "<table border=\"1\" class=\"dataframe\">\n",
       "  <thead>\n",
       "    <tr style=\"text-align: right;\">\n",
       "      <th></th>\n",
       "      <th>Head Angle</th>\n",
       "      <th>Fork Offset</th>\n",
       "      <th>Seat Angle</th>\n",
       "      <th>Chain Stay</th>\n",
       "      <th>Wheelbase</th>\n",
       "      <th>Top Tube</th>\n",
       "      <th>BB Drop</th>\n",
       "      <th>Trail</th>\n",
       "      <th>Flop</th>\n",
       "    </tr>\n",
       "  </thead>\n",
       "  <tbody>\n",
       "  </tbody>\n",
       "</table>\n",
       "</div>"
      ],
      "text/plain": [
       "Empty DataFrame\n",
       "Columns: [Head Angle, Fork Offset, Seat Angle, Chain Stay, Wheelbase, Top Tube, BB Drop, Trail, Flop]\n",
       "Index: []"
      ]
     },
     "execution_count": 21,
     "metadata": {},
     "output_type": "execute_result"
    }
   ],
   "source": [
    "# I had done other testing and found out .astype() wasn't working because of a ' '\n",
    "# Replace the ' ' in Wheelbase with 0.0 so we can cast to numeric \n",
    "\n",
    "X.loc[X['Wheelbase'] == ' ', 'Wheelbase'] = 0.0\n",
    "X[(X['Wheelbase']==' ')]"
   ]
  },
  {
   "cell_type": "code",
   "execution_count": 22,
   "metadata": {},
   "outputs": [],
   "source": [
    "X = X.astype(float)"
   ]
  },
  {
   "cell_type": "code",
   "execution_count": 23,
   "metadata": {},
   "outputs": [
    {
     "name": "stdout",
     "output_type": "stream",
     "text": [
      "<class 'pandas.core.frame.DataFrame'>\n",
      "Int64Index: 193 entries, 4 to 196\n",
      "Data columns (total 9 columns):\n",
      "Head Angle     193 non-null float64\n",
      "Fork Offset    193 non-null float64\n",
      "Seat Angle     193 non-null float64\n",
      "Chain Stay     193 non-null float64\n",
      "Wheelbase      193 non-null float64\n",
      "Top Tube       193 non-null float64\n",
      "BB Drop        193 non-null float64\n",
      "Trail          193 non-null float64\n",
      "Flop           193 non-null float64\n",
      "dtypes: float64(9)\n",
      "memory usage: 15.1 KB\n"
     ]
    }
   ],
   "source": [
    "X.info()"
   ]
  },
  {
   "cell_type": "markdown",
   "metadata": {},
   "source": [
    "## kNN with train and test on same dataset"
   ]
  },
  {
   "cell_type": "code",
   "execution_count": 24,
   "metadata": {},
   "outputs": [
    {
     "name": "stdout",
     "output_type": "stream",
     "text": [
      "0.9222797927461139\n"
     ]
    }
   ],
   "source": [
    "# train kNN on full dataset (DON'T ever do this!) and check results \n",
    "\n",
    "knn = KNeighborsClassifier(n_neighbors=5)\n",
    "knn.fit(X, y)\n",
    "y_pred = knn.predict(X)\n",
    "\n",
    "print(metrics.accuracy_score(y, y_pred))"
   ]
  },
  {
   "cell_type": "markdown",
   "metadata": {},
   "source": [
    "## kNN with train/test split"
   ]
  },
  {
   "cell_type": "code",
   "execution_count": 25,
   "metadata": {},
   "outputs": [
    {
     "name": "stdout",
     "output_type": "stream",
     "text": [
      "0.8448275862068966\n"
     ]
    }
   ],
   "source": [
    "X_train, X_test, y_train, y_test = train_test_split(X, y, test_size=0.3, random_state=42)\n",
    "\n",
    "# fit on train\n",
    "knn = KNeighborsClassifier(n_neighbors=5)\n",
    "knn.fit(X_train, y_train)\n",
    "\n",
    "# test on test\n",
    "y_pred = knn.predict(X_test)\n",
    "\n",
    "print(metrics.accuracy_score(y_test, y_pred))"
   ]
  },
  {
   "cell_type": "code",
   "execution_count": 26,
   "metadata": {},
   "outputs": [
    {
     "data": {
      "text/plain": [
       "array([[ 5,  7,  0],\n",
       "       [ 2, 29,  0],\n",
       "       [ 0,  0, 15]])"
      ]
     },
     "execution_count": 26,
     "metadata": {},
     "output_type": "execute_result"
    }
   ],
   "source": [
    "from sklearn.metrics import confusion_matrix\n",
    "\n",
    "confusion_matrix(y_test,y_pred)"
   ]
  },
  {
   "cell_type": "markdown",
   "metadata": {},
   "source": [
    "## kNN with cross-validation: for model tuning\n",
    "\n",
    "* What value of k gives us the best kNN model?"
   ]
  },
  {
   "cell_type": "code",
   "execution_count": 27,
   "metadata": {},
   "outputs": [],
   "source": [
    "from sklearn.model_selection import cross_val_score"
   ]
  },
  {
   "cell_type": "code",
   "execution_count": 28,
   "metadata": {},
   "outputs": [
    {
     "name": "stdout",
     "output_type": "stream",
     "text": [
      "[0.8        0.85       0.8        0.7        0.84210526 0.94736842\n",
      " 0.89473684 0.68421053 0.78947368 0.61111111]\n"
     ]
    }
   ],
   "source": [
    "# 10-fold cross-validation with K=7 for kNN (the n_neighbors parameter)\n",
    "knn = KNeighborsClassifier(n_neighbors=7)\n",
    "scores = cross_val_score(knn, X, y, cv=10, scoring='accuracy')\n",
    "print(scores)"
   ]
  },
  {
   "cell_type": "code",
   "execution_count": 29,
   "metadata": {},
   "outputs": [
    {
     "name": "stdout",
     "output_type": "stream",
     "text": [
      "0.7919005847953218\n"
     ]
    }
   ],
   "source": [
    "# use average accuracy as an estimate of out-of-sample accuracy\n",
    "print(scores.mean())"
   ]
  },
  {
   "cell_type": "code",
   "execution_count": 30,
   "metadata": {},
   "outputs": [
    {
     "name": "stdout",
     "output_type": "stream",
     "text": [
      "[0.8532163742690058, 0.8310233918128654, 0.8209941520467836, 0.8060233918128654, 0.7746491228070175, 0.7802046783625731, 0.7919005847953218, 0.8024269005847954, 0.7758187134502924, 0.786345029239766, 0.7810818713450292, 0.786345029239766, 0.7810818713450292, 0.7810818713450292, 0.7810818713450292, 0.758859649122807, 0.7535964912280702, 0.7535964912280702, 0.7430701754385964, 0.7430701754385964, 0.7430701754385964, 0.7486257309941521, 0.7652923976608187, 0.7652923976608187, 0.7652923976608187, 0.7652923976608187, 0.7600292397660818, 0.7600292397660818, 0.7600292397660818, 0.7600292397660818]\n"
     ]
    }
   ],
   "source": [
    "# search for an optimal value of K for KNN\n",
    "k_range = list(range(1, 31))\n",
    "k_scores = []\n",
    "for k in k_range:\n",
    "    knn = KNeighborsClassifier(n_neighbors=k)\n",
    "    scores = cross_val_score(knn, X, y, cv=10, scoring='accuracy')\n",
    "    k_scores.append(scores.mean())\n",
    "print(k_scores)"
   ]
  },
  {
   "cell_type": "code",
   "execution_count": 31,
   "metadata": {},
   "outputs": [
    {
     "data": {
      "text/plain": [
       "Text(0,0.5,'Cross-Validated Accuracy')"
      ]
     },
     "execution_count": 31,
     "metadata": {},
     "output_type": "execute_result"
    },
    {
     "data": {
      "image/png": "[encoded data removed]",
      "text/plain": [
       "<Figure size 900x600 with 1 Axes>"
      ]
     },
     "metadata": {},
     "output_type": "display_data"
    }
   ],
   "source": [
    "# plot the value of K for KNN (x-axis) versus the cross-validated accuracy (y-axis)\n",
    "plt.figure(dpi=150)\n",
    "plt.plot(k_range, k_scores)\n",
    "plt.xlabel('Value of K for KNN')\n",
    "plt.ylabel('Cross-Validated Accuracy')"
   ]
  },
  {
   "cell_type": "code",
   "execution_count": 32,
   "metadata": {},
   "outputs": [
    {
     "data": {
      "text/plain": [
       "Text(0,0.5,'Cross-Validated Accuracy')"
      ]
     },
     "execution_count": 32,
     "metadata": {},
     "output_type": "execute_result"
    },
    {
     "data": {
      "image/png": "[encoded data removed]",
      "text/plain": [
       "<Figure size 900x600 with 1 Axes>"
      ]
     },
     "metadata": {},
     "output_type": "display_data"
    }
   ],
   "source": [
    "# now try with k-fold = 3 (cv parameter)\n",
    "\n",
    "k_range = list(range(1, 100))\n",
    "k_scores = []\n",
    "for k in k_range:\n",
    "    knn = KNeighborsClassifier(n_neighbors=k)\n",
    "    scores = cross_val_score(knn, X, y, cv=3, scoring='accuracy')\n",
    "    k_scores.append(scores.mean())\n",
    "\n",
    "plt.figure(dpi=150)\n",
    "plt.plot(k_range, k_scores)\n",
    "plt.xlabel('Value of K for KNN')\n",
    "plt.ylabel('Cross-Validated Accuracy')"
   ]
  },
  {
   "cell_type": "markdown",
   "metadata": {},
   "source": [
    "## kNN with cross-validation: for model selection\n",
    "\n",
    "We know our optimal value of k, but let's use cross-validation to see how kNN compares against a logistic regression for model selection"
   ]
  },
  {
   "cell_type": "code",
   "execution_count": 33,
   "metadata": {},
   "outputs": [
    {
     "name": "stdout",
     "output_type": "stream",
     "text": [
      "0.8310233918128654\n"
     ]
    }
   ],
   "source": [
    "# 10-fold cross-validation with the best KNN model\n",
    "knn = KNeighborsClassifier(n_neighbors=2)\n",
    "print(cross_val_score(knn, X, y, cv=10, scoring='accuracy').mean())"
   ]
  },
  {
   "cell_type": "code",
   "execution_count": 35,
   "metadata": {},
   "outputs": [
    {
     "name": "stdout",
     "output_type": "stream",
     "text": [
      "0.9139181286549707\n"
     ]
    }
   ],
   "source": [
    "# 10-fold cross-validation with logistic regression\n",
    "from sklearn.linear_model import LogisticRegression\n",
    "logreg = LogisticRegression()\n",
    "print(cross_val_score(logreg, X, y, cv=10, scoring='accuracy').mean())"
   ]
  },
  {
   "cell_type": "markdown",
   "metadata": {},
   "source": [
    "## Parameter tuning using `GridSearchCV`"
   ]
  },
  {
   "cell_type": "code",
   "execution_count": 36,
   "metadata": {},
   "outputs": [],
   "source": [
    "from sklearn.model_selection import GridSearchCV"
   ]
  },
  {
   "cell_type": "code",
   "execution_count": 37,
   "metadata": {},
   "outputs": [],
   "source": [
    "# define the parameter values that should be searched\n",
    "k_range = list(range(1, 100))"
   ]
  },
  {
   "cell_type": "code",
   "execution_count": 38,
   "metadata": {},
   "outputs": [
    {
     "name": "stdout",
     "output_type": "stream",
     "text": [
      "{'n_neighbors': [1, 2, 3, 4, 5, 6, 7, 8, 9, 10, 11, 12, 13, 14, 15, 16, 17, 18, 19, 20, 21, 22, 23, 24, 25, 26, 27, 28, 29, 30, 31, 32, 33, 34, 35, 36, 37, 38, 39, 40, 41, 42, 43, 44, 45, 46, 47, 48, 49, 50, 51, 52, 53, 54, 55, 56, 57, 58, 59, 60, 61, 62, 63, 64, 65, 66, 67, 68, 69, 70, 71, 72, 73, 74, 75, 76, 77, 78, 79, 80, 81, 82, 83, 84, 85, 86, 87, 88, 89, 90, 91, 92, 93, 94, 95, 96, 97, 98, 99]}\n"
     ]
    }
   ],
   "source": [
    "# create a parameter grid: map the parameter names to the values that should be searched\n",
    "param_grid = dict(n_neighbors=k_range)\n",
    "print(param_grid)"
   ]
  },
  {
   "cell_type": "code",
   "execution_count": 39,
   "metadata": {},
   "outputs": [],
   "source": [
    "# instantiate the grid\n",
    "grid = GridSearchCV(knn, param_grid, cv=10, scoring='accuracy')"
   ]
  },
  {
   "cell_type": "code",
   "execution_count": 40,
   "metadata": {},
   "outputs": [],
   "source": [
    "# fit the grid with data\n",
    "grid.fit(X, y);"
   ]
  },
  {
   "cell_type": "code",
   "execution_count": 41,
   "metadata": {},
   "outputs": [
    {
     "data": {
      "text/plain": [
       "[mean: 0.85492, std: 0.09776, params: {'n_neighbors': 1},\n",
       " mean: 0.83420, std: 0.13877, params: {'n_neighbors': 2},\n",
       " mean: 0.82383, std: 0.16700, params: {'n_neighbors': 3},\n",
       " mean: 0.80829, std: 0.13979, params: {'n_neighbors': 4},\n",
       " mean: 0.77720, std: 0.15843, params: {'n_neighbors': 5},\n",
       " mean: 0.78238, std: 0.14114, params: {'n_neighbors': 6},\n",
       " mean: 0.79275, std: 0.09670, params: {'n_neighbors': 7},\n",
       " mean: 0.80311, std: 0.10147, params: {'n_neighbors': 8},\n",
       " mean: 0.77720, std: 0.10228, params: {'n_neighbors': 9},\n",
       " mean: 0.78756, std: 0.10838, params: {'n_neighbors': 10},\n",
       " mean: 0.78238, std: 0.09872, params: {'n_neighbors': 11},\n",
       " mean: 0.78756, std: 0.10041, params: {'n_neighbors': 12},\n",
       " mean: 0.78238, std: 0.09294, params: {'n_neighbors': 13},\n",
       " mean: 0.78238, std: 0.09294, params: {'n_neighbors': 14},\n",
       " mean: 0.78238, std: 0.09294, params: {'n_neighbors': 15},\n",
       " mean: 0.76166, std: 0.15200, params: {'n_neighbors': 16},\n",
       " mean: 0.75648, std: 0.14993, params: {'n_neighbors': 17},\n",
       " mean: 0.75648, std: 0.14993, params: {'n_neighbors': 18},\n",
       " mean: 0.74611, std: 0.13927, params: {'n_neighbors': 19},\n",
       " mean: 0.74611, std: 0.13927, params: {'n_neighbors': 20},\n",
       " mean: 0.74611, std: 0.13927, params: {'n_neighbors': 21},\n",
       " mean: 0.75130, std: 0.12297, params: {'n_neighbors': 22},\n",
       " mean: 0.76684, std: 0.07503, params: {'n_neighbors': 23},\n",
       " mean: 0.76684, std: 0.07503, params: {'n_neighbors': 24},\n",
       " mean: 0.76684, std: 0.07503, params: {'n_neighbors': 25},\n",
       " mean: 0.76684, std: 0.07503, params: {'n_neighbors': 26},\n",
       " mean: 0.76166, std: 0.07121, params: {'n_neighbors': 27},\n",
       " mean: 0.76166, std: 0.07121, params: {'n_neighbors': 28},\n",
       " mean: 0.76166, std: 0.07121, params: {'n_neighbors': 29},\n",
       " mean: 0.76166, std: 0.07121, params: {'n_neighbors': 30},\n",
       " mean: 0.76684, std: 0.07125, params: {'n_neighbors': 31},\n",
       " mean: 0.76684, std: 0.07125, params: {'n_neighbors': 32},\n",
       " mean: 0.76684, std: 0.07125, params: {'n_neighbors': 33},\n",
       " mean: 0.76684, std: 0.07125, params: {'n_neighbors': 34},\n",
       " mean: 0.76684, std: 0.07125, params: {'n_neighbors': 35},\n",
       " mean: 0.76684, std: 0.07125, params: {'n_neighbors': 36},\n",
       " mean: 0.76684, std: 0.07125, params: {'n_neighbors': 37},\n",
       " mean: 0.76684, std: 0.07125, params: {'n_neighbors': 38},\n",
       " mean: 0.76684, std: 0.07125, params: {'n_neighbors': 39},\n",
       " mean: 0.76684, std: 0.07125, params: {'n_neighbors': 40},\n",
       " mean: 0.76684, std: 0.07125, params: {'n_neighbors': 41},\n",
       " mean: 0.76684, std: 0.07125, params: {'n_neighbors': 42},\n",
       " mean: 0.76684, std: 0.07125, params: {'n_neighbors': 43},\n",
       " mean: 0.76684, std: 0.07125, params: {'n_neighbors': 44},\n",
       " mean: 0.76684, std: 0.07125, params: {'n_neighbors': 45},\n",
       " mean: 0.76684, std: 0.07125, params: {'n_neighbors': 46},\n",
       " mean: 0.76684, std: 0.07125, params: {'n_neighbors': 47},\n",
       " mean: 0.76684, std: 0.07125, params: {'n_neighbors': 48},\n",
       " mean: 0.76684, std: 0.07125, params: {'n_neighbors': 49},\n",
       " mean: 0.76684, std: 0.07125, params: {'n_neighbors': 50},\n",
       " mean: 0.76684, std: 0.07125, params: {'n_neighbors': 51},\n",
       " mean: 0.76684, std: 0.07125, params: {'n_neighbors': 52},\n",
       " mean: 0.76684, std: 0.07125, params: {'n_neighbors': 53},\n",
       " mean: 0.76684, std: 0.07125, params: {'n_neighbors': 54},\n",
       " mean: 0.76684, std: 0.07125, params: {'n_neighbors': 55},\n",
       " mean: 0.76684, std: 0.07125, params: {'n_neighbors': 56},\n",
       " mean: 0.76684, std: 0.07125, params: {'n_neighbors': 57},\n",
       " mean: 0.76684, std: 0.07125, params: {'n_neighbors': 58},\n",
       " mean: 0.76684, std: 0.07125, params: {'n_neighbors': 59},\n",
       " mean: 0.76684, std: 0.07125, params: {'n_neighbors': 60},\n",
       " mean: 0.76684, std: 0.07125, params: {'n_neighbors': 61},\n",
       " mean: 0.76684, std: 0.07125, params: {'n_neighbors': 62},\n",
       " mean: 0.76684, std: 0.07125, params: {'n_neighbors': 63},\n",
       " mean: 0.76684, std: 0.07125, params: {'n_neighbors': 64},\n",
       " mean: 0.76684, std: 0.07125, params: {'n_neighbors': 65},\n",
       " mean: 0.76684, std: 0.07125, params: {'n_neighbors': 66},\n",
       " mean: 0.76684, std: 0.07125, params: {'n_neighbors': 67},\n",
       " mean: 0.76166, std: 0.07121, params: {'n_neighbors': 68},\n",
       " mean: 0.76166, std: 0.07121, params: {'n_neighbors': 69},\n",
       " mean: 0.76166, std: 0.07121, params: {'n_neighbors': 70},\n",
       " mean: 0.76166, std: 0.07121, params: {'n_neighbors': 71},\n",
       " mean: 0.76166, std: 0.07121, params: {'n_neighbors': 72},\n",
       " mean: 0.76166, std: 0.07121, params: {'n_neighbors': 73},\n",
       " mean: 0.76166, std: 0.07121, params: {'n_neighbors': 74},\n",
       " mean: 0.76166, std: 0.07121, params: {'n_neighbors': 75},\n",
       " mean: 0.76166, std: 0.07121, params: {'n_neighbors': 76},\n",
       " mean: 0.76166, std: 0.07121, params: {'n_neighbors': 77},\n",
       " mean: 0.76166, std: 0.07121, params: {'n_neighbors': 78},\n",
       " mean: 0.74611, std: 0.07679, params: {'n_neighbors': 79},\n",
       " mean: 0.72539, std: 0.07679, params: {'n_neighbors': 80},\n",
       " mean: 0.67358, std: 0.10849, params: {'n_neighbors': 81},\n",
       " mean: 0.60622, std: 0.09938, params: {'n_neighbors': 82},\n",
       " mean: 0.56477, std: 0.06892, params: {'n_neighbors': 83},\n",
       " mean: 0.54404, std: 0.03865, params: {'n_neighbors': 84},\n",
       " mean: 0.54922, std: 0.03580, params: {'n_neighbors': 85},\n",
       " mean: 0.54922, std: 0.03580, params: {'n_neighbors': 86},\n",
       " mean: 0.54922, std: 0.03580, params: {'n_neighbors': 87},\n",
       " mean: 0.54922, std: 0.03580, params: {'n_neighbors': 88},\n",
       " mean: 0.54922, std: 0.03580, params: {'n_neighbors': 89},\n",
       " mean: 0.53886, std: 0.01250, params: {'n_neighbors': 90},\n",
       " mean: 0.53886, std: 0.01250, params: {'n_neighbors': 91},\n",
       " mean: 0.53886, std: 0.01250, params: {'n_neighbors': 92},\n",
       " mean: 0.53886, std: 0.01250, params: {'n_neighbors': 93},\n",
       " mean: 0.53886, std: 0.01250, params: {'n_neighbors': 94},\n",
       " mean: 0.53886, std: 0.01250, params: {'n_neighbors': 95},\n",
       " mean: 0.53886, std: 0.01250, params: {'n_neighbors': 96},\n",
       " mean: 0.53886, std: 0.01250, params: {'n_neighbors': 97},\n",
       " mean: 0.53886, std: 0.01250, params: {'n_neighbors': 98},\n",
       " mean: 0.53886, std: 0.01250, params: {'n_neighbors': 99}]"
      ]
     },
     "execution_count": 41,
     "metadata": {},
     "output_type": "execute_result"
    }
   ],
   "source": [
    "import warnings\n",
    "warnings.filterwarnings(\"ignore\", category=DeprecationWarning)\n",
    "\n",
    "# view the complete results (list of named tuples)\n",
    "grid.grid_scores_"
   ]
  },
  {
   "cell_type": "code",
   "execution_count": 42,
   "metadata": {},
   "outputs": [
    {
     "name": "stdout",
     "output_type": "stream",
     "text": [
      "{'n_neighbors': 1}\n",
      "[0.8        0.85       1.         0.85       0.89473684 0.94736842\n",
      " 0.84210526 0.84210526 0.89473684 0.61111111]\n",
      "0.8549222797927462\n"
     ]
    }
   ],
   "source": [
    "# examine the first tuple\n",
    "print(grid.grid_scores_[0].parameters)\n",
    "print(grid.grid_scores_[0].cv_validation_scores)\n",
    "print(grid.grid_scores_[0].mean_validation_score)"
   ]
  },
  {
   "cell_type": "code",
   "execution_count": 43,
   "metadata": {},
   "outputs": [
    {
     "name": "stdout",
     "output_type": "stream",
     "text": [
      "0.8549222797927462\n",
      "{'n_neighbors': 1}\n",
      "KNeighborsClassifier(algorithm='auto', leaf_size=30, metric='minkowski',\n",
      "           metric_params=None, n_jobs=1, n_neighbors=1, p=2,\n",
      "           weights='uniform')\n"
     ]
    }
   ],
   "source": [
    "# examine the best model\n",
    "print(grid.best_score_)\n",
    "print(grid.best_params_)\n",
    "print(grid.best_estimator_)"
   ]
  },
  {
   "cell_type": "markdown",
   "metadata": {},
   "source": [
    "## Reducing computational expense using `RandomizedSearchCV`"
   ]
  },
  {
   "cell_type": "code",
   "execution_count": 44,
   "metadata": {},
   "outputs": [],
   "source": [
    "from sklearn.model_selection import RandomizedSearchCV"
   ]
  },
  {
   "cell_type": "code",
   "execution_count": 45,
   "metadata": {},
   "outputs": [],
   "source": [
    "# specify \"parameter distributions\" rather than a \"parameter grid\"\n",
    "\n",
    "k_range = list(range(1, 100))\n",
    "\n",
    "param_dist = dict(n_neighbors=k_range, weights=['uniform','distance'])"
   ]
  },
  {
   "cell_type": "code",
   "execution_count": 64,
   "metadata": {},
   "outputs": [],
   "source": [
    "# n_iter controls the number of searches -- that is, how much of the potential grid do we search\n",
    "# n_iter default = 10\n",
    "rand = RandomizedSearchCV(knn, param_dist, cv=10, scoring='accuracy', \\\n",
    "                          n_iter=40)\n",
    "rand.fit(X, y);\n"
   ]
  },
  {
   "cell_type": "code",
   "execution_count": 65,
   "metadata": {},
   "outputs": [
    {
     "name": "stdout",
     "output_type": "stream",
     "text": [
      "0.8549222797927462\n",
      "{'weights': 'distance', 'n_neighbors': 2}\n"
     ]
    }
   ],
   "source": [
    "# examine the best model\n",
    "print(rand.best_score_)\n",
    "print(rand.best_params_)"
   ]
  },
  {
   "cell_type": "code",
   "execution_count": 66,
   "metadata": {},
   "outputs": [
    {
     "name": "stdout",
     "output_type": "stream",
     "text": [
      "[0.834, 0.793, 0.839, 0.819, 0.793, 0.819, 0.834, 0.824, 0.808, 0.793, 0.824, 0.793, 0.829, 0.855, 0.855, 0.788, 0.813, 0.834, 0.824, 0.824]\n"
     ]
    }
   ],
   "source": [
    "# run RandomizedSearchCV 20 times (with n_iter=10) and record the best score\n",
    "best_scores = []\n",
    "for _ in range(20):\n",
    "    rand = RandomizedSearchCV(knn, param_dist, cv=10, scoring='accuracy', n_iter=10)\n",
    "    rand.fit(X, y)\n",
    "    best_scores.append(round(rand.best_score_, 3))\n",
    "print(best_scores)"
   ]
  },
  {
   "cell_type": "code",
   "execution_count": null,
   "metadata": {},
   "outputs": [],
   "source": []
  }
 ],
 "metadata": {
  "kernelspec": {
   "display_name": "Python 3",
   "language": "python",
   "name": "python3"
  },
  "language_info": {
   "codemirror_mode": {
    "name": "ipython",
    "version": 3
   },
   "file_extension": ".py",
   "mimetype": "text/x-python",
   "name": "python",
   "nbconvert_exporter": "python",
   "pygments_lexer": "ipython3",
   "version": "3.7.3"
  },
  "toc": {
   "base_numbering": 1,
   "nav_menu": {},
   "number_sections": true,
   "sideBar": true,
   "skip_h1_title": false,
   "title_cell": "Table of Contents",
   "title_sidebar": "Contents",
   "toc_cell": false,
   "toc_position": {},
   "toc_section_display": true,
   "toc_window_display": true
  }
 },
 "nbformat": 4,
 "nbformat_minor": 2
}
