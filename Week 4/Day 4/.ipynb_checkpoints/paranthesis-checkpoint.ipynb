{
 "cells": [
  {
   "cell_type": "markdown",
   "metadata": {},
   "source": [
    "#### Pair Problem\n",
    "\n",
    "*A version of this problem was faced at a whiteboard by a Metis student in an interview for a data scientist position on April 16, 2015.*\n",
    "\n",
    "In programming languages, and especially in Lisps, there can be a lot of parentheses. The parentheses have to be \"balanced\" to be valid. For example, `()(())` is balanced, but `()())` is not balanced. Also, `)((())` is not balanced.\n",
    "\n",
    "Write a function that takes a string and returns `True` if the string's parentheses are balanced, `False` if they are not.\n",
    "\n",
    "**This is fairly easy. Once you are finished, see if you can come up with a second way to solve the problem.**\n",
    "\n",
    "Here are examples to test your function with:\n",
    "\n",
    " * `(()()()())` should return `True`\n",
    " * `(((())))` should return `True`\n",
    " * `(()((())()))` should return `True`\n",
    " * `((((((())` should return `False`\n",
    " * `()))` should return `False`\n",
    " * `(()()))(()` should return `False`"
   ]
  },
  {
   "cell_type": "code",
   "execution_count": null,
   "metadata": {},
   "outputs": [],
   "source": [
    "def checkBrackets(text):\n",
    "    s = 0\n",
    "    for c in text:\n",
    "        if c == '(':\n",
    "            s+=1\n",
    "        elif c==')':\n",
    "            s-=1\n",
    "            if s<0:\n",
    "                break\n",
    "    return not s  # Return something that is not = s. s=0. Python perceives anything that is not 0 as True."
   ]
  },
  {
   "cell_type": "markdown",
   "metadata": {},
   "source": [
    "# Recursive Solution\n",
    "Another approach is to say, for the deepest bracket, the open and close bracket will occur next to each other. So we can remove that first and then do it again and again till we are done.  \n",
    "  \n",
    "This is called recursion. Instead of solving a problem fully, you reduce it to a smaller version of itself.  \n",
    "  \n",
    "For this one, we need to remove any text that is present inside the brackets. We just use a regular expression to do that.  \n",
    "  \n",
    "This implementation isn't too efficient.  Everytime we search for a () it will cost us in the order of N. And we have to do it again and again to remove all sets of (). So the overa"
   ]
  },
  {
   "cell_type": "code",
   "execution_count": null,
   "metadata": {},
   "outputs": [],
   "source": [
    "import re\n",
    "def checkBrackets(text):\n",
    "    while '()' in text:\n",
    "        text = text.replace('()','')\n",
    "        return not text ## Return True. text will eventually become an empty string. So returning not '' returns True.\n",
    "    # Python perceives empty strings as False"
   ]
  },
  {
   "cell_type": "code",
   "execution_count": 1,
   "metadata": {},
   "outputs": [],
   "source": [
    "# Recursion is the act of calling the function to break the problem down into smaller pieces\n",
    "\n",
    "def checkBrackets(text):\n",
    "    if '()' in text:\n",
    "        return checkBrackets(text.replace('()',''))\n",
    "    else:\n",
    "        return not text"
   ]
  },
  {
   "cell_type": "code",
   "execution_count": null,
   "metadata": {},
   "outputs": [],
   "source": []
  }
 ],
 "metadata": {
  "kernelspec": {
   "display_name": "Python [conda env:metis] *",
   "language": "python",
   "name": "conda-env-metis-py"
  },
  "language_info": {
   "codemirror_mode": {
    "name": "ipython",
    "version": 3
   },
   "file_extension": ".py",
   "mimetype": "text/x-python",
   "name": "python",
   "nbconvert_exporter": "python",
   "pygments_lexer": "ipython3",
   "version": "3.7.3"
  }
 },
 "nbformat": 4,
 "nbformat_minor": 2
}
