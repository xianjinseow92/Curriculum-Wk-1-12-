{
 "cells": [
  {
   "cell_type": "markdown",
   "metadata": {},
   "source": [
    "## SQL Exercises\n",
    "\n",
    "### Learning goals:\n",
    "* Be able to run commands in the Postgres REPL\n",
    "* Be able to run simple SELECT commands to query what is in the database, and filter records using WHERE\n",
    "* Be able to run aggregations (GROUP BY), and filter groups using HAVING\n",
    "* Be able to JOIN different tables, and know which type of join (LEFT, RIGHT, INNER, OUTER) is appropriate\n",
    "* Be able to create a VIEW\n",
    "* Explain and understand why VIEWs exist, and why adding columns to the dataframe is a bad idea\n",
    "\n",
    "### Out-of-scope:\n",
    "This lesson does not cover\n",
    "* Getting the data from SQL into other formats (e.g. Python, Pandas, CSV). This is the focus of tomorrow's lecture"
   ]
  },
  {
   "cell_type": "markdown",
   "metadata": {},
   "source": [
    "### Connecting to the database\n",
    "\n",
    "In the terminal, run the command `psql`. You should see a prompt `(database)=#`, where `database` is the database you are connected to (the default one you start with is named after your username on your machine). We will connect to the `names` database with\n",
    "```sql\n",
    "username=# \\connect names;\n",
    "names=#     -- <--this is your new prompt if you connected successfully\n",
    "```\n",
    "\n",
    "In SQL, statements are ended with a semicolon.\n",
    "* Commands that being with `\\` (e.g. `\\connect`) are not SQL commands, and the semicolon is optional. It doesn't hurt. Instead, these commands are specific Postgres commands\n",
    "* SQL commands (those that don't begin with `\\`) need a semicolon.\n",
    "\n",
    "To be safe, you can put a semicolon at the end of all statements.\n",
    "\n",
    "In this worksheet, empty cells are available for you to copy the SQL strings. _We are not going to try and run anything in this workbook_.\n",
    "\n",
    "Here are a few \"slash\" commands that are useful:\n",
    "\n",
    "| Command | What it does |\n",
    "| --- | --- |\n",
    "| `\\l` | Lists all databases available |\n",
    "| `\\connect XXXXX` | Connects to database XXXXX |\n",
    "| `\\dt` | Lists all tables on the current database |\n",
    "| `\\dv` | Lists all views on the current database |\n",
    "| `\\d` | Lists all tables and views on the current database |\n",
    "| `\\d TABLE_NAME` | Show schema (i.e. **columns** and **data type** of each column) of TABLE_NAME |\n",
    "\n",
    "Run `\\dt;` now at the terminal. You should see the following output:\n",
    "```\n",
    " Schema |   Name    | Type  | Owner  \n",
    "--------+-----------+-------+--------\n",
    " public | candidate | table | damien\n",
    " public | election  | table | damien\n",
    " public | name_freq | table | damien\n",
    " public | region    | table | damien\n",
    " ```\n",
    " \n",
    "(The owner will be your name, not `damien`)"
   ]
  },
  {
   "cell_type": "markdown",
   "metadata": {},
   "source": [
    "## SQL Exercises\n",
    "\n",
    "We are going to work in the `names` database, and focusing on two tables: `name_freq` and `region`. \n",
    "\n",
    "The `name_freq` table tells us how many children of each gender were born in each state per year. If there were fewer than 5 people with that name born in that state per year, the social security administration doesn't report them for privacy reasons.\n",
    "\n",
    "### Exercise 1 (SELECT, together)\n",
    "Let's see the first few rows with our first SQL command:\n",
    "\n",
    "```sql\n",
    "=# SELECT * FROM name_freq LIMIT 10;\n",
    "```\n",
    "If you run this in the terminal, you should see \n",
    "```\n",
    " state | gender | year |   name    | freq \n",
    "-------+--------+------+-----------+------\n",
    " AK    | F      | 1951 | Linda     |   79\n",
    " AK    | F      | 1951 | Mary      |   77\n",
    " AK    | F      | 1951 | Patricia  |   45\n",
    " AK    | F      | 1951 | Susan     |   45\n",
    " AK    | F      | 1951 | Barbara   |   35\n",
    " AK    | F      | 1951 | Kathleen  |   29\n",
    " AK    | F      | 1951 | Sandra    |   29\n",
    " AK    | F      | 1951 | Margaret  |   28\n",
    " AK    | F      | 1951 | Carol     |   27\n",
    " AK    | F      | 1951 | Elizabeth |   26\n",
    " ```\n",
    " \n",
    " i.e. there were 79 (female) Linda's born in Alaska in 1951.\n",
    " \n",
    "* `SELECT` gets information from a table (or view), while `LIMIT` tells us how many rows to get. This is important if we have millions of rows of data -- when exploring the data we only want to grab a few rows.\n",
    "* The syntax for a simple select is \n",
    "  `SELECT (comma separated list of columns/fields I want) FROM (table or view)`\n",
    "  where the limit it optional. If we want all fields, the wildcard `*` is used instead.\n",
    "* SQL commmands are case insensitive. The command\n",
    "  `select * from name_freq limit 10`\n",
    "  would also work. By convention, SQL keywords (`SELECT`, `FROM`, `LIMIT`) are capitalized, while the column names, table names and views are left lowercase"
   ]
  },
  {
   "cell_type": "markdown",
   "metadata": {},
   "source": [
    "**Common Key:**  \n",
    "* Used for joining tables\n",
    "  \n",
    "  \n",
    "**LIMIT 10;**  \n",
    "* used to preview data in SQL databases\n",
    "  \n",
    "  \n",
    "**Don't name your tables after keywords:**  \n",
    "* (SELECT, FROM, lIMIT, etc)"
   ]
  },
  {
   "cell_type": "markdown",
   "metadata": {},
   "source": [
    "## Exercise 2 (you do, 2 mins)\n",
    "\n",
    "Get just the `name` and `frequency` fields from the `name_freq` table for the first 5 records. \n",
    "\n",
    "Copy the SQL string into the cell below."
   ]
  },
  {
   "cell_type": "code",
   "execution_count": null,
   "metadata": {},
   "outputs": [],
   "source": [
    "SELECT name, freq\n",
    "FROM name_freq\n",
    "LIMIT 10;"
   ]
  },
  {
   "cell_type": "markdown",
   "metadata": {},
   "source": [
    "## Next: Conditional Selection (WHERE)"
   ]
  },
  {
   "cell_type": "code",
   "execution_count": null,
   "metadata": {},
   "outputs": [],
   "source": []
  },
  {
   "cell_type": "markdown",
   "metadata": {},
   "source": [
    "## Exercise 3 (WHERE - limiting rows / COUNT aggregation, together)\n",
    "\n",
    "Let's say we were interested in the number of people named `John`. We can use `WHERE` to grab just those records:\n",
    "```sql\n",
    "#= SELECT * FROM name_freq WHERE name='John';\n",
    "```\n",
    "\n",
    "This will give us a lot of rows. Our approximation would be one record for each of the 50 states, for 66 years = 3300 rows. If you scroll through the list, you will see at the bottom there are 4110 rows! Try the following query\n",
    "\n",
    "```sql\n",
    "#= SELECT * FROM name_freq WHERE name='John' AND gender='F';\n",
    "```\n",
    "There are 744 rows of female \"John\"s! This is presumably an error in data entry.\n",
    "\n",
    "We found the number of results by scrolling through the list of returned entries. There is an aggregate function, `COUNT`, that will do this for us:\n",
    "```sql\n",
    "-- This is a comment in SQL\n",
    "-- Count the number of rows that use the name John\n",
    "-- Note same as the first query, except that we are counting rows instead\n",
    "SELECT COUNT(*) FROM name_freq WHERE name='John';\n",
    "```\n",
    "This should return \n",
    "```\n",
    " count \n",
    "-------\n",
    "  4110\n",
    "(1 row)\n",
    "```\n",
    "\n",
    "**WARNING:**\n",
    "In SQL, if you are quoting strings you *must* use single quotes (e.g. `'John'`). Double quotes are used for escaping, which is used if you have a column with a name like `COUNT` and you have to tell the difference between the SQL function `COUNT` and the column name `\"COUNT\"`. The basic rule is, always use single quotes"
   ]
  },
  {
   "cell_type": "markdown",
   "metadata": {},
   "source": [
    "## Exercise 4 (you, 3 minutes)\n",
    "\n",
    "Write an SQL query that finds the records for Kate's born in Washington state after 2010. Your query should return 6 rows. \n",
    "\n",
    "Copy the query below"
   ]
  },
  {
   "cell_type": "code",
   "execution_count": null,
   "metadata": {},
   "outputs": [],
   "source": [
    "SELECT COUNT(*)\n",
    "FROM name_freq\n",
    "WHERE name='Kate'\n",
    "AND year > 2010;"
   ]
  },
  {
   "cell_type": "markdown",
   "metadata": {},
   "source": [
    "## Exercise 5 (aggregation, GROUP BY, together)\n",
    "\n",
    "We can use `COUNT` to get the number of rows, but what if we wanted count the number of people named John in our dataset? We can use other aggregation functions, like `SUM`, instead. For example\n",
    "```sql\n",
    "=# SELECT sum(freq) FROM name_freq WHERE name='John';\n",
    "```\n",
    "will return `2,638,761` (i.e. 2.6 million). If we wanted to find the total number of people in the dataset, regardless of name:\n",
    "```sql\n",
    "=# SELECT sum(freq) FROM name_freq;\n",
    "```\n",
    "which returns `219,289,140` (i.e. 219 million people)\n",
    "\n",
    "We can also use `GROUP BY`, which is similar to the Pandas `GROUP BY`. With a group by, we pass in fields, and for each combination of fields we reduce the records in that group to a single row. Here are some examples:\n",
    "\n",
    "```sql\n",
    "--- Get the number of people named John by gender\n",
    "SELECT gender, sum(freq) FROM name_freq WHERE name='John' GROUP BY gender;\n",
    "--- returns\n",
    "---  gender |   sum   \n",
    "--- --------+---------\n",
    "---  F      |    7330\n",
    "---  M      | 2631431\n",
    "```\n",
    "i.e. for each different gender, we have the sum of frequencies for the rows we were looking at (we selected the rows where the name was John)\n",
    "\n",
    "```sql\n",
    "--- Get the number of people named John for each state in 2000\n",
    "SELECT state, sum(freq) FROM name_freq WHERE name='John' AND year=2000 GROUP BY state;\n",
    "--- returns\n",
    "---  state | sum  \n",
    "--- -------+------\n",
    "---  AK    |   49\n",
    "---  AL    |  425\n",
    "---  AR    |  195\n",
    "---  AZ    |  229\n",
    "--- etc\n",
    "```\n",
    "\n",
    "What about aliases?\n",
    "```sql\n",
    "SELECT state, sum(freq) FROM name_freq WHERE (name='John' OR name='Johnny') AND year=2000 GROUP BY state;\n",
    "```\n",
    "  \n",
    ">Must FULFILL condition 1 first (name='John' OR name='Johnny)  \n",
    "Then FULFILL condition 2 (AND year=2000)  \n",
    "    \n",
    "     \n",
    "\n",
    "We can even group by multiple things:\n",
    "```sql\n",
    "=# SELECT state, year, sum(freq) AS num_johns FROM name_freq WHERE name='John' \n",
    "-# GROUP BY state, year\n",
    "-# ORDER BY year ASC;\n",
    "--- returns \n",
    "---  state | year | num_johns \n",
    "--- -------+------+-----------\n",
    "---  AK    | 1951 |       100\n",
    "---  AL    | 1951 |      1391\n",
    "---  AR    | 1951 |       706\n",
    "---  AZ    | 1951 |       440\n",
    "---  CA    | 1951 |      5576\n",
    "---  ...   | .... |      ....\n",
    "---  AK    | 1952 |       133\n",
    "---  AL    | 1952 |      1417\n",
    "---  AR    | 1952 |       726\n",
    "---  AZ    | 1952 |       468\n",
    "---  CA    | 1952 |      5901\n",
    "---  ...   | .... |       ...\n",
    "```\n",
    "\n",
    "Note that we slipped in some sorting (ORDER BY) at the end of the command.\n",
    "\n",
    "**WARNING:**\n",
    "It is easy to write \"illegal\" statements with Group By. For example:\n",
    "```sql\n",
    "SELECT count(*), year, state FROM name_freq GROUP BY state;\n",
    "```\n",
    "is illegal because each group (i.e. `state`) should return one row. But each state has multiple `year` entries (one per record), so we don't know which year to put in here. SQL cannot actually tell what you want to do! Every column that appears after SELECT needs to be EITHER aggregated or part of the groupby.\n",
    "\n",
    "Some options:\n",
    "1. Drop `year`:\n",
    "  ```sql\n",
    "  SELECT count(*), state FROM name_freq GROUP BY state;\n",
    "  ``` \n",
    "  This is legal because each group is defined by having a single state\n",
    "2. Make year part of the GROUP BY\n",
    "  ```sql\n",
    "  SELECT state, year, COUNT(*) FROM name_freq GROUP BY state, year;\n",
    "  ```\n",
    "  This is legal beacuse each group is defined by having a single state and a single year.\n",
    "3. Aggregate on year\n",
    "  ```sql\n",
    "  SELECT state, COUNT(DISTINCT(year)), COUNT(*) FROM name_freq GROUP BY state;\n",
    "  ```\n",
    "  This is legal because we have told SQL how to combine the multiple entries for year into a single value"
   ]
  },
  {
   "cell_type": "markdown",
   "metadata": {},
   "source": [
    "# Exercise 6 (you do, 4 minutes)\n",
    "\n",
    "Write a query that tells you how many different female names there were per state, per year. \n",
    "\n",
    "Hint: you should `COUNT` records, as each record has a unique `(name, gender, state, year)` combination. You are not looking to `SUM`.\n",
    "\n",
    "You should find that for 1951 that\n",
    "- California had 1265 distinct female names\n",
    "- Illinios had 906 distinct female names\n",
    "- New York had 1156 distinct female names\n",
    "- Washington had 511 distinct female names\n",
    "\n",
    "Copy the query below."
   ]
  },
  {
   "cell_type": "code",
   "execution_count": null,
   "metadata": {},
   "outputs": [],
   "source": [
    "# You need to think logically for how to retrieve the data\n",
    "SELECT state, year, count(*) \n",
    "FROM name_freq\n",
    "WHERE gender='F'\n",
    "GROUP BY year, state;"
   ]
  },
  {
   "cell_type": "markdown",
   "metadata": {},
   "source": [
    "### Exercise 7 (SUBQUERIES and HAVING)\n",
    "\n",
    "Let's find the names that have at least 1000 people with that name in the year 2000. Finding the number of people with a given name is easy:\n",
    "```sql\n",
    "--- Find number of people with a given name in the year 2000\n",
    "SELECT name, sum(freq) AS num_people FROM name_freq WHERE year=2000 GROUP BY name;\n",
    "```\n",
    "\n",
    "We now want to take the results of this query, and get only the results where `num_people >= 1000`. i.e. we are doing a select, and from the result of that query, we are querying again. This is called using a _subquery_.\n",
    "\n",
    "Here are a couple of ways of doing this:\n",
    "```sql\n",
    "WITH num_names_in_2000 AS (\n",
    "    SELECT name, sum(freq) AS num_people FROM name_freq WHERE year=2000 GROUP BY name\n",
    "  ) \n",
    "  SELECT name, num_people FROM num_names_in_2000 WHERE num_people >= 1000 ORDER BY num_people DESC;\n",
    "```\n",
    "Here `num_names_in_2000` is a subquery (a temporary view), and then we select from that. It is possible to write this in place as well (but I personally consider it ugly):\n",
    "```sql\n",
    "SELECT name, num_people FROM (\n",
    "    SELECT name, sum(freq) as num_people FROM name_freq WHERE year=2000 GROUP BY name\n",
    "    ) AS num_names_in_2000 \n",
    "    WHERE num_people >= 1000\n",
    "    ORDER BY num_people DESC;\n",
    "```\n",
    "\n",
    "The reason for doing two queries is that the thing we want to query on isn't available until _after_ we have done the aggregation (e.g. we don't know the total number of people named \"Vivian\" until _after_ we have done the group by). There is a simpler alternative if we are just trying to filter by the results of a groupby, called HAVING (it selects groups, rather than selecting individual records). The HAVING version of this query is\n",
    "```sql\n",
    "SELECT name,sum(freq) AS num_people FROM name_freq WHERE year=2000 GROUP BY name HAVING sum(freq) >= 1000 ORDER BY num_people DESC;\n",
    "```\n",
    "\n",
    "Important to note:\n",
    "* We use `WHERE` for year, because every record has a year\n",
    "* We need to use `HAVING` for `num_people` because we only know the total per group, not per record.\n",
    "* Unfortunately, `HAVING num_people ....` doesn't work. You need to type in the formula `sum(freq)` rather than the alias. This can be enough for me to prefer subselects if the formula is very long (in subselects, I can use the alias).\n",
    "\n",
    "**Note:**\n",
    "In the previous examples, we could have grouped by name and then selected the groups by including name in the groupby and using `HAVING name='John'`, instead of `WHERE name='John'`. This is largely a matter of taste. "
   ]
  },
  {
   "cell_type": "code",
   "execution_count": null,
   "metadata": {},
   "outputs": [],
   "source": [
    "# Making code easier to read\n",
    "WITH num_names_in_2000 AS (\n",
    "    SELECT name, sum(freq) AS num_people\n",
    "    FROM name_freq\n",
    "    WHEERE year=2000\n",
    "    GROUP BY name\n",
    ")\n",
    "SELECT name, num_people\n",
    "FROM num_names_in_2000\n",
    "WHERE num_people >= 1000\n",
    "ORDER BY num_people DESC;"
   ]
  },
  {
   "cell_type": "markdown",
   "metadata": {},
   "source": [
    "## Exercise 8 (you do, 5 minutes)\n",
    "\n",
    "Write a query that finds the states that have at least 800 distinct names in 1951. You can use `COUNT(DISTINCT(name))` to count the number of distinct names.\n",
    "\n",
    "Your query should return 26 rows."
   ]
  },
  {
   "cell_type": "code",
   "execution_count": null,
   "metadata": {},
   "outputs": [],
   "source": [
    "SELECT count(*) FROM (\n",
    "    SELECT state \n",
    "    FROM name_freq\n",
    "    WHERE year=1951\n",
    "    GROUP BY state HAVING COUNT(DISTINCT(name)) >= 800);"
   ]
  },
  {
   "cell_type": "code",
   "execution_count": null,
   "metadata": {},
   "outputs": [],
   "source": [
    "SELECT state \n",
    "FROM name_freq\n",
    "WHERE year=1951\n",
    "GROUP BY state HAVING COUNT(DISTINCT(name)) >= 800;"
   ]
  },
  {
   "cell_type": "markdown",
   "metadata": {},
   "source": [
    "## Exercise 9 (you do, <1 minute)\n",
    "\n",
    "What are the columns on the `region` table? Select the entire table and look at the rows. \n",
    "\n",
    "Copy the query below"
   ]
  },
  {
   "cell_type": "code",
   "execution_count": null,
   "metadata": {},
   "outputs": [],
   "source": [
    "SELECT *\n",
    "FROM region;"
   ]
  },
  {
   "cell_type": "markdown",
   "metadata": {},
   "source": [
    "## Exercise 10 (you do, 1 minute)\n",
    "\n",
    "How many different regions are there in the region table?\n",
    "\n",
    "Copy the query below"
   ]
  },
  {
   "cell_type": "code",
   "execution_count": null,
   "metadata": {},
   "outputs": [],
   "source": [
    "SELECT count(distinct(reigion)) \n",
    "FROM region;"
   ]
  },
  {
   "cell_type": "markdown",
   "metadata": {},
   "source": [
    "## Joining and views.\n",
    "\n",
    "Joining does the same thing as the merge command in Pandas. If we look at the regions table, it tells which region of the US each state belongs to (e.g. `CA` is in the `Pacific`, `IL` is in the `Midwest`, `NY` is in the `Mid_Atlantic`, et cetera).\n",
    "\n",
    "We might be interested in knowing questions like \"What is the most popular girl's name in the South?\" \n",
    "This is difficult to answer right now, because the information about the names is on one table (`name_freq`), and the list of which states are part of the South belongs to another table (`region`).\n",
    "\n",
    "\n",
    "In **Pandas**, we would create a new dataframe that merged `name_freq` and `region` on the common `state` column. This would create a brand new dataframe. The disadvantages of this approach are:\n",
    "* It uses a lot of memory (we copy both `name_freq` and `region` information)\n",
    "* It allows us to make data inconsistent (e.g. I could change `CA` to the `midwest` for one particular year in the Pandas approach)\n",
    "\n",
    "For SQL, we join the tables together to make a **VIEW**. A view acts just like a table when selecting, except we cannot add new data to it, update data on it, or delete data from it. The result sets we have been getting back so far are actually views. When we join the `name_freq` and `region` tables together to make a new view, if we change the data on `name_freq` or `region`, the view automatically updates. The disadvantage of this approach is\n",
    "* It is slower to run (basically the view is recreated each time we query it).\n",
    "\n",
    "Let's make a join between the `name_freq` and `region` tables, then show how to use it as a view:\n",
    "\n",
    "```sql\n",
    "SELECT name_freq.*, region.region FROM \n",
    "        name_freq LEFT JOIN region          -- keep all rows of name_freq, match where possible on region\n",
    "        ON name_freq.state = region.state   -- match rows if name_freq.state is the same as region.state\n",
    "        LIMIT 20;                           -- only keep 20 rows\n",
    "```\n",
    "\n",
    "If we want to keep the region information around to query, instead of making a view each time, we can save it to access whenever we want:\n",
    "```sql\n",
    "CREATE VIEW name_freq_region AS (\n",
    "    SELECT name_freq.*, region.region FROM \n",
    "      name_freq LEFT JOIN region\n",
    "      ON name_freq.state = region.state\n",
    "      -- no limit!\n",
    "    );\n",
    "```\n",
    "\n",
    "You can access the available views by using the command `\\dv`"
   ]
  },
  {
   "cell_type": "code",
   "execution_count": null,
   "metadata": {},
   "outputs": [],
   "source": [
    "SELECT name_freq.*, region.region FROM \n",
    "        name_freq LEFT JOIN region      \n",
    "        ON name_freq.state = region.state   \n",
    "        LIMIT 20; "
   ]
  },
  {
   "cell_type": "code",
   "execution_count": null,
   "metadata": {},
   "outputs": [],
   "source": [
    "CREATE VIEW name_freq_region AS (\n",
    "    SELECT name_freq.*, region.region FROM \n",
    "      name_freq LEFT JOIN region\n",
    "      ON name_freq.state = region.state\n",
    "    LIMIT 100\n",
    "    );"
   ]
  },
  {
   "cell_type": "code",
   "execution_count": null,
   "metadata": {},
   "outputs": [],
   "source": []
  },
  {
   "cell_type": "code",
   "execution_count": 1,
   "metadata": {},
   "outputs": [],
   "source": [
    "# The result of JOIN BY is a VIEW. It is in a tabular form\n",
    "\n",
    "# And you cannot do anything on a VIEW. It is NOT a table!\n",
    "# And anything you do in the original dataframe will change what happens on the view. \n",
    "# (View automatically updates when you do anything in the OG datframe)"
   ]
  },
  {
   "cell_type": "code",
   "execution_count": null,
   "metadata": {},
   "outputs": [],
   "source": []
  },
  {
   "cell_type": "markdown",
   "metadata": {},
   "source": [
    "## Exercise 11 (together, UPDATE)\n",
    "\n",
    "Let's look at Rhode Island from the region table:\n",
    "```sql\n",
    "SELECT * FROM region WHERE state='RI';\n",
    "-- returns\n",
    "--  state |   region    \n",
    "-- -------+-------------\n",
    "--  RI    | New_England\n",
    "```\n",
    "\n",
    "Let's look at 5 rows from the name_freq_region table from Rhode Island:\n",
    "```sql\n",
    "SELECT * FROM name_freq_region WHERE state='RI' LIMIT 5;\n",
    "-- returns \n",
    "--  state | gender | year |   name   | freq |   region    \n",
    "-- -------+--------+------+----------+------+-------------\n",
    "--  RI    | F      | 1951 | Linda    |  385 | New_England\n",
    "--  RI    | F      | 1951 | Patricia |  376 | New_England\n",
    "--  RI    | F      | 1951 | Susan    |  285 | New_England\n",
    "--  RI    | F      | 1951 | Deborah  |  270 | New_England\n",
    "--  RI    | F      | 1951 | Kathleen |  258 | New_England\n",
    "```\n",
    "\n",
    "Now let's change where Rhode Isalnd is (we will need this for tomorrow)\n",
    "```sql\n",
    "UPDATE region SET region='Midwest' WHERE state='RI'; -- changes the region table\n",
    "```\n",
    "\n",
    "Now check the changes:\n",
    "```sql\n",
    "SELECT * FROM region WHERE state='RI';\n",
    "-- returns\n",
    "--  state |   region    \n",
    "-- -------+-------------\n",
    "--  RI    | Midwest\n",
    "```\n",
    "which was expected. \n",
    "\n",
    "What should be returned by this?\n",
    "```sql\n",
    "SELECT * FROM name_freq_region WHERE state='RI' LIMIT 5;\n",
    "```\n"
   ]
  },
  {
   "cell_type": "code",
   "execution_count": null,
   "metadata": {},
   "outputs": [],
   "source": [
    "# Note: don't 'correct' Rhode Island back to New_England. We will do that tomorrow!"
   ]
  },
  {
   "cell_type": "markdown",
   "metadata": {},
   "source": [
    "## Exercise 12 (you do)\n",
    "\n",
    "* List the different distinct regions that exist in the region table. There should be one that looks like a typo\n",
    "* Update the rows with the region that has the typo.\n"
   ]
  },
  {
   "cell_type": "markdown",
   "metadata": {},
   "source": [
    "## Future work\n",
    "\n",
    "Congratulations! You have the SQL fundamentals down.\n",
    "\n",
    "Now try some of the exercises in [03_SQL_lab_questions.md](03_SQL_lab_questions.md)"
   ]
  },
  {
   "cell_type": "code",
   "execution_count": null,
   "metadata": {},
   "outputs": [],
   "source": []
  }
 ],
 "metadata": {
  "kernelspec": {
   "display_name": "Python [conda env:metis] *",
   "language": "python",
   "name": "conda-env-metis-py"
  },
  "language_info": {
   "codemirror_mode": {
    "name": "ipython",
    "version": 3
   },
   "file_extension": ".py",
   "mimetype": "text/x-python",
   "name": "python",
   "nbconvert_exporter": "python",
   "pygments_lexer": "ipython3",
   "version": "3.7.3"
  }
 },
 "nbformat": 4,
 "nbformat_minor": 2
}
