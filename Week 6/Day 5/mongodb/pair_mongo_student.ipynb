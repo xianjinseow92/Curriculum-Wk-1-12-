{
 "cells": [
  {
   "cell_type": "markdown",
   "metadata": {},
   "source": [
    "Today's pair will be practicing with requests and mongo db. Before starting, you will need to have your mongo daemon running. \n",
    "\n",
    "To check if it is running, try typing `mongo` in the shell. If you cannot connect, then use the following command to start your mongo daemon, then return to this notebook.\n",
    "\n",
    "| OS | command |\n",
    "|---|---|\n",
    "| OS X | `brew services start mongodb` (brew install) |\n",
    "| OS X | `mongod` (other install) |\n",
    "| Ubuntu | `sudo service mongod start` |\n"
   ]
  },
  {
   "cell_type": "code",
   "execution_count": null,
   "metadata": {},
   "outputs": [],
   "source": [
    "from pymongo import MongoClient\n",
    "import requests\n",
    "\n",
    "client = MongoClient()"
   ]
  },
  {
   "cell_type": "markdown",
   "metadata": {},
   "source": [
    "Type `client.` and then press `<TAB>` to see the methods available on the client object. Write a query that shows you all databases available to you."
   ]
  },
  {
   "cell_type": "code",
   "execution_count": null,
   "metadata": {},
   "outputs": [],
   "source": [
    "## find list of available databases"
   ]
  },
  {
   "cell_type": "markdown",
   "metadata": {},
   "source": [
    "There are lots of interesting APIs out there. One good list of API end points can be found in this [public api github repo](https://github.com/toddmotto/public-apis). For example:\n",
    "* There is a link to the [CTA API](https://www.transitchicago.com/developers/) (requires API key).\n",
    "* There is a link to [easy an easy to use weather API](https://www.metaweather.com/api/) (no API key needed).\n",
    "* There is a link to [tv maze](http://www.tvmaze.com/api), a collection of trivia about television shows.\n",
    "* A link to open [demographic data](http://blog.inqubu.com/inqstats-open-api-published-to-get-demographic-data) (need an API key)\n",
    "\n",
    "For example, you can find all travel shows for the keyword travel using the tv maze API"
   ]
  },
  {
   "cell_type": "code",
   "execution_count": null,
   "metadata": {},
   "outputs": [],
   "source": [
    "!curl 'http://api.tvmaze.com/search/shows?q=travel' | json_pp | head -n 40"
   ]
  },
  {
   "cell_type": "markdown",
   "metadata": {},
   "source": [
    "We will use the Chicago City 2017 movie in the park dataset, available at the following URL:"
   ]
  },
  {
   "cell_type": "code",
   "execution_count": null,
   "metadata": {},
   "outputs": [],
   "source": [
    "chi2017_movie_url = 'https://data.cityofchicago.org/resource/qkwe-rtm8.json'"
   ]
  },
  {
   "cell_type": "markdown",
   "metadata": {},
   "source": [
    "1. Make a request object `r` that makes a GET request from the API above, and look at the returned object in `r.json()`"
   ]
  },
  {
   "cell_type": "code",
   "execution_count": null,
   "metadata": {},
   "outputs": [],
   "source": [
    "# Make a request to the city of chicago resource in chi2017_movie_url\n"
   ]
  },
  {
   "cell_type": "markdown",
   "metadata": {},
   "source": [
    "<ol start=\"2\">\n",
    "    <li>How many movies are there (i.e. what is the length of `r.json()`)?</li>\n",
    "</ol>"
   ]
  },
  {
   "cell_type": "code",
   "execution_count": null,
   "metadata": {},
   "outputs": [],
   "source": [
    "# Find length of returned request (should be 237)\n"
   ]
  },
  {
   "cell_type": "markdown",
   "metadata": {},
   "source": [
    "<ol start=\"3\">\n",
    "    <li>The code in the next cell creates an \"events\" database, and a \"movies\" collection inside events. Put all the movies in `r.json()` into the movies collection.</li>\n",
    "</ol>"
   ]
  },
  {
   "cell_type": "code",
   "execution_count": null,
   "metadata": {},
   "outputs": [],
   "source": [
    "# Don't delete. Creates movies collection inside events database, if it doesn't already exist\n",
    "db = client.events\n",
    "movies = db.movies"
   ]
  },
  {
   "cell_type": "code",
   "execution_count": null,
   "metadata": {},
   "outputs": [],
   "source": [
    "# insert movies\n"
   ]
  },
  {
   "cell_type": "code",
   "execution_count": null,
   "metadata": {},
   "outputs": [],
   "source": [
    "# In this cell, query the \"movies\" collection to see how many movies are in it. Should match the length of\n",
    "# r.json() found earlier\n"
   ]
  },
  {
   "cell_type": "markdown",
   "metadata": {},
   "source": [
    "<ol start=\"4\">\n",
    "    <li> Which park(s) showed \"Moana\"?</li>\n",
    "</ol>\n",
    "\n",
    "_Hint:_ The `find` method (and many other methods) return cursors to iterate through rather than results, because we don't know ahead of time how many results we are going to get. A simple way to get results is to call `list(...)` on the cursor object"
   ]
  },
  {
   "cell_type": "code",
   "execution_count": null,
   "metadata": {},
   "outputs": [],
   "source": [
    "# Find park(s) that played Moana\n"
   ]
  },
  {
   "cell_type": "markdown",
   "metadata": {},
   "source": [
    "<ol start=\"5\">\n",
    "    <li>How many movies from this dataset have a rating of `PG`?</li>\n",
    "</ol>"
   ]
  },
  {
   "cell_type": "code",
   "execution_count": null,
   "metadata": {},
   "outputs": [],
   "source": []
  },
  {
   "cell_type": "markdown",
   "metadata": {},
   "source": [
    "<ol start=\"6\">\n",
    "    <li>Print out the names of all the movies that have a rating of `G`</li>\n",
    "</ol>"
   ]
  },
  {
   "cell_type": "code",
   "execution_count": null,
   "metadata": {},
   "outputs": [],
   "source": []
  },
  {
   "cell_type": "markdown",
   "metadata": {},
   "source": [
    "<ol start=\"7\">\n",
    "    <li>Some of the movies were sponsored by organizations other than the city of Chicago. When this happens, the `underwriter` field tells us who sponsered the movie. Find the movie title, park, and underwriter for each sponsored movie.\n",
    "    </li>\n",
    "</ol>\n",
    "    \n",
    "_HINT_: Look at the [`$exists` operator](https://docs.mongodb.com/manual/reference/operator/query/exists/)"
   ]
  },
  {
   "cell_type": "code",
   "execution_count": null,
   "metadata": {},
   "outputs": [],
   "source": []
  },
  {
   "cell_type": "markdown",
   "metadata": {},
   "source": [
    "<ol start=\"8\">\n",
    "    <li>Get a list of all the different parks that hosted movies in the park.</li>\n",
    "</ol>\n",
    "\n",
    "_HINT:_ Look at the `distinct` method on a cursor (practice finding the docs)"
   ]
  },
  {
   "cell_type": "code",
   "execution_count": null,
   "metadata": {},
   "outputs": [],
   "source": []
  },
  {
   "cell_type": "markdown",
   "metadata": {},
   "source": [
    "<ol start=\"9\">\n",
    "    <li>Get a list of parks and the number of movies they showed, for the parks that showed at least 4 movies\n",
    "    </li>\n",
    "</ol>\n",
    "\n",
    "_Hint:_ Look at the aggregate operator, as well as `$group`, `$match`, `$sum`, and `$gte`. Our example of how to find the top 20 hashtags might be useful here."
   ]
  },
  {
   "cell_type": "code",
   "execution_count": null,
   "metadata": {},
   "outputs": [],
   "source": []
  },
  {
   "cell_type": "markdown",
   "metadata": {},
   "source": [
    "Harder!\n",
    "\n",
    "<ol start=\"10\">\n",
    "    <li>Return a count of the movies grouped by rating and park</li>\n",
    "</ol>\n",
    "\n",
    "e.g.\n",
    "\n",
    "`A. Montgomery Ward Park` appears twice: it showed 4 `PG-13` movies and 2 `PG` movies."
   ]
  },
  {
   "cell_type": "code",
   "execution_count": null,
   "metadata": {},
   "outputs": [],
   "source": []
  }
 ],
 "metadata": {
  "kernelspec": {
   "display_name": "metis",
   "language": "python",
   "name": "metis"
  },
  "language_info": {
   "codemirror_mode": {
    "name": "ipython",
    "version": 3
   },
   "file_extension": ".py",
   "mimetype": "text/x-python",
   "name": "python",
   "nbconvert_exporter": "python",
   "pygments_lexer": "ipython3",
   "version": "3.6.4"
  }
 },
 "nbformat": 4,
 "nbformat_minor": 2
}
