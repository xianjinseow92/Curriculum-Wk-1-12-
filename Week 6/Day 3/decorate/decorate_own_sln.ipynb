{
 "cells": [
  {
   "cell_type": "markdown",
   "metadata": {},
   "source": [
    "# Use case for decorators:\n",
    "- You can use this to time your models."
   ]
  },
  {
   "cell_type": "code",
   "execution_count": null,
   "metadata": {},
   "outputs": [],
   "source": []
  },
  {
   "cell_type": "code",
   "execution_count": null,
   "metadata": {},
   "outputs": [],
   "source": []
  },
  {
   "cell_type": "code",
   "execution_count": null,
   "metadata": {},
   "outputs": [],
   "source": []
  },
  {
   "cell_type": "markdown",
   "metadata": {},
   "source": [
    "#### Pair Problem\n",
    "\n",
    "This function is boring:\n",
    "\n",
    "```python\n",
    "def square(x):\n",
    "    return x * x\n",
    "\n",
    "square(5)\n",
    "## 25\n",
    "```\n",
    "\n",
    "Write a [_decorator_](https://www.thecodeship.com/patterns/guide-to-python-function-decorators/) called `talky` so that when you run this:\n",
    "\n",
    "```python\n",
    "@talky\n",
    "def square(x):\n",
    "    return x * x\n",
    "\n",
    "answer = square(5)\n",
    "```\n",
    "\n",
    "You get the following output:\n",
    "\n",
    "```\n",
    "Oh hi!\n",
    "The result sure is 25!\n",
    "```\n",
    "\n",
    "---\n",
    "\n",
    "Extension: Write a decorator `talky_with`, so that when you run this:\n",
    "\n",
    "```python\n",
    "@talky_with(\"Aaron\")\n",
    "def square(x):\n",
    "    return x * x\n",
    "\n",
    "answer = square(5)\n",
    "```\n",
    "\n",
    "You get the following output:\n",
    "\n",
    "```\n",
    "Oh hi! I'm Aaron.\n",
    "The result sure is 25!\n",
    "```"
   ]
  },
  {
   "cell_type": "code",
   "execution_count": null,
   "metadata": {},
   "outputs": [],
   "source": []
  },
  {
   "cell_type": "code",
   "execution_count": 36,
   "metadata": {},
   "outputs": [],
   "source": [
    "def talky(a_function):\n",
    "    def wrapper(var):\n",
    "        output = print(f'Hi bish!\\nThe result sure is {a_function(var)}!')\n",
    "        return output\n",
    "    return wrapper\n",
    "    "
   ]
  },
  {
   "cell_type": "code",
   "execution_count": 37,
   "metadata": {},
   "outputs": [
    {
     "name": "stdout",
     "output_type": "stream",
     "text": [
      "Hi bish!\n",
      "The result sure is 25!\n"
     ]
    }
   ],
   "source": [
    "@talky\n",
    "def square(x):\n",
    "    return x * x\n",
    "\n",
    "answer = square(5)"
   ]
  },
  {
   "cell_type": "code",
   "execution_count": null,
   "metadata": {},
   "outputs": [],
   "source": []
  },
  {
   "cell_type": "code",
   "execution_count": 42,
   "metadata": {},
   "outputs": [],
   "source": [
    "def square(x):\n",
    "    return x*x"
   ]
  },
  {
   "cell_type": "code",
   "execution_count": 51,
   "metadata": {},
   "outputs": [],
   "source": [
    "import functools  # enables your functions to carry its name across\n",
    "def talky(a_function):  # Takes in a function\n",
    "    @functools.wraps(a_function)  # allows you to maintain the name of that function you take in\n",
    "    \n",
    "    def manipulate_function(*args, **kwargs):  # allows you to pull in your function while still holding on to the parameters that were passed into it\n",
    "        print('Oh hi!')\n",
    "        result = a_function(*args,    \n",
    "                           **kwargs) #passing in the parameters from a_function (the called function by talky) into itself\n",
    "        print('The results sure is {}'.format(result))\n",
    "    return manipulate_function  # returns all the contents of manipulate_function"
   ]
  },
  {
   "cell_type": "code",
   "execution_count": 52,
   "metadata": {},
   "outputs": [
    {
     "name": "stdout",
     "output_type": "stream",
     "text": [
      "Oh hi!\n",
      "The results sure is 25\n"
     ]
    }
   ],
   "source": [
    "# Using talky and square\n",
    "@talky\n",
    "def square(x):\n",
    "    return x * x\n",
    "\n",
    "square(5)"
   ]
  },
  {
   "cell_type": "code",
   "execution_count": null,
   "metadata": {},
   "outputs": [],
   "source": []
  },
  {
   "cell_type": "code",
   "execution_count": null,
   "metadata": {},
   "outputs": [],
   "source": []
  },
  {
   "cell_type": "code",
   "execution_count": null,
   "metadata": {},
   "outputs": [],
   "source": []
  },
  {
   "cell_type": "code",
   "execution_count": null,
   "metadata": {},
   "outputs": [],
   "source": []
  },
  {
   "cell_type": "code",
   "execution_count": null,
   "metadata": {},
   "outputs": [],
   "source": []
  },
  {
   "cell_type": "markdown",
   "metadata": {},
   "source": [
    "# Instructor Solution"
   ]
  },
  {
   "cell_type": "code",
   "execution_count": 38,
   "metadata": {},
   "outputs": [],
   "source": [
    "# Decorator is a more advanced python"
   ]
  },
  {
   "cell_type": "code",
   "execution_count": 40,
   "metadata": {},
   "outputs": [],
   "source": [
    "# A decorator function is a function that allows you to do something with another function \n",
    "# without manipulating the core code of that function"
   ]
  },
  {
   "cell_type": "code",
   "execution_count": null,
   "metadata": {},
   "outputs": [],
   "source": []
  },
  {
   "cell_type": "code",
   "execution_count": null,
   "metadata": {},
   "outputs": [],
   "source": []
  },
  {
   "cell_type": "code",
   "execution_count": null,
   "metadata": {},
   "outputs": [],
   "source": []
  },
  {
   "cell_type": "code",
   "execution_count": null,
   "metadata": {},
   "outputs": [],
   "source": [
    "import functools  # enables your functions to carry its name across\n",
    "\n",
    "def talky(old_function):  # do not actually need to know how many parameters are passed into our old function\n",
    "    @functools.wraps(old_function)\n",
    "    \n",
    "    def new_function(*args, **kwargs):  # args are tuples, kwargs are dictionaries\n",
    "        print(\"OH hi!\")\n",
    "        result = old_function(*args, **kwargs)\n",
    "        print(\"THe result sure is {}\".format(result))\n",
    "        return results\n",
    "    return new_function"
   ]
  },
  {
   "cell_type": "code",
   "execution_count": null,
   "metadata": {},
   "outputs": [],
   "source": [
    "@talky  # CALLS the function, square. Doesn't really do anything to it yet. Just calls the function\n",
    "def square(x):\n",
    "    return x * x\n",
    "\n",
    "answer = square(5)"
   ]
  },
  {
   "cell_type": "code",
   "execution_count": null,
   "metadata": {},
   "outputs": [],
   "source": []
  },
  {
   "cell_type": "code",
   "execution_count": null,
   "metadata": {},
   "outputs": [],
   "source": [
    "def get_text(name):\n",
    "    \"\"\"returns some text\"\"\"\n",
    "    return \"HEllo \" + name"
   ]
  },
  {
   "cell_type": "code",
   "execution_count": null,
   "metadata": {},
   "outputs": [],
   "source": [
    "def htmltags(get_text):  # takes in a function \n",
    "    @functools.wraps(get_text)  # just allows you to maintain the original name of your code. important for debugging!\n",
    "    def func_wrapper(*args, **kwargs):  # This one does new shit/allows you to work on the function that is called from htmltags\n",
    "        \n",
    "        return \"blabla {}\".format('bla', get_text(*args, **kwargs))  # *args and **kwargs allows you to bring over any parameter that is called into the get_text function\n",
    "    return func_wrapper"
   ]
  }
 ],
 "metadata": {
  "kernelspec": {
   "display_name": "Python [conda env:metis] *",
   "language": "python",
   "name": "conda-env-metis-py"
  },
  "language_info": {
   "codemirror_mode": {
    "name": "ipython",
    "version": 3
   },
   "file_extension": ".py",
   "mimetype": "text/x-python",
   "name": "python",
   "nbconvert_exporter": "python",
   "pygments_lexer": "ipython3",
   "version": "3.7.3"
  }
 },
 "nbformat": 4,
 "nbformat_minor": 2
}
