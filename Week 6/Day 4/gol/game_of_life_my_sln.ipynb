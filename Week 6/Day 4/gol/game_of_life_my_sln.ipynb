{
 "cells": [
  {
   "cell_type": "markdown",
   "metadata": {},
   "source": [
    "### Pair Problem\n",
    "\n",
    "Can you build a game of life in Python: http://www.bitstorm.org/gameoflife/\n",
    "\n",
    "Feel free to hardcode the boardsize, speed and starting configuration into your program. And you can make the board out of anything: ones and zeros or pluses and dots. I just want to see the evolution of the board.\n",
    "\n",
    "To update the board, this function is handy:\n",
    "\n",
    "    from IPython import display\n",
    "    display.clear_output(wait=True)"
   ]
  },
  {
   "cell_type": "markdown",
   "metadata": {},
   "source": [
    "The Rules  \n",
    "For a space that is populated:  \n",
    "Each cell with one or no neighbors dies, as if by solitude.  \n",
    "Each cell with four or more neighbors dies, as if by overpopulation.  \n",
    "Each cell with two or three neighbors survives.  \n",
    "For a space that is empty or unpopulated  \n",
    "Each cell with three neighbors becomes populated.  "
   ]
  },
  {
   "cell_type": "code",
   "execution_count": 6,
   "metadata": {},
   "outputs": [],
   "source": [
    "import numpy as np\n",
    "import pandas as pd\n",
    "import matplotlib.pyplot as plt\n",
    "import argparse \n",
    "import matplotlib.animation as animation \n",
    "\n",
    "from IPython import display\n",
    "display.clear_output(wait=True)"
   ]
  },
  {
   "cell_type": "code",
   "execution_count": 7,
   "metadata": {},
   "outputs": [],
   "source": [
    "# setting up the values for the grid \n",
    "ON = 255\n",
    "OFF = 0\n",
    "vals = [ON, OFF] "
   ]
  },
  {
   "cell_type": "code",
   "execution_count": null,
   "metadata": {},
   "outputs": [],
   "source": []
  },
  {
   "cell_type": "code",
   "execution_count": 4,
   "metadata": {},
   "outputs": [],
   "source": [
    "class Cell:\n",
    "    def __init__(self, space_exist=0):\n",
    "        self.__init__                      # Cell will call on itself continuously\n",
    "        \n",
    "        self.alive = False\n",
    "        if space_exist==1:\n",
    "            self.alive = True\n",
    "        \n",
    "    def check_space_around_cell(self):#Cell will continuously check 8 spaces around itself because rules of game state\n",
    "        ## write code for cell to do a check\n",
    "        \n",
    "        ## if cell = Cell() not in space_around:\n",
    "            self.alive = False\n",
    "            space_exist == 0\n",
    "        \n",
    "    "
   ]
  },
  {
   "cell_type": "code",
   "execution_count": null,
   "metadata": {},
   "outputs": [],
   "source": []
  }
 ],
 "metadata": {
  "kernelspec": {
   "display_name": "Python [conda env:metis] *",
   "language": "python",
   "name": "conda-env-metis-py"
  },
  "language_info": {
   "codemirror_mode": {
    "name": "ipython",
    "version": 3
   },
   "file_extension": ".py",
   "mimetype": "text/x-python",
   "name": "python",
   "nbconvert_exporter": "python",
   "pygments_lexer": "ipython3",
   "version": "3.7.3"
  }
 },
 "nbformat": 4,
 "nbformat_minor": 2
}
