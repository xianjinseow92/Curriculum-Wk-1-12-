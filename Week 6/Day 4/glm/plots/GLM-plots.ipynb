{
 "cells": [
  {
   "cell_type": "code",
   "execution_count": null,
   "metadata": {},
   "outputs": [],
   "source": [
    "import matplotlib.pyplot as plt\n",
    "import numpy as np\n",
    "import pandas as pd\n",
    "%matplotlib inline\n",
    "\n",
    "#%config InlineBackend.figure_format = 'svg'\n",
    "\n",
    "%config InlineBackend.figure_format = 'png'\n",
    "import matplotlib as mpl\n",
    "mpl.rcParams['figure.dpi']= 300\n",
    "mpl.rcParams['figure.figsize']=[8.0,6.0]"
   ]
  },
  {
   "cell_type": "code",
   "execution_count": null,
   "metadata": {},
   "outputs": [],
   "source": [
    "import scipy.stats as st"
   ]
  },
  {
   "cell_type": "code",
   "execution_count": null,
   "metadata": {},
   "outputs": [],
   "source": [
    "st.norm.ppf(0.9)"
   ]
  },
  {
   "cell_type": "code",
   "execution_count": null,
   "metadata": {},
   "outputs": [],
   "source": [
    "from sklearn.linear_model import LinearRegression"
   ]
  },
  {
   "cell_type": "code",
   "execution_count": null,
   "metadata": {},
   "outputs": [],
   "source": [
    "lr = LinearRegression()"
   ]
  },
  {
   "cell_type": "code",
   "execution_count": null,
   "metadata": {},
   "outputs": [],
   "source": [
    "lr.fit(x.reshape(-1,1),y)"
   ]
  },
  {
   "cell_type": "code",
   "execution_count": null,
   "metadata": {},
   "outputs": [],
   "source": [
    "lr.predict(x.reshape(-1,1))"
   ]
  },
  {
   "cell_type": "code",
   "execution_count": null,
   "metadata": {},
   "outputs": [],
   "source": [
    "np.random.seed(43)\n",
    "x = np.linspace(-2,2,20)\n",
    "y = np.random.normal((x+1)*(x+1),1,size=20)\n",
    "# yhat = (x+1)*(x+1)\n",
    "\n",
    "lr = LinearRegression()\n",
    "lr.fit(x.reshape(-1,1),y)\n",
    "yhat = lr.predict(x.reshape(-1,1))\n",
    "\n",
    "r = y-yhat\n",
    "\n",
    "for (xj,yj,yhatj) in zip(x,y,yhat):\n",
    "    plt.plot([xj,xj],[yhatj,yj],'k--',zorder=1,lw=1)\n",
    "\n",
    "plt.plot(x,yhat,c='C0',zorder=2)\n",
    "\n",
    "# plt.scatter(x,y,marker='s',c='C1',zorder=3);\n",
    "plt.scatter(x,y,marker='s',s=200*(st.norm(y,1).logpdf(y)-st.norm(yhat,1).logpdf(y)),c='C1',zorder=3);\n",
    "\n",
    "plt.xlabel('$x$')\n",
    "plt.ylabel('$y$');\n",
    "plt.ylim(-2,9);\n"
   ]
  },
  {
   "cell_type": "code",
   "execution_count": null,
   "metadata": {},
   "outputs": [],
   "source": [
    "np.random.seed(43)\n",
    "x = np.linspace(-2,2,20)\n",
    "y = np.random.normal((x+1)*(x+1),1,size=20)\n",
    "# yhat = (x+1)*(x+1)\n",
    "\n",
    "lr = LinearRegression()\n",
    "lr.fit(x.reshape(-1,1),y)\n",
    "yhat = lr.predict(x.reshape(-1,1))\n",
    "\n",
    "r = y-yhat\n",
    "\n",
    "for (xj,rj) in zip(x,r):\n",
    "    plt.plot([xj,xj],[0,rj],'k--',zorder=1,lw=1)\n",
    "\n",
    "plt.plot(x,np.zeros_like(x),c='C0',zorder=2)\n",
    "\n",
    "# plt.scatter(x,y,marker='s',c='C1',zorder=3);\n",
    "plt.scatter(x,r,marker='s',s=200*(st.norm(y,1).logpdf(y)-st.norm(yhat,1).logpdf(y)),c='C1',zorder=3);\n",
    "\n",
    "plt.xlabel('$x$')\n",
    "plt.ylabel('$r = y - \\hat{y}$');\n",
    "plt.ylim(-3.5,3)\n",
    "plt.yticks([-3,-2,-1,0,1,2,3]);\n"
   ]
  },
  {
   "cell_type": "code",
   "execution_count": null,
   "metadata": {},
   "outputs": [],
   "source": [
    "np.random.seed(43)\n",
    "x = np.linspace(-2,2,20)\n",
    "y = np.random.normal((x+1)*(x+1),1,size=20)\n",
    "# yhat = (x+1)*(x+1)\n",
    "\n",
    "lr = LinearRegression()\n",
    "lr.fit(x.reshape(-1,1),y)\n",
    "yhat = lr.predict(x.reshape(-1,1))\n",
    "\n",
    "r = y-yhat\n",
    "\n",
    "for (xj,yhatj,rj) in zip(x,yhat,r):\n",
    "    plt.plot([yhatj,yhatj],[0,rj],'k--',zorder=1,lw=1)\n",
    "\n",
    "plt.plot(yhat,np.zeros_like(x),c='C0',zorder=2)\n",
    "\n",
    "# plt.scatter(x,y,marker='s',c='C1',zorder=3);\n",
    "plt.scatter(yhat,r,marker='s',s=200*(st.norm(y,1).logpdf(y)-st.norm(yhat,1).logpdf(y)),c='C1',zorder=3);\n",
    "\n",
    "plt.xlabel('$\\hat{y}$')\n",
    "plt.ylabel('$r = y - \\hat{y}$');\n",
    "plt.ylim(-3.5,3)\n",
    "plt.yticks([-3,-2,-1,0,1,2,3]);\n"
   ]
  },
  {
   "cell_type": "code",
   "execution_count": null,
   "metadata": {},
   "outputs": [],
   "source": [
    "np.random.seed(43)\n",
    "x = np.linspace(-2,2,20)\n",
    "y = np.random.normal((x+1)*(x+1),1,size=20)\n",
    "# yhat = (x+1)*(x+1)\n",
    "\n",
    "lr = LinearRegression()\n",
    "lr.fit(x.reshape(-1,1),y)\n",
    "yhat = lr.predict(x.reshape(-1,1))\n",
    "\n",
    "r = y-yhat\n",
    "\n",
    "for (xj,rj) in zip(x,r):\n",
    "    plt.plot([xj*xj,xj*xj],[0,rj],'k--',zorder=1,lw=1)\n",
    "\n",
    "    \n",
    "plt.plot(x*x,np.zeros_like(x),c='C0',zorder=2)\n",
    "\n",
    "# plt.scatter(x,y,marker='s',c='C1',zorder=3);\n",
    "plt.scatter(x*x,r,marker='s',s=200*(st.norm(y,1).logpdf(y)-st.norm(yhat,1).logpdf(y)),c='C1',zorder=3);\n",
    "\n",
    "plt.xlabel('$x^2$')\n",
    "plt.ylabel('$r = y - \\hat{y}$');\n",
    "plt.ylim(-3.5,3)\n",
    "plt.yticks([-3,-2,-1,0,1,2,3]);\n"
   ]
  },
  {
   "cell_type": "code",
   "execution_count": null,
   "metadata": {},
   "outputs": [],
   "source": [
    "list(zip(x,r))"
   ]
  },
  {
   "cell_type": "code",
   "execution_count": null,
   "metadata": {},
   "outputs": [],
   "source": [
    "def deviance_residual(λ,x):\n",
    "    return np.sqrt(unit_deviance(λ,x)) * np.sign(x-λ)\n",
    "    \n",
    "def unit_deviance(λ,x):\n",
    "    zerocase = -2 * st.poisson(λ).logpmf(0)\n",
    "    return np.where(x==0, zerocase, 2 * (x * (np.log(x) - np.log(λ) - 1) + λ))\n",
    "#     return 2 * (st.poisson(x).logpmf(x) - st.poisson(λ).logpmf(x))"
   ]
  },
  {
   "cell_type": "code",
   "execution_count": null,
   "metadata": {},
   "outputs": [],
   "source": [
    "np.random.seed(6)\n",
    "x = np.linspace(-2,2,20)\n",
    "y = np.random.poisson(np.exp(x))\n",
    "\n",
    "d = unit_deviance(np.exp(x),y)\n",
    "\n",
    "\n",
    "# for (xj,yj) in zip(x,y):\n",
    "#     plt.plot([xj,xj],[np.exp(xj),yj],'k--',zorder=1,lw=1)\n",
    "\n",
    "x2 = np.linspace(-2,2,1000)\n",
    "plt.plot(x2,np.exp(x2),c='C0',zorder=2)\n",
    "# plt.fill_between(x2,getlo(np.exp(x2)),gethi(np.exp(x2)),color='C0',alpha=0.2,zorder=2)\n",
    "                 \n",
    "plt.scatter(x,y,marker='s',s=40*d,c='C1',zorder=3);\n",
    "# plt.scatter(x,y,marker='s',c='C1',zorder=3);\n",
    "    \n",
    "plt.xlabel('$x$')\n",
    "plt.ylabel('$y$');\n",
    "\n"
   ]
  },
  {
   "cell_type": "code",
   "execution_count": null,
   "metadata": {},
   "outputs": [],
   "source": [
    "\n",
    "np.random.seed(6)\n",
    "x = np.linspace(-2,2,20)\n",
    "y = np.random.poisson(np.exp(x))\n",
    "r = deviance_residual(np.exp(x),y)\n",
    "d = unit_deviance(np.exp(x),y)\n",
    "\n",
    "\n",
    "# for (xj,rj) in zip(x,r):\n",
    "#     plt.plot([xj,xj],[0,rj],'k--',zorder=1,lw=1)\n",
    "\n",
    "x2 = np.linspace(-2,2,1000)\n",
    "plt.plot(x,np.zeros_like(x),c='C0',zorder=2)\n",
    "# plt.fill_between(x2,getlo(np.exp(x2)),gethi(np.exp(x2)),color='C0',alpha=0.2,zorder=2)\n",
    "                 \n",
    "plt.scatter(x,r,marker='s',s=40*d,c='C1',zorder=3);\n",
    "# plt.scatter(x,y,marker='s',c='C1',zorder=3);\n",
    "    \n",
    "plt.xlabel('$x$')\n",
    "plt.ylabel('Deviance residuals');\n",
    "\n",
    "\n"
   ]
  },
  {
   "cell_type": "code",
   "execution_count": null,
   "metadata": {},
   "outputs": [],
   "source": []
  }
 ],
 "metadata": {
  "kernelspec": {
   "display_name": "metis",
   "language": "python",
   "name": "metis"
  },
  "language_info": {
   "codemirror_mode": {
    "name": "ipython",
    "version": 3
   },
   "file_extension": ".py",
   "mimetype": "text/x-python",
   "name": "python",
   "nbconvert_exporter": "python",
   "pygments_lexer": "ipython3",
   "version": "3.6.7"
  }
 },
 "nbformat": 4,
 "nbformat_minor": 2
}
