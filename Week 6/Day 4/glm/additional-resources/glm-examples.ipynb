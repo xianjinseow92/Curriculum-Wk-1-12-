{
 "cells": [
  {
   "cell_type": "code",
   "execution_count": null,
   "metadata": {},
   "outputs": [],
   "source": [
    "import numpy as np\n",
    "import pandas as pd\n",
    "import statsmodels.api as sm"
   ]
  },
  {
   "cell_type": "code",
   "execution_count": null,
   "metadata": {},
   "outputs": [],
   "source": [
    "titanic = sm.datasets.get_rdataset(\"Titanic\")\n",
    "# print titanic.__doc__\n",
    "print titanic.data.shape\n",
    "titanic.data.head()"
   ]
  },
  {
   "cell_type": "code",
   "execution_count": null,
   "metadata": {},
   "outputs": [],
   "source": [
    "unpacked_df = pd.DataFrame()\n",
    "unpacked_columns = ['Class','Sex','Age','Survived']\n",
    "\n",
    "for row_i, row in titanic.data.iterrows():\n",
    "    for duplicated in range(row.Freq):\n",
    "        unpacked_df = unpacked_df.append(row[unpacked_columns])"
   ]
  },
  {
   "cell_type": "code",
   "execution_count": null,
   "metadata": {},
   "outputs": [],
   "source": [
    "print unpacked_df.shape\n",
    "print titanic.data.Freq.sum()\n",
    "unpacked_df.head()"
   ]
  },
  {
   "cell_type": "code",
   "execution_count": null,
   "metadata": {},
   "outputs": [],
   "source": [
    "unpacked_df.Age.value_counts()"
   ]
  },
  {
   "cell_type": "code",
   "execution_count": null,
   "metadata": {},
   "outputs": [],
   "source": [
    "dummified_df = pd.get_dummies(unpacked_df[[\"Age\", \"Class\", \"Sex\"]])"
   ]
  },
  {
   "cell_type": "code",
   "execution_count": null,
   "metadata": {},
   "outputs": [],
   "source": [
    "dummified_df.head()"
   ]
  },
  {
   "cell_type": "code",
   "execution_count": null,
   "metadata": {},
   "outputs": [],
   "source": [
    "X = dummified_df[[\"Age_Child\",\"Class_1st\",\"Class_2nd\",\"Class_3rd\",\"Sex_Female\"]]\n",
    "print X.head(), \"\\n\"\n",
    "\n",
    "Y = unpacked_df[\"Survived\"]\n",
    "print Y.head()"
   ]
  },
  {
   "cell_type": "code",
   "execution_count": null,
   "metadata": {},
   "outputs": [],
   "source": [
    "from sklearn.linear_model import LogisticRegression\n",
    "sk_logistic = LogisticRegression(penalty=\"l1\", C=1e180).fit(X, Y) \n",
    "print sk_logistic.coef_\n",
    "print sk_logistic.intercept_"
   ]
  },
  {
   "cell_type": "code",
   "execution_count": null,
   "metadata": {},
   "outputs": [],
   "source": [
    "bin_Y = Y.replace(\"No\", 0).replace(\"Yes\", 1)\n",
    "sm_X = sm.add_constant(X)\n",
    "sm_logit = sm.Logit(bin_Y, sm_X)\n",
    "\n",
    "sm_logit_result = sm_logit.fit()\n",
    "print sm_logit_result.summary()"
   ]
  },
  {
   "cell_type": "code",
   "execution_count": null,
   "metadata": {},
   "outputs": [],
   "source": [
    "## Logistic Regression with statsmodels glm\n",
    "\n",
    "# for Binomial family, link is logit by default\n",
    "glm_logit = sm.GLM(bin_Y, sm_X, family=sm.families.Binomial(sm.families.links.logit))\n",
    "glm_logit_results = glm_logit.fit()\n",
    "\n",
    "print glm_logit_results.summary()"
   ]
  }
 ],
 "metadata": {
  "kernelspec": {
   "display_name": "metis",
   "language": "python",
   "name": "metis"
  },
  "language_info": {
   "codemirror_mode": {
    "name": "ipython",
    "version": 2
   },
   "file_extension": ".py",
   "mimetype": "text/x-python",
   "name": "python",
   "nbconvert_exporter": "python",
   "pygments_lexer": "ipython2",
   "version": "2.7.10"
  }
 },
 "nbformat": 4,
 "nbformat_minor": 0
}
