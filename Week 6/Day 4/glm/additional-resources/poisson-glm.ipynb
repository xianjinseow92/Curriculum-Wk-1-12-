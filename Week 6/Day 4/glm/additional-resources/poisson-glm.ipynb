{
 "cells": [
  {
   "cell_type": "markdown",
   "metadata": {},
   "source": [
    "##  The Poisson Distribution"
   ]
  },
  {
   "cell_type": "code",
   "execution_count": null,
   "metadata": {},
   "outputs": [],
   "source": [
    "from __future__ import division, print_function\n",
    "import seaborn as sns\n",
    "\n",
    "from IPython.display import Math\n",
    "import pandas as pd\n",
    "import numpy as np\n",
    "import math\n",
    "\n",
    "import matplotlib.pyplot as plt\n",
    "\n",
    "%matplotlib inline"
   ]
  },
  {
   "cell_type": "markdown",
   "metadata": {},
   "source": [
    "###  How many pieces of mail do you receive daily?\n",
    "\n",
    "Let's say you usually get 10 letters a day.. \n",
    "\n",
    "We can use the Poisson Equation to look at the Probability Mass Function"
   ]
  },
  {
   "cell_type": "markdown",
   "metadata": {},
   "source": [
    "$ P(X=x)  = (\\lambda^xe^{-\\lambda})/x$!"
   ]
  },
  {
   "cell_type": "code",
   "execution_count": null,
   "metadata": {},
   "outputs": [],
   "source": [
    "sum=0\n",
    "pois=[]\n",
    "def our_poisson(x,lam):\n",
    "    p=(lam**x)*np.exp(-lam)/(math.factorial(x))\n",
    "    return p\n",
    "\n",
    "for x in range(50):\n",
    "    pois.append(our_poisson(x,10))"
   ]
  },
  {
   "cell_type": "code",
   "execution_count": null,
   "metadata": {},
   "outputs": [],
   "source": [
    "plt.scatter(range(50),pois)\n",
    "plt.title(\"Probability Mass Function\")\n",
    "plt.ylabel(\"P(X=x)\")\n",
    "plt.xlabel(\"x\")"
   ]
  },
  {
   "cell_type": "markdown",
   "metadata": {},
   "source": [
    "#### The poisson distribution applies when:   \n",
    "    - Events are something that can be counted in whole numbers   \n",
    "    - Occurences are independent\n",
    "    - Average rate of occurence for the time period in question is known.   \n",
    "    - It is possible to count how many events have occurred\n",
    "    - Both the mean and the variance of the distribution are equal to lambda\n",
    "    \n",
    "#### More examples:   \n",
    "    # of births per hour in a hospital   \n",
    "    # of cars passing by Madison Ave in some time interval  \n",
    "    # of goals in a hockey game\n",
    "    # Soldiers in the Prussian calvary killed by horse kicks\n",
    "    \n",
    "#### (However...)\n",
    "    "
   ]
  },
  {
   "cell_type": "markdown",
   "metadata": {},
   "source": [
    "## Poisson Distribution:"
   ]
  },
  {
   "cell_type": "markdown",
   "metadata": {},
   "source": [
    "$P(X=x)  = (\\lambda^xe^{-\\lambda})/x!$  \n",
    "$E(X)=\\lambda$   \n",
    "$Var(X)=\\lambda$  \n"
   ]
  },
  {
   "cell_type": "code",
   "execution_count": null,
   "metadata": {},
   "outputs": [],
   "source": [
    "sample=np.random.poisson(10, 1000)\n",
    "print (sample.mean())\n",
    "print (sample.var())"
   ]
  },
  {
   "cell_type": "code",
   "execution_count": null,
   "metadata": {},
   "outputs": [],
   "source": [
    "# A REAL Example: 'Turn Around Time' for a Nose Landing Gear Tire (Delivery) was 10 days\n",
    "# The rates for tire fails for each station were as follows:\n",
    "\n",
    "dets=[['JFK',16],['FLL',7],['EWR',5],['LGB',4],['MCO',4]]\n",
    "data=pd.DataFrame(dets,columns=['STA','Lambda'])\n",
    "data.head()"
   ]
  },
  {
   "cell_type": "code",
   "execution_count": null,
   "metadata": {},
   "outputs": [],
   "source": [
    "# \n",
    "sum_=0\n",
    "for i in range(len(data)):\n",
    "    sum_=0\n",
    "    for j in range(40):\n",
    "        sum_+=our_poisson(j,int(data.Lambda[i]))\n",
    "        if sum_ > 0.985:\n",
    "            print(data.STA[i])\n",
    "            print(j)\n",
    "            print(sum_)\n",
    "            print('\\n')\n",
    "            break"
   ]
  },
  {
   "cell_type": "markdown",
   "metadata": {},
   "source": [
    "### Poisson Regression Example"
   ]
  },
  {
   "cell_type": "markdown",
   "metadata": {},
   "source": [
    "We can use Regression to predict count data \n",
    "    * We have some constraints\n",
    "    * We'll need a  link function"
   ]
  },
  {
   "cell_type": "code",
   "execution_count": null,
   "metadata": {},
   "outputs": [],
   "source": [
    "import statsmodels.api as smf\n",
    "from patsy import dmatrices"
   ]
  },
  {
   "cell_type": "code",
   "execution_count": null,
   "metadata": {},
   "outputs": [],
   "source": [
    "url='http://quantedu.com/wp-content/uploads/2014/05/job.txt'\n",
    "data=pd.read_csv(url,delimiter=r\"\\s+\")"
   ]
  },
  {
   "cell_type": "code",
   "execution_count": null,
   "metadata": {},
   "outputs": [],
   "source": [
    "Y,X = dmatrices('Job ~ Income + GPA', data=data, return_type='dataframe')\n",
    "X.head()"
   ]
  },
  {
   "cell_type": "code",
   "execution_count": null,
   "metadata": {},
   "outputs": [],
   "source": [
    "# Data \n",
    "pois_m=smf.GLM(Y[:150],X[:150], family=smf.families.Poisson(smf.families.links.log))\n",
    "# Fitting our model using Maximum likelihood\n",
    "pois_results=pois_m.fit()\n",
    "\n",
    "print (pois_results.summary())"
   ]
  },
  {
   "cell_type": "markdown",
   "metadata": {},
   "source": [
    "### Goodness of Fit Measurement for GLM  ~ Pearson's Chi Squared Statistic\n",
    "\n",
    "We'd like to test the claim that the tire fails at JFK are actually a poisson distribution: \n",
    "\n",
    "Sample data:\n",
    "\n",
    "Number of Tire Failures at JFK\n",
    "Study was conducted for 100 (1 day intervals) \n",
    "\n",
    "\n",
    "\n",
    "Tires Failures | 0| 1 | 2 | 3 | > 4\n",
    "--------|----------\n",
    " |12 | 25 | 35 | 16 | 12\n",
    " \n",
    "\n",
    "Test the claim that this distribution is a poisson. \n",
    "\n",
    "Ho:  X ~ is poisson distribution (w/ lambda=2) \n",
    "H1:  X  is not a poisson distribution (w/ lambda=2) \n",
    "\n"
   ]
  },
  {
   "cell_type": "markdown",
   "metadata": {},
   "source": [
    "$ \\chi^2  =\\sum_{} (O_i-E_i)^2/E_i$\n",
    "\n",
    "$E_i=N*p$"
   ]
  },
  {
   "cell_type": "code",
   "execution_count": null,
   "metadata": {},
   "outputs": [],
   "source": [
    "E_0= our_poisson(0,2)*100\n",
    "print('E_0=',E_0)\n",
    "E_1= our_poisson(1,2)*100\n",
    "print('E_1=',E_1)\n",
    "E_2= our_poisson(2,2)*100\n",
    "print('E_2=',E_2)\n",
    "E_3= our_poisson(3,2)*100\n",
    "print('E_3=', E_3)\n",
    "E_gr_4= 100- (E_0 + E_1 + E_2 + E_3)\n",
    "print('E_gr_4=',E_gr_4)\n",
    "print('\\n')\n",
    "\n",
    "Chi_Sq= (12.0-E_0)**2/E_0 + (25.0-E_1)**2/E_1+(35.0-E_2)**2/E_2+ (16.0-E_3)**2/E_3+ (12.0-E_gr_4)**2/E_gr_4\n",
    "print('Chi_Sq= ',Chi_Sq)\n"
   ]
  },
  {
   "cell_type": "markdown",
   "metadata": {},
   "source": [
    "According to our Look-up Table: Rejection Region is to the right of 9.48   \n",
    "(for df =4 and 0.05 significance level)   \n",
    "\n",
    "Therefore, we can accept our Null Hypothesis"
   ]
  },
  {
   "cell_type": "markdown",
   "metadata": {},
   "source": [
    "### One more thing, Deviance: "
   ]
  },
  {
   "cell_type": "markdown",
   "metadata": {},
   "source": [
    "Deviance for Poisson:  ( where mu is the predicted value) \n",
    "    \n",
    "$D_p  = 2\\sum_{1}^{n}(y_ilog(y_i/\\mu_i)-(y_i-\\mu_i))$"
   ]
  },
  {
   "cell_type": "markdown",
   "metadata": {},
   "source": [
    "Deviance of Normal\n",
    "\n",
    "\n",
    "$D_n  =\\sum_{1}^{n}(y_i - \\mu_i)^2$"
   ]
  },
  {
   "cell_type": "markdown",
   "metadata": {},
   "source": [
    "Deviance of Binomial:   \n",
    "$D_b  = 2\\sum_{1}^{n}(y_ilog(y_i/\\mu_i)+(1-y_i)log[(1-y_i)/(1-\\mu_i)])))$"
   ]
  },
  {
   "cell_type": "code",
   "execution_count": null,
   "metadata": {},
   "outputs": [],
   "source": []
  }
 ],
 "metadata": {
  "kernelspec": {
   "display_name": "metis",
   "language": "python",
   "name": "metis"
  },
  "language_info": {
   "codemirror_mode": {
    "name": "ipython",
    "version": 2
   },
   "file_extension": ".py",
   "mimetype": "text/x-python",
   "name": "python",
   "nbconvert_exporter": "python",
   "pygments_lexer": "ipython2",
   "version": "2.7.11"
  }
 },
 "nbformat": 4,
 "nbformat_minor": 0
}
