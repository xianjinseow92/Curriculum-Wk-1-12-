{
 "cells": [
  {
   "cell_type": "markdown",
   "metadata": {},
   "source": [
    "# Poisson GLM: Horseshoe Crab Mating Example\n",
    "\n",
    "Study of nesting horseshoe crabs: each female horseshoe crab had a male crab resident in her nest. The study investigated factors affecting whether the female crab had any other males, called satellites, residing nearby, and if so, how many. The factors included the female crab's color, spine condition, weight, and carapace width.\n",
    "\n",
    "From Alan Agresti, *Categorical Data Analysis,* Second Edition, Wiley, 2002, pg. 126 (https://mathdept.iut.ac.ir/sites/mathdept.iut.ac.ir/files/AGRESTI.PDF)."
   ]
  },
  {
   "cell_type": "code",
   "execution_count": null,
   "metadata": {},
   "outputs": [],
   "source": [
    "'''\n",
    "Imports\n",
    "'''\n",
    "import numpy as np\n",
    "import pandas as pd\n",
    "import matplotlib.pyplot as plt\n",
    "import statsmodels.api as sm\n",
    "import statsmodels.formula.api as smf\n",
    "\n",
    "%matplotlib inline"
   ]
  },
  {
   "cell_type": "code",
   "execution_count": null,
   "metadata": {},
   "outputs": [],
   "source": [
    "'''\n",
    "Read in input file into Pandas dataframe. The columns have the following meaning:\n",
    "1. Color: 1 (light medium), 2 (medium), 3 (dark medium), 4 (dark)\n",
    "2. Spine condition: 1 (both good), 2 (one worn or broken), 3 (both worn or broken)\n",
    "3. Carapace width: in cm\n",
    "4. Weight: in kg\n",
    "5. Number of satellites\n",
    "'''\n",
    "df0 = pd.read_csv('CrabSatellites.ssv', sep='\\s+', header=None, names=['Color', 'Spine', 'Width', 'Weight', 'Satellites'])\n",
    "df0['Color'] = df0['Color'].astype('category')\n",
    "df0['Spine'] = df0['Spine'].astype('category')\n",
    "print df0.head()\n",
    "print\n",
    "print df0.describe()"
   ]
  },
  {
   "cell_type": "code",
   "execution_count": null,
   "metadata": {},
   "outputs": [],
   "source": [
    "'''\n",
    "Plot number of satellites versus carapace width.\n",
    "'''\n",
    "fig, ax = plt.subplots(nrows=1, ncols=2, figsize=(14,6))\n",
    "ax[0].scatter(df0.Width, df0.Satellites, alpha=0.2)\n",
    "ax[0].set_xlabel('Carapace Width (cm)', fontsize=15)\n",
    "ax[0].set_ylabel('Number of Satellites', fontsize=15)\n",
    "\n",
    "bins = np.linspace(23.25, 29.25, 7)\n",
    "df0['bin'] = np.digitize(df0.Width, bins=bins)\n",
    "bingroups = df0.groupby('bin')\n",
    "widths = bingroups['Width'].agg(['mean', 'sem'])\n",
    "satels = bingroups['Satellites'].agg(['mean', 'sem'])\n",
    "xval = widths.iloc[:,0].tolist()\n",
    "xerr = widths.iloc[:,1].tolist()\n",
    "yval = satels.iloc[:,0].tolist()\n",
    "yerr = satels.iloc[:,1].tolist()\n",
    "ax[1].errorbar(x=xval, y=yval, yerr=yerr, xerr=xerr, linestyle='none')\n",
    "ax[1].set_xlabel('Mean Carapace Width in Bins (cm)', fontsize=15)\n",
    "ax[1].set_ylabel('Mean Number of Satellites', fontsize=15)\n",
    "\n",
    "plt.show()"
   ]
  },
  {
   "cell_type": "code",
   "execution_count": null,
   "metadata": {},
   "outputs": [],
   "source": [
    "'''\n",
    "Fit a Poisson GLM model. For now we consider a single predictor, the carapace width,\n",
    "and wish to predict the number of satellites.\n",
    "The link function below uses sm.families.links.log, but one could also try sm.families.links.identity.\n",
    "'''\n",
    "formula = 'Satellites ~ Width'\n",
    "PoissonModel = smf.glm(formula=formula, data=df0, family=sm.families.Poisson(link=sm.families.links.log))\n",
    "PoissonResults = PoissonModel.fit()\n",
    "print PoissonResults.summary()"
   ]
  },
  {
   "cell_type": "markdown",
   "metadata": {},
   "source": [
    "### Interpretation of the results:\n",
    "\n",
    "- For the log link: $\\mu = \\exp(-3.30 + 0.16*x) = 0.037*(1.18)^{x}$. If the carapace width increases by 1 cm, the estimated mean number of satellites increases by 18%.\n",
    "\n",
    "- For the identity link: $\\mu = -11.53 + 0.55*x$. If the carapace width increases by 1 cm, the estimated mean number of satellites increases by 0.55. A ~2cm increase in width is associated with an extra satellite.\n",
    "\n",
    "- Note however that the deviance of the fit is not very good: more than 500, for 171 degrees of freedom. More on this later."
   ]
  },
  {
   "cell_type": "code",
   "execution_count": null,
   "metadata": {},
   "outputs": [],
   "source": [
    "'''\n",
    "Superimpose fit results on data points.\n",
    "'''\n",
    "fig, ax = plt.subplots(nrows=1, ncols=1, figsize=(6,6))\n",
    "ax.errorbar(x=xval, y=yval, yerr=yerr, xerr=xerr, linestyle='none')\n",
    "idfit = -11.5318 + 0.5495*np.array(xval)\n",
    "logfit = np.exp(-3.3048 + 0.1640*np.array(xval))\n",
    "ax.plot(xval, idfit, label='Identity link')\n",
    "ax.plot(xval, logfit, label='Log link')\n",
    "ax.set_xlabel('Mean Carapace Width in Bins (cm)', fontsize=15)\n",
    "ax.set_ylabel('Mean Number of Satellites', fontsize=15)\n",
    "ax.legend(prop={'size': 15}, loc=\"upper left\")\n",
    "plt.show()"
   ]
  },
  {
   "cell_type": "markdown",
   "metadata": {},
   "source": [
    "- The fit looks good for both link functions. \n",
    "- As noted before however, the deviance is large. While this doesn't necessarily affect the coefficient estimates, it may affect the coefficient errors.\n",
    "- The large deviance could indicate that the proposed model (Poisson) is incorrect, or that there is overdispersion. Let's check the latter first."
   ]
  },
  {
   "cell_type": "code",
   "execution_count": null,
   "metadata": {},
   "outputs": [],
   "source": [
    "'''\n",
    "Check for overdispersion.\n",
    "'''\n",
    "satels4 = bingroups['Satellites'].agg(['count', 'sum', 'mean', 'var'])\n",
    "print satels4"
   ]
  },
  {
   "cell_type": "markdown",
   "metadata": {},
   "source": [
    "Note how the variance is quite a bit larger than the mean. For Poisson counts, mean and variance should be equal. This non-Poisson behavior is called **overdispersion**. Possible causes include:\n",
    "- **Missing Features**: We only used carapace width to predict the number of satellites in our model. Maybe the number of satellites is Poisson distributed at each fixed combination of width, weigth, spine condition, color, and perhaps some other features we didn't think about. By using only one predictor out of four or more, we caused the response variable to be a mixture of Poisson populations, each with its own mean.\n",
    "- **The True Model Is Not Poisson**: Another possible model is the negative binomial, which has an extra parameter to model variability.\n",
    "\n",
    "Note that overdispersion is not a problem in ordinary linear regression with normally distributed response variables. This is because the normal distribution has a separate parameter to describe variability.\n",
    "\n",
    "One way to fix overdispersion is to try a different model, one with an additional parameter to allow modeling of variability. A good candidate for the case at hand is the negative binomial GLM. The negative binomial distribution has probability mass function:\n",
    "\\begin{equation}\n",
    "f(y;k,\\mu) \\;=\\; \\frac{\\Gamma(y+k)}{\\Gamma(k)\\,\\Gamma(y+1)}\\;\\left(\\frac{k}{\\mu+k}\\right)^{k}\\;\\left(1-\\frac{k}{\\mu+k}\\right)^{y},\n",
    "\\end{equation}\n",
    "where $y=0,1,2,\\ldots$, and $k$ and $\\mu$ are parameters. The interpretation of this distribution is that $f(y;k,\\mu)$ represents the probability of seeing $y$ \"failures\" before we reach $k$ \"successes\". The probability of one success is given by $k/(\\mu+k)$.\n",
    "\n",
    "The mean and variance of the negative binomial distribution are given by:\n",
    "\\begin{equation}\n",
    "{\\rm E}(Y) = \\mu\\quad\\textrm{ and }\\quad {\\rm Var}(Y) = \\mu + \\frac{\\mu^{2}}{k}.\n",
    "\\end{equation}\n",
    "Note that mean and variance are not in a one-to-one relationship since the variance involves the new parameter $k$. For large $k$ we recover the Poisson distribution (where variance equals mean)."
   ]
  },
  {
   "cell_type": "code",
   "execution_count": null,
   "metadata": {},
   "outputs": [],
   "source": [
    "'''\n",
    "Fit a negative binomial GLM.\n",
    "The parameter alpha in the glm call below corresponds to 1/k in the formula for the negative\n",
    "binomial distribution.\n",
    "Try playing around with the link function (log or identity) and alpha values (from 0.1 to 2.0).\n",
    "'''\n",
    "formula = 'Satellites ~ Width'\n",
    "NegBinModel = smf.glm(formula=formula, data=df0, \n",
    "                      family=sm.families.NegativeBinomial(link=sm.families.links.log, alpha=1.0))\n",
    "NegBinResults = NegBinModel.fit()\n",
    "print NegBinResults.summary()"
   ]
  },
  {
   "cell_type": "markdown",
   "metadata": {},
   "source": [
    "The deviance is significantly better for the negative binomial model! Note that the standard errors on the coefficients have doubled compared to the results of the Poisson GLM. The coefficients themselves have changed much less."
   ]
  },
  {
   "cell_type": "code",
   "execution_count": null,
   "metadata": {},
   "outputs": [],
   "source": [
    "'''\n",
    "Fit a Poisson GLM model to all the predictors\n",
    "'''\n",
    "formula = 'Satellites ~ Color+Spine+Width+Weight'\n",
    "PoissonModel = smf.glm(formula=formula, data=df0, family=sm.families.Poisson(link=sm.families.links.log))\n",
    "PoissonResults = PoissonModel.fit()\n",
    "print PoissonResults.summary()"
   ]
  },
  {
   "cell_type": "markdown",
   "metadata": {},
   "source": [
    "Including all four predictors has not improved the deviance. In fact, the spine condition appears to be useless as predictor, and width is also useless in the presence of weight. Intuitively it is clear that width and weight must be strongly correlated. \n",
    "\n",
    "In conclusion, adding missing features has not improved this model, but changing from Poisson to negative binomial has."
   ]
  }
 ],
 "metadata": {
  "kernelspec": {
   "display_name": "metis",
   "language": "python",
   "name": "metis"
  },
  "language_info": {
   "codemirror_mode": {
    "name": "ipython",
    "version": 2
   },
   "file_extension": ".py",
   "mimetype": "text/x-python",
   "name": "python",
   "nbconvert_exporter": "python",
   "pygments_lexer": "ipython2",
   "version": "2.7.10"
  }
 },
 "nbformat": 4,
 "nbformat_minor": 2
}
