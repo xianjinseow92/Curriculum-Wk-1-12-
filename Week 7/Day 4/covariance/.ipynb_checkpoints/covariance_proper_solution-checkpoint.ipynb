{
 "cells": [
  {
   "cell_type": "code",
   "execution_count": 3,
   "metadata": {},
   "outputs": [],
   "source": [
    "import numpy as np\n",
    "import pandas as pd\n",
    "\n",
    "# NLP packages and CountVectorizers\n",
    "import nltk\n",
    "from sklearn.feature_extraction.text import CountVectorizer\n",
    "from sklearn.feature_extraction.text import TfidfVectorizer\n",
    "from sklearn.decomposition import NMF           # Non-negative Matrix Factorization\n",
    "from sklearn.metrics.pairwise import cosine_similarity  # we don't hvae to code the mf-ing cosine_similarity!\n",
    "from sklearn.metrics.pairwise import pairwise_distances\n",
    "\n",
    "from sklearn.decomposition import TruncatedSVD  # gives you up to a certain amount of topics (specified by you)\n",
    "# Truncated - will compute just up to the number that you specify\n",
    "# Outcome that is that it's faster\n",
    "\n",
    "# Regular expression\n",
    "import re\n",
    "import string\n",
    "\n",
    "# Import models\n",
    "from sklearn.linear_model import LogisticRegression\n",
    "\n",
    "# Import metrics\n",
    "from sklearn.metrics import confusion_matrix\n"
   ]
  },
  {
   "cell_type": "code",
   "execution_count": 9,
   "metadata": {},
   "outputs": [
    {
     "name": "stdout",
     "output_type": "stream",
     "text": [
      "                                                    harry  potter  \\\n",
      "wookie stormtrooper                                     0       0   \n",
      "wookie wookie wookie stormtrooper stormtrooper ...      0       0   \n",
      "harry potter                                            1       1   \n",
      "\n",
      "                                                    stormtrooper  wookie  \n",
      "wookie stormtrooper                                            1       1  \n",
      "wookie wookie wookie stormtrooper stormtrooper ...             3       3  \n",
      "harry potter                                                   0       0  \n",
      "[[0 0 1 1]\n",
      " [0 0 3 3]\n",
      " [1 1 0 0]]\n"
     ]
    }
   ],
   "source": [
    "# Obtaining the \"Bag Of Words\" (document-term matrix)\n",
    "\n",
    "text = [\"wookie stormtrooper\",\n",
    "        \"wookie wookie wookie stormtrooper stormtrooper stormtrooper\",\n",
    "        \"harry potter\"]\n",
    "\n",
    "# Transforming into bag of words (Document-term matrix)\n",
    "vectorizer = CountVectorizer(stop_words = 'english')    # initialziing our countvectorizer\n",
    "doc_word = vectorizer.fit_transform(text)            # fit transform our corpus\n",
    "\n",
    "# We have to convert `.toarray()` because the vectorizer returns a sparse matrix.\n",
    "# For a big corpus, we would skip the dataframe and keep the output sparse.\n",
    "dt = pd.DataFrame(doc_word.toarray(), index=text, columns=vectorizer.get_feature_names())  # bag of words representation\n",
    "\n",
    "# transformed into bag of words representation\n",
    "print(dt)\n",
    "\n",
    "text = vectorizer.fit_transform(text).todense()\n",
    "print(text)"
   ]
  },
  {
   "cell_type": "code",
   "execution_count": null,
   "metadata": {},
   "outputs": [],
   "source": []
  },
  {
   "cell_type": "code",
   "execution_count": 5,
   "metadata": {},
   "outputs": [
    {
     "name": "stdout",
     "output_type": "stream",
     "text": [
      "Euclidean Distance: \n",
      " [[0.         2.82842712 2.        ]\n",
      " [2.82842712 0.         4.47213595]\n",
      " [2.         4.47213595 0.        ]]\n"
     ]
    }
   ],
   "source": [
    "# Getting Euclidean Distance\n",
    "\n",
    "print(\"Euclidean Distance: \\n\", pairwise_distances(dt, metric='euclidean'))"
   ]
  },
  {
   "cell_type": "code",
   "execution_count": null,
   "metadata": {},
   "outputs": [],
   "source": []
  }
 ],
 "metadata": {
  "kernelspec": {
   "display_name": "Python [conda env:metis] *",
   "language": "python",
   "name": "conda-env-metis-py"
  },
  "language_info": {
   "codemirror_mode": {
    "name": "ipython",
    "version": 3
   },
   "file_extension": ".py",
   "mimetype": "text/x-python",
   "name": "python",
   "nbconvert_exporter": "python",
   "pygments_lexer": "ipython3",
   "version": "3.7.3"
  }
 },
 "nbformat": 4,
 "nbformat_minor": 2
}
