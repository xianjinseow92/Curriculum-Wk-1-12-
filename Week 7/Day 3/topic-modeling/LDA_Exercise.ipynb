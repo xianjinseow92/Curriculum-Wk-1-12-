{
 "cells": [
  {
   "cell_type": "markdown",
   "metadata": {},
   "source": [
    "# Topic Modeling with gensim\n",
    "We'll try out [Latent Dirichlet Allocation (LDA)](https://en.wikipedia.org/wiki/Latent_Dirichlet_allocation) in [gensim](http://radimrehurek.com/gensim/index.html) on the [20 Newsgroups dataset](http://scikit-learn.org/stable/modules/generated/sklearn.datasets.fetch_20newsgroups.html) with some simple preprocessing."
   ]
  },
  {
   "cell_type": "markdown",
   "metadata": {},
   "source": [
    "#### Install gensim"
   ]
  },
  {
   "cell_type": "code",
   "execution_count": 1,
   "metadata": {},
   "outputs": [],
   "source": [
    "# !conda install gensim -y"
   ]
  },
  {
   "cell_type": "markdown",
   "metadata": {},
   "source": [
    "##### imports"
   ]
  },
  {
   "cell_type": "code",
   "execution_count": 3,
   "metadata": {},
   "outputs": [],
   "source": [
    "# gensim\n",
    "from gensim import corpora, models, similarities, matutils\n",
    "\n",
    "# sklearn\n",
    "from sklearn import datasets\n",
    "from sklearn.feature_extraction.text import CountVectorizer\n",
    "\n",
    "# logging for gensim (set to INFO)\n",
    "import logging\n",
    "logging.basicConfig(format='%(asctime)s : %(levelname)s : %(message)s', level=logging.INFO)"
   ]
  },
  {
   "cell_type": "markdown",
   "metadata": {},
   "source": [
    "Let's retain only a subset of the 20 categories in the original 20 Newsgroups Dataset."
   ]
  },
  {
   "cell_type": "code",
   "execution_count": 4,
   "metadata": {},
   "outputs": [],
   "source": [
    "# Set categories\n",
    "categories = ['alt.atheism', 'comp.graphics', 'rec.sport.baseball', \n",
    "              'rec.motorcycles', 'sci.space', 'talk.politics.mideast']\n",
    "\n",
    "# Download the training subset of the 20 NG dataset, with headers, footers, quotes removed\n",
    "# Only keep docs from the 6 categories above\n",
    "ng_train = datasets.fetch_20newsgroups(subset='train', categories=categories, \n",
    "                                      remove=('headers', 'footers', 'quotes'))"
   ]
  },
  {
   "cell_type": "code",
   "execution_count": 5,
   "metadata": {},
   "outputs": [
    {
     "data": {
      "text/plain": [
       "'Well, the Red Sox have apparenly resigned Herm Winningham to a AAA contract.\\nTed \"Larry\" Simmons signed him to a AAA contract then released him from\\nBuffalo, allowing Lou \"Curly\" Gorman to circumvent the rule about not\\nresigning free agents until May 1. Clearly, neither of these guys is bright\\nenough to be Moe.\\n\\n Mike Jones | AIX High-End Development | mjones@donald.aix.kingston.ibm.com'"
      ]
     },
     "execution_count": 5,
     "metadata": {},
     "output_type": "execute_result"
    }
   ],
   "source": [
    "# Take a look at the first doc\n",
    "ng_train.data[0]"
   ]
  },
  {
   "cell_type": "markdown",
   "metadata": {},
   "source": [
    "## Document Preprocessing\n",
    "We'll need to generate a term-document matrix of word (token) counts for use in LDA.\n",
    "\n",
    "We'll use `sklearn`'s `CountVectorizer` to generate our term-document matrix of counts. We'll make use of a few parameters to accomplish the following preprocessing of the text documents all within the `CountVectorizer`:\n",
    "* `analyzer=word`: Tokenize by word\n",
    "* `ngram_range=(1,2)`: Keep all 1 and 2-word grams\n",
    "* `stop_words=english`: Remove all English stop words\n",
    "* `token_pattern=\\\\b[a-z][a-z]+\\\\b`: Match all tokens with 2 or more (strictly) alphabet characters"
   ]
  },
  {
   "cell_type": "code",
   "execution_count": 6,
   "metadata": {},
   "outputs": [
    {
     "data": {
      "text/plain": [
       "CountVectorizer(analyzer='word', binary=False, decode_error='strict',\n",
       "                dtype=<class 'numpy.int64'>, encoding='utf-8', input='content',\n",
       "                lowercase=True, max_df=1.0, max_features=None, min_df=1,\n",
       "                ngram_range=(1, 2), preprocessor=None, stop_words='english',\n",
       "                strip_accents=None, token_pattern='\\\\b[a-z][a-z]+\\\\b',\n",
       "                tokenizer=None, vocabulary=None)"
      ]
     },
     "execution_count": 6,
     "metadata": {},
     "output_type": "execute_result"
    }
   ],
   "source": [
    "# Create a CountVectorizer for parsing/counting words\n",
    "count_vectorizer = CountVectorizer(ngram_range=(1, 2),  \n",
    "                                   stop_words='english', token_pattern=\"\\\\b[a-z][a-z]+\\\\b\")\n",
    "\n",
    "count_vectorizer.fit(ng_train.data)"
   ]
  },
  {
   "cell_type": "code",
   "execution_count": 7,
   "metadata": {},
   "outputs": [],
   "source": [
    "# Create the term-document matrix\n",
    "# Transpose it so the terms are the rows\n",
    "doc_word = count_vectorizer.transform(ng_train.data).transpose()"
   ]
  },
  {
   "cell_type": "code",
   "execution_count": 8,
   "metadata": {},
   "outputs": [
    {
     "data": {
      "text/html": [
       "<div>\n",
       "<style scoped>\n",
       "    .dataframe tbody tr th:only-of-type {\n",
       "        vertical-align: middle;\n",
       "    }\n",
       "\n",
       "    .dataframe tbody tr th {\n",
       "        vertical-align: top;\n",
       "    }\n",
       "\n",
       "    .dataframe thead th {\n",
       "        text-align: right;\n",
       "    }\n",
       "</style>\n",
       "<table border=\"1\" class=\"dataframe\">\n",
       "  <thead>\n",
       "    <tr style=\"text-align: right;\">\n",
       "      <th></th>\n",
       "      <th>0</th>\n",
       "      <th>1</th>\n",
       "      <th>2</th>\n",
       "      <th>3</th>\n",
       "      <th>4</th>\n",
       "      <th>5</th>\n",
       "      <th>6</th>\n",
       "      <th>7</th>\n",
       "      <th>8</th>\n",
       "      <th>9</th>\n",
       "      <th>...</th>\n",
       "      <th>3406</th>\n",
       "      <th>3407</th>\n",
       "      <th>3408</th>\n",
       "      <th>3409</th>\n",
       "      <th>3410</th>\n",
       "      <th>3411</th>\n",
       "      <th>3412</th>\n",
       "      <th>3413</th>\n",
       "      <th>3414</th>\n",
       "      <th>3415</th>\n",
       "    </tr>\n",
       "  </thead>\n",
       "  <tbody>\n",
       "    <tr>\n",
       "      <td>aa</td>\n",
       "      <td>0</td>\n",
       "      <td>0</td>\n",
       "      <td>0</td>\n",
       "      <td>0</td>\n",
       "      <td>0</td>\n",
       "      <td>0</td>\n",
       "      <td>0</td>\n",
       "      <td>0</td>\n",
       "      <td>0</td>\n",
       "      <td>0</td>\n",
       "      <td>...</td>\n",
       "      <td>0</td>\n",
       "      <td>0</td>\n",
       "      <td>0</td>\n",
       "      <td>0</td>\n",
       "      <td>0</td>\n",
       "      <td>0</td>\n",
       "      <td>0</td>\n",
       "      <td>0</td>\n",
       "      <td>0</td>\n",
       "      <td>0</td>\n",
       "    </tr>\n",
       "    <tr>\n",
       "      <td>aa aaa</td>\n",
       "      <td>0</td>\n",
       "      <td>0</td>\n",
       "      <td>0</td>\n",
       "      <td>0</td>\n",
       "      <td>0</td>\n",
       "      <td>0</td>\n",
       "      <td>0</td>\n",
       "      <td>0</td>\n",
       "      <td>0</td>\n",
       "      <td>0</td>\n",
       "      <td>...</td>\n",
       "      <td>0</td>\n",
       "      <td>0</td>\n",
       "      <td>0</td>\n",
       "      <td>0</td>\n",
       "      <td>0</td>\n",
       "      <td>0</td>\n",
       "      <td>0</td>\n",
       "      <td>0</td>\n",
       "      <td>0</td>\n",
       "      <td>0</td>\n",
       "    </tr>\n",
       "    <tr>\n",
       "      <td>aa albany</td>\n",
       "      <td>0</td>\n",
       "      <td>0</td>\n",
       "      <td>0</td>\n",
       "      <td>0</td>\n",
       "      <td>0</td>\n",
       "      <td>0</td>\n",
       "      <td>0</td>\n",
       "      <td>0</td>\n",
       "      <td>0</td>\n",
       "      <td>0</td>\n",
       "      <td>...</td>\n",
       "      <td>0</td>\n",
       "      <td>0</td>\n",
       "      <td>0</td>\n",
       "      <td>0</td>\n",
       "      <td>0</td>\n",
       "      <td>0</td>\n",
       "      <td>0</td>\n",
       "      <td>0</td>\n",
       "      <td>0</td>\n",
       "      <td>0</td>\n",
       "    </tr>\n",
       "    <tr>\n",
       "      <td>aa atlanta</td>\n",
       "      <td>0</td>\n",
       "      <td>0</td>\n",
       "      <td>0</td>\n",
       "      <td>0</td>\n",
       "      <td>0</td>\n",
       "      <td>0</td>\n",
       "      <td>0</td>\n",
       "      <td>0</td>\n",
       "      <td>0</td>\n",
       "      <td>0</td>\n",
       "      <td>...</td>\n",
       "      <td>0</td>\n",
       "      <td>0</td>\n",
       "      <td>0</td>\n",
       "      <td>0</td>\n",
       "      <td>0</td>\n",
       "      <td>0</td>\n",
       "      <td>0</td>\n",
       "      <td>0</td>\n",
       "      <td>0</td>\n",
       "      <td>0</td>\n",
       "    </tr>\n",
       "    <tr>\n",
       "      <td>aa does</td>\n",
       "      <td>0</td>\n",
       "      <td>0</td>\n",
       "      <td>0</td>\n",
       "      <td>0</td>\n",
       "      <td>0</td>\n",
       "      <td>0</td>\n",
       "      <td>0</td>\n",
       "      <td>0</td>\n",
       "      <td>0</td>\n",
       "      <td>0</td>\n",
       "      <td>...</td>\n",
       "      <td>0</td>\n",
       "      <td>0</td>\n",
       "      <td>0</td>\n",
       "      <td>0</td>\n",
       "      <td>0</td>\n",
       "      <td>0</td>\n",
       "      <td>0</td>\n",
       "      <td>0</td>\n",
       "      <td>0</td>\n",
       "      <td>0</td>\n",
       "    </tr>\n",
       "  </tbody>\n",
       "</table>\n",
       "<p>5 rows × 3416 columns</p>\n",
       "</div>"
      ],
      "text/plain": [
       "            0     1     2     3     4     5     6     7     8     9     ...  \\\n",
       "aa             0     0     0     0     0     0     0     0     0     0  ...   \n",
       "aa aaa         0     0     0     0     0     0     0     0     0     0  ...   \n",
       "aa albany      0     0     0     0     0     0     0     0     0     0  ...   \n",
       "aa atlanta     0     0     0     0     0     0     0     0     0     0  ...   \n",
       "aa does        0     0     0     0     0     0     0     0     0     0  ...   \n",
       "\n",
       "            3406  3407  3408  3409  3410  3411  3412  3413  3414  3415  \n",
       "aa             0     0     0     0     0     0     0     0     0     0  \n",
       "aa aaa         0     0     0     0     0     0     0     0     0     0  \n",
       "aa albany      0     0     0     0     0     0     0     0     0     0  \n",
       "aa atlanta     0     0     0     0     0     0     0     0     0     0  \n",
       "aa does        0     0     0     0     0     0     0     0     0     0  \n",
       "\n",
       "[5 rows x 3416 columns]"
      ]
     },
     "execution_count": 8,
     "metadata": {},
     "output_type": "execute_result"
    }
   ],
   "source": [
    "import pandas as pd\n",
    "\n",
    "pd.DataFrame(doc_word.toarray(), count_vectorizer.get_feature_names()).head()"
   ]
  },
  {
   "cell_type": "code",
   "execution_count": 9,
   "metadata": {},
   "outputs": [
    {
     "data": {
      "text/plain": [
       "(272502, 3416)"
      ]
     },
     "execution_count": 9,
     "metadata": {},
     "output_type": "execute_result"
    }
   ],
   "source": [
    "doc_word.shape"
   ]
  },
  {
   "cell_type": "markdown",
   "metadata": {},
   "source": [
    "##### Convert to gensim\n",
    "We need to convert our sparse `scipy` matrix to a `gensim`-friendly object called a Corpus:"
   ]
  },
  {
   "cell_type": "code",
   "execution_count": 10,
   "metadata": {},
   "outputs": [],
   "source": [
    "# Convert sparse matrix of counts to a gensim corpus\n",
    "corpus = matutils.Sparse2Corpus(doc_word)  # converting data into another format that gensim can understand"
   ]
  },
  {
   "cell_type": "markdown",
   "metadata": {},
   "source": [
    "##### Map matrix rows to words (tokens)\n",
    "We need to save a mapping (dict) of row id to word (token) for later use by gensim:"
   ]
  },
  {
   "cell_type": "code",
   "execution_count": 11,
   "metadata": {},
   "outputs": [],
   "source": [
    "id2word = dict((v, k) for k, v in count_vectorizer.vocabulary_.items())"
   ]
  },
  {
   "cell_type": "code",
   "execution_count": 12,
   "metadata": {},
   "outputs": [
    {
     "data": {
      "text/plain": [
       "272502"
      ]
     },
     "execution_count": 12,
     "metadata": {},
     "output_type": "execute_result"
    }
   ],
   "source": [
    "len(id2word)"
   ]
  },
  {
   "cell_type": "markdown",
   "metadata": {},
   "source": [
    "## LDA\n",
    "At this point we can simply plow ahead in creating an LDA model.  It requires our corpus of word counts, mapping of row ids to words, and the number of topics (3)."
   ]
  },
  {
   "cell_type": "code",
   "execution_count": 13,
   "metadata": {},
   "outputs": [
    {
     "name": "stderr",
     "output_type": "stream",
     "text": [
      "2019-11-20 14:37:35,775 : INFO : using symmetric alpha at 0.3333333333333333\n",
      "2019-11-20 14:37:35,779 : INFO : using symmetric eta at 0.3333333333333333\n",
      "2019-11-20 14:37:35,905 : INFO : using serial LDA version on this node\n",
      "2019-11-20 14:37:36,083 : INFO : running online (multi-pass) LDA training, 3 topics, 5 passes over the supplied corpus of 3416 documents, updating model once every 2000 documents, evaluating perplexity every 3416 documents, iterating 50x with a convergence threshold of 0.001000\n",
      "2019-11-20 14:37:36,085 : WARNING : too few updates, training might not converge; consider increasing the number of passes or iterations to improve accuracy\n",
      "2019-11-20 14:37:36,196 : INFO : PROGRESS: pass 0, at document #2000/3416\n",
      "2019-11-20 14:37:38,496 : INFO : merging changes from 2000 documents into a model of 3416 documents\n",
      "2019-11-20 14:37:38,619 : INFO : topic #0 (0.333): 0.001*\"space\" + 0.001*\"people\" + 0.001*\"just\" + 0.001*\"don\" + 0.001*\"jews\" + 0.001*\"like\" + 0.001*\"know\" + 0.001*\"time\" + 0.001*\"think\" + 0.001*\"said\"\n",
      "2019-11-20 14:37:38,626 : INFO : topic #1 (0.333): 0.002*\"just\" + 0.002*\"people\" + 0.001*\"like\" + 0.001*\"space\" + 0.001*\"think\" + 0.001*\"know\" + 0.001*\"time\" + 0.001*\"don\" + 0.001*\"good\" + 0.001*\"edu\"\n",
      "2019-11-20 14:37:38,635 : INFO : topic #2 (0.333): 0.002*\"don\" + 0.001*\"people\" + 0.001*\"know\" + 0.001*\"like\" + 0.001*\"edu\" + 0.001*\"just\" + 0.001*\"time\" + 0.001*\"think\" + 0.001*\"space\" + 0.001*\"good\"\n",
      "2019-11-20 14:37:38,641 : INFO : topic diff=1.442627, rho=1.000000\n",
      "2019-11-20 14:37:41,936 : INFO : -13.128 per-word bound, 8954.6 perplexity estimate based on a held-out corpus of 1416 documents with 254128 words\n",
      "2019-11-20 14:37:41,937 : INFO : PROGRESS: pass 0, at document #3416/3416\n",
      "2019-11-20 14:37:43,210 : INFO : merging changes from 1416 documents into a model of 3416 documents\n",
      "2019-11-20 14:37:43,290 : INFO : topic #0 (0.333): 0.002*\"people\" + 0.002*\"space\" + 0.001*\"just\" + 0.001*\"like\" + 0.001*\"don\" + 0.001*\"time\" + 0.001*\"armenian\" + 0.001*\"turkish\" + 0.001*\"think\" + 0.001*\"said\"\n",
      "2019-11-20 14:37:43,297 : INFO : topic #1 (0.333): 0.002*\"people\" + 0.002*\"just\" + 0.002*\"like\" + 0.002*\"space\" + 0.001*\"don\" + 0.001*\"think\" + 0.001*\"time\" + 0.001*\"said\" + 0.001*\"know\" + 0.001*\"armenian\"\n",
      "2019-11-20 14:37:43,304 : INFO : topic #2 (0.333): 0.002*\"don\" + 0.002*\"people\" + 0.002*\"know\" + 0.002*\"like\" + 0.001*\"think\" + 0.001*\"just\" + 0.001*\"does\" + 0.001*\"time\" + 0.001*\"good\" + 0.001*\"god\"\n",
      "2019-11-20 14:37:43,311 : INFO : topic diff=1.253804, rho=0.707107\n",
      "2019-11-20 14:37:43,446 : INFO : PROGRESS: pass 1, at document #2000/3416\n",
      "2019-11-20 14:37:45,124 : INFO : merging changes from 2000 documents into a model of 3416 documents\n",
      "2019-11-20 14:37:45,223 : INFO : topic #0 (0.333): 0.002*\"people\" + 0.001*\"jews\" + 0.001*\"turkish\" + 0.001*\"just\" + 0.001*\"space\" + 0.001*\"like\" + 0.001*\"armenian\" + 0.001*\"don\" + 0.001*\"time\" + 0.001*\"think\"\n",
      "2019-11-20 14:37:45,230 : INFO : topic #1 (0.333): 0.002*\"people\" + 0.002*\"space\" + 0.002*\"just\" + 0.002*\"like\" + 0.001*\"don\" + 0.001*\"think\" + 0.001*\"said\" + 0.001*\"time\" + 0.001*\"know\" + 0.001*\"say\"\n",
      "2019-11-20 14:37:45,243 : INFO : topic #2 (0.333): 0.002*\"don\" + 0.002*\"know\" + 0.002*\"like\" + 0.002*\"people\" + 0.001*\"edu\" + 0.001*\"just\" + 0.001*\"think\" + 0.001*\"time\" + 0.001*\"good\" + 0.001*\"does\"\n",
      "2019-11-20 14:37:45,252 : INFO : topic diff=0.625118, rho=0.519314\n",
      "2019-11-20 14:37:48,329 : INFO : -12.061 per-word bound, 4272.0 perplexity estimate based on a held-out corpus of 1416 documents with 254128 words\n",
      "2019-11-20 14:37:48,331 : INFO : PROGRESS: pass 1, at document #3416/3416\n",
      "2019-11-20 14:37:49,159 : INFO : merging changes from 1416 documents into a model of 3416 documents\n",
      "2019-11-20 14:37:49,236 : INFO : topic #0 (0.333): 0.002*\"people\" + 0.001*\"turkish\" + 0.001*\"israel\" + 0.001*\"armenian\" + 0.001*\"like\" + 0.001*\"jews\" + 0.001*\"just\" + 0.001*\"space\" + 0.001*\"think\" + 0.001*\"don\"\n",
      "2019-11-20 14:37:49,243 : INFO : topic #1 (0.333): 0.002*\"people\" + 0.002*\"space\" + 0.002*\"just\" + 0.002*\"like\" + 0.001*\"said\" + 0.001*\"don\" + 0.001*\"time\" + 0.001*\"know\" + 0.001*\"think\" + 0.001*\"launch\"\n",
      "2019-11-20 14:37:49,250 : INFO : topic #2 (0.333): 0.002*\"don\" + 0.002*\"like\" + 0.002*\"know\" + 0.001*\"people\" + 0.001*\"image\" + 0.001*\"just\" + 0.001*\"think\" + 0.001*\"does\" + 0.001*\"good\" + 0.001*\"edu\"\n",
      "2019-11-20 14:37:49,256 : INFO : topic diff=0.577184, rho=0.519314\n",
      "2019-11-20 14:37:49,363 : INFO : PROGRESS: pass 2, at document #2000/3416\n",
      "2019-11-20 14:37:50,316 : INFO : merging changes from 2000 documents into a model of 3416 documents\n",
      "2019-11-20 14:37:50,398 : INFO : topic #0 (0.333): 0.002*\"people\" + 0.002*\"jews\" + 0.002*\"turkish\" + 0.001*\"israel\" + 0.001*\"armenian\" + 0.001*\"just\" + 0.001*\"like\" + 0.001*\"space\" + 0.001*\"don\" + 0.001*\"think\"\n",
      "2019-11-20 14:37:50,405 : INFO : topic #1 (0.333): 0.002*\"space\" + 0.002*\"people\" + 0.002*\"just\" + 0.001*\"like\" + 0.001*\"said\" + 0.001*\"don\" + 0.001*\"time\" + 0.001*\"know\" + 0.001*\"think\" + 0.001*\"say\"\n",
      "2019-11-20 14:37:50,413 : INFO : topic #2 (0.333): 0.002*\"don\" + 0.002*\"know\" + 0.002*\"like\" + 0.001*\"edu\" + 0.001*\"people\" + 0.001*\"just\" + 0.001*\"think\" + 0.001*\"time\" + 0.001*\"good\" + 0.001*\"does\"\n",
      "2019-11-20 14:37:50,419 : INFO : topic diff=0.389669, rho=0.460874\n",
      "2019-11-20 14:37:52,672 : INFO : -11.706 per-word bound, 3341.0 perplexity estimate based on a held-out corpus of 1416 documents with 254128 words\n",
      "2019-11-20 14:37:52,673 : INFO : PROGRESS: pass 2, at document #3416/3416\n",
      "2019-11-20 14:37:53,315 : INFO : merging changes from 1416 documents into a model of 3416 documents\n",
      "2019-11-20 14:37:53,392 : INFO : topic #0 (0.333): 0.002*\"people\" + 0.002*\"israel\" + 0.001*\"turkish\" + 0.001*\"jews\" + 0.001*\"armenian\" + 0.001*\"like\" + 0.001*\"just\" + 0.001*\"think\" + 0.001*\"don\" + 0.001*\"armenians\"\n",
      "2019-11-20 14:37:53,400 : INFO : topic #1 (0.333): 0.002*\"space\" + 0.002*\"people\" + 0.002*\"just\" + 0.002*\"said\" + 0.002*\"like\" + 0.001*\"don\" + 0.001*\"time\" + 0.001*\"know\" + 0.001*\"think\" + 0.001*\"didn\"\n",
      "2019-11-20 14:37:53,406 : INFO : topic #2 (0.333): 0.002*\"don\" + 0.002*\"image\" + 0.002*\"like\" + 0.002*\"know\" + 0.001*\"people\" + 0.001*\"just\" + 0.001*\"think\" + 0.001*\"does\" + 0.001*\"edu\" + 0.001*\"good\"\n",
      "2019-11-20 14:37:53,412 : INFO : topic diff=0.344433, rho=0.460874\n",
      "2019-11-20 14:37:53,519 : INFO : PROGRESS: pass 3, at document #2000/3416\n",
      "2019-11-20 14:37:54,415 : INFO : merging changes from 2000 documents into a model of 3416 documents\n",
      "2019-11-20 14:37:54,491 : INFO : topic #0 (0.333): 0.002*\"people\" + 0.002*\"jews\" + 0.002*\"turkish\" + 0.001*\"israel\" + 0.001*\"armenian\" + 0.001*\"just\" + 0.001*\"like\" + 0.001*\"think\" + 0.001*\"israeli\" + 0.001*\"don\"\n",
      "2019-11-20 14:37:54,498 : INFO : topic #1 (0.333): 0.002*\"space\" + 0.002*\"people\" + 0.002*\"just\" + 0.001*\"said\" + 0.001*\"like\" + 0.001*\"don\" + 0.001*\"time\" + 0.001*\"know\" + 0.001*\"think\" + 0.001*\"didn\"\n",
      "2019-11-20 14:37:54,506 : INFO : topic #2 (0.333): 0.002*\"don\" + 0.002*\"like\" + 0.002*\"know\" + 0.001*\"edu\" + 0.001*\"people\" + 0.001*\"just\" + 0.001*\"image\" + 0.001*\"think\" + 0.001*\"good\" + 0.001*\"time\"\n",
      "2019-11-20 14:37:54,512 : INFO : topic diff=0.280419, rho=0.418560\n",
      "2019-11-20 14:37:56,709 : INFO : -11.607 per-word bound, 3120.0 perplexity estimate based on a held-out corpus of 1416 documents with 254128 words\n",
      "2019-11-20 14:37:56,710 : INFO : PROGRESS: pass 3, at document #3416/3416\n",
      "2019-11-20 14:37:57,300 : INFO : merging changes from 1416 documents into a model of 3416 documents\n",
      "2019-11-20 14:37:57,379 : INFO : topic #0 (0.333): 0.002*\"people\" + 0.002*\"israel\" + 0.002*\"turkish\" + 0.001*\"jews\" + 0.001*\"armenian\" + 0.001*\"like\" + 0.001*\"just\" + 0.001*\"think\" + 0.001*\"armenians\" + 0.001*\"israeli\"\n",
      "2019-11-20 14:37:57,387 : INFO : topic #1 (0.333): 0.002*\"space\" + 0.002*\"people\" + 0.002*\"just\" + 0.002*\"said\" + 0.002*\"don\" + 0.001*\"like\" + 0.001*\"time\" + 0.001*\"know\" + 0.001*\"didn\" + 0.001*\"think\"\n",
      "2019-11-20 14:37:57,393 : INFO : topic #2 (0.333): 0.002*\"don\" + 0.002*\"image\" + 0.002*\"like\" + 0.001*\"know\" + 0.001*\"people\" + 0.001*\"just\" + 0.001*\"edu\" + 0.001*\"think\" + 0.001*\"does\" + 0.001*\"good\"\n",
      "2019-11-20 14:37:57,399 : INFO : topic diff=0.250059, rho=0.418560\n",
      "2019-11-20 14:37:57,509 : INFO : PROGRESS: pass 4, at document #2000/3416\n",
      "2019-11-20 14:37:58,382 : INFO : merging changes from 2000 documents into a model of 3416 documents\n"
     ]
    },
    {
     "name": "stderr",
     "output_type": "stream",
     "text": [
      "2019-11-20 14:37:58,458 : INFO : topic #0 (0.333): 0.002*\"people\" + 0.002*\"jews\" + 0.002*\"turkish\" + 0.002*\"israel\" + 0.001*\"armenian\" + 0.001*\"like\" + 0.001*\"just\" + 0.001*\"israeli\" + 0.001*\"think\" + 0.001*\"armenians\"\n",
      "2019-11-20 14:37:58,465 : INFO : topic #1 (0.333): 0.002*\"space\" + 0.002*\"people\" + 0.002*\"just\" + 0.001*\"said\" + 0.001*\"don\" + 0.001*\"like\" + 0.001*\"time\" + 0.001*\"know\" + 0.001*\"think\" + 0.001*\"didn\"\n",
      "2019-11-20 14:37:58,472 : INFO : topic #2 (0.333): 0.002*\"don\" + 0.002*\"like\" + 0.002*\"know\" + 0.001*\"edu\" + 0.001*\"image\" + 0.001*\"just\" + 0.001*\"people\" + 0.001*\"good\" + 0.001*\"think\" + 0.001*\"time\"\n",
      "2019-11-20 14:37:58,478 : INFO : topic diff=0.231848, rho=0.386103\n",
      "2019-11-20 14:38:00,628 : INFO : -11.573 per-word bound, 3045.9 perplexity estimate based on a held-out corpus of 1416 documents with 254128 words\n",
      "2019-11-20 14:38:00,629 : INFO : PROGRESS: pass 4, at document #3416/3416\n",
      "2019-11-20 14:38:01,204 : INFO : merging changes from 1416 documents into a model of 3416 documents\n",
      "2019-11-20 14:38:01,281 : INFO : topic #0 (0.333): 0.002*\"people\" + 0.002*\"israel\" + 0.002*\"turkish\" + 0.001*\"jews\" + 0.001*\"armenian\" + 0.001*\"like\" + 0.001*\"just\" + 0.001*\"israeli\" + 0.001*\"think\" + 0.001*\"armenians\"\n",
      "2019-11-20 14:38:01,288 : INFO : topic #1 (0.333): 0.002*\"space\" + 0.002*\"people\" + 0.002*\"just\" + 0.002*\"said\" + 0.002*\"don\" + 0.001*\"like\" + 0.001*\"time\" + 0.001*\"know\" + 0.001*\"didn\" + 0.001*\"think\"\n",
      "2019-11-20 14:38:01,295 : INFO : topic #2 (0.333): 0.002*\"don\" + 0.002*\"image\" + 0.002*\"like\" + 0.001*\"know\" + 0.001*\"just\" + 0.001*\"people\" + 0.001*\"edu\" + 0.001*\"does\" + 0.001*\"think\" + 0.001*\"good\"\n",
      "2019-11-20 14:38:01,301 : INFO : topic diff=0.211543, rho=0.386103\n"
     ]
    }
   ],
   "source": [
    "# Create lda model (equivalent to \"fit\" in sklearn)\n",
    "lda = models.LdaModel(corpus=corpus,  # we converted our data into a way gensim can understadn above\n",
    "                      num_topics=3,   # how many topics are there\n",
    "                      id2word=id2word, \n",
    "                      passes=5)   # telling gensim to run trough how many iterations"
   ]
  },
  {
   "cell_type": "markdown",
   "metadata": {},
   "source": [
    "Let's take a look at what happened.  Here are the 5 most important words for each of the 3 topics we found:"
   ]
  },
  {
   "cell_type": "code",
   "execution_count": 14,
   "metadata": {},
   "outputs": [
    {
     "name": "stderr",
     "output_type": "stream",
     "text": [
      "2019-11-20 14:38:01,370 : INFO : topic #0 (0.333): 0.002*\"people\" + 0.002*\"israel\" + 0.002*\"turkish\" + 0.001*\"jews\" + 0.001*\"armenian\" + 0.001*\"like\" + 0.001*\"just\" + 0.001*\"israeli\" + 0.001*\"think\" + 0.001*\"armenians\"\n",
      "2019-11-20 14:38:01,379 : INFO : topic #1 (0.333): 0.002*\"space\" + 0.002*\"people\" + 0.002*\"just\" + 0.002*\"said\" + 0.002*\"don\" + 0.001*\"like\" + 0.001*\"time\" + 0.001*\"know\" + 0.001*\"didn\" + 0.001*\"think\"\n",
      "2019-11-20 14:38:01,387 : INFO : topic #2 (0.333): 0.002*\"don\" + 0.002*\"image\" + 0.002*\"like\" + 0.001*\"know\" + 0.001*\"just\" + 0.001*\"people\" + 0.001*\"edu\" + 0.001*\"does\" + 0.001*\"think\" + 0.001*\"good\"\n"
     ]
    },
    {
     "data": {
      "text/plain": [
       "[(0,\n",
       "  '0.002*\"people\" + 0.002*\"israel\" + 0.002*\"turkish\" + 0.001*\"jews\" + 0.001*\"armenian\" + 0.001*\"like\" + 0.001*\"just\" + 0.001*\"israeli\" + 0.001*\"think\" + 0.001*\"armenians\"'),\n",
       " (1,\n",
       "  '0.002*\"space\" + 0.002*\"people\" + 0.002*\"just\" + 0.002*\"said\" + 0.002*\"don\" + 0.001*\"like\" + 0.001*\"time\" + 0.001*\"know\" + 0.001*\"didn\" + 0.001*\"think\"'),\n",
       " (2,\n",
       "  '0.002*\"don\" + 0.002*\"image\" + 0.002*\"like\" + 0.001*\"know\" + 0.001*\"just\" + 0.001*\"people\" + 0.001*\"edu\" + 0.001*\"does\" + 0.001*\"think\" + 0.001*\"good\"')]"
      ]
     },
     "execution_count": 14,
     "metadata": {},
     "output_type": "execute_result"
    }
   ],
   "source": [
    "lda.print_topics()   # it will give you the topics\n",
    "                     # will return you the number of topics you specified above\n",
    "    \n",
    "    # HOWEVER, it is your job to infer what the topics are!!"
   ]
  },
  {
   "cell_type": "markdown",
   "metadata": {},
   "source": [
    "#### Topic Space\n",
    "If we want to map our documents to the topic space we need to actually use the LdaModel transformer that we created above, like so:"
   ]
  },
  {
   "cell_type": "code",
   "execution_count": 15,
   "metadata": {},
   "outputs": [
    {
     "data": {
      "text/plain": [
       "<gensim.interfaces.TransformedCorpus at 0x243b5d70400>"
      ]
     },
     "execution_count": 15,
     "metadata": {},
     "output_type": "execute_result"
    }
   ],
   "source": [
    "# Transform the docs from the word space to the topic space (like \"transform\" in sklearn)\n",
    "lda_corpus = lda[corpus]\n",
    "lda_corpus"
   ]
  },
  {
   "cell_type": "code",
   "execution_count": 16,
   "metadata": {},
   "outputs": [],
   "source": [
    "# Store the documents' topic vectors in a list so we can take a peak\n",
    "lda_docs = [doc for doc in lda_corpus]"
   ]
  },
  {
   "cell_type": "markdown",
   "metadata": {},
   "source": [
    "Now we can take a look at the document vectors in the topic space, which are measures of the component of each document along each topic.  Thus, at most a document vector can have num_topics=3 nonzero components in the topic space, and most have far fewer."
   ]
  },
  {
   "cell_type": "code",
   "execution_count": 17,
   "metadata": {},
   "outputs": [
    {
     "data": {
      "text/plain": [
       "[[(2, 0.991012)],\n",
       " [(1, 0.7978154), (2, 0.19260629)],\n",
       " [(0, 0.010123005), (1, 0.01012627), (2, 0.9797507)],\n",
       " [(2, 0.9869936)],\n",
       " [(2, 0.99285764)]]"
      ]
     },
     "execution_count": 17,
     "metadata": {},
     "output_type": "execute_result"
    }
   ],
   "source": [
    "# Check out the document vectors in the topic space for the first 5 documents\n",
    "lda_docs[0:5]  # individual document vectors in the topic space\n",
    "\n",
    "# For document 1 (first row), it is mostly made out of topic 2\n",
    "# in document 2, it is mostly made out of topic 1 and topic 2"
   ]
  },
  {
   "cell_type": "code",
   "execution_count": 18,
   "metadata": {},
   "outputs": [
    {
     "data": {
      "text/plain": [
       "'Well, the Red Sox have apparenly resigned Herm Winningham to a AAA contract.\\nTed \"Larry\" Simmons signed him to a AAA contract then released him from\\nBuffalo, allowing Lou \"Curly\" Gorman to circumvent the rule about not\\nresigning free agents until May 1. Clearly, neither of these guys is bright\\nenough to be Moe.\\n\\n Mike Jones | AIX High-End Development | mjones@donald.aix.kingston.ibm.com'"
      ]
     },
     "execution_count": 18,
     "metadata": {},
     "output_type": "execute_result"
    }
   ],
   "source": [
    "ng_train.data[0]"
   ]
  },
  {
   "cell_type": "markdown",
   "metadata": {},
   "source": [
    "## On your own...\n",
    "- Pick a few subsets of the 20newsgroups dataset  \n",
    "- Try performing LDA on this data with gensim\n",
    "- Play with some of the preprocessing options and parameters for LDA, observe what happens\n",
    "- See if you can use the resulting topic space to extract topic vectors\n",
    "- How do your results look?\n",
    "- Can you think of how you could cluster this data?"
   ]
  },
  {
   "cell_type": "code",
   "execution_count": 19,
   "metadata": {},
   "outputs": [
    {
     "name": "stderr",
     "output_type": "stream",
     "text": [
      "2019-11-20 15:19:12,610 : INFO : using symmetric alpha at 0.16666666666666666\n",
      "2019-11-20 15:19:12,628 : INFO : using symmetric eta at 0.16666666666666666\n",
      "2019-11-20 15:19:12,718 : INFO : using serial LDA version on this node\n",
      "2019-11-20 15:19:13,143 : INFO : running online (multi-pass) LDA training, 6 topics, 10 passes over the supplied corpus of 3416 documents, updating model once every 2000 documents, evaluating perplexity every 3416 documents, iterating 50x with a convergence threshold of 0.001000\n",
      "2019-11-20 15:19:13,486 : INFO : PROGRESS: pass 0, at document #2000/3416\n",
      "2019-11-20 15:19:17,531 : INFO : merging changes from 2000 documents into a model of 3416 documents\n",
      "2019-11-20 15:19:17,819 : INFO : topic #1 (0.167): 0.002*\"space\" + 0.002*\"like\" + 0.001*\"time\" + 0.001*\"don\" + 0.001*\"know\" + 0.001*\"just\" + 0.001*\"people\" + 0.001*\"think\" + 0.001*\"edu\" + 0.001*\"jews\"\n",
      "2019-11-20 15:19:17,834 : INFO : topic #3 (0.167): 0.002*\"don\" + 0.002*\"know\" + 0.002*\"people\" + 0.001*\"just\" + 0.001*\"said\" + 0.001*\"like\" + 0.001*\"good\" + 0.001*\"time\" + 0.001*\"think\" + 0.001*\"does\"\n",
      "2019-11-20 15:19:17,845 : INFO : topic #4 (0.167): 0.001*\"people\" + 0.001*\"space\" + 0.001*\"just\" + 0.001*\"think\" + 0.001*\"edu\" + 0.001*\"time\" + 0.001*\"don\" + 0.001*\"like\" + 0.001*\"israel\" + 0.001*\"know\"\n",
      "2019-11-20 15:19:17,853 : INFO : topic #5 (0.167): 0.002*\"people\" + 0.001*\"space\" + 0.001*\"just\" + 0.001*\"know\" + 0.001*\"said\" + 0.001*\"think\" + 0.001*\"don\" + 0.001*\"did\" + 0.001*\"like\" + 0.001*\"good\"\n",
      "2019-11-20 15:19:17,864 : INFO : topic #2 (0.167): 0.002*\"like\" + 0.002*\"don\" + 0.002*\"know\" + 0.001*\"just\" + 0.001*\"people\" + 0.001*\"space\" + 0.001*\"think\" + 0.001*\"good\" + 0.001*\"time\" + 0.001*\"edu\"\n",
      "2019-11-20 15:19:17,878 : INFO : topic diff=2.960692, rho=1.000000\n",
      "2019-11-20 15:19:23,536 : INFO : -14.654 per-word bound, 25782.9 perplexity estimate based on a held-out corpus of 1416 documents with 254128 words\n",
      "2019-11-20 15:19:23,538 : INFO : PROGRESS: pass 0, at document #3416/3416\n",
      "2019-11-20 15:19:26,002 : INFO : merging changes from 1416 documents into a model of 3416 documents\n",
      "2019-11-20 15:19:26,273 : INFO : topic #0 (0.167): 0.003*\"people\" + 0.002*\"just\" + 0.002*\"like\" + 0.002*\"image\" + 0.002*\"don\" + 0.001*\"think\" + 0.001*\"does\" + 0.001*\"new\" + 0.001*\"time\" + 0.001*\"know\"\n",
      "2019-11-20 15:19:26,289 : INFO : topic #3 (0.167): 0.003*\"people\" + 0.003*\"don\" + 0.003*\"said\" + 0.003*\"know\" + 0.003*\"just\" + 0.002*\"like\" + 0.002*\"say\" + 0.002*\"think\" + 0.002*\"didn\" + 0.002*\"god\"\n",
      "2019-11-20 15:19:26,302 : INFO : topic #2 (0.167): 0.003*\"don\" + 0.002*\"like\" + 0.002*\"think\" + 0.002*\"people\" + 0.002*\"know\" + 0.002*\"just\" + 0.001*\"good\" + 0.001*\"does\" + 0.001*\"time\" + 0.001*\"use\"\n",
      "2019-11-20 15:19:26,313 : INFO : topic #1 (0.167): 0.004*\"space\" + 0.002*\"like\" + 0.002*\"time\" + 0.002*\"don\" + 0.001*\"jpeg\" + 0.001*\"israel\" + 0.001*\"just\" + 0.001*\"know\" + 0.001*\"image\" + 0.001*\"year\"\n",
      "2019-11-20 15:19:26,324 : INFO : topic #4 (0.167): 0.002*\"people\" + 0.002*\"armenian\" + 0.001*\"space\" + 0.001*\"turkish\" + 0.001*\"israel\" + 0.001*\"time\" + 0.001*\"just\" + 0.001*\"new\" + 0.001*\"armenians\" + 0.001*\"don\"\n",
      "2019-11-20 15:19:26,339 : INFO : topic diff=1.277744, rho=0.707107\n",
      "2019-11-20 15:19:26,499 : INFO : PROGRESS: pass 1, at document #2000/3416\n",
      "2019-11-20 15:19:29,001 : INFO : merging changes from 2000 documents into a model of 3416 documents\n",
      "2019-11-20 15:19:29,253 : INFO : topic #3 (0.167): 0.003*\"people\" + 0.003*\"don\" + 0.003*\"said\" + 0.003*\"know\" + 0.002*\"just\" + 0.002*\"like\" + 0.002*\"say\" + 0.002*\"think\" + 0.002*\"time\" + 0.002*\"didn\"\n",
      "2019-11-20 15:19:29,266 : INFO : topic #4 (0.167): 0.002*\"turkish\" + 0.002*\"armenian\" + 0.002*\"people\" + 0.001*\"jews\" + 0.001*\"israel\" + 0.001*\"armenians\" + 0.001*\"new\" + 0.001*\"just\" + 0.001*\"time\" + 0.001*\"space\"\n",
      "2019-11-20 15:19:29,273 : INFO : topic #5 (0.167): 0.002*\"people\" + 0.001*\"armenian\" + 0.001*\"said\" + 0.001*\"did\" + 0.001*\"just\" + 0.001*\"like\" + 0.001*\"know\" + 0.001*\"don\" + 0.001*\"armenians\" + 0.001*\"think\"\n",
      "2019-11-20 15:19:29,309 : INFO : topic #2 (0.167): 0.003*\"don\" + 0.002*\"like\" + 0.002*\"think\" + 0.002*\"just\" + 0.002*\"know\" + 0.002*\"people\" + 0.001*\"good\" + 0.001*\"does\" + 0.001*\"time\" + 0.001*\"graphics\"\n",
      "2019-11-20 15:19:29,318 : INFO : topic #0 (0.167): 0.002*\"people\" + 0.002*\"just\" + 0.002*\"like\" + 0.001*\"don\" + 0.001*\"think\" + 0.001*\"image\" + 0.001*\"know\" + 0.001*\"time\" + 0.001*\"new\" + 0.001*\"does\"\n",
      "2019-11-20 15:19:29,331 : INFO : topic diff=0.719001, rho=0.519314\n",
      "2019-11-20 15:19:35,727 : INFO : -13.444 per-word bound, 11140.4 perplexity estimate based on a held-out corpus of 1416 documents with 254128 words\n",
      "2019-11-20 15:19:35,729 : INFO : PROGRESS: pass 1, at document #3416/3416\n",
      "2019-11-20 15:19:37,600 : INFO : merging changes from 1416 documents into a model of 3416 documents\n",
      "2019-11-20 15:19:37,885 : INFO : topic #5 (0.167): 0.002*\"people\" + 0.001*\"armenian\" + 0.001*\"said\" + 0.001*\"like\" + 0.001*\"adl\" + 0.001*\"did\" + 0.001*\"just\" + 0.001*\"genocide\" + 0.001*\"edu\" + 0.001*\"armenians\"\n",
      "2019-11-20 15:19:37,900 : INFO : topic #0 (0.167): 0.002*\"image\" + 0.002*\"people\" + 0.002*\"just\" + 0.002*\"like\" + 0.002*\"don\" + 0.001*\"think\" + 0.001*\"new\" + 0.001*\"know\" + 0.001*\"time\" + 0.001*\"use\"\n",
      "2019-11-20 15:19:37,917 : INFO : topic #3 (0.167): 0.004*\"people\" + 0.003*\"don\" + 0.003*\"said\" + 0.003*\"know\" + 0.003*\"just\" + 0.002*\"god\" + 0.002*\"like\" + 0.002*\"say\" + 0.002*\"didn\" + 0.002*\"think\"\n",
      "2019-11-20 15:19:37,928 : INFO : topic #1 (0.167): 0.005*\"space\" + 0.002*\"like\" + 0.002*\"nasa\" + 0.002*\"launch\" + 0.002*\"data\" + 0.002*\"time\" + 0.001*\"edu\" + 0.001*\"israel\" + 0.001*\"satellite\" + 0.001*\"israeli\"\n",
      "2019-11-20 15:19:37,940 : INFO : topic #2 (0.167): 0.003*\"don\" + 0.002*\"like\" + 0.002*\"think\" + 0.002*\"just\" + 0.002*\"jpeg\" + 0.002*\"know\" + 0.002*\"people\" + 0.002*\"good\" + 0.001*\"does\" + 0.001*\"use\"\n",
      "2019-11-20 15:19:37,952 : INFO : topic diff=0.635530, rho=0.519314\n",
      "2019-11-20 15:19:38,097 : INFO : PROGRESS: pass 2, at document #2000/3416\n",
      "2019-11-20 15:19:40,109 : INFO : merging changes from 2000 documents into a model of 3416 documents\n",
      "2019-11-20 15:19:40,349 : INFO : topic #2 (0.167): 0.003*\"don\" + 0.002*\"like\" + 0.002*\"think\" + 0.002*\"just\" + 0.002*\"know\" + 0.001*\"good\" + 0.001*\"people\" + 0.001*\"does\" + 0.001*\"use\" + 0.001*\"time\"\n",
      "2019-11-20 15:19:40,362 : INFO : topic #1 (0.167): 0.005*\"space\" + 0.002*\"edu\" + 0.002*\"nasa\" + 0.002*\"data\" + 0.002*\"like\" + 0.001*\"time\" + 0.001*\"available\" + 0.001*\"launch\" + 0.001*\"ftp\" + 0.001*\"information\"\n",
      "2019-11-20 15:19:40,371 : INFO : topic #4 (0.167): 0.002*\"turkish\" + 0.002*\"armenian\" + 0.002*\"jews\" + 0.002*\"people\" + 0.002*\"armenians\" + 0.001*\"turkey\" + 0.001*\"israel\" + 0.001*\"new\" + 0.001*\"genocide\" + 0.001*\"russian\"\n",
      "2019-11-20 15:19:40,377 : INFO : topic #0 (0.167): 0.002*\"people\" + 0.002*\"just\" + 0.002*\"image\" + 0.002*\"like\" + 0.002*\"don\" + 0.001*\"think\" + 0.001*\"know\" + 0.001*\"time\" + 0.001*\"new\" + 0.001*\"need\"\n",
      "2019-11-20 15:19:40,385 : INFO : topic #5 (0.167): 0.001*\"people\" + 0.001*\"armenian\" + 0.001*\"said\" + 0.001*\"like\" + 0.001*\"just\" + 0.001*\"did\" + 0.001*\"know\" + 0.001*\"new\" + 0.001*\"question\" + 0.001*\"don\"\n",
      "2019-11-20 15:19:40,399 : INFO : topic diff=0.461301, rho=0.460874\n",
      "2019-11-20 15:19:45,012 : INFO : -12.570 per-word bound, 6080.3 perplexity estimate based on a held-out corpus of 1416 documents with 254128 words\n",
      "2019-11-20 15:19:45,014 : INFO : PROGRESS: pass 2, at document #3416/3416\n",
      "2019-11-20 15:19:46,497 : INFO : merging changes from 1416 documents into a model of 3416 documents\n",
      "2019-11-20 15:19:46,701 : INFO : topic #5 (0.167): 0.001*\"people\" + 0.001*\"armenian\" + 0.001*\"adl\" + 0.001*\"said\" + 0.001*\"like\" + 0.001*\"bullock\" + 0.001*\"just\" + 0.001*\"genocide\" + 0.001*\"argic\" + 0.001*\"book\"\n",
      "2019-11-20 15:19:46,711 : INFO : topic #1 (0.167): 0.005*\"space\" + 0.002*\"nasa\" + 0.002*\"data\" + 0.002*\"like\" + 0.002*\"launch\" + 0.001*\"edu\" + 0.001*\"time\" + 0.001*\"satellite\" + 0.001*\"israel\" + 0.001*\"new\"\n",
      "2019-11-20 15:19:46,722 : INFO : topic #2 (0.167): 0.003*\"don\" + 0.002*\"jpeg\" + 0.002*\"like\" + 0.002*\"think\" + 0.002*\"just\" + 0.002*\"know\" + 0.001*\"good\" + 0.001*\"does\" + 0.001*\"people\" + 0.001*\"use\"\n",
      "2019-11-20 15:19:46,733 : INFO : topic #4 (0.167): 0.003*\"armenian\" + 0.002*\"turkish\" + 0.002*\"armenians\" + 0.002*\"people\" + 0.002*\"jews\" + 0.001*\"genocide\" + 0.001*\"history\" + 0.001*\"israel\" + 0.001*\"turkey\" + 0.001*\"university\"\n"
     ]
    },
    {
     "name": "stderr",
     "output_type": "stream",
     "text": [
      "2019-11-20 15:19:46,746 : INFO : topic #0 (0.167): 0.002*\"image\" + 0.002*\"people\" + 0.002*\"just\" + 0.002*\"like\" + 0.002*\"don\" + 0.001*\"think\" + 0.001*\"new\" + 0.001*\"know\" + 0.001*\"time\" + 0.001*\"use\"\n",
      "2019-11-20 15:19:46,760 : INFO : topic diff=0.406556, rho=0.460874\n",
      "2019-11-20 15:19:46,933 : INFO : PROGRESS: pass 3, at document #2000/3416\n",
      "2019-11-20 15:19:48,903 : INFO : merging changes from 2000 documents into a model of 3416 documents\n",
      "2019-11-20 15:19:49,111 : INFO : topic #4 (0.167): 0.003*\"turkish\" + 0.003*\"armenian\" + 0.002*\"jews\" + 0.002*\"people\" + 0.002*\"armenians\" + 0.001*\"turkey\" + 0.001*\"genocide\" + 0.001*\"israel\" + 0.001*\"russian\" + 0.001*\"turks\"\n",
      "2019-11-20 15:19:49,119 : INFO : topic #0 (0.167): 0.002*\"image\" + 0.002*\"people\" + 0.002*\"just\" + 0.002*\"like\" + 0.002*\"don\" + 0.001*\"think\" + 0.001*\"know\" + 0.001*\"time\" + 0.001*\"new\" + 0.001*\"need\"\n",
      "2019-11-20 15:19:49,129 : INFO : topic #2 (0.167): 0.002*\"don\" + 0.002*\"like\" + 0.002*\"think\" + 0.002*\"just\" + 0.002*\"know\" + 0.001*\"jpeg\" + 0.001*\"good\" + 0.001*\"does\" + 0.001*\"people\" + 0.001*\"time\"\n",
      "2019-11-20 15:19:49,137 : INFO : topic #3 (0.167): 0.003*\"people\" + 0.003*\"don\" + 0.003*\"said\" + 0.003*\"know\" + 0.002*\"just\" + 0.002*\"god\" + 0.002*\"like\" + 0.002*\"say\" + 0.002*\"didn\" + 0.002*\"think\"\n",
      "2019-11-20 15:19:49,147 : INFO : topic #5 (0.167): 0.001*\"people\" + 0.001*\"armenian\" + 0.001*\"said\" + 0.001*\"like\" + 0.001*\"just\" + 0.001*\"did\" + 0.001*\"question\" + 0.001*\"adl\" + 0.000*\"new\" + 0.000*\"edu\"\n",
      "2019-11-20 15:19:49,161 : INFO : topic diff=0.273917, rho=0.418560\n",
      "2019-11-20 15:19:54,203 : INFO : -11.936 per-word bound, 3919.0 perplexity estimate based on a held-out corpus of 1416 documents with 254128 words\n",
      "2019-11-20 15:19:54,206 : INFO : PROGRESS: pass 3, at document #3416/3416\n",
      "2019-11-20 15:19:55,565 : INFO : merging changes from 1416 documents into a model of 3416 documents\n",
      "2019-11-20 15:19:55,801 : INFO : topic #2 (0.167): 0.003*\"jpeg\" + 0.002*\"don\" + 0.002*\"like\" + 0.002*\"think\" + 0.002*\"just\" + 0.002*\"know\" + 0.001*\"does\" + 0.001*\"good\" + 0.001*\"people\" + 0.001*\"use\"\n",
      "2019-11-20 15:19:55,813 : INFO : topic #3 (0.167): 0.003*\"people\" + 0.003*\"don\" + 0.003*\"said\" + 0.003*\"just\" + 0.003*\"know\" + 0.002*\"god\" + 0.002*\"say\" + 0.002*\"like\" + 0.002*\"didn\" + 0.002*\"think\"\n",
      "2019-11-20 15:19:55,822 : INFO : topic #1 (0.167): 0.005*\"space\" + 0.002*\"nasa\" + 0.002*\"data\" + 0.002*\"launch\" + 0.001*\"like\" + 0.001*\"edu\" + 0.001*\"time\" + 0.001*\"satellite\" + 0.001*\"israel\" + 0.001*\"available\"\n",
      "2019-11-20 15:19:55,831 : INFO : topic #0 (0.167): 0.002*\"image\" + 0.002*\"people\" + 0.002*\"like\" + 0.002*\"just\" + 0.001*\"don\" + 0.001*\"think\" + 0.001*\"new\" + 0.001*\"know\" + 0.001*\"time\" + 0.001*\"use\"\n",
      "2019-11-20 15:19:55,841 : INFO : topic #4 (0.167): 0.003*\"armenian\" + 0.002*\"turkish\" + 0.002*\"armenians\" + 0.002*\"people\" + 0.002*\"jews\" + 0.001*\"genocide\" + 0.001*\"turkey\" + 0.001*\"israel\" + 0.001*\"history\" + 0.001*\"government\"\n",
      "2019-11-20 15:19:55,853 : INFO : topic diff=0.254919, rho=0.418560\n",
      "2019-11-20 15:19:56,009 : INFO : PROGRESS: pass 4, at document #2000/3416\n",
      "2019-11-20 15:19:58,069 : INFO : merging changes from 2000 documents into a model of 3416 documents\n",
      "2019-11-20 15:19:58,315 : INFO : topic #4 (0.167): 0.003*\"turkish\" + 0.003*\"armenian\" + 0.002*\"jews\" + 0.002*\"armenians\" + 0.002*\"people\" + 0.001*\"turkey\" + 0.001*\"genocide\" + 0.001*\"israel\" + 0.001*\"turks\" + 0.001*\"russian\"\n",
      "2019-11-20 15:19:58,328 : INFO : topic #2 (0.167): 0.002*\"don\" + 0.002*\"like\" + 0.002*\"think\" + 0.002*\"just\" + 0.002*\"jpeg\" + 0.002*\"know\" + 0.001*\"good\" + 0.001*\"does\" + 0.001*\"people\" + 0.001*\"time\"\n",
      "2019-11-20 15:19:58,335 : INFO : topic #0 (0.167): 0.002*\"image\" + 0.002*\"people\" + 0.002*\"just\" + 0.002*\"like\" + 0.001*\"don\" + 0.001*\"think\" + 0.001*\"know\" + 0.001*\"time\" + 0.001*\"new\" + 0.001*\"greek\"\n",
      "2019-11-20 15:19:58,345 : INFO : topic #3 (0.167): 0.003*\"people\" + 0.003*\"don\" + 0.003*\"said\" + 0.003*\"know\" + 0.002*\"just\" + 0.002*\"god\" + 0.002*\"say\" + 0.002*\"like\" + 0.002*\"didn\" + 0.002*\"think\"\n",
      "2019-11-20 15:19:58,354 : INFO : topic #5 (0.167): 0.001*\"people\" + 0.001*\"armenian\" + 0.001*\"said\" + 0.001*\"like\" + 0.001*\"just\" + 0.001*\"adl\" + 0.001*\"did\" + 0.001*\"question\" + 0.000*\"new\" + 0.000*\"edu\"\n",
      "2019-11-20 15:19:58,367 : INFO : topic diff=0.183786, rho=0.386103\n",
      "2019-11-20 15:20:02,760 : INFO : -11.683 per-word bound, 3288.8 perplexity estimate based on a held-out corpus of 1416 documents with 254128 words\n",
      "2019-11-20 15:20:02,762 : INFO : PROGRESS: pass 4, at document #3416/3416\n",
      "2019-11-20 15:20:03,995 : INFO : merging changes from 1416 documents into a model of 3416 documents\n",
      "2019-11-20 15:20:04,241 : INFO : topic #5 (0.167): 0.001*\"people\" + 0.001*\"said\" + 0.001*\"adl\" + 0.001*\"armenian\" + 0.001*\"bullock\" + 0.001*\"like\" + 0.001*\"information\" + 0.001*\"police\" + 0.001*\"argic\" + 0.001*\"book\"\n",
      "2019-11-20 15:20:04,256 : INFO : topic #3 (0.167): 0.003*\"people\" + 0.003*\"don\" + 0.002*\"just\" + 0.002*\"know\" + 0.002*\"said\" + 0.002*\"god\" + 0.002*\"say\" + 0.002*\"like\" + 0.002*\"didn\" + 0.002*\"think\"\n",
      "2019-11-20 15:20:04,269 : INFO : topic #2 (0.167): 0.003*\"jpeg\" + 0.002*\"don\" + 0.002*\"like\" + 0.002*\"think\" + 0.002*\"just\" + 0.001*\"know\" + 0.001*\"does\" + 0.001*\"good\" + 0.001*\"people\" + 0.001*\"image\"\n",
      "2019-11-20 15:20:04,280 : INFO : topic #0 (0.167): 0.002*\"image\" + 0.002*\"people\" + 0.002*\"like\" + 0.002*\"just\" + 0.001*\"don\" + 0.001*\"think\" + 0.001*\"new\" + 0.001*\"know\" + 0.001*\"time\" + 0.001*\"use\"\n",
      "2019-11-20 15:20:04,293 : INFO : topic #1 (0.167): 0.005*\"space\" + 0.002*\"nasa\" + 0.002*\"data\" + 0.001*\"launch\" + 0.001*\"like\" + 0.001*\"edu\" + 0.001*\"time\" + 0.001*\"satellite\" + 0.001*\"israel\" + 0.001*\"available\"\n",
      "2019-11-20 15:20:04,311 : INFO : topic diff=0.178466, rho=0.386103\n",
      "2019-11-20 15:20:04,498 : INFO : PROGRESS: pass 5, at document #2000/3416\n",
      "2019-11-20 15:20:06,445 : INFO : merging changes from 2000 documents into a model of 3416 documents\n",
      "2019-11-20 15:20:06,690 : INFO : topic #2 (0.167): 0.002*\"don\" + 0.002*\"like\" + 0.002*\"think\" + 0.002*\"jpeg\" + 0.002*\"just\" + 0.002*\"know\" + 0.001*\"good\" + 0.001*\"does\" + 0.001*\"people\" + 0.001*\"use\"\n",
      "2019-11-20 15:20:06,699 : INFO : topic #1 (0.167): 0.005*\"space\" + 0.002*\"nasa\" + 0.002*\"edu\" + 0.002*\"data\" + 0.001*\"like\" + 0.001*\"time\" + 0.001*\"available\" + 0.001*\"launch\" + 0.001*\"graphics\" + 0.001*\"ftp\"\n",
      "2019-11-20 15:20:06,706 : INFO : topic #0 (0.167): 0.002*\"people\" + 0.002*\"just\" + 0.002*\"image\" + 0.002*\"like\" + 0.001*\"don\" + 0.001*\"think\" + 0.001*\"know\" + 0.001*\"time\" + 0.001*\"new\" + 0.001*\"greek\"\n",
      "2019-11-20 15:20:06,716 : INFO : topic #3 (0.167): 0.003*\"people\" + 0.003*\"don\" + 0.002*\"know\" + 0.002*\"said\" + 0.002*\"just\" + 0.002*\"god\" + 0.002*\"say\" + 0.002*\"like\" + 0.002*\"didn\" + 0.002*\"think\"\n",
      "2019-11-20 15:20:06,726 : INFO : topic #4 (0.167): 0.003*\"armenian\" + 0.003*\"turkish\" + 0.002*\"jews\" + 0.002*\"armenians\" + 0.002*\"people\" + 0.001*\"turkey\" + 0.001*\"genocide\" + 0.001*\"israel\" + 0.001*\"turks\" + 0.001*\"russian\"\n",
      "2019-11-20 15:20:06,739 : INFO : topic diff=0.147201, rho=0.360188\n",
      "2019-11-20 15:20:11,093 : INFO : -11.595 per-word bound, 3093.7 perplexity estimate based on a held-out corpus of 1416 documents with 254128 words\n",
      "2019-11-20 15:20:11,094 : INFO : PROGRESS: pass 5, at document #3416/3416\n",
      "2019-11-20 15:20:12,313 : INFO : merging changes from 1416 documents into a model of 3416 documents\n",
      "2019-11-20 15:20:12,560 : INFO : topic #5 (0.167): 0.001*\"people\" + 0.001*\"said\" + 0.001*\"adl\" + 0.001*\"armenian\" + 0.001*\"bullock\" + 0.001*\"like\" + 0.001*\"information\" + 0.001*\"police\" + 0.001*\"san\" + 0.001*\"anti\"\n",
      "2019-11-20 15:20:12,570 : INFO : topic #0 (0.167): 0.002*\"image\" + 0.002*\"people\" + 0.002*\"like\" + 0.002*\"just\" + 0.001*\"don\" + 0.001*\"think\" + 0.001*\"know\" + 0.001*\"new\" + 0.001*\"time\" + 0.001*\"use\"\n",
      "2019-11-20 15:20:12,579 : INFO : topic #3 (0.167): 0.003*\"people\" + 0.003*\"don\" + 0.002*\"know\" + 0.002*\"just\" + 0.002*\"said\" + 0.002*\"god\" + 0.002*\"say\" + 0.002*\"like\" + 0.002*\"didn\" + 0.002*\"think\"\n",
      "2019-11-20 15:20:12,587 : INFO : topic #1 (0.167): 0.005*\"space\" + 0.002*\"nasa\" + 0.002*\"data\" + 0.001*\"launch\" + 0.001*\"like\" + 0.001*\"edu\" + 0.001*\"time\" + 0.001*\"satellite\" + 0.001*\"israel\" + 0.001*\"available\"\n",
      "2019-11-20 15:20:12,599 : INFO : topic #2 (0.167): 0.003*\"jpeg\" + 0.002*\"don\" + 0.002*\"like\" + 0.002*\"think\" + 0.002*\"just\" + 0.001*\"know\" + 0.001*\"does\" + 0.001*\"good\" + 0.001*\"people\" + 0.001*\"image\"\n"
     ]
    },
    {
     "name": "stderr",
     "output_type": "stream",
     "text": [
      "2019-11-20 15:20:12,612 : INFO : topic diff=0.143997, rho=0.360188\n",
      "2019-11-20 15:20:12,770 : INFO : PROGRESS: pass 6, at document #2000/3416\n",
      "2019-11-20 15:20:14,528 : INFO : merging changes from 2000 documents into a model of 3416 documents\n",
      "2019-11-20 15:20:14,771 : INFO : topic #0 (0.167): 0.002*\"people\" + 0.002*\"just\" + 0.002*\"image\" + 0.002*\"like\" + 0.001*\"don\" + 0.001*\"think\" + 0.001*\"know\" + 0.001*\"time\" + 0.001*\"new\" + 0.001*\"greek\"\n",
      "2019-11-20 15:20:14,781 : INFO : topic #3 (0.167): 0.003*\"people\" + 0.003*\"don\" + 0.002*\"know\" + 0.002*\"said\" + 0.002*\"just\" + 0.002*\"god\" + 0.002*\"say\" + 0.002*\"like\" + 0.002*\"didn\" + 0.002*\"think\"\n",
      "2019-11-20 15:20:14,790 : INFO : topic #2 (0.167): 0.002*\"don\" + 0.002*\"like\" + 0.002*\"jpeg\" + 0.002*\"think\" + 0.002*\"just\" + 0.002*\"know\" + 0.001*\"good\" + 0.001*\"does\" + 0.001*\"people\" + 0.001*\"use\"\n",
      "2019-11-20 15:20:14,801 : INFO : topic #1 (0.167): 0.005*\"space\" + 0.002*\"nasa\" + 0.002*\"edu\" + 0.002*\"data\" + 0.001*\"like\" + 0.001*\"time\" + 0.001*\"launch\" + 0.001*\"available\" + 0.001*\"graphics\" + 0.001*\"ftp\"\n",
      "2019-11-20 15:20:14,813 : INFO : topic #4 (0.167): 0.003*\"armenian\" + 0.003*\"turkish\" + 0.002*\"jews\" + 0.002*\"armenians\" + 0.002*\"people\" + 0.001*\"turkey\" + 0.001*\"genocide\" + 0.001*\"israel\" + 0.001*\"turks\" + 0.001*\"russian\"\n",
      "2019-11-20 15:20:14,826 : INFO : topic diff=0.128687, rho=0.338876\n",
      "2019-11-20 15:20:19,220 : INFO : -11.556 per-word bound, 3010.7 perplexity estimate based on a held-out corpus of 1416 documents with 254128 words\n",
      "2019-11-20 15:20:19,222 : INFO : PROGRESS: pass 6, at document #3416/3416\n",
      "2019-11-20 15:20:20,393 : INFO : merging changes from 1416 documents into a model of 3416 documents\n",
      "2019-11-20 15:20:20,634 : INFO : topic #0 (0.167): 0.002*\"image\" + 0.002*\"people\" + 0.002*\"like\" + 0.002*\"just\" + 0.001*\"don\" + 0.001*\"think\" + 0.001*\"know\" + 0.001*\"time\" + 0.001*\"new\" + 0.001*\"use\"\n",
      "2019-11-20 15:20:20,647 : INFO : topic #1 (0.167): 0.005*\"space\" + 0.002*\"nasa\" + 0.002*\"data\" + 0.001*\"launch\" + 0.001*\"like\" + 0.001*\"edu\" + 0.001*\"time\" + 0.001*\"satellite\" + 0.001*\"israel\" + 0.001*\"available\"\n",
      "2019-11-20 15:20:20,659 : INFO : topic #2 (0.167): 0.003*\"jpeg\" + 0.002*\"don\" + 0.002*\"like\" + 0.002*\"think\" + 0.002*\"just\" + 0.001*\"know\" + 0.001*\"does\" + 0.001*\"good\" + 0.001*\"image\" + 0.001*\"people\"\n",
      "2019-11-20 15:20:20,668 : INFO : topic #3 (0.167): 0.003*\"people\" + 0.003*\"don\" + 0.002*\"know\" + 0.002*\"just\" + 0.002*\"said\" + 0.002*\"god\" + 0.002*\"say\" + 0.002*\"like\" + 0.002*\"didn\" + 0.002*\"think\"\n",
      "2019-11-20 15:20:20,678 : INFO : topic #4 (0.167): 0.003*\"armenian\" + 0.003*\"turkish\" + 0.002*\"armenians\" + 0.002*\"people\" + 0.002*\"jews\" + 0.001*\"genocide\" + 0.001*\"turkey\" + 0.001*\"israel\" + 0.001*\"history\" + 0.001*\"turks\"\n",
      "2019-11-20 15:20:20,690 : INFO : topic diff=0.125475, rho=0.338876\n",
      "2019-11-20 15:20:20,846 : INFO : PROGRESS: pass 7, at document #2000/3416\n",
      "2019-11-20 15:20:22,588 : INFO : merging changes from 2000 documents into a model of 3416 documents\n",
      "2019-11-20 15:20:22,841 : INFO : topic #4 (0.167): 0.003*\"armenian\" + 0.003*\"turkish\" + 0.002*\"jews\" + 0.002*\"armenians\" + 0.002*\"people\" + 0.001*\"turkey\" + 0.001*\"genocide\" + 0.001*\"israel\" + 0.001*\"turks\" + 0.001*\"russian\"\n",
      "2019-11-20 15:20:22,854 : INFO : topic #3 (0.167): 0.003*\"people\" + 0.003*\"don\" + 0.002*\"know\" + 0.002*\"said\" + 0.002*\"just\" + 0.002*\"god\" + 0.002*\"say\" + 0.002*\"like\" + 0.002*\"didn\" + 0.002*\"think\"\n",
      "2019-11-20 15:20:22,863 : INFO : topic #0 (0.167): 0.002*\"people\" + 0.002*\"just\" + 0.002*\"image\" + 0.002*\"like\" + 0.001*\"don\" + 0.001*\"think\" + 0.001*\"know\" + 0.001*\"time\" + 0.001*\"new\" + 0.001*\"greek\"\n",
      "2019-11-20 15:20:22,873 : INFO : topic #5 (0.167): 0.001*\"people\" + 0.001*\"armenian\" + 0.001*\"said\" + 0.001*\"like\" + 0.001*\"adl\" + 0.001*\"just\" + 0.001*\"information\" + 0.001*\"question\" + 0.000*\"new\" + 0.000*\"bullock\"\n",
      "2019-11-20 15:20:22,885 : INFO : topic #2 (0.167): 0.002*\"don\" + 0.002*\"jpeg\" + 0.002*\"like\" + 0.002*\"think\" + 0.002*\"just\" + 0.002*\"know\" + 0.001*\"good\" + 0.001*\"does\" + 0.001*\"people\" + 0.001*\"image\"\n",
      "2019-11-20 15:20:22,897 : INFO : topic diff=0.116924, rho=0.320948\n",
      "2019-11-20 15:20:27,234 : INFO : -11.534 per-word bound, 2965.2 perplexity estimate based on a held-out corpus of 1416 documents with 254128 words\n",
      "2019-11-20 15:20:27,236 : INFO : PROGRESS: pass 7, at document #3416/3416\n",
      "2019-11-20 15:20:28,425 : INFO : merging changes from 1416 documents into a model of 3416 documents\n",
      "2019-11-20 15:20:28,684 : INFO : topic #2 (0.167): 0.003*\"jpeg\" + 0.002*\"don\" + 0.002*\"like\" + 0.002*\"think\" + 0.002*\"just\" + 0.001*\"know\" + 0.001*\"does\" + 0.001*\"good\" + 0.001*\"image\" + 0.001*\"people\"\n",
      "2019-11-20 15:20:28,695 : INFO : topic #0 (0.167): 0.002*\"image\" + 0.002*\"people\" + 0.002*\"like\" + 0.002*\"just\" + 0.001*\"don\" + 0.001*\"think\" + 0.001*\"know\" + 0.001*\"time\" + 0.001*\"new\" + 0.001*\"use\"\n",
      "2019-11-20 15:20:28,706 : INFO : topic #1 (0.167): 0.005*\"space\" + 0.002*\"nasa\" + 0.002*\"data\" + 0.001*\"launch\" + 0.001*\"like\" + 0.001*\"edu\" + 0.001*\"time\" + 0.001*\"satellite\" + 0.001*\"israel\" + 0.001*\"available\"\n",
      "2019-11-20 15:20:28,719 : INFO : topic #4 (0.167): 0.003*\"armenian\" + 0.003*\"turkish\" + 0.002*\"armenians\" + 0.002*\"people\" + 0.002*\"jews\" + 0.001*\"genocide\" + 0.001*\"turkey\" + 0.001*\"israel\" + 0.001*\"turks\" + 0.001*\"history\"\n",
      "2019-11-20 15:20:28,728 : INFO : topic #3 (0.167): 0.003*\"people\" + 0.003*\"don\" + 0.002*\"know\" + 0.002*\"just\" + 0.002*\"said\" + 0.002*\"god\" + 0.002*\"say\" + 0.002*\"like\" + 0.002*\"didn\" + 0.002*\"think\"\n",
      "2019-11-20 15:20:28,740 : INFO : topic diff=0.113893, rho=0.320948\n",
      "2019-11-20 15:20:28,889 : INFO : PROGRESS: pass 8, at document #2000/3416\n",
      "2019-11-20 15:20:30,618 : INFO : merging changes from 2000 documents into a model of 3416 documents\n",
      "2019-11-20 15:20:30,867 : INFO : topic #2 (0.167): 0.002*\"don\" + 0.002*\"jpeg\" + 0.002*\"like\" + 0.002*\"think\" + 0.002*\"just\" + 0.002*\"know\" + 0.001*\"good\" + 0.001*\"does\" + 0.001*\"people\" + 0.001*\"image\"\n",
      "2019-11-20 15:20:30,877 : INFO : topic #5 (0.167): 0.001*\"people\" + 0.001*\"armenian\" + 0.001*\"said\" + 0.001*\"like\" + 0.001*\"adl\" + 0.001*\"information\" + 0.001*\"just\" + 0.001*\"question\" + 0.001*\"new\" + 0.000*\"bullock\"\n",
      "2019-11-20 15:20:30,890 : INFO : topic #3 (0.167): 0.003*\"people\" + 0.003*\"don\" + 0.002*\"know\" + 0.002*\"said\" + 0.002*\"just\" + 0.002*\"god\" + 0.002*\"say\" + 0.002*\"like\" + 0.002*\"didn\" + 0.002*\"think\"\n",
      "2019-11-20 15:20:30,900 : INFO : topic #0 (0.167): 0.002*\"people\" + 0.002*\"just\" + 0.002*\"image\" + 0.002*\"like\" + 0.001*\"don\" + 0.001*\"think\" + 0.001*\"know\" + 0.001*\"time\" + 0.001*\"new\" + 0.001*\"greek\"\n",
      "2019-11-20 15:20:30,908 : INFO : topic #4 (0.167): 0.003*\"armenian\" + 0.003*\"turkish\" + 0.002*\"jews\" + 0.002*\"armenians\" + 0.002*\"people\" + 0.001*\"turkey\" + 0.001*\"genocide\" + 0.001*\"israel\" + 0.001*\"turks\" + 0.001*\"history\"\n",
      "2019-11-20 15:20:30,923 : INFO : topic diff=0.107692, rho=0.305595\n",
      "2019-11-20 15:20:35,310 : INFO : -11.520 per-word bound, 2935.8 perplexity estimate based on a held-out corpus of 1416 documents with 254128 words\n",
      "2019-11-20 15:20:35,311 : INFO : PROGRESS: pass 8, at document #3416/3416\n",
      "2019-11-20 15:20:36,478 : INFO : merging changes from 1416 documents into a model of 3416 documents\n",
      "2019-11-20 15:20:36,728 : INFO : topic #2 (0.167): 0.003*\"jpeg\" + 0.002*\"don\" + 0.002*\"like\" + 0.002*\"think\" + 0.002*\"just\" + 0.001*\"know\" + 0.001*\"does\" + 0.001*\"good\" + 0.001*\"image\" + 0.001*\"people\"\n",
      "2019-11-20 15:20:36,738 : INFO : topic #0 (0.167): 0.002*\"image\" + 0.002*\"people\" + 0.002*\"like\" + 0.002*\"just\" + 0.001*\"don\" + 0.001*\"think\" + 0.001*\"know\" + 0.001*\"time\" + 0.001*\"new\" + 0.001*\"use\"\n",
      "2019-11-20 15:20:36,745 : INFO : topic #5 (0.167): 0.001*\"people\" + 0.001*\"said\" + 0.001*\"adl\" + 0.001*\"armenian\" + 0.001*\"bullock\" + 0.001*\"like\" + 0.001*\"information\" + 0.001*\"police\" + 0.001*\"san\" + 0.001*\"anti\"\n",
      "2019-11-20 15:20:36,757 : INFO : topic #4 (0.167): 0.003*\"armenian\" + 0.003*\"turkish\" + 0.002*\"armenians\" + 0.002*\"people\" + 0.002*\"jews\" + 0.001*\"genocide\" + 0.001*\"turkey\" + 0.001*\"israel\" + 0.001*\"turks\" + 0.001*\"history\"\n",
      "2019-11-20 15:20:36,766 : INFO : topic #1 (0.167): 0.005*\"space\" + 0.002*\"nasa\" + 0.002*\"data\" + 0.001*\"launch\" + 0.001*\"like\" + 0.001*\"edu\" + 0.001*\"time\" + 0.001*\"satellite\" + 0.001*\"israel\" + 0.001*\"available\"\n",
      "2019-11-20 15:20:36,779 : INFO : topic diff=0.104322, rho=0.305595\n"
     ]
    },
    {
     "name": "stderr",
     "output_type": "stream",
     "text": [
      "2019-11-20 15:20:36,928 : INFO : PROGRESS: pass 9, at document #2000/3416\n",
      "2019-11-20 15:20:38,635 : INFO : merging changes from 2000 documents into a model of 3416 documents\n",
      "2019-11-20 15:20:38,888 : INFO : topic #3 (0.167): 0.003*\"people\" + 0.003*\"don\" + 0.002*\"know\" + 0.002*\"said\" + 0.002*\"just\" + 0.002*\"god\" + 0.002*\"say\" + 0.002*\"like\" + 0.002*\"didn\" + 0.002*\"think\"\n",
      "2019-11-20 15:20:38,901 : INFO : topic #1 (0.167): 0.005*\"space\" + 0.002*\"nasa\" + 0.002*\"edu\" + 0.002*\"data\" + 0.001*\"like\" + 0.001*\"time\" + 0.001*\"launch\" + 0.001*\"available\" + 0.001*\"graphics\" + 0.001*\"ftp\"\n",
      "2019-11-20 15:20:38,908 : INFO : topic #4 (0.167): 0.003*\"armenian\" + 0.003*\"turkish\" + 0.002*\"jews\" + 0.002*\"armenians\" + 0.002*\"people\" + 0.001*\"turkey\" + 0.001*\"genocide\" + 0.001*\"israel\" + 0.001*\"turks\" + 0.001*\"history\"\n",
      "2019-11-20 15:20:38,918 : INFO : topic #5 (0.167): 0.001*\"people\" + 0.001*\"armenian\" + 0.001*\"said\" + 0.001*\"like\" + 0.001*\"adl\" + 0.001*\"information\" + 0.001*\"just\" + 0.001*\"question\" + 0.001*\"new\" + 0.001*\"bullock\"\n",
      "2019-11-20 15:20:38,928 : INFO : topic #2 (0.167): 0.002*\"don\" + 0.002*\"jpeg\" + 0.002*\"like\" + 0.002*\"think\" + 0.002*\"just\" + 0.002*\"know\" + 0.001*\"good\" + 0.001*\"does\" + 0.001*\"people\" + 0.001*\"image\"\n",
      "2019-11-20 15:20:38,942 : INFO : topic diff=0.100049, rho=0.292253\n",
      "2019-11-20 15:20:43,184 : INFO : -11.509 per-word bound, 2914.9 perplexity estimate based on a held-out corpus of 1416 documents with 254128 words\n",
      "2019-11-20 15:20:43,186 : INFO : PROGRESS: pass 9, at document #3416/3416\n",
      "2019-11-20 15:20:44,363 : INFO : merging changes from 1416 documents into a model of 3416 documents\n",
      "2019-11-20 15:20:44,609 : INFO : topic #4 (0.167): 0.003*\"armenian\" + 0.003*\"turkish\" + 0.002*\"armenians\" + 0.002*\"people\" + 0.002*\"jews\" + 0.001*\"genocide\" + 0.001*\"turkey\" + 0.001*\"israel\" + 0.001*\"turks\" + 0.001*\"history\"\n",
      "2019-11-20 15:20:44,618 : INFO : topic #5 (0.167): 0.001*\"people\" + 0.001*\"said\" + 0.001*\"adl\" + 0.001*\"armenian\" + 0.001*\"bullock\" + 0.001*\"like\" + 0.001*\"information\" + 0.001*\"police\" + 0.001*\"san\" + 0.001*\"anti\"\n",
      "2019-11-20 15:20:44,629 : INFO : topic #1 (0.167): 0.005*\"space\" + 0.002*\"nasa\" + 0.002*\"data\" + 0.001*\"launch\" + 0.001*\"like\" + 0.001*\"edu\" + 0.001*\"time\" + 0.001*\"satellite\" + 0.001*\"available\" + 0.001*\"israel\"\n",
      "2019-11-20 15:20:44,640 : INFO : topic #3 (0.167): 0.003*\"people\" + 0.003*\"don\" + 0.002*\"know\" + 0.002*\"just\" + 0.002*\"said\" + 0.002*\"god\" + 0.002*\"say\" + 0.002*\"like\" + 0.002*\"didn\" + 0.002*\"think\"\n",
      "2019-11-20 15:20:44,650 : INFO : topic #0 (0.167): 0.002*\"image\" + 0.002*\"people\" + 0.002*\"like\" + 0.002*\"just\" + 0.001*\"don\" + 0.001*\"think\" + 0.001*\"know\" + 0.001*\"time\" + 0.001*\"new\" + 0.001*\"use\"\n",
      "2019-11-20 15:20:44,663 : INFO : topic diff=0.098325, rho=0.292253\n"
     ]
    }
   ],
   "source": [
    "# Create lda model (equivalent to \"fit\" in sklearn)\n",
    "lda = models.LdaModel(corpus=corpus,  # we converted our data into a way gensim can understadn above\n",
    "                      num_topics=6,   # how many topics are there\n",
    "                      id2word=id2word, \n",
    "                      passes=10)   # telling gensim to run trough how many iterations"
   ]
  },
  {
   "cell_type": "code",
   "execution_count": 20,
   "metadata": {},
   "outputs": [
    {
     "name": "stderr",
     "output_type": "stream",
     "text": [
      "2019-11-20 15:20:44,748 : INFO : topic #0 (0.167): 0.002*\"image\" + 0.002*\"people\" + 0.002*\"like\" + 0.002*\"just\" + 0.001*\"don\" + 0.001*\"think\" + 0.001*\"know\" + 0.001*\"time\" + 0.001*\"new\" + 0.001*\"use\"\n",
      "2019-11-20 15:20:44,758 : INFO : topic #1 (0.167): 0.005*\"space\" + 0.002*\"nasa\" + 0.002*\"data\" + 0.001*\"launch\" + 0.001*\"like\" + 0.001*\"edu\" + 0.001*\"time\" + 0.001*\"satellite\" + 0.001*\"available\" + 0.001*\"israel\"\n",
      "2019-11-20 15:20:44,770 : INFO : topic #2 (0.167): 0.003*\"jpeg\" + 0.002*\"don\" + 0.002*\"like\" + 0.002*\"think\" + 0.002*\"just\" + 0.001*\"know\" + 0.001*\"does\" + 0.001*\"good\" + 0.001*\"image\" + 0.001*\"people\"\n",
      "2019-11-20 15:20:44,781 : INFO : topic #3 (0.167): 0.003*\"people\" + 0.003*\"don\" + 0.002*\"know\" + 0.002*\"just\" + 0.002*\"said\" + 0.002*\"god\" + 0.002*\"say\" + 0.002*\"like\" + 0.002*\"didn\" + 0.002*\"think\"\n",
      "2019-11-20 15:20:44,788 : INFO : topic #4 (0.167): 0.003*\"armenian\" + 0.003*\"turkish\" + 0.002*\"armenians\" + 0.002*\"people\" + 0.002*\"jews\" + 0.001*\"genocide\" + 0.001*\"turkey\" + 0.001*\"israel\" + 0.001*\"turks\" + 0.001*\"history\"\n",
      "2019-11-20 15:20:44,796 : INFO : topic #5 (0.167): 0.001*\"people\" + 0.001*\"said\" + 0.001*\"adl\" + 0.001*\"armenian\" + 0.001*\"bullock\" + 0.001*\"like\" + 0.001*\"information\" + 0.001*\"police\" + 0.001*\"san\" + 0.001*\"anti\"\n"
     ]
    },
    {
     "data": {
      "text/plain": [
       "[(0,\n",
       "  '0.002*\"image\" + 0.002*\"people\" + 0.002*\"like\" + 0.002*\"just\" + 0.001*\"don\" + 0.001*\"think\" + 0.001*\"know\" + 0.001*\"time\" + 0.001*\"new\" + 0.001*\"use\"'),\n",
       " (1,\n",
       "  '0.005*\"space\" + 0.002*\"nasa\" + 0.002*\"data\" + 0.001*\"launch\" + 0.001*\"like\" + 0.001*\"edu\" + 0.001*\"time\" + 0.001*\"satellite\" + 0.001*\"available\" + 0.001*\"israel\"'),\n",
       " (2,\n",
       "  '0.003*\"jpeg\" + 0.002*\"don\" + 0.002*\"like\" + 0.002*\"think\" + 0.002*\"just\" + 0.001*\"know\" + 0.001*\"does\" + 0.001*\"good\" + 0.001*\"image\" + 0.001*\"people\"'),\n",
       " (3,\n",
       "  '0.003*\"people\" + 0.003*\"don\" + 0.002*\"know\" + 0.002*\"just\" + 0.002*\"said\" + 0.002*\"god\" + 0.002*\"say\" + 0.002*\"like\" + 0.002*\"didn\" + 0.002*\"think\"'),\n",
       " (4,\n",
       "  '0.003*\"armenian\" + 0.003*\"turkish\" + 0.002*\"armenians\" + 0.002*\"people\" + 0.002*\"jews\" + 0.001*\"genocide\" + 0.001*\"turkey\" + 0.001*\"israel\" + 0.001*\"turks\" + 0.001*\"history\"'),\n",
       " (5,\n",
       "  '0.001*\"people\" + 0.001*\"said\" + 0.001*\"adl\" + 0.001*\"armenian\" + 0.001*\"bullock\" + 0.001*\"like\" + 0.001*\"information\" + 0.001*\"police\" + 0.001*\"san\" + 0.001*\"anti\"')]"
      ]
     },
     "execution_count": 20,
     "metadata": {},
     "output_type": "execute_result"
    }
   ],
   "source": [
    "lda.print_topics()   # it will give you the topics\n",
    "                     # will return you the number of topics you specified above\n",
    "    \n",
    "    # HOWEVER, it is your job to infer what the topics are!!"
   ]
  },
  {
   "cell_type": "code",
   "execution_count": null,
   "metadata": {},
   "outputs": [],
   "source": []
  }
 ],
 "metadata": {
  "kernelspec": {
   "display_name": "Python [conda env:metis] *",
   "language": "python",
   "name": "conda-env-metis-py"
  },
  "language_info": {
   "codemirror_mode": {
    "name": "ipython",
    "version": 3
   },
   "file_extension": ".py",
   "mimetype": "text/x-python",
   "name": "python",
   "nbconvert_exporter": "python",
   "pygments_lexer": "ipython3",
   "version": "3.7.3"
  }
 },
 "nbformat": 4,
 "nbformat_minor": 1
}
