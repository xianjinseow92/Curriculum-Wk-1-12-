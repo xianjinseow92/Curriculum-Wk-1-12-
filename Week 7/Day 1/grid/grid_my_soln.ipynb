{
 "cells": [
  {
   "cell_type": "markdown",
   "metadata": {},
   "source": [
    "#### Pair Problem\n",
    "\n",
    "**In html/javascript:** Build a 40 x 40 grid of cells that would be the board for 'game of life'.\n",
    "\n",
    "1) You can begin with this file: [pair.html](pair.html). You can drop an html file in the browser to view the output. This file currently has two blue squares. The file is editable on any text editor like Sublime (Sublime will color code it for you, which is nice). Modify the file so that the output on the browser is a 40x40 grid of cells (squares).\n",
    "\n",
    "2) Make the grid clickable and change the color of the cell that a user clicks on. You can google 'D3 mouse events' or refer to [this document on transition and events](transitions_and_events.md).\n",
    "\n",
    "3) Add a button at the bottom of the grid that says 'Go' or 'Start.' Just create a button html element. Nothing will happen when the user clicks it. That's fine. We'll animate the game of life tomorrow using flask.\n",
    "\n",
    "If you are stuck, feel free to ask me for help."
   ]
  },
  {
   "cell_type": "code",
   "execution_count": null,
   "metadata": {},
   "outputs": [],
   "source": []
  }
 ],
 "metadata": {
  "kernelspec": {
   "display_name": "Python [conda env:metis] *",
   "language": "python",
   "name": "conda-env-metis-py"
  },
  "language_info": {
   "codemirror_mode": {
    "name": "ipython",
    "version": 3
   },
   "file_extension": ".py",
   "mimetype": "text/x-python",
   "name": "python",
   "nbconvert_exporter": "python",
   "pygments_lexer": "ipython3",
   "version": "3.7.3"
  }
 },
 "nbformat": 4,
 "nbformat_minor": 2
}
