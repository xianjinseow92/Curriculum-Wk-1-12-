{
 "cells": [
  {
   "cell_type": "markdown",
   "metadata": {},
   "source": [
    "# PyMongoLab (Student)\n",
    "\n",
    "We will use the `author` and `catalog` datasets in the `data` directory, and practice some queries on them using `pymongo`. To get ourselves started:\n",
    "\n",
    "1. Make sure `mongod` is running (it should be from previous exercise)\n",
    "2. Make sure the books dataset has been entered (from 01_mongo_shell.md)\n",
    "3. Make sure the catalog dataset has been entered (from 01_mongo_shell.md)\n"
   ]
  },
  {
   "cell_type": "code",
   "execution_count": 1,
   "metadata": {},
   "outputs": [],
   "source": [
    "from pymongo import MongoClient\n",
    "from pprint import pprint"
   ]
  },
  {
   "cell_type": "code",
   "execution_count": 2,
   "metadata": {},
   "outputs": [],
   "source": [
    "# This creates a client that uses the default port on localhost.\n",
    "# If connecting to AWS, you need a connection string.\n",
    "# Can do the same thing with MongoClient(\"mongodb://localhost:27017\")\n",
    "client = MongoClient()"
   ]
  },
  {
   "cell_type": "code",
   "execution_count": 3,
   "metadata": {},
   "outputs": [],
   "source": [
    "# Makes it look similar to shell mongo\n",
    "db = client.books"
   ]
  },
  {
   "cell_type": "code",
   "execution_count": 4,
   "metadata": {},
   "outputs": [
    {
     "name": "stderr",
     "output_type": "stream",
     "text": [
      "C:\\Users\\xianj\\Anaconda3\\envs\\metis\\lib\\site-packages\\ipykernel_launcher.py:3: DeprecationWarning: collection_names is deprecated. Use list_collection_names instead.\n",
      "  This is separate from the ipykernel package so we can avoid doing imports until\n"
     ]
    },
    {
     "data": {
      "text/plain": [
       "['author']"
      ]
     },
     "execution_count": 4,
     "metadata": {},
     "output_type": "execute_result"
    }
   ],
   "source": [
    "# This should have the 'author' collection we used before and the 'catalog' collection.\n",
    "# If not, you haven't connected to the right database, or haven't uploaded the data!\n",
    "db.collection_names()"
   ]
  },
  {
   "cell_type": "markdown",
   "metadata": {},
   "source": [
    "## Example 1: find\n",
    "\n",
    "The `find` command is similar to the shell, but it returns a _cursor_. This allows you to scroll through a lot of data at once, without loading it into memory at once. The basic format is\n",
    "```python\n",
    "cursor = db.collection.find( where_dictionary, what_fields_dictionary} )\n",
    "```\n",
    "\n",
    "Here \n",
    "* `where_dictionary` tells us what properties a document needs to be returned. Similar to the WHERE clause in SQL\n",
    "* `what_fields_dictionary` tells us which fields we want returned. With the exception of `_id`, we either start with nothing and include fields (use `fieldname: True`), or start with everything and exclude fields (use `fieldname: False`). Note `1` and `0` are often used instead of `True` and `False`\n",
    "\n",
    "To get results our of a cursor:\n",
    "\n",
    "1. Can convert cursor to list: `list(cursor)`\n",
    "  * Make sure the data is \"small\" before doing this. You are asking for _all_ the results at once, which could be large.\n",
    "  * Defeats the point of a cursor\n",
    "2. Iterate through the cursor:\n",
    "```python\n",
    "for result in cursor:\n",
    "    # .... do something with the results one at a time\n",
    "```"
   ]
  },
  {
   "cell_type": "code",
   "execution_count": 5,
   "metadata": {},
   "outputs": [
    {
     "data": {
      "text/plain": [
       "[{'name': '曹雪芹'},\n",
       " {'name': 'Harland Sanders'},\n",
       " {'name': 'Joanne Rowling'},\n",
       " {'name': 'Count Lev Nikolayevich Tolstoy'}]"
      ]
     },
     "execution_count": 5,
     "metadata": {},
     "output_type": "execute_result"
    }
   ],
   "source": [
    "# Find the names of each of the authors\n",
    "cursor = db.author.find({}, {'_id':0, 'name': 1})\n",
    "list(cursor)"
   ]
  },
  {
   "cell_type": "markdown",
   "metadata": {},
   "source": [
    "We can also select from subfields, using the same sort of `field.subfield` syntax that we used in the shell"
   ]
  },
  {
   "cell_type": "code",
   "execution_count": 9,
   "metadata": {},
   "outputs": [
    {
     "data": {
      "text/plain": [
       "[{'name': '曹雪芹', 'books': [{'title': '红楼梦'}]},\n",
       " {'name': 'Harland Sanders', 'books': [{'title': 'Tender Wings of Desire'}]},\n",
       " {'name': 'Joanne Rowling',\n",
       "  'books': [{'title': \"Harry Potter and the Philosopher's stone\"},\n",
       "   {'title': 'Harry Potter and the Chamber of secrets'},\n",
       "   {'title': 'Harry Potter and the Prizoner of Azkeban'},\n",
       "   {'title': 'Harry Potter and the Goblet of Fire'},\n",
       "   {'title': 'Harry Potter and the Order of the Phoenix'},\n",
       "   {'title': 'Harry Potter and the Half-Blood Prince'},\n",
       "   {'title': 'Harry Potter and the Deathly Hallows'}]},\n",
       " {'name': 'Count Lev Nikolayevich Tolstoy',\n",
       "  'books': [{'title': 'War and Peace'}, {'title': 'Anna Karenina'}]}]"
      ]
     },
     "execution_count": 9,
     "metadata": {},
     "output_type": "execute_result"
    }
   ],
   "source": [
    "# List all the book titles with the author\n",
    "cursor = db.author.find({}, {'_id':0, 'name': 1, 'books.title':1})\n",
    "\n",
    "list(cursor)"
   ]
  },
  {
   "cell_type": "markdown",
   "metadata": {},
   "source": [
    "## You do: Exercise 1 (3 minutes)\n",
    "\n",
    "List each of the author names, with the book titles, the total number of sales for that book, and summary.\n",
    "e.g. a line of output might be\n",
    "```python\n",
    "[....., \n",
    " {'books': [{'title': 'Tender Wings of Desire', 'sold': 10, 'description': .......}], 'name': 'Harland Sanders'},\n",
    " ....]\n",
    "```\n",
    "\n",
    "\n",
    "HINT: You might want to run \n",
    "```python\n",
    "list(db.author.find().limit(1))\n",
    "```\n",
    "first, so that you can see the typical names of the fields."
   ]
  },
  {
   "cell_type": "code",
   "execution_count": 13,
   "metadata": {},
   "outputs": [
    {
     "data": {
      "text/plain": [
       "[{'name': '曹雪芹',\n",
       "  'books': [{'title': '红楼梦',\n",
       "    'description': \"An aristocratic playboy is torn between the cousin with whom he has a connection, and the cousin he is supposed to marry, as his family's fortunes decline.\",\n",
       "    'sold': 100000000}]},\n",
       " {'name': 'Harland Sanders',\n",
       "  'books': [{'title': 'Tender Wings of Desire',\n",
       "    'description': 'A KFC marketing stunt for Mother\\'s day (one of the busiest days of the year), which is a romance novel in which a Southern Belle falls for the mysterious stranger, Harland \"Colonel\" Sanders.',\n",
       "    'sold': 1000}]},\n",
       " {'name': 'Joanne Rowling',\n",
       "  'books': [{'title': \"Harry Potter and the Philosopher's stone\",\n",
       "    'description': 'We are introduced to Harry Potter, Voldemort, and British magical society. Sorting hat tells us that it is our choices that define us -- Harry could have either been in Gryffindor or Slytherian.',\n",
       "    'sold': 120000000},\n",
       "   {'title': 'Harry Potter and the Chamber of secrets',\n",
       "    'description': 'We encounter the first horcrux, and uncover a shrine to snakes',\n",
       "    'sold': 77000000},\n",
       "   {'title': 'Harry Potter and the Prizoner of Azkeban',\n",
       "    'description': 'The first really anti-authoritarian piece in the HP world, where we learn that the ministry of magic is both corrupt AND incompentent',\n",
       "    'sold': 65000000},\n",
       "   {'title': 'Harry Potter and the Goblet of Fire',\n",
       "    'description': 'We learn that having a safety code during school activities and competitions is a good thing, as Harry competes in a tournament that makes the Hunger Games look mild',\n",
       "    'sold': 65000000},\n",
       "   {'title': 'Harry Potter and the Order of the Phoenix',\n",
       "    'description': \"We learn Dumbledore's full name at the Wizengamot. We also learn that the rules for self-defense using magic don't make any sense. We are introduced to authoratarian leader Dolores Umbridge. Secrets are kept from Harry for teh purpose of driving the plot forward -- seriously, that incident at the ministry of magic could have been avoided with a simple conversation. Prophosies become important. Maybe the first book where the interests of society are more important than Quiddich.\",\n",
       "    'sold': 65000000},\n",
       "   {'title': 'Harry Potter and the Half-Blood Prince',\n",
       "    'description': 'Harry finds more ways to cheat through his potions class. The role of the prophecy rests on the interpretation and choices we make (call back to sorting hat), rather than being fatalistic. Snape kills Dumbledore.',\n",
       "    'sold': 65000000},\n",
       "   {'title': 'Harry Potter and the Deathly Hallows',\n",
       "    'description': 'Voldemort has returned to power. Harry goes camping, then decides to return to school and dies. He gets better. Snape gets to be the hero to his long dead love. Snape dies. He does not get better. We are reunited with Dumbledore in the odd train station to heaven. Voldemort and Umbridge are defeated. We finally meet Slytherians that choose to be good (call back to sorting hat).',\n",
       "    'sold': 65000000}]},\n",
       " {'name': 'Count Lev Nikolayevich Tolstoy',\n",
       "  'books': [{'title': 'War and Peace',\n",
       "    'description': 'A true classic, in the sense that everyone wants to have read it, but noone wants to read it',\n",
       "    'sold': 36000000},\n",
       "   {'title': 'Anna Karenina',\n",
       "    'description': 'A story of the unequal treatment of women in aristocratic Russia',\n",
       "    'sold': 20000000}]}]"
      ]
     },
     "execution_count": 13,
     "metadata": {},
     "output_type": "execute_result"
    }
   ],
   "source": [
    "cursor = db.author.find().limit(1)\n",
    "cursor = db.author.find({}, # the first dictionary sets a condition (like WHERE in SQL)\n",
    "                        {'_id':0, 'name':1, 'books.title':1, 'books.sold':1, 'books.description':1}\n",
    "                        # The second dictionary entry is what yoou want to see (like SELECT column.names in SQL)\n",
    "                       \n",
    "                       )\n",
    "\n",
    "list(cursor)"
   ]
  },
  {
   "cell_type": "markdown",
   "metadata": {},
   "source": [
    "### You do: Exercise 2 (5 mins)\n",
    "\n",
    "The results above are a little ugly. Write a loop that outputs the following statement for each author:\n",
    "```\n",
    "<Author name> has sold a total of <sum of all book sales> books\n",
    "```\n",
    "\n",
    "You can either use the query above, or (if adventurous) try using an `aggregation`."
   ]
  },
  {
   "cell_type": "code",
   "execution_count": 41,
   "metadata": {},
   "outputs": [
    {
     "data": {
      "text/plain": [
       "[{'name': '曹雪芹', 'books': [{'sold': 100000000}]},\n",
       " {'name': 'Harland Sanders', 'books': [{'sold': 1000}]},\n",
       " {'name': 'Joanne Rowling',\n",
       "  'books': [{'sold': 120000000},\n",
       "   {'sold': 77000000},\n",
       "   {'sold': 65000000},\n",
       "   {'sold': 65000000},\n",
       "   {'sold': 65000000},\n",
       "   {'sold': 65000000},\n",
       "   {'sold': 65000000}]},\n",
       " {'name': 'Count Lev Nikolayevich Tolstoy',\n",
       "  'books': [{'sold': 36000000}, {'sold': 20000000}]}]"
      ]
     },
     "execution_count": 41,
     "metadata": {},
     "output_type": "execute_result"
    }
   ],
   "source": [
    "cursor = db.author.find({},\n",
    "                       {'_id':0,\n",
    "                       'name':1,\n",
    "                       'books.sold':1}\n",
    "                       )\n",
    "\n",
    "list(cursor)"
   ]
  },
  {
   "cell_type": "code",
   "execution_count": 39,
   "metadata": {},
   "outputs": [
    {
     "data": {
      "text/plain": [
       "{'name': '曹雪芹', 'books': [{'sold': 100000000}]}"
      ]
     },
     "execution_count": 39,
     "metadata": {},
     "output_type": "execute_result"
    }
   ],
   "source": [
    "cursor = db.author.find({},\n",
    "                        {'_id':0,\n",
    "                        'name':1,\n",
    "                        'books.sold':1}\n",
    "                       )\n",
    "\n",
    "cursor[0]"
   ]
  },
  {
   "cell_type": "code",
   "execution_count": 40,
   "metadata": {},
   "outputs": [
    {
     "name": "stdout",
     "output_type": "stream",
     "text": [
      "曹雪芹 has sold a total of 100000000 books\n",
      "Harland Sanders has sold a total of 1000 books\n",
      "Joanne Rowling has sold a total of 522000000 books\n",
      "Count Lev Nikolayevich Tolstoy has sold a total of 56000000 books\n"
     ]
    }
   ],
   "source": [
    "for writer in cursor:\n",
    "    total_sold = sum([book.get('sold', 0) for book in writer['books']])\n",
    "    print(f\"{writer['name']} has sold a total of {total_sold} books\")"
   ]
  },
  {
   "cell_type": "markdown",
   "metadata": {},
   "source": [
    "### Insert\n",
    "\n",
    "If collecting results from webscraping or an API, you might want to insert new books. Let's insert  Chuck Palahniuk into the database.\n",
    "\n",
    "Note that we have __not__ included his nationality or wikipedia page. This is emphasizing that unlike SQL tables, it is up to us which fields we put in the database. We _should_ include this information (it is relevant here) but the NoSQL design puts it on us to remember to do it -- we are not going to get a warning that fields are \"missing\"! \n",
    "\n",
    "Note that the entries in `books` don't have a number sold either!\n",
    "\n",
    "We also would not get an error if we renamed `books` to `book`, or `published_books`. It is important to be disciplined when entering data into a NoSQL database"
   ]
  },
  {
   "cell_type": "code",
   "execution_count": 42,
   "metadata": {},
   "outputs": [],
   "source": [
    "new_document = {\n",
    "    'name': ' Chuck Palahniuk',\n",
    "    'books': [{\n",
    "        'title': 'Fight club',\n",
    "        'year': 1999,\n",
    "        'description': 'A man and his imaginary friend make a fight club ..... with soap'\n",
    "    },\n",
    "    {\n",
    "        'title': 'Lullaby',\n",
    "        'year': 2002,\n",
    "        'pages': 272,\n",
    "        'publisher': 'Doubleday',\n",
    "        'description': 'A lullaby that kills people more effectively than the telephone call in \"The Ring\"'\n",
    "    }]\n",
    "}\n",
    "\n",
    "\n",
    "\n",
    "## You do: insert the document\n",
    "db.author.insert_one(new_document)  # inserts just ONE new document (I mean, duh. just look at it)"
   ]
  },
  {
   "cell_type": "markdown",
   "metadata": {},
   "source": [
    "There is also `insert_many` which you could use to insert a list of new documents.\n",
    "\n",
    "```python\n",
    "db.author.insert_many( [new_doc1, new_doc2, ...., new_docN] )\n",
    "```"
   ]
  },
  {
   "cell_type": "markdown",
   "metadata": {},
   "source": [
    "## Exercise 3: You do (8 mins)\n",
    "\n",
    "The code below loads a set of famous lines from the data directory. Add a new collection, `quotes`, to the books database that has documents in the following form:\n",
    "```python\n",
    "{'name': <quote author>, 'title': <title of book>, 'quote': <quotation>}\n",
    "```"
   ]
  },
  {
   "cell_type": "code",
   "execution_count": 43,
   "metadata": {},
   "outputs": [
    {
     "data": {
      "text/plain": [
       "[['Of Mice And Men',\n",
       "  'John Steinbeck',\n",
       "  '\"Maybe everâ€™body in the whole damn world is scared of each other.\"\\n'],\n",
       " ['Invisible Man',\n",
       "  'Ralph Ellison',\n",
       "  '\"Life is to be lived, not controlled; and humanity is won by continuing to play in face of certain defeat.\"\\n'],\n",
       " ['Wuthering Heights', 'Emily BrontÃ«', '\"Terror made me cruel\"\\n']]"
      ]
     },
     "execution_count": 43,
     "metadata": {},
     "output_type": "execute_result"
    }
   ],
   "source": [
    "# Load and preview the data\n",
    "quotes = [line.split('|')    # If you open the doc, you will see that the quotes are split by '|'\n",
    "          for line in open('data/famous_lines.txt', 'r').readlines()  # iterates through every line in this txt file\n",
    "         ]\n",
    "\n",
    "quotes[:3]"
   ]
  },
  {
   "cell_type": "code",
   "execution_count": 45,
   "metadata": {},
   "outputs": [
    {
     "data": {
      "text/plain": [
       "40"
      ]
     },
     "execution_count": 45,
     "metadata": {},
     "output_type": "execute_result"
    }
   ],
   "source": [
    "len(quotes)"
   ]
  },
  {
   "cell_type": "code",
   "execution_count": 49,
   "metadata": {},
   "outputs": [
    {
     "data": {
      "text/plain": [
       "['Of Mice And Men',\n",
       " 'John Steinbeck',\n",
       " '\"Maybe everâ€™body in the whole damn world is scared of each other.\"\\n']"
      ]
     },
     "execution_count": 49,
     "metadata": {},
     "output_type": "execute_result"
    }
   ],
   "source": [
    "quotes[0]"
   ]
  },
  {
   "cell_type": "code",
   "execution_count": 50,
   "metadata": {},
   "outputs": [
    {
     "name": "stdout",
     "output_type": "stream",
     "text": [
      "Index 0 in quotes list:  Of Mice And Men\n",
      "Index 1 in quotes list:  John Steinbeck\n",
      "Index 2 in quotes list:  \"Maybe everâ€™body in the whole damn world is scared of each other.\"\n",
      "\n"
     ]
    }
   ],
   "source": [
    "print(\"Index 0 in quotes list: \", quotes[0][0])\n",
    "print(\"Index 1 in quotes list: \", quotes[0][1])\n",
    "print(\"Index 2 in quotes list: \", quotes[0][2])"
   ]
  },
  {
   "cell_type": "code",
   "execution_count": 52,
   "metadata": {},
   "outputs": [
    {
     "data": {
      "text/plain": [
       "<pymongo.results.InsertManyResult at 0x197115c4fc8>"
      ]
     },
     "execution_count": 52,
     "metadata": {},
     "output_type": "execute_result"
    }
   ],
   "source": [
    "# Exercise: load into the database\n",
    "list_of_quotes = [\n",
    "    {'title': title,\n",
    "    'author':author,\n",
    "    'quote':quote.strip()} # strips any leading/lagging spaces\n",
    "    for title, author, quote in quotes  # pulls out each index in the list\n",
    "]\n",
    "\n",
    "db.quotes.insert_many(list_of_quotes)"
   ]
  },
  {
   "cell_type": "markdown",
   "metadata": {},
   "source": [
    "\n",
    "## Exercise 4: you do (2 mins)\n",
    "\n",
    "Find the quotation from 1984"
   ]
  },
  {
   "cell_type": "code",
   "execution_count": 55,
   "metadata": {},
   "outputs": [
    {
     "data": {
      "text/plain": [
       "{'_id': ObjectId('5dd213350ec8e42626fd3df6'),\n",
       " 'title': '1984',\n",
       " 'author': 'George Orwell',\n",
       " 'quote': '\"It was a bright cold day in April, and the clocks were striking thirteen.\"'}"
      ]
     },
     "execution_count": 55,
     "metadata": {},
     "output_type": "execute_result"
    }
   ],
   "source": [
    "db.quotes.find_one({'title':'1984'})"
   ]
  },
  {
   "cell_type": "code",
   "execution_count": 57,
   "metadata": {},
   "outputs": [
    {
     "data": {
      "text/plain": [
       "{'_id': ObjectId('5dd213350ec8e42626fd3df6'),\n",
       " 'quote': '\"It was a bright cold day in April, and the clocks were striking thirteen.\"'}"
      ]
     },
     "execution_count": 57,
     "metadata": {},
     "output_type": "execute_result"
    }
   ],
   "source": [
    "db.quotes.find_one({'title':'1984'}, {'quote':1})"
   ]
  },
  {
   "cell_type": "code",
   "execution_count": 77,
   "metadata": {},
   "outputs": [
    {
     "data": {
      "text/plain": [
       "[{'_id': ObjectId('5dd213350ec8e42626fd3df1'),\n",
       "  'title': 'Of Mice And Men',\n",
       "  'author': 'John Steinbeck',\n",
       "  'quote': '\"Maybe everâ€™body in the whole damn world is scared of each other.\"'},\n",
       " {'_id': ObjectId('5dd213350ec8e42626fd3df2'),\n",
       "  'title': 'Invisible Man',\n",
       "  'author': 'Ralph Ellison',\n",
       "  'quote': '\"Life is to be lived, not controlled; and humanity is won by continuing to play in face of certain defeat.\"'}]"
      ]
     },
     "execution_count": 77,
     "metadata": {},
     "output_type": "execute_result"
    }
   ],
   "source": [
    "list(db.quotes.find().limit(2))"
   ]
  },
  {
   "cell_type": "code",
   "execution_count": null,
   "metadata": {},
   "outputs": [],
   "source": []
  },
  {
   "cell_type": "code",
   "execution_count": 69,
   "metadata": {},
   "outputs": [
    {
     "ename": "AttributeError",
     "evalue": "'list' object has no attribute 'get'",
     "output_type": "error",
     "traceback": [
      "\u001b[1;31m---------------------------------------------------------------------------\u001b[0m",
      "\u001b[1;31mAttributeError\u001b[0m                            Traceback (most recent call last)",
      "\u001b[1;32m<ipython-input-69-627b92b2971d>\u001b[0m in \u001b[0;36m<module>\u001b[1;34m\u001b[0m\n\u001b[0;32m      1\u001b[0m \u001b[1;32mfor\u001b[0m \u001b[0mtitle\u001b[0m \u001b[1;32min\u001b[0m \u001b[0mquotes\u001b[0m\u001b[1;33m:\u001b[0m\u001b[1;33m\u001b[0m\u001b[1;33m\u001b[0m\u001b[0m\n\u001b[1;32m----> 2\u001b[1;33m     \u001b[0mquote\u001b[0m \u001b[1;33m=\u001b[0m \u001b[0mtitle\u001b[0m\u001b[1;33m.\u001b[0m\u001b[0mget\u001b[0m\u001b[1;33m(\u001b[0m\u001b[1;34m'quote'\u001b[0m\u001b[1;33m,\u001b[0m \u001b[1;34m'no'\u001b[0m\u001b[1;33m)\u001b[0m\u001b[1;33m\u001b[0m\u001b[1;33m\u001b[0m\u001b[0m\n\u001b[0m\u001b[0;32m      3\u001b[0m     \u001b[0mprint\u001b[0m\u001b[1;33m(\u001b[0m\u001b[1;34mf\"{title['title']} has {quote} quote.\"\u001b[0m\u001b[1;33m)\u001b[0m\u001b[1;33m\u001b[0m\u001b[1;33m\u001b[0m\u001b[0m\n",
      "\u001b[1;31mAttributeError\u001b[0m: 'list' object has no attribute 'get'"
     ]
    }
   ],
   "source": [
    "for title in quotes:\n",
    "    quote = title.get('quote', 'no')\n",
    "    print(f\"{title['title']} has {quote} quote.\")"
   ]
  },
  {
   "cell_type": "markdown",
   "metadata": {},
   "source": [
    "## Exercise 5: we do (2 mins)\n",
    "\n",
    "Find the number of quotes we loaded. There are lots of ways of doing this, and some are better than others, so we'll do this as a group."
   ]
  },
  {
   "cell_type": "code",
   "execution_count": 65,
   "metadata": {},
   "outputs": [
    {
     "data": {
      "text/plain": [
       "40"
      ]
     },
     "execution_count": 65,
     "metadata": {},
     "output_type": "execute_result"
    }
   ],
   "source": [
    "len(list_of_quotes)"
   ]
  },
  {
   "cell_type": "code",
   "execution_count": 66,
   "metadata": {},
   "outputs": [
    {
     "name": "stderr",
     "output_type": "stream",
     "text": [
      "C:\\Users\\xianj\\Anaconda3\\envs\\metis\\lib\\site-packages\\ipykernel_launcher.py:1: DeprecationWarning: count is deprecated. Use Collection.count_documents instead.\n",
      "  \"\"\"Entry point for launching an IPython kernel.\n"
     ]
    },
    {
     "data": {
      "text/plain": [
       "40"
      ]
     },
     "execution_count": 66,
     "metadata": {},
     "output_type": "execute_result"
    }
   ],
   "source": [
    "db.quotes.find().count()"
   ]
  },
  {
   "cell_type": "code",
   "execution_count": null,
   "metadata": {},
   "outputs": [],
   "source": []
  },
  {
   "cell_type": "code",
   "execution_count": null,
   "metadata": {},
   "outputs": [],
   "source": []
  },
  {
   "cell_type": "markdown",
   "metadata": {},
   "source": [
    "## Delete and dropping \n",
    "\n",
    "Let's restore the db to how we started it. We are going to\n",
    "- drop the `quotes` collection\n",
    "- delete the Chuck Palahniuk document\n"
   ]
  },
  {
   "cell_type": "code",
   "execution_count": null,
   "metadata": {},
   "outputs": [],
   "source": [
    "db.drop_collection('quotes')"
   ]
  },
  {
   "cell_type": "code",
   "execution_count": null,
   "metadata": {},
   "outputs": [],
   "source": [
    "db.author.delete_one({'name': 'Chuck Palahniuk'})"
   ]
  },
  {
   "cell_type": "markdown",
   "metadata": {},
   "source": [
    "## Aggregation\n",
    "\n",
    "Aggregations allow us to chain a set of operations together. An aggregation takes a list of operations that are executed in order. It is similar to the _pipeline_ that we used in sklearn. Each operation is a dictionary of the form\n",
    "```python\n",
    "{ operation_name : operation_arguments}\n",
    "```\n",
    "\n",
    "Here are the common operations:\n",
    "\n",
    "| Operation name | Description | Arguments |\n",
    "| --- | --- | --- |\n",
    "| `'$match'` | Acts like a where clause, similar to the first argument in `find`| A dictionary | \n",
    "| `'$group'` | Aggregates documents together | A dictionary. Must have an `_id` field to group objects together |\n",
    "| `'$unwind'` | \"Unwinds\" a field that has an entry. See description below | A string (name of field to unwind) |\n",
    "| `'$project'` | Includes or excludes fields. Similar to the second argument of `find`. Can also be used to rename fields | A dictionary |\n",
    "| `'$sample'` | Samples `n` items randomly | A dictionary of form `{'size': n}` | \n",
    "| `'$limit'` | Limits the collection to the first `n` items | A positive integer `n` | \n",
    "| `'$sort'` | Sorts the collection based on field names passed | `{'fieldname2': 1, 'fieldname2':1, .... }` |\n",
    "\n",
    "There are other operations like bucketing (binning data for histograms, skip and offset (for scrolling through data). A complete list can be found here: https://docs.mongodb.com/manual/reference/operator/aggregation/sort/\n",
    "\n",
    "#### Unwind\n",
    "\n",
    "Unwind is a little hard to describe, but not difficult to understand. If a field has an array, `$unwind` duplicates the record for each entry in the array. For example, let's say we have the document\n",
    "```python\n",
    "{\n",
    "    'name': 'Vader',\n",
    "    'campaigns': ['Mufasar', 'Death Star 1', 'Death Star 2'],\n",
    "    'powers': ['force choke', 'telekinesis'],\n",
    "    'allegience': 'dark side'\n",
    "}\n",
    "```\n",
    "\n",
    "If we `$unwind` on `campaigns`, we get 3 documents, one for each campaign:\n",
    "```python\n",
    "## result of {'$unwind': '$campaigns'} on above\n",
    "[{\n",
    "    'name': 'Vader',\n",
    "    'campaigns': 'Mufasar',\n",
    "    'powers': ['force choke', 'telekinesis'],\n",
    "    'allegience': 'dark side'\n",
    "},\n",
    "{\n",
    "    'name': 'Vader',\n",
    "    'campaigns': 'Death Star 1',\n",
    "    'powers': ['force choke', 'telekinesis'],\n",
    "    'allegience': 'dark side'\n",
    "},\n",
    "{\n",
    "    'name': 'Vader',\n",
    "    'campaigns': 'Death Star 2',\n",
    "    'powers': ['force choke', 'telekinesis'],\n",
    "    'allegience': 'dark side'\n",
    "}]\n",
    "```"
   ]
  },
  {
   "cell_type": "markdown",
   "metadata": {},
   "source": [
    "## Exercise 6: Check for understanding (4 mins)\n",
    "\n",
    "\n",
    "Here is a query to try and find books that sold more than 70,000,000 copies. We use the \n",
    "`'books.sold' : {'$gt': 700000}` to select books that sold more than 70000000 copies, yet results were incorrect\n",
    "\n",
    "**Why doesn't this query work?**\n"
   ]
  },
  {
   "cell_type": "code",
   "execution_count": 79,
   "metadata": {},
   "outputs": [
    {
     "data": {
      "text/plain": [
       "[{'_id': 4, 'name': '曹雪芹', 'books': [{'title': '红楼梦', 'sold': 100000000}]},\n",
       " {'_id': 1,\n",
       "  'name': 'Joanne Rowling',\n",
       "  'books': [{'title': \"Harry Potter and the Philosopher's stone\",\n",
       "    'sold': 120000000},\n",
       "   {'title': 'Harry Potter and the Chamber of secrets', 'sold': 77000000},\n",
       "   {'title': 'Harry Potter and the Prizoner of Azkeban', 'sold': 65000000},\n",
       "   {'title': 'Harry Potter and the Goblet of Fire', 'sold': 65000000},\n",
       "   {'title': 'Harry Potter and the Order of the Phoenix', 'sold': 65000000},\n",
       "   {'title': 'Harry Potter and the Half-Blood Prince', 'sold': 65000000},\n",
       "   {'title': 'Harry Potter and the Deathly Hallows', 'sold': 65000000}]}]"
      ]
     },
     "execution_count": 79,
     "metadata": {},
     "output_type": "execute_result"
    }
   ],
   "source": [
    "list(db.author.find({'books.sold': {'$gt': 70000000}}, {'books.title': 1, 'name': 1, 'books.sold': 1}))"
   ]
  },
  {
   "cell_type": "code",
   "execution_count": 80,
   "metadata": {},
   "outputs": [],
   "source": [
    "## Anwer here"
   ]
  },
  {
   "cell_type": "markdown",
   "metadata": {},
   "source": [
    "Answer is ......."
   ]
  },
  {
   "cell_type": "markdown",
   "metadata": {},
   "source": [
    "## Exercise 7: We do (8 mins)\n",
    "\n",
    "Write an aggregation that selects only the best sellers (more than 70 million copies)"
   ]
  },
  {
   "cell_type": "code",
   "execution_count": 78,
   "metadata": {},
   "outputs": [
    {
     "data": {
      "text/plain": [
       "[{'_id': 4,\n",
       "  'name': '曹雪芹',\n",
       "  'nationality': ['Chinese'],\n",
       "  'bio': 'https://en.wikipedia.org/wiki/Cao_Xueqin',\n",
       "  'books': {'title': '红楼梦',\n",
       "   'alt_title': 'Dream of the Red Chamber',\n",
       "   'description': \"An aristocratic playboy is torn between the cousin with whom he has a connection, and the cousin he is supposed to marry, as his family's fortunes decline.\",\n",
       "   'sold': 100000000}},\n",
       " {'_id': 1,\n",
       "  'name': 'Joanne Rowling',\n",
       "  'aliases': ['J. K. Rowling', 'Robert Galbraith'],\n",
       "  'nationality': ['British'],\n",
       "  'bio': 'https://en.wikipedia.org/wiki/J._K._Rowling',\n",
       "  'books': {'title': \"Harry Potter and the Philosopher's stone\",\n",
       "   'alt_title': \"Harry Potter and the Sourcer's stone\",\n",
       "   'description': 'We are introduced to Harry Potter, Voldemort, and British magical society. Sorting hat tells us that it is our choices that define us -- Harry could have either been in Gryffindor or Slytherian.',\n",
       "   'sold': 120000000}},\n",
       " {'_id': 1,\n",
       "  'name': 'Joanne Rowling',\n",
       "  'aliases': ['J. K. Rowling', 'Robert Galbraith'],\n",
       "  'nationality': ['British'],\n",
       "  'bio': 'https://en.wikipedia.org/wiki/J._K._Rowling',\n",
       "  'books': {'title': 'Harry Potter and the Chamber of secrets',\n",
       "   'description': 'We encounter the first horcrux, and uncover a shrine to snakes',\n",
       "   'sold': 77000000}}]"
      ]
     },
     "execution_count": 78,
     "metadata": {},
     "output_type": "execute_result"
    }
   ],
   "source": [
    "pipeline = [\n",
    "    {'$unwind':'$books'}, # need $books to let mongo know we are referencing books column, not using books as string\n",
    "    {'$match': {'books.sold':{'$gt':70000000}}},  # acts like a WHERE clause\n",
    "]\n",
    "\n",
    "list(db.author.aggregate(pipeline))"
   ]
  },
  {
   "cell_type": "code",
   "execution_count": null,
   "metadata": {},
   "outputs": [],
   "source": [
    "# Incomplete code\n",
    "\n",
    "pipeline = [\n",
    "    {'$unwind':'$books'}, # need $books to let mongo know we are referencing books column, not using books as string\n",
    "    {'$match': {'books.sold':{'$gt':70000000}}},  # acts like a WHERE clause\n",
    "    {'$project':{'title':'$books.title', 'author':'$name', 'copies_sold':'$books'}}\n",
    "]\n",
    "\n",
    "list(db.author.aggregate(pipeline))"
   ]
  },
  {
   "cell_type": "code",
   "execution_count": null,
   "metadata": {},
   "outputs": [],
   "source": []
  },
  {
   "cell_type": "code",
   "execution_count": null,
   "metadata": {},
   "outputs": [],
   "source": []
  },
  {
   "cell_type": "markdown",
   "metadata": {},
   "source": [
    "## Common trick -- counting records per group\n",
    "\n",
    "In the Chicago restaurant dataset, we had restaurants with different \"price\" points. What if we wanted to count how many restaurants were at each price point?\n",
    "\n",
    "Mongo uses aggregation to solve this. The idea is when grouping, we assign each record the number `1`, then sum them. Let's see an example."
   ]
  },
  {
   "cell_type": "code",
   "execution_count": null,
   "metadata": {},
   "outputs": [],
   "source": [
    "pipeline = [\n",
    "    {'$group': {'_id': '$price', 'num_restaurants': {'$sum': 1}}},   # group by price, add 1 for every record and store i num_restaurants\n",
    "    {'$project': {'_id': 0, 'price': '$_id', 'num_restaurants': 1}}, # rename _id to price\n",
    "    {'$sort': {'price': 1}}                                         # sort by price rating, ascending\n",
    "]\n",
    "\n",
    "\n",
    "# The above code is similar to the following SQL query:\n",
    "# SELECT price, sum(rest), from <table> GROUP BY price\n",
    "\n",
    "list(client.outings.restaurant.aggregate(pipeline))"
   ]
  },
  {
   "cell_type": "markdown",
   "metadata": {},
   "source": [
    "There will be practice with aggregations in tomorrow's pair!"
   ]
  },
  {
   "cell_type": "code",
   "execution_count": null,
   "metadata": {},
   "outputs": [],
   "source": []
  }
 ],
 "metadata": {
  "kernelspec": {
   "display_name": "Python [conda env:metis] *",
   "language": "python",
   "name": "conda-env-metis-py"
  },
  "language_info": {
   "codemirror_mode": {
    "name": "ipython",
    "version": 3
   },
   "file_extension": ".py",
   "mimetype": "text/x-python",
   "name": "python",
   "nbconvert_exporter": "python",
   "pygments_lexer": "ipython3",
   "version": "3.7.3"
  }
 },
 "nbformat": 4,
 "nbformat_minor": 2
}
