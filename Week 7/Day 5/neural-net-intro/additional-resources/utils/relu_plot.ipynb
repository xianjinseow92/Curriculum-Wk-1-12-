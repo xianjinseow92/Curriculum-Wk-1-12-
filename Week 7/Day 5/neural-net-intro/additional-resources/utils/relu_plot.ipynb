{
 "cells": [
  {
   "cell_type": "code",
   "execution_count": null,
   "metadata": {
    "ExecuteTime": {
     "end_time": "2019-02-27T16:46:10.811452Z",
     "start_time": "2019-02-27T16:46:03.888750Z"
    }
   },
   "outputs": [],
   "source": [
    "#######################\n",
    "# standard code block #\n",
    "#######################\n",
    "\n",
    "# see https://ipython.readthedocs.io/en/stable/interactive/magics.html\n",
    "%pylab inline\n",
    "\n",
    "# sets backend to render higher res images\n",
    "%config InlineBackend.figure_formats = ['retina']\n",
    "\n",
    "#######################\n",
    "#       imports       #\n",
    "#######################\n",
    "import pandas as pd\n",
    "import seaborn as sns\n",
    "import sklearn\n",
    "import keras\n",
    "from decision_boundary import plot_decision_boundary\n",
    "\n",
    "sns.set_style(\"whitegrid\")"
   ]
  },
  {
   "cell_type": "code",
   "execution_count": null,
   "metadata": {
    "ExecuteTime": {
     "end_time": "2019-02-27T16:52:58.907080Z",
     "start_time": "2019-02-27T16:52:58.249166Z"
    }
   },
   "outputs": [],
   "source": [
    "pal = dict(enumerate(sns.color_palette(\"husl\", 4)))\n",
    "svm_keras = keras.models.load_model(\"svm_keras.h5\")"
   ]
  },
  {
   "cell_type": "code",
   "execution_count": null,
   "metadata": {
    "ExecuteTime": {
     "end_time": "2019-02-27T16:52:58.935046Z",
     "start_time": "2019-02-27T16:52:58.910864Z"
    }
   },
   "outputs": [],
   "source": [
    "# INSTRUCTION NOTE\n",
    "# This and the following code cell are here to create a visualization\n",
    "# of the relu model built above. They are not meant to be covered in\n",
    "# detail.\n",
    "\n",
    "\n",
    "def quick_scatter(x, y, ax, alpha=1):\n",
    "    \"\"\"Quick function for making a scatter plot of x.\n",
    "\n",
    "    Args:\n",
    "        x: array of inputs\n",
    "        y: categorical outputs\n",
    "        ax: axis to plot on\n",
    "        alpha (float): transparency of points \n",
    "\n",
    "    Returns:\n",
    "        None\n",
    "    \"\"\"\n",
    "    sns.scatterplot(x=x[:, 0], y=x[:, 1], hue=y, edgecolor=None, palette=pal,\n",
    "                    legend=False, alpha=alpha, ax=ax)\n",
    "\n",
    "\n",
    "def quick_arrows(x1, x2, ax):\n",
    "    \"\"\"Quick function to draw arrows from x1 -> x2.\n",
    "\n",
    "    Args:\n",
    "        x1: array of inputs\n",
    "        x2: another array of inputs\n",
    "        ax: axis to draw on\n",
    "\n",
    "    Returns:\n",
    "        None\n",
    "    \"\"\"\n",
    "    for i in range(x1.shape[0]):\n",
    "        ax.annotate(\"\", x1[i, :], x2[i, :],\n",
    "                    arrowprops=dict(arrowstyle=\"<-\", color=\"black\"))"
   ]
  },
  {
   "cell_type": "code",
   "execution_count": null,
   "metadata": {
    "ExecuteTime": {
     "end_time": "2019-02-27T16:52:59.420695Z",
     "start_time": "2019-02-27T16:52:59.408900Z"
    }
   },
   "outputs": [],
   "source": [
    "x_test = np.array([[0, 0], [1, 1], [0, 1], [1, 0]])\n",
    "y_test = np.array([0, 0, 1, 1])"
   ]
  },
  {
   "cell_type": "code",
   "execution_count": null,
   "metadata": {
    "ExecuteTime": {
     "end_time": "2019-02-27T16:53:00.139996Z",
     "start_time": "2019-02-27T16:53:00.012299Z"
    }
   },
   "outputs": [],
   "source": [
    "# grab output of first hidden layer\n",
    "hidden_layer_model = keras.Model(\n",
    "    inputs=svm_keras.input, outputs=svm_keras.get_layer(\"hidden_layer\").output)\n",
    "x_h = hidden_layer_model.predict(x_test)\n",
    "\n",
    "# grab output of after activation\n",
    "hidden_act_model = keras.Model(\n",
    "    inputs=svm_keras.input,\n",
    "    outputs=svm_keras.get_layer(\"hidden_activation\").output)\n",
    "x_a = hidden_act_model.predict(x_test)\n",
    "\n",
    "# grab prediction function from final layer\n",
    "last_input = keras.Input(shape=(2, ))\n",
    "last_output = svm_keras.get_layer(\"output_layer\")(last_input)\n",
    "last_layer_model = keras.Model(inputs=last_input, outputs=last_output)\n",
    "last_pred = lambda x: last_layer_model.predict(x) > 0"
   ]
  },
  {
   "cell_type": "code",
   "execution_count": null,
   "metadata": {
    "ExecuteTime": {
     "end_time": "2019-02-27T16:53:04.704100Z",
     "start_time": "2019-02-27T16:53:00.640616Z"
    }
   },
   "outputs": [],
   "source": [
    "fig, axes = subplots(ncols=2, nrows=2, figsize=(8, 8), sharex=True,\n",
    "                     sharey=True)\n",
    "axes = axes.flatten()\n",
    "quick_scatter(x_test, y_test, axes[0])\n",
    "\n",
    "axes[0].set_title(\"Step 0: Initial $\\mathbf{x}$\\n Not separable\")\n",
    "\n",
    "quick_scatter(x_test, y_test, axes[1], alpha=.5)\n",
    "quick_scatter(x_h, y_test, axes[1])\n",
    "quick_arrows(x_test, x_h, axes[1])\n",
    "axes[1].plot([-0.28688455, 2.685563], [-2.486653, 2.2869835], linestyle=\":\",\n",
    "             color=\"gray\", zorder=-1)\n",
    "axes[1].set_title(\"Step1: First linear operation\\n\" \"Still not separable.\")\n",
    "\n",
    "quick_scatter(x_h, y_test, axes[2], alpha=.5)\n",
    "quick_scatter(x_a, y_test, axes[2])\n",
    "quick_arrows(x_h, x_a, axes[2])\n",
    "axes[2].set_title(\"Step2: Relu activation $f(x) = \\max(x,0)$\\n\"\n",
    "                  \"Now separable!\")\n",
    "\n",
    "plot_decision_boundary(last_pred, x_a, y_test, ax=axes[3], points=1e5,\n",
    "                       alpha=.5)\n",
    "axes[3].set_title(\"Step3: Final layer performs easy\\nclassification task.\")\n",
    "\n",
    "fig.suptitle(\"Two-layer relu neural network solving XOR problem\")\n",
    "savefig(\"../img/activation_function_demo.svg\", bbox_inches='tight')"
   ]
  },
  {
   "cell_type": "code",
   "execution_count": null,
   "metadata": {
    "ExecuteTime": {
     "end_time": "2019-02-27T16:46:38.567841Z",
     "start_time": "2019-02-27T16:46:38.553293Z"
    }
   },
   "outputs": [],
   "source": [
    "hidden = svm_keras.get_layer(\"hidden_layer\")"
   ]
  },
  {
   "cell_type": "code",
   "execution_count": null,
   "metadata": {
    "ExecuteTime": {
     "end_time": "2019-02-27T16:47:00.187877Z",
     "start_time": "2019-02-27T16:47:00.181971Z"
    }
   },
   "outputs": [],
   "source": [
    "w,b = hidden.get_weights()"
   ]
  },
  {
   "cell_type": "code",
   "execution_count": null,
   "metadata": {
    "ExecuteTime": {
     "end_time": "2019-02-27T16:47:18.704548Z",
     "start_time": "2019-02-27T16:47:18.699811Z"
    }
   },
   "outputs": [],
   "source": [
    "x = array([[0,0], [0,1]])"
   ]
  },
  {
   "cell_type": "code",
   "execution_count": null,
   "metadata": {
    "ExecuteTime": {
     "end_time": "2019-02-27T16:47:24.220482Z",
     "start_time": "2019-02-27T16:47:24.203181Z"
    }
   },
   "outputs": [],
   "source": [
    "w.dot(x)"
   ]
  },
  {
   "cell_type": "code",
   "execution_count": null,
   "metadata": {},
   "outputs": [],
   "source": []
  }
 ],
 "metadata": {
  "kernelspec": {
   "display_name": "metis",
   "language": "python",
   "name": "metis"
  },
  "language_info": {
   "codemirror_mode": {
    "name": "ipython",
    "version": 3
   },
   "file_extension": ".py",
   "mimetype": "text/x-python",
   "name": "python",
   "nbconvert_exporter": "python",
   "pygments_lexer": "ipython3",
   "version": "3.6.7"
  }
 },
 "nbformat": 4,
 "nbformat_minor": 2
}
