{
 "cells": [
  {
   "cell_type": "code",
   "execution_count": null,
   "metadata": {
    "ExecuteTime": {
     "end_time": "2019-05-09T21:19:07.388587Z",
     "start_time": "2019-05-09T21:19:06.499692Z"
    }
   },
   "outputs": [],
   "source": [
    "#######################\n",
    "# standard code block #\n",
    "#######################\n",
    "\n",
    "# see https://ipython.readthedocs.io/en/stable/interactive/magics.html\n",
    "%pylab inline\n",
    "\n",
    "# sets backend to render higher res images\n",
    "%config InlineBackend.figure_formats = ['retina']\n",
    "\n",
    "#######################\n",
    "#       imports       #\n",
    "#######################\n",
    "# import pandas as pd\n",
    "# import seaborn as sns\n",
    "# import sklearn\n",
    "\n",
    "# sns.set_style(\"whitegrid\")"
   ]
  },
  {
   "cell_type": "code",
   "execution_count": null,
   "metadata": {
    "ExecuteTime": {
     "end_time": "2019-05-09T21:19:11.794275Z",
     "start_time": "2019-05-09T21:19:07.392726Z"
    }
   },
   "outputs": [],
   "source": [
    "import keras"
   ]
  },
  {
   "cell_type": "code",
   "execution_count": null,
   "metadata": {
    "ExecuteTime": {
     "end_time": "2019-05-09T21:19:11.805739Z",
     "start_time": "2019-05-09T21:19:11.798198Z"
    }
   },
   "outputs": [],
   "source": [
    "activations = [\n",
    "    'elu', 'exponential', 'hard_sigmoid', 'linear', 'relu', 'selu', 'sigmoid',\n",
    "    'softplus', 'softsign', 'tanh'\n",
    "]"
   ]
  },
  {
   "cell_type": "code",
   "execution_count": null,
   "metadata": {
    "ExecuteTime": {
     "end_time": "2019-05-09T21:19:11.820291Z",
     "start_time": "2019-05-09T21:19:11.812492Z"
    }
   },
   "outputs": [],
   "source": [
    "x = np.linspace(-3, 3, num=int(1e3)).reshape(-1, 1)"
   ]
  },
  {
   "cell_type": "code",
   "execution_count": null,
   "metadata": {
    "ExecuteTime": {
     "end_time": "2019-05-09T21:19:14.560918Z",
     "start_time": "2019-05-09T21:19:11.826177Z"
    }
   },
   "outputs": [],
   "source": [
    "figsize(2, 1)\n",
    "\n",
    "for i, act in enumerate(activations):\n",
    "    act_model = keras.Sequential(\n",
    "        [keras.layers.Activation(act, input_shape=(1, ))])\n",
    "    act_model.compile(\"sgd\", loss=\"hinge\")\n",
    "    y = act_model.predict(x)\n",
    "\n",
    "    plt.clf()\n",
    "    plt.plot(x, y)\n",
    "\n",
    "    ax = plt.gca()\n",
    "    ax.xaxis.set_minor_locator(MultipleLocator(1))\n",
    "    ax.yaxis.set_minor_locator(MultipleLocator(1))\n",
    "\n",
    "    ax.xaxis.set_major_locator(MultipleLocator(10))\n",
    "    ax.yaxis.set_major_locator(MultipleLocator(10))\n",
    "\n",
    "    ax.set_xticklabels([])\n",
    "    ax.set_yticklabels([])\n",
    "\n",
    "    ax.grid(which='major', linestyle='-', linewidth='0.5', color=\"black\")\n",
    "    ax.grid(which='minor', linestyle=':', linewidth='0.25', color=\"black\")\n",
    "\n",
    "    plt.savefig(f\"../img/{act}.svg\", bbox_inches='tight', transparent=True)"
   ]
  },
  {
   "cell_type": "code",
   "execution_count": null,
   "metadata": {
    "ExecuteTime": {
     "end_time": "2019-05-09T21:19:15.221909Z",
     "start_time": "2019-05-09T21:19:14.564464Z"
    }
   },
   "outputs": [],
   "source": [
    "from functools import partial\n",
    "\n",
    "for a in [.1, .3, .5]:\n",
    "    act_model = keras.Sequential([\n",
    "        keras.layers.Activation(\n",
    "            partial(keras.activations.relu, alpha=a), input_shape=(1, ))\n",
    "    ])\n",
    "    act_model.compile(\"sgd\", loss=\"hinge\")\n",
    "    y = act_model.predict(x)\n",
    "\n",
    "    plt.plot(x, y)\n",
    "\n",
    "ax = plt.gca()\n",
    "ax.xaxis.set_minor_locator(MultipleLocator(1))\n",
    "ax.yaxis.set_minor_locator(MultipleLocator(1))\n",
    "\n",
    "ax.xaxis.set_major_locator(MultipleLocator(10))\n",
    "ax.yaxis.set_major_locator(MultipleLocator(10))\n",
    "ax.set_xticklabels([])\n",
    "ax.set_yticklabels([])\n",
    "\n",
    "ax.grid(which='major', linestyle='-', linewidth='0.5', color=\"black\")\n",
    "ax.grid(which='minor', linestyle=':', linewidth='0.25', color=\"black\")\n",
    "\n",
    "plt.savefig(f\"../img/LeakyRelu.svg\", bbox_inches='tight', transparent=True)"
   ]
  },
  {
   "cell_type": "code",
   "execution_count": null,
   "metadata": {},
   "outputs": [],
   "source": []
  }
 ],
 "metadata": {
  "kernelspec": {
   "display_name": "metis",
   "language": "python",
   "name": "metis"
  },
  "language_info": {
   "codemirror_mode": {
    "name": "ipython",
    "version": 3
   },
   "file_extension": ".py",
   "mimetype": "text/x-python",
   "name": "python",
   "nbconvert_exporter": "python",
   "pygments_lexer": "ipython3",
   "version": "3.6.7"
  }
 },
 "nbformat": 4,
 "nbformat_minor": 2
}
