{
 "cells": [
  {
   "cell_type": "markdown",
   "metadata": {},
   "source": [
    "### K-Means Pair Programming from scratch"
   ]
  },
  {
   "cell_type": "code",
   "execution_count": 14,
   "metadata": {},
   "outputs": [],
   "source": [
    "import numpy as np\n",
    "import matplotlib.pyplot as plt\n",
    "import seaborn as sns\n",
    "%matplotlib inline\n",
    "from copy import deepcopy\n",
    "\n",
    "seed = 69"
   ]
  },
  {
   "cell_type": "code",
   "execution_count": 15,
   "metadata": {},
   "outputs": [
    {
     "data": {
      "image/png": "[encoded data removed]",
      "text/plain": [
       "<Figure size 432x288 with 1 Axes>"
      ]
     },
     "metadata": {
      "needs_background": "light"
     },
     "output_type": "display_data"
    }
   ],
   "source": [
    "points = np.random.rand(100,2)\n",
    "plt.scatter(points[:,0], points[:,1], s=150)\n",
    "plt.show()"
   ]
  },
  {
   "cell_type": "code",
   "execution_count": 7,
   "metadata": {},
   "outputs": [],
   "source": [
    "def distance(A, B):   # returns distance of one point \n",
    "    squares = [(a - b) ** 2 for a, b in zip(A, B)]\n",
    "    return sum(squares) ** 0.5"
   ]
  },
  {
   "cell_type": "markdown",
   "metadata": {},
   "source": [
    "The centroid is just the average of all points in that cluster:"
   ]
  },
  {
   "cell_type": "code",
   "execution_count": 8,
   "metadata": {},
   "outputs": [],
   "source": [
    "def updateCentroids(points, centroids, clusters):\n",
    "    pass"
   ]
  },
  {
   "cell_type": "code",
   "execution_count": 9,
   "metadata": {},
   "outputs": [],
   "source": [
    "def assignPoints(points,centroids,clusters):\n",
    "    change = False # default to end state\n",
    "    for i, p in enumerate(points):  # i is index of the row, p is the x, y in points dataset\n",
    "        d, j = min(  [ (distance(c, p), loc)   ])\n",
    "    pass   "
   ]
  },
  {
   "cell_type": "markdown",
   "metadata": {},
   "source": [
    "For each point, find the distance to all centroids and assign it to the closest one. The distance function is already available above."
   ]
  },
  {
   "cell_type": "markdown",
   "metadata": {},
   "source": [
    "We have a points array of length 100. We create \"clusters\" to be a list of the same length. We can use it to assign each point a cluster number. We will have k \"centroids\" and we just assign the first k points to be the centroids."
   ]
  },
  {
   "cell_type": "code",
   "execution_count": 10,
   "metadata": {},
   "outputs": [],
   "source": [
    "def KMeans(points,k=3):\n",
    "    clusters = np.zeros(len(points))   # Creating a list of cluster assignment. We initialize this list by creating a list of 0s\n",
    "    centroids = deepcopy(points[:k]) # track the cluster centroids \n",
    "    while assignPoints(points,centroids,clusters): # Decide when we should stop. Maybe no more changes after 1 iteration\n",
    "        upadteCentroids(points,centroids,clusters) \n",
    "    plt.scatter([p[0] for p in points],[p[1] for p in points],c=clusters)\n",
    "    plt.show()\n"
   ]
  },
  {
   "cell_type": "code",
   "execution_count": null,
   "metadata": {},
   "outputs": [],
   "source": [
    "KMeans(3)"
   ]
  }
 ],
 "metadata": {
  "kernelspec": {
   "display_name": "Python [conda env:metis] *",
   "language": "python",
   "name": "conda-env-metis-py"
  },
  "language_info": {
   "codemirror_mode": {
    "name": "ipython",
    "version": 3
   },
   "file_extension": ".py",
   "mimetype": "text/x-python",
   "name": "python",
   "nbconvert_exporter": "python",
   "pygments_lexer": "ipython3",
   "version": "3.7.3"
  }
 },
 "nbformat": 4,
 "nbformat_minor": 1
}
