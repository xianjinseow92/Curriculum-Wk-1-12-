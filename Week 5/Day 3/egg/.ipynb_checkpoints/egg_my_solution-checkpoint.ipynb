{
 "cells": [
  {
   "cell_type": "markdown",
   "metadata": {},
   "source": [
    "There is a building with 100 floors. You have two eggs. If either egg is dropped from the **K**th floor or above it will break. If it's dropped from any of the floors below, it wouldn't break, however many times you dropped it. We need to find the cut-off floor **K**. How many tries would you need before you can find that floor?"
   ]
  },
  {
   "cell_type": "code",
   "execution_count": null,
   "metadata": {},
   "outputs": [],
   "source": [
    "# EXAMPLE SCENARIO\n",
    "# Let k = 70  (k represents floor at which egg will break on)\n",
    "# k > 70, egg will break\n",
    "# k < 70, egg won't break\n",
    "# 2 eggs\n",
    "# Unlimited tries\n",
    "\n"
   ]
  },
  {
   "cell_type": "markdown",
   "metadata": {},
   "source": [
    "# Most naive solution"
   ]
  },
  {
   "cell_type": "code",
   "execution_count": 1,
   "metadata": {},
   "outputs": [],
   "source": [
    "import random"
   ]
  },
  {
   "cell_type": "code",
   "execution_count": 13,
   "metadata": {},
   "outputs": [],
   "source": [
    "# First solution -> Find minimum cut-off (Most naive method)\n",
    "# Keep dropping egg from first floor until the floor that it breaks\n",
    "\n",
    "def naive_solution_floor_increment_one(increment):\n",
    "    \"\"\"\n",
    "    This solution starts from ground-up to identify the value of k floor.\n",
    "    This function takes in an integer value to set the number of increments of floors you want to throw the egg from.\n",
    "    \"\"\"\n",
    "    \n",
    "    break_floor = random.randint(1,100)  # Sets the k floor\n",
    "    increment = 1\n",
    "    current_floor = 0  \n",
    "    tries = 0\n",
    "    print(\"Random number generated: {}\".format(break_floor))\n",
    "    \n",
    "    for i in range(101):\n",
    "        tries += 1\n",
    "        current_floor += increment \n",
    "        if current_floor == break_floor:\n",
    "            print(\"Your egg has broken at the {}th floor.\".format(break_floor))\n",
    "            print(\"You took {} tries.\".format(tries))\n",
    "            break\n",
    "        \n",
    "    print(\"The current floor is {}.\".format(current_floor))\n"
   ]
  },
  {
   "cell_type": "code",
   "execution_count": 14,
   "metadata": {},
   "outputs": [
    {
     "name": "stdout",
     "output_type": "stream",
     "text": [
      "Random number generated: 77\n",
      "Your egg has broken at the 77th floor.\n",
      "You took 77 tries.\n",
      "The current floor is 77.\n"
     ]
    }
   ],
   "source": [
    "naive_solution_floor_increment_one(1)"
   ]
  },
  {
   "cell_type": "code",
   "execution_count": null,
   "metadata": {},
   "outputs": [],
   "source": []
  },
  {
   "cell_type": "code",
   "execution_count": null,
   "metadata": {},
   "outputs": [],
   "source": []
  },
  {
   "cell_type": "code",
   "execution_count": null,
   "metadata": {},
   "outputs": [],
   "source": [
    "# EXAMPLE SCENARIO\n",
    "# Let k = 70  (k represents floor at which egg will break on)\n",
    "# k > 70, egg will break\n",
    "# k < 70, egg won't break\n",
    "# 2 eggs\n",
    "# Unlimited tries\n",
    "\n"
   ]
  },
  {
   "cell_type": "code",
   "execution_count": null,
   "metadata": {},
   "outputs": [],
   "source": []
  },
  {
   "cell_type": "code",
   "execution_count": null,
   "metadata": {},
   "outputs": [],
   "source": []
  },
  {
   "cell_type": "code",
   "execution_count": null,
   "metadata": {},
   "outputs": [],
   "source": [
    "def second_most_naive_method():\n",
    "    \"\"\"\n",
    "    Start from 50. If breaks, count 51 floor, if doesn't break, start from ground floor.\n",
    "    \"\"\"\n",
    "    break_floor = random.randint(1,100)  # Sets the k floor\n",
    "    \n",
    "    highest_floor = 100\n",
    "    lowest_floor = 1\n",
    "    \n",
    "    increment = 1\n",
    "    current_floor = (highest_floor - lowest_floor)//2\n",
    "    tries = 0\n",
    "    \n",
    "    for i in range(1,101):\n",
    "        if current_floor == break_floor:\n",
    "    \n",
    "    \n",
    "    print(\"Random number generated: {}\".format(break_floor))\n",
    "    \n",
    "    "
   ]
  },
  {
   "cell_type": "code",
   "execution_count": null,
   "metadata": {},
   "outputs": [],
   "source": []
  },
  {
   "cell_type": "code",
   "execution_count": null,
   "metadata": {},
   "outputs": [],
   "source": [
    "def binary_solution():\n",
    "    \n",
    "    break_floor = random.randint(1,101)  # Sets the k floor\n",
    "    \n",
    "    highest_floor = 100\n",
    "    lowest_floor = 1\n",
    "    \n",
    "    current_floor = (highest_floor - lowest_floor)//2  # To always start at the middle of the upper and lower limit\n",
    "    counter = 0\n",
    "    \n",
    "    while current_floor != break_floor:\n",
    "        if guess > break_floor:\n",
    "            \n",
    "        "
   ]
  },
  {
   "cell_type": "code",
   "execution_count": null,
   "metadata": {},
   "outputs": [],
   "source": []
  },
  {
   "cell_type": "code",
   "execution_count": null,
   "metadata": {},
   "outputs": [],
   "source": []
  },
  {
   "cell_type": "code",
   "execution_count": null,
   "metadata": {},
   "outputs": [],
   "source": []
  },
  {
   "cell_type": "code",
   "execution_count": null,
   "metadata": {},
   "outputs": [],
   "source": []
  },
  {
   "cell_type": "code",
   "execution_count": null,
   "metadata": {},
   "outputs": [],
   "source": []
  },
  {
   "cell_type": "code",
   "execution_count": null,
   "metadata": {},
   "outputs": [],
   "source": []
  },
  {
   "cell_type": "code",
   "execution_count": null,
   "metadata": {},
   "outputs": [],
   "source": []
  },
  {
   "cell_type": "code",
   "execution_count": null,
   "metadata": {},
   "outputs": [],
   "source": []
  },
  {
   "cell_type": "code",
   "execution_count": null,
   "metadata": {},
   "outputs": [],
   "source": []
  }
 ],
 "metadata": {
  "kernelspec": {
   "display_name": "Python [conda env:metis] *",
   "language": "python",
   "name": "conda-env-metis-py"
  },
  "language_info": {
   "codemirror_mode": {
    "name": "ipython",
    "version": 3
   },
   "file_extension": ".py",
   "mimetype": "text/x-python",
   "name": "python",
   "nbconvert_exporter": "python",
   "pygments_lexer": "ipython3",
   "version": "3.7.3"
  }
 },
 "nbformat": 4,
 "nbformat_minor": 2
}
