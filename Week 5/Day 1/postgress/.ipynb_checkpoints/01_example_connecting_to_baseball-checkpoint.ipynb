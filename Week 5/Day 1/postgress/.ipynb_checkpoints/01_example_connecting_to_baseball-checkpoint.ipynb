{
 "cells": [
  {
   "cell_type": "markdown",
   "metadata": {},
   "source": [
    "# Exercises using the baseball dataset\n",
    "\n",
    "Experiment using the material learned in the psycopg2 to query your postgres database on AWS. "
   ]
  },
  {
   "cell_type": "code",
   "execution_count": null,
   "metadata": {},
   "outputs": [],
   "source": [
    "import pandas as pd\n",
    "import psycopg2 as pg"
   ]
  },
  {
   "cell_type": "markdown",
   "metadata": {},
   "source": [
    "You should have setup the database on AWS already. To connect, you will need the **public** IP address of you AWS instance. This is the same one that you use wuth `ssh` to connect to AWS. \n",
    "\n",
    "You either type it in directly, or use the public IP address stored in your host file (in `~/.ssh/`)"
   ]
  },
  {
   "cell_type": "code",
   "execution_count": null,
   "metadata": {},
   "outputs": [],
   "source": [
    "connection_args = {\n",
    "    'host': '18.216.157.248',  # You will need to put the PUBLIC IP address of your AWS instance here\n",
    "    'user': 'ubuntu',    # your username on AWS is 'ubuntu'\n",
    "    'dbname': 'baseball',    # DB that we are connecting to\n",
    "    'port': 5432             # port we opened on AWS\n",
    "}\n",
    "\n",
    "# We will talk about this magic Python trick!\n",
    "connection = pg.connect(**connection_args)"
   ]
  },
  {
   "cell_type": "markdown",
   "metadata": {},
   "source": [
    "Let's run a couple of sample queries. If these don't work, then there is something wrong with your installation. Ask one of the instructors for help!"
   ]
  },
  {
   "cell_type": "code",
   "execution_count": null,
   "metadata": {},
   "outputs": [],
   "source": [
    "cursor = connection.cursor()\n",
    "\n",
    "cursor.execute('SELECT * FROM allstarfull LIMIT 5')\n",
    "list(cursor.fetchall())"
   ]
  },
  {
   "cell_type": "code",
   "execution_count": null,
   "metadata": {},
   "outputs": [],
   "source": [
    "# get 5 schools\n",
    "cursor.execute('SELECT * FROM schools LIMIT 5')\n",
    "list(cursor.fetchall())"
   ]
  },
  {
   "cell_type": "markdown",
   "metadata": {},
   "source": [
    "## How many schools are there in each state? (You code, 4 mins)"
   ]
  },
  {
   "cell_type": "code",
   "execution_count": null,
   "metadata": {},
   "outputs": [],
   "source": [
    "# Your code goes here"
   ]
  },
  {
   "cell_type": "markdown",
   "metadata": {},
   "source": [
    "## Show all playerids and salaries with a salary in the year 1985 above 500k. (You code, 4 mins)"
   ]
  },
  {
   "cell_type": "code",
   "execution_count": null,
   "metadata": {},
   "outputs": [],
   "source": [
    "# Your code goes here"
   ]
  }
 ],
 "metadata": {
  "kernelspec": {
   "display_name": "Python [conda env:metis] *",
   "language": "python",
   "name": "conda-env-metis-py"
  },
  "language_info": {
   "codemirror_mode": {
    "name": "ipython",
    "version": 3
   },
   "file_extension": ".py",
   "mimetype": "text/x-python",
   "name": "python",
   "nbconvert_exporter": "python",
   "pygments_lexer": "ipython3",
   "version": "3.7.3"
  }
 },
 "nbformat": 4,
 "nbformat_minor": 1
}
