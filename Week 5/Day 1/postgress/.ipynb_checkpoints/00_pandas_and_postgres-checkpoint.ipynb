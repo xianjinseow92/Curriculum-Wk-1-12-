{
 "cells": [
  {
   "cell_type": "markdown",
   "metadata": {},
   "source": [
    "# Pandas and postgres\n",
    "\n",
    "We are going to show how we can get Pandas (and more generally, Python) to interact with the information in our PostgreSQL database. We are going to look at two different techniques:\n",
    "- SQL functionality built into Pandas\n",
    "  This will mostly be used when doing SELECTs. We will be able to get the infomation from our database and put it directly into a pandas dataframe.\n",
    "- A cursor based method\n",
    "  This is a method for executing arbitrary queries on our database (e.g. adding tables, INSERTing values, UPDATEs, or DELETEs). It can also be useful if we are pulling down a lot of data, as the cursor can fetch part of the data at a time (so we can process it as we go). The Pandas method pulls down the query all at once.\n",
    "\n",
    "To build our skills using Python and Postgres, we are going to look at the `names` database we have already uploaded."
   ]
  },
  {
   "cell_type": "code",
   "execution_count": 1,
   "metadata": {},
   "outputs": [],
   "source": [
    "# Get pandas and postgres to work together\n",
    "import psycopg2 as pg\n",
    "import pandas as pd\n",
    "import pandas.io.sql as pd_sql\n",
    "\n",
    "# We are also going to do some basic viz\n",
    "import matplotlib.pyplot as plt\n",
    "%matplotlib inline"
   ]
  },
  {
   "cell_type": "code",
   "execution_count": 2,
   "metadata": {},
   "outputs": [],
   "source": [
    "# There is a bug in matplotlib. You cannot set the rc parameters in the same\n",
    "# cell that you use the \"%matplotlib inline\" magic command\n",
    "\n",
    "plt.style.use('ggplot')\n",
    "plt.rc('font', size=18)"
   ]
  },
  {
   "cell_type": "code",
   "execution_count": 4,
   "metadata": {},
   "outputs": [],
   "source": [
    "# Postgres info to connect to your local psql\n",
    "\n",
    "connection_args = {\n",
    "    'host': 'localhost',  # We are connecting to our _local_ version of psql\n",
    "    'dbname': 'names',    # DB that we are connecting to\n",
    "    'user': 'postgres',\n",
    "    'password': 'bighug10',       # input your password here\n",
    "    'port': 5432,          # port we opened on AWS\n",
    "}\n",
    "\n",
    "\n",
    "# We will talk about this magic Python trick!\n",
    "connection = pg.connect(**connection_args)"
   ]
  },
  {
   "cell_type": "markdown",
   "metadata": {},
   "source": [
    "See the [python tutorial](https://docs.python.org/3/tutorial/controlflow.html#unpacking-argument-lists) for more info on unpacking arguments"
   ]
  },
  {
   "cell_type": "markdown",
   "metadata": {},
   "source": [
    "## Pandas and the read_sql command\n",
    "\n",
    "Let's look through the `regions` table: "
   ]
  },
  {
   "cell_type": "code",
   "execution_count": 5,
   "metadata": {},
   "outputs": [
    {
     "data": {
      "text/html": [
       "<div>\n",
       "<style scoped>\n",
       "    .dataframe tbody tr th:only-of-type {\n",
       "        vertical-align: middle;\n",
       "    }\n",
       "\n",
       "    .dataframe tbody tr th {\n",
       "        vertical-align: top;\n",
       "    }\n",
       "\n",
       "    .dataframe thead th {\n",
       "        text-align: right;\n",
       "    }\n",
       "</style>\n",
       "<table border=\"1\" class=\"dataframe\">\n",
       "  <thead>\n",
       "    <tr style=\"text-align: right;\">\n",
       "      <th></th>\n",
       "      <th>state</th>\n",
       "      <th>region</th>\n",
       "    </tr>\n",
       "  </thead>\n",
       "  <tbody>\n",
       "    <tr>\n",
       "      <td>0</td>\n",
       "      <td>AK</td>\n",
       "      <td>Pacific</td>\n",
       "    </tr>\n",
       "    <tr>\n",
       "      <td>1</td>\n",
       "      <td>AZ</td>\n",
       "      <td>Mountain</td>\n",
       "    </tr>\n",
       "    <tr>\n",
       "      <td>2</td>\n",
       "      <td>AR</td>\n",
       "      <td>South</td>\n",
       "    </tr>\n",
       "    <tr>\n",
       "      <td>3</td>\n",
       "      <td>CA</td>\n",
       "      <td>Pacific</td>\n",
       "    </tr>\n",
       "    <tr>\n",
       "      <td>4</td>\n",
       "      <td>CO</td>\n",
       "      <td>Mountain</td>\n",
       "    </tr>\n",
       "    <tr>\n",
       "      <td>5</td>\n",
       "      <td>DC</td>\n",
       "      <td>Mid_Atlantic</td>\n",
       "    </tr>\n",
       "    <tr>\n",
       "      <td>6</td>\n",
       "      <td>DE</td>\n",
       "      <td>South</td>\n",
       "    </tr>\n",
       "    <tr>\n",
       "      <td>7</td>\n",
       "      <td>FL</td>\n",
       "      <td>South</td>\n",
       "    </tr>\n",
       "    <tr>\n",
       "      <td>8</td>\n",
       "      <td>GA</td>\n",
       "      <td>South</td>\n",
       "    </tr>\n",
       "    <tr>\n",
       "      <td>9</td>\n",
       "      <td>HI</td>\n",
       "      <td>Pacific</td>\n",
       "    </tr>\n",
       "    <tr>\n",
       "      <td>10</td>\n",
       "      <td>ID</td>\n",
       "      <td>Mountain</td>\n",
       "    </tr>\n",
       "    <tr>\n",
       "      <td>11</td>\n",
       "      <td>IL</td>\n",
       "      <td>Midwest</td>\n",
       "    </tr>\n",
       "    <tr>\n",
       "      <td>12</td>\n",
       "      <td>IN</td>\n",
       "      <td>Midwest</td>\n",
       "    </tr>\n",
       "    <tr>\n",
       "      <td>13</td>\n",
       "      <td>IA</td>\n",
       "      <td>Midwest</td>\n",
       "    </tr>\n",
       "    <tr>\n",
       "      <td>14</td>\n",
       "      <td>KS</td>\n",
       "      <td>Midwest</td>\n",
       "    </tr>\n",
       "    <tr>\n",
       "      <td>15</td>\n",
       "      <td>KY</td>\n",
       "      <td>South</td>\n",
       "    </tr>\n",
       "    <tr>\n",
       "      <td>16</td>\n",
       "      <td>LA</td>\n",
       "      <td>South</td>\n",
       "    </tr>\n",
       "    <tr>\n",
       "      <td>17</td>\n",
       "      <td>MD</td>\n",
       "      <td>South</td>\n",
       "    </tr>\n",
       "    <tr>\n",
       "      <td>18</td>\n",
       "      <td>MN</td>\n",
       "      <td>Midwest</td>\n",
       "    </tr>\n",
       "    <tr>\n",
       "      <td>19</td>\n",
       "      <td>MS</td>\n",
       "      <td>South</td>\n",
       "    </tr>\n",
       "    <tr>\n",
       "      <td>20</td>\n",
       "      <td>MO</td>\n",
       "      <td>Midwest</td>\n",
       "    </tr>\n",
       "    <tr>\n",
       "      <td>21</td>\n",
       "      <td>MT</td>\n",
       "      <td>Mountain</td>\n",
       "    </tr>\n",
       "    <tr>\n",
       "      <td>22</td>\n",
       "      <td>NE</td>\n",
       "      <td>Midwest</td>\n",
       "    </tr>\n",
       "    <tr>\n",
       "      <td>23</td>\n",
       "      <td>NV</td>\n",
       "      <td>Mountain</td>\n",
       "    </tr>\n",
       "    <tr>\n",
       "      <td>24</td>\n",
       "      <td>NH</td>\n",
       "      <td>New England</td>\n",
       "    </tr>\n",
       "    <tr>\n",
       "      <td>25</td>\n",
       "      <td>NJ</td>\n",
       "      <td>Mid_Atlantic</td>\n",
       "    </tr>\n",
       "    <tr>\n",
       "      <td>26</td>\n",
       "      <td>NM</td>\n",
       "      <td>Mountain</td>\n",
       "    </tr>\n",
       "    <tr>\n",
       "      <td>27</td>\n",
       "      <td>NY</td>\n",
       "      <td>Mid_Atlantic</td>\n",
       "    </tr>\n",
       "    <tr>\n",
       "      <td>28</td>\n",
       "      <td>NC</td>\n",
       "      <td>South</td>\n",
       "    </tr>\n",
       "    <tr>\n",
       "      <td>29</td>\n",
       "      <td>ND</td>\n",
       "      <td>Midwest</td>\n",
       "    </tr>\n",
       "    <tr>\n",
       "      <td>30</td>\n",
       "      <td>OH</td>\n",
       "      <td>Midwest</td>\n",
       "    </tr>\n",
       "    <tr>\n",
       "      <td>31</td>\n",
       "      <td>OK</td>\n",
       "      <td>South</td>\n",
       "    </tr>\n",
       "    <tr>\n",
       "      <td>32</td>\n",
       "      <td>OR</td>\n",
       "      <td>Pacific</td>\n",
       "    </tr>\n",
       "    <tr>\n",
       "      <td>33</td>\n",
       "      <td>PA</td>\n",
       "      <td>Mid_Atlantic</td>\n",
       "    </tr>\n",
       "    <tr>\n",
       "      <td>34</td>\n",
       "      <td>SC</td>\n",
       "      <td>South</td>\n",
       "    </tr>\n",
       "    <tr>\n",
       "      <td>35</td>\n",
       "      <td>SD</td>\n",
       "      <td>Midwest</td>\n",
       "    </tr>\n",
       "    <tr>\n",
       "      <td>36</td>\n",
       "      <td>TN</td>\n",
       "      <td>South</td>\n",
       "    </tr>\n",
       "    <tr>\n",
       "      <td>37</td>\n",
       "      <td>TX</td>\n",
       "      <td>South</td>\n",
       "    </tr>\n",
       "    <tr>\n",
       "      <td>38</td>\n",
       "      <td>UT</td>\n",
       "      <td>Mountain</td>\n",
       "    </tr>\n",
       "    <tr>\n",
       "      <td>39</td>\n",
       "      <td>VA</td>\n",
       "      <td>South</td>\n",
       "    </tr>\n",
       "    <tr>\n",
       "      <td>40</td>\n",
       "      <td>WA</td>\n",
       "      <td>Pacific</td>\n",
       "    </tr>\n",
       "    <tr>\n",
       "      <td>41</td>\n",
       "      <td>WV</td>\n",
       "      <td>South</td>\n",
       "    </tr>\n",
       "    <tr>\n",
       "      <td>42</td>\n",
       "      <td>WI</td>\n",
       "      <td>Midwest</td>\n",
       "    </tr>\n",
       "    <tr>\n",
       "      <td>43</td>\n",
       "      <td>WY</td>\n",
       "      <td>Mountain</td>\n",
       "    </tr>\n",
       "    <tr>\n",
       "      <td>44</td>\n",
       "      <td>RI</td>\n",
       "      <td>Midwest</td>\n",
       "    </tr>\n",
       "    <tr>\n",
       "      <td>45</td>\n",
       "      <td>CT</td>\n",
       "      <td>New England</td>\n",
       "    </tr>\n",
       "    <tr>\n",
       "      <td>46</td>\n",
       "      <td>ME</td>\n",
       "      <td>New England</td>\n",
       "    </tr>\n",
       "    <tr>\n",
       "      <td>47</td>\n",
       "      <td>MA</td>\n",
       "      <td>New England</td>\n",
       "    </tr>\n",
       "    <tr>\n",
       "      <td>48</td>\n",
       "      <td>VT</td>\n",
       "      <td>New England</td>\n",
       "    </tr>\n",
       "  </tbody>\n",
       "</table>\n",
       "</div>"
      ],
      "text/plain": [
       "   state        region\n",
       "0     AK       Pacific\n",
       "1     AZ      Mountain\n",
       "2     AR         South\n",
       "3     CA       Pacific\n",
       "4     CO      Mountain\n",
       "5     DC  Mid_Atlantic\n",
       "6     DE         South\n",
       "7     FL         South\n",
       "8     GA         South\n",
       "9     HI       Pacific\n",
       "10    ID      Mountain\n",
       "11    IL       Midwest\n",
       "12    IN       Midwest\n",
       "13    IA       Midwest\n",
       "14    KS       Midwest\n",
       "15    KY         South\n",
       "16    LA         South\n",
       "17    MD         South\n",
       "18    MN       Midwest\n",
       "19    MS         South\n",
       "20    MO       Midwest\n",
       "21    MT      Mountain\n",
       "22    NE       Midwest\n",
       "23    NV      Mountain\n",
       "24    NH   New England\n",
       "25    NJ  Mid_Atlantic\n",
       "26    NM      Mountain\n",
       "27    NY  Mid_Atlantic\n",
       "28    NC         South\n",
       "29    ND       Midwest\n",
       "30    OH       Midwest\n",
       "31    OK         South\n",
       "32    OR       Pacific\n",
       "33    PA  Mid_Atlantic\n",
       "34    SC         South\n",
       "35    SD       Midwest\n",
       "36    TN         South\n",
       "37    TX         South\n",
       "38    UT      Mountain\n",
       "39    VA         South\n",
       "40    WA       Pacific\n",
       "41    WV         South\n",
       "42    WI       Midwest\n",
       "43    WY      Mountain\n",
       "44    RI       Midwest\n",
       "45    CT   New England\n",
       "46    ME   New England\n",
       "47    MA   New England\n",
       "48    VT   New England"
      ]
     },
     "execution_count": 5,
     "metadata": {},
     "output_type": "execute_result"
    }
   ],
   "source": [
    "# This is how pandas interacts with sql (After connecting from the code above)\n",
    "\n",
    "query = \"SELECT * FROM region;\" \n",
    "\n",
    "pd_sql.read_sql(query, connection)"
   ]
  },
  {
   "cell_type": "markdown",
   "metadata": {},
   "source": [
    "This is pretty cool! We even get the column names to match! Notice that we have some problems with the states. For example, there are not enough of them AND `RI` is still in the `Midwest`! We will come back and fix these errors when we look at the cursor methods later.\n",
    "\n",
    "For right now, let's look at a slightly more advanced SQL query. We checked in `psql` that the number of Damien's had been dropping off a couple of years ago. Let's make a line plot of\n",
    "* Year (x axis)\n",
    "* Total number of people named Alice (y axis)"
   ]
  },
  {
   "cell_type": "code",
   "execution_count": 6,
   "metadata": {},
   "outputs": [],
   "source": [
    "query_damien = \"\"\"\n",
    "    SELECT year, sum(freq) as num_damien\n",
    "        FROM name_freq\n",
    "        WHERE name='Damien'\n",
    "        GROUP BY name, year  -- summing up all the damiens in that year\n",
    "        ORDER BY year\n",
    "\"\"\"\n",
    "\n",
    "# Everything not in the aggregation function should go into the groupby statement\n",
    "# copy paste everything you put in the SELECT statement in the Group By, then remove the column in the aggregation function\n",
    "\n",
    "damien_df = pd_sql.read_sql(query_damien, connection)"
   ]
  },
  {
   "cell_type": "markdown",
   "metadata": {},
   "source": [
    "### Pro Tip:\n",
    "* **Everything not in the aggregation function should go into the groupby statement** \n",
    "* copy paste everything you put in the SELECT statement in the Group By, then remove the column in the aggregation function"
   ]
  },
  {
   "cell_type": "code",
   "execution_count": 7,
   "metadata": {},
   "outputs": [
    {
     "data": {
      "text/html": [
       "<div>\n",
       "<style scoped>\n",
       "    .dataframe tbody tr th:only-of-type {\n",
       "        vertical-align: middle;\n",
       "    }\n",
       "\n",
       "    .dataframe tbody tr th {\n",
       "        vertical-align: top;\n",
       "    }\n",
       "\n",
       "    .dataframe thead th {\n",
       "        text-align: right;\n",
       "    }\n",
       "</style>\n",
       "<table border=\"1\" class=\"dataframe\">\n",
       "  <thead>\n",
       "    <tr style=\"text-align: right;\">\n",
       "      <th></th>\n",
       "      <th>year</th>\n",
       "      <th>num_damien</th>\n",
       "    </tr>\n",
       "  </thead>\n",
       "  <tbody>\n",
       "    <tr>\n",
       "      <td>0</td>\n",
       "      <td>1952</td>\n",
       "      <td>5</td>\n",
       "    </tr>\n",
       "    <tr>\n",
       "      <td>1</td>\n",
       "      <td>1957</td>\n",
       "      <td>5</td>\n",
       "    </tr>\n",
       "    <tr>\n",
       "      <td>2</td>\n",
       "      <td>1958</td>\n",
       "      <td>17</td>\n",
       "    </tr>\n",
       "    <tr>\n",
       "      <td>3</td>\n",
       "      <td>1959</td>\n",
       "      <td>13</td>\n",
       "    </tr>\n",
       "    <tr>\n",
       "      <td>4</td>\n",
       "      <td>1960</td>\n",
       "      <td>22</td>\n",
       "    </tr>\n",
       "  </tbody>\n",
       "</table>\n",
       "</div>"
      ],
      "text/plain": [
       "   year  num_damien\n",
       "0  1952           5\n",
       "1  1957           5\n",
       "2  1958          17\n",
       "3  1959          13\n",
       "4  1960          22"
      ]
     },
     "execution_count": 7,
     "metadata": {},
     "output_type": "execute_result"
    }
   ],
   "source": [
    "damien_df.head()"
   ]
  },
  {
   "cell_type": "code",
   "execution_count": 8,
   "metadata": {},
   "outputs": [
    {
     "data": {
      "image/png": "[encoded data removed]",
      "text/plain": [
       "<Figure size 1152x720 with 1 Axes>"
      ]
     },
     "metadata": {},
     "output_type": "display_data"
    }
   ],
   "source": [
    "damien_df.plot(x='year', y='num_damien', figsize=(16, 10))\n",
    "#\n",
    "# Can also do\n",
    "# plt.plot(damien_df['year'], damien_df['num_alice'], 'r-')\n",
    "plt.title(\"Number of Damien's born in the US per year\");"
   ]
  },
  {
   "cell_type": "markdown",
   "metadata": {},
   "source": [
    "## Using the cursor method\n",
    "\n",
    "The pandas method above is cool, as it allows you to pull data down from PostgreSQL directly into a dataframe. It pulls everything at once, which is convinient if you have small datasets.  \n",
    "If your datasets are large (i.e. 100s MB to TB), you probably want to **batch** your data requests.  \n",
    "  \n",
    "  \n",
    "       \n",
    "  \n",
    "**Note**: This cell will almost certainly become dated. Students in the 2022 cohort will think \"100MB is large? How quaint.\" C'est la vie.\n",
    "\n",
    "Here is a **mental model** of a cursor. We are trying to execute\n",
    "```sql\n",
    "SELECT * FROM regions;\n",
    "```\n",
    "with a cursor. The cursor `executes` and finds the index of the \"first\" row:\n",
    "```\n",
    "Database                Where the cursor is\n",
    ".... record 0 ..... <--- cursor (i.e. cursor remembers 0)\n",
    ".... record 1 .....\n",
    ".... record 2 .....\n",
    ".... ........ .....\n",
    ".... record N .....\n",
    "```\n",
    "We can tell the cursor to `fetch` a record. It will **return the record it is pointing at** (in this case, record 0), and move to the next one.\n",
    "```\n",
    "After a call to cursor.fetch()\n",
    "\n",
    "Database                Where the cursor is\n",
    ".... record 0 ..... \n",
    ".... record 1 ..... <--- cursor (i.e. cursor remembers 1) \n",
    ".... record 2 .....\n",
    ".... ........ .....\n",
    ".... record N .....\n",
    "\n",
    "Cursor has returned record 0\n",
    "```\n",
    "We can keep calling fetch until the cursor tells us there are no more records.\n",
    "\n",
    "**Mental model:**\n",
    "A cursor (for a select) acts like a \"bookmark\" in your table."
   ]
  },
  {
   "cell_type": "code",
   "execution_count": 9,
   "metadata": {},
   "outputs": [],
   "source": [
    "# make a cursor\n",
    "cursor = connection.cursor()\n",
    "\n",
    "# make a query (sets the cursor pointing at the first record) (record 0)\n",
    "cursor.execute(\"SELECT * FROM region;\")"
   ]
  },
  {
   "cell_type": "code",
   "execution_count": 10,
   "metadata": {},
   "outputs": [
    {
     "data": {
      "text/plain": [
       "('AK', 'Pacific')"
      ]
     },
     "execution_count": 10,
     "metadata": {},
     "output_type": "execute_result"
    }
   ],
   "source": [
    "# Nothing has been returned yet. Let's fetch a result\n",
    "cursor.fetchone()  # This is going to keep fetching one record at a time  (record 1)"
   ]
  },
  {
   "cell_type": "code",
   "execution_count": 11,
   "metadata": {},
   "outputs": [
    {
     "data": {
      "text/plain": [
       "('AZ', 'Mountain')"
      ]
     },
     "execution_count": 11,
     "metadata": {},
     "output_type": "execute_result"
    }
   ],
   "source": [
    "# Let's grab the next one as well\n",
    "cursor.fetchone()  # this pulls the next record after your previous .fetchone()   (record 2)"
   ]
  },
  {
   "cell_type": "code",
   "execution_count": 12,
   "metadata": {},
   "outputs": [
    {
     "data": {
      "text/plain": [
       "[('AR', 'South'), ('CA', 'Pacific'), ('CO', 'Mountain')]"
      ]
     },
     "execution_count": 12,
     "metadata": {},
     "output_type": "execute_result"
    }
   ],
   "source": [
    "# Ok, now let's get the next 3\n",
    "cursor.fetchmany(3)  # This pulls the next 3 records from where the cursor left off. In this case, (record 2 -> record(2+3))"
   ]
  },
  {
   "cell_type": "code",
   "execution_count": 13,
   "metadata": {},
   "outputs": [
    {
     "data": {
      "text/plain": [
       "[('DC', 'Mid_Atlantic'),\n",
       " ('DE', 'South'),\n",
       " ('FL', 'South'),\n",
       " ('GA', 'South'),\n",
       " ('HI', 'Pacific'),\n",
       " ('ID', 'Mountain'),\n",
       " ('IL', 'Midwest'),\n",
       " ('IN', 'Midwest'),\n",
       " ('IA', 'Midwest'),\n",
       " ('KS', 'Midwest'),\n",
       " ('KY', 'South'),\n",
       " ('LA', 'South'),\n",
       " ('MD', 'South'),\n",
       " ('MN', 'Midwest'),\n",
       " ('MS', 'South'),\n",
       " ('MO', 'Midwest'),\n",
       " ('MT', 'Mountain'),\n",
       " ('NE', 'Midwest'),\n",
       " ('NV', 'Mountain'),\n",
       " ('NH', 'New England'),\n",
       " ('NJ', 'Mid_Atlantic'),\n",
       " ('NM', 'Mountain'),\n",
       " ('NY', 'Mid_Atlantic'),\n",
       " ('NC', 'South'),\n",
       " ('ND', 'Midwest'),\n",
       " ('OH', 'Midwest'),\n",
       " ('OK', 'South'),\n",
       " ('OR', 'Pacific'),\n",
       " ('PA', 'Mid_Atlantic'),\n",
       " ('SC', 'South'),\n",
       " ('SD', 'Midwest'),\n",
       " ('TN', 'South'),\n",
       " ('TX', 'South'),\n",
       " ('UT', 'Mountain'),\n",
       " ('VA', 'South'),\n",
       " ('WA', 'Pacific'),\n",
       " ('WV', 'South'),\n",
       " ('WI', 'Midwest'),\n",
       " ('WY', 'Mountain'),\n",
       " ('RI', 'Midwest'),\n",
       " ('CT', 'New England'),\n",
       " ('ME', 'New England'),\n",
       " ('MA', 'New England'),\n",
       " ('VT', 'New England')]"
      ]
     },
     "execution_count": 13,
     "metadata": {},
     "output_type": "execute_result"
    }
   ],
   "source": [
    "# .... and the rest of them\n",
    "cursor.fetchall()  # And this will fetch all the records from where the cursor is at"
   ]
  },
  {
   "cell_type": "markdown",
   "metadata": {},
   "source": [
    "We can use a loop to iterate through all the results"
   ]
  },
  {
   "cell_type": "code",
   "execution_count": 15,
   "metadata": {},
   "outputs": [],
   "source": [
    "cursor.fetchone()  # This fetches nothing because we are already at the last position (from the last command .fetchall())\n",
    "# Therefore, this fetches nothing because there is nothing else after the last entry"
   ]
  },
  {
   "cell_type": "code",
   "execution_count": 16,
   "metadata": {},
   "outputs": [
    {
     "data": {
      "text/plain": [
       "[]"
      ]
     },
     "execution_count": 16,
     "metadata": {},
     "output_type": "execute_result"
    }
   ],
   "source": [
    "cursor.fetchmany(3)  # Another example with .fetchmany(n)"
   ]
  },
  {
   "cell_type": "code",
   "execution_count": 18,
   "metadata": {},
   "outputs": [
    {
     "name": "stdout",
     "output_type": "stream",
     "text": [
      "State IL is in the best region in the US\n",
      "State IN is in the best region in the US\n",
      "State IA is in the best region in the US\n",
      "State KS is in the best region in the US\n",
      "State MN is in the best region in the US\n",
      "State MO is in the best region in the US\n",
      "State NE is in the best region in the US\n",
      "State ND is in the best region in the US\n",
      "State OH is in the best region in the US\n",
      "State SD is in the best region in the US\n",
      "State WI is in the best region in the US\n",
      "State RI is in the best region in the US\n"
     ]
    }
   ],
   "source": [
    "query_midwest = \"\"\"\n",
    "SELECT * FROM region WHERE region='Midwest'\n",
    "\"\"\"\n",
    "\n",
    "# Reuse our cursor to point at the first result.\n",
    "\n",
    "cursor.execute(query_midwest)   # Everytime you call .execute(), cursor starts from record 0 again.\n",
    " \n",
    "    \n",
    "# cursor = connection.cursor()  This is what cursor is    \n",
    "\n",
    "# Each iteration will call 'fetchone' on the cursor\n",
    "for result in cursor:\n",
    "    message = \"State {} is in the best region in the US\".format(result[0])\n",
    "    print(message)"
   ]
  },
  {
   "cell_type": "markdown",
   "metadata": {},
   "source": [
    "Hey, wait a second ..... what is Rhode Island doing in there? Yesterday we moved RI to the Midwest. Let's fix that using an UPDATE.\n"
   ]
  },
  {
   "cell_type": "code",
   "execution_count": 19,
   "metadata": {},
   "outputs": [],
   "source": [
    "query_fix_RI = \"\"\"\n",
    "UPDATE region SET region='New_England' WHERE state='RI'\n",
    "\"\"\"\n",
    "\n",
    "cursor.execute(query_fix_RI)   # Update does not do an inplace. It only stages the result (stores it somewhere).\n",
    "# Your CURSOR is updated. Not your actual table"
   ]
  },
  {
   "cell_type": "code",
   "execution_count": 20,
   "metadata": {},
   "outputs": [
    {
     "name": "stdout",
     "output_type": "stream",
     "text": [
      "State IL is in the best region in the US\n",
      "State IN is in the best region in the US\n",
      "State IA is in the best region in the US\n",
      "State KS is in the best region in the US\n",
      "State MN is in the best region in the US\n",
      "State MO is in the best region in the US\n",
      "State NE is in the best region in the US\n",
      "State ND is in the best region in the US\n",
      "State OH is in the best region in the US\n",
      "State SD is in the best region in the US\n",
      "State WI is in the best region in the US\n"
     ]
    }
   ],
   "source": [
    "#  Let's check the result\n",
    "cursor.execute(query_midwest)\n",
    "\n",
    "for result in cursor:\n",
    "    message = \"State {} is in the best region in the US\".format(result[0])  # Your CURSOR is updated. Not your actual table\n",
    "    print(message)"
   ]
  },
  {
   "cell_type": "markdown",
   "metadata": {},
   "source": [
    "Yay! We moved Rhode Island back to its correct location!\n",
    "\n",
    "\n",
    "....or did we? Let's jump to `psql` in our AWS terminal. At the terminal, start `psql`:\n",
    "```bash\n",
    "ubuntu@ip-xxx.xxx.xxx.xxx: psql\n",
    "```\n",
    "\n",
    "Then in `psql`, run the following commands\n",
    "```sql\n",
    "postgres=# \\connect names;\n",
    "names=# SELECT * FROM region WHERE state='RI';\n",
    "```\n",
    "The result that I get is \n",
    "\n",
    "| state | region |\n",
    "|---|---|\n",
    "| RI    | Midwest|\n",
    "\n",
    "Let's check in Python again:"
   ]
  },
  {
   "cell_type": "code",
   "execution_count": 22,
   "metadata": {},
   "outputs": [
    {
     "data": {
      "text/plain": [
       "[('RI', 'New_England')]"
      ]
     },
     "execution_count": 22,
     "metadata": {},
     "output_type": "execute_result"
    }
   ],
   "source": [
    "cursor.execute(\"SELECT * FROM region WHERE state='RI'\")\n",
    "cursor.fetchall() # Your CURSOR is updated. Not your actual table. \n",
    "# Therefore, when you run the query = \"SELECT * FROM region WHERE state ='RI'\"\n",
    "# psql returns you the non-updated version (because it simply hasn't been updated yet)"
   ]
  },
  {
   "cell_type": "markdown",
   "metadata": {},
   "source": [
    "Wat!!?!?!?!?!\n",
    "\n",
    "<img width='300px' src='./images/vader_nonsense.jpg'/>"
   ]
  },
  {
   "cell_type": "markdown",
   "metadata": {},
   "source": [
    "## Commits and rollbacks\n",
    "\n",
    "When we execute a command in `psql`, it alters the underlying data immediately. __Most__ of the time, when executing commands from Python, it will make the changes off to the side, and wait for you to __commit__ those changes. If you have decided that you made a mistake, you can decide to __rollback__ those changes.\n",
    "\n",
    "This is similar to `git` - the \"master\" copy on the database only changes when you \"commit\" your change. \n",
    "\n",
    "There are a few things that __will__ be executed immediately without commits:\n",
    "- Making tables\n",
    "- Making views\n",
    "- Dropping tables\n",
    "- Dropping views\n",
    "- Dropping databases\n",
    "You won't be able to rewind from making these changes.\n",
    "\n",
    "Note that if you are doing `SELECT`s, you are not changing the underlying data so you don't care about commiting or not."
   ]
  },
  {
   "cell_type": "code",
   "execution_count": 24,
   "metadata": {},
   "outputs": [],
   "source": [
    "# We are really sure that Rhode Island is in the midwest. Let's commit.\n",
    "\n",
    "cursor.execute('commit;')  \n",
    "# A cursor creates IT'S OWN INTERMEDIATE TABLE. \n",
    "# Whenever you make any changes, it's happening on the cursor.\n",
    "# You need to commit the changes back to the postgres table"
   ]
  },
  {
   "cell_type": "markdown",
   "metadata": {},
   "source": [
    "Now go back to `psql` (on AWS) and see if it changed:\n",
    "```sql\n",
    "names=# SELECT * FROM regions WHERE state='RI';\n",
    "```\n",
    "\n",
    "You should get the following:\n",
    "\n",
    "| state |   region    |\n",
    "|-------|-------------|\n",
    "| RI    | New_England |\n",
    "\n",
    "Success!!"
   ]
  },
  {
   "cell_type": "code",
   "execution_count": null,
   "metadata": {},
   "outputs": [],
   "source": [
    "# BUT A COMMIT IS DANGEROUS!! ONCE YOU COMMIT, CURSOR WILL KEEP EXECUTING COMMIT EVEN WITHOUT YOU CALLING IT"
   ]
  },
  {
   "cell_type": "markdown",
   "metadata": {},
   "source": [
    "# Warning!\n",
    "\n",
    "Once you have committed a cursor, it will keep auto-commiting. This is annoying. \n",
    "\n",
    "After doing a commit, you start a new transaction using a \"BEGIN\" command. Then you can decide to commit or rollback a transaction. "
   ]
  },
  {
   "cell_type": "code",
   "execution_count": 25,
   "metadata": {},
   "outputs": [
    {
     "data": {
      "text/plain": [
       "[('IL', 'South')]"
      ]
     },
     "execution_count": 25,
     "metadata": {},
     "output_type": "execute_result"
    }
   ],
   "source": [
    "# Let's make a mistake, but since we have committed already we should\n",
    "# start a transaction explicitly.\n",
    "cursor.execute('BEGIN;')   # Want to begin a new transaction again. Don't want to auto-commit.\n",
    "\n",
    "\n",
    "# We are just purposely making a mistake here. This statement is not true.\n",
    "il_in_wrong_place = \"\"\"  \n",
    "  UPDATE region SET region='South' WHERE state='IL'\n",
    "\"\"\"\n",
    "\n",
    "\n",
    "# put Illinios in the wrong region\n",
    "cursor.execute(il_in_wrong_place)\n",
    "\n",
    "\n",
    "\n",
    "# check to see what we have done\n",
    "cursor.execute(\"SELECT * FROM region WHERE state='IL'\")\n",
    "cursor.fetchall()"
   ]
  },
  {
   "cell_type": "markdown",
   "metadata": {},
   "source": [
    "**Question**: What will we get when we run\n",
    "```sql\n",
    "SELECT * FROM regions WHERE state='IL';\n",
    "```\n",
    "on PostgreSQL? Try it!"
   ]
  },
  {
   "cell_type": "code",
   "execution_count": 26,
   "metadata": {},
   "outputs": [],
   "source": [
    "cursor.execute('rollback;')   # Rollback to after your last commit"
   ]
  },
  {
   "cell_type": "code",
   "execution_count": 27,
   "metadata": {},
   "outputs": [
    {
     "data": {
      "text/plain": [
       "[('IL', 'Midwest')]"
      ]
     },
     "execution_count": 27,
     "metadata": {},
     "output_type": "execute_result"
    }
   ],
   "source": [
    "# check to see what we have done\n",
    "cursor.execute(\"SELECT * FROM region WHERE state='IL'\")\n",
    "cursor.fetchall()"
   ]
  },
  {
   "cell_type": "markdown",
   "metadata": {},
   "source": [
    "### Sad cursors\n",
    "\n",
    "Typos happen. It's part of life. If we make a mistake in `psql`, then PostgreSQL yells at us, but we can try again and get on with our lives. PostgreSQL cursors freak out, and we have to explicit roll them back."
   ]
  },
  {
   "cell_type": "code",
   "execution_count": null,
   "metadata": {},
   "outputs": [],
   "source": [
    "# When you make an incorrect query, it expects you do to do a rollback first then do a correct query\n",
    "# This is called a sad query"
   ]
  },
  {
   "cell_type": "code",
   "execution_count": 28,
   "metadata": {},
   "outputs": [
    {
     "ename": "UndefinedTable",
     "evalue": "relation \"name_typo_freq\" does not exist\nLINE 2: SELECT * FROM name_typo_freq WHERE name='Alice' AND state='I...\n                      ^\n",
     "output_type": "error",
     "traceback": [
      "\u001b[1;31m---------------------------------------------------------------------------\u001b[0m",
      "\u001b[1;31mUndefinedTable\u001b[0m                            Traceback (most recent call last)",
      "\u001b[1;32m<ipython-input-28-71e5a222b923>\u001b[0m in \u001b[0;36m<module>\u001b[1;34m\u001b[0m\n\u001b[0;32m     10\u001b[0m \u001b[1;33m\u001b[0m\u001b[0m\n\u001b[0;32m     11\u001b[0m \u001b[1;31m# Let's run the bad query:\u001b[0m\u001b[1;33m\u001b[0m\u001b[1;33m\u001b[0m\u001b[1;33m\u001b[0m\u001b[0m\n\u001b[1;32m---> 12\u001b[1;33m \u001b[0mcursor\u001b[0m\u001b[1;33m.\u001b[0m\u001b[0mexecute\u001b[0m\u001b[1;33m(\u001b[0m\u001b[0mquery_error\u001b[0m\u001b[1;33m)\u001b[0m\u001b[1;33m\u001b[0m\u001b[1;33m\u001b[0m\u001b[0m\n\u001b[0m",
      "\u001b[1;31mUndefinedTable\u001b[0m: relation \"name_typo_freq\" does not exist\nLINE 2: SELECT * FROM name_typo_freq WHERE name='Alice' AND state='I...\n                      ^\n"
     ]
    }
   ],
   "source": [
    "cursor.execute('BEGIN;')\n",
    "\n",
    "query_error = \"\"\"\n",
    "SELECT * FROM name_typo_freq WHERE name='Alice' AND state='IL';\n",
    "\"\"\"\n",
    "\n",
    "query_correct = \"\"\"\n",
    "SELECT * FROM name_freq WHERE name='Alice' AND state='IL';\n",
    "\"\"\"\n",
    "\n",
    "# Let's run the bad query:\n",
    "cursor.execute(query_error)"
   ]
  },
  {
   "cell_type": "markdown",
   "metadata": {},
   "source": [
    "### The correct query doesn't execute after running a bad query!"
   ]
  },
  {
   "cell_type": "code",
   "execution_count": 29,
   "metadata": {},
   "outputs": [
    {
     "ename": "InFailedSqlTransaction",
     "evalue": "current transaction is aborted, commands ignored until end of transaction block\n",
     "output_type": "error",
     "traceback": [
      "\u001b[1;31m---------------------------------------------------------------------------\u001b[0m",
      "\u001b[1;31mInFailedSqlTransaction\u001b[0m                    Traceback (most recent call last)",
      "\u001b[1;32m<ipython-input-29-c433f703f9f9>\u001b[0m in \u001b[0;36m<module>\u001b[1;34m\u001b[0m\n\u001b[0;32m      1\u001b[0m \u001b[1;31m# Ok, it correctly figured out my table is wrong. No problem!\u001b[0m\u001b[1;33m\u001b[0m\u001b[1;33m\u001b[0m\u001b[1;33m\u001b[0m\u001b[0m\n\u001b[0;32m      2\u001b[0m \u001b[1;31m# We know what the correct query is, so let's execute that instead\u001b[0m\u001b[1;33m\u001b[0m\u001b[1;33m\u001b[0m\u001b[1;33m\u001b[0m\u001b[0m\n\u001b[1;32m----> 3\u001b[1;33m \u001b[0mcursor\u001b[0m\u001b[1;33m.\u001b[0m\u001b[0mexecute\u001b[0m\u001b[1;33m(\u001b[0m\u001b[0mquery_correct\u001b[0m\u001b[1;33m)\u001b[0m\u001b[1;33m\u001b[0m\u001b[1;33m\u001b[0m\u001b[0m\n\u001b[0m",
      "\u001b[1;31mInFailedSqlTransaction\u001b[0m: current transaction is aborted, commands ignored until end of transaction block\n"
     ]
    }
   ],
   "source": [
    "# Ok, it correctly figured out my table is wrong. No problem!\n",
    "# We know what the correct query is, so let's execute that instead\n",
    "cursor.execute(query_correct)"
   ]
  },
  {
   "cell_type": "code",
   "execution_count": 30,
   "metadata": {},
   "outputs": [],
   "source": [
    "# We have a sad cursor! We need to fix it with a rollback:\n",
    "# check to see what we have done\n",
    "cursor.execute(\"rollback;\")"
   ]
  },
  {
   "cell_type": "code",
   "execution_count": 31,
   "metadata": {},
   "outputs": [],
   "source": [
    "cursor.execute(query_correct)\n",
    "# query_correct = \"\"\"\n",
    "# SELECT * FROM name_freq WHERE name='Alice' AND state='IL';\n",
    "# \"\"\""
   ]
  },
  {
   "cell_type": "code",
   "execution_count": 32,
   "metadata": {},
   "outputs": [
    {
     "data": {
      "text/plain": [
       "[('IL', 'F', 1953, 'Alice', 251),\n",
       " ('IL', 'F', 1952, 'Alice', 272),\n",
       " ('IL', 'F', 1951, 'Alice', 279),\n",
       " ('IL', 'F', 1955, 'Alice', 213),\n",
       " ('IL', 'F', 1954, 'Alice', 231)]"
      ]
     },
     "execution_count": 32,
     "metadata": {},
     "output_type": "execute_result"
    }
   ],
   "source": [
    "# Success! Let's look at the top 5 results\n",
    "cursor.fetchmany(5)"
   ]
  },
  {
   "cell_type": "markdown",
   "metadata": {},
   "source": [
    "## SQL practice\n",
    "\n",
    "\n",
    "We still have the SQL exercises from last time to work through. \n",
    "\n",
    "1. Gentle start with SELECTs:\n",
    "  Find the total number of children born in the US between 2000 and 2010. i.e you should have one number.\n",
    "2. Find the number of children born in the US between 2000 and 2010, broken down by region. i.e. you should have 6 numbers.\n",
    "3. Find the number of children born for each year between 2000 and 2010, in each region (i.e. you should have 60 numbers returned). Put these in a dataframe. We can try and plot them (a line graph like the Alice's, but one line per region).\n",
    "4. Okay, let's clean up the data in a way that doesn't use a SELECT. We have a missing state! Find which state is missing.\n",
    "  Hint #1: You can use 'SELECT DISTINCT(state) FROM name_freq' to get a list of all 50 states + DC.\n",
    "  Hint #2: You should take regions and JOIN the list above on state. You should chose a LEFT or RIGHT JOIN so you keep the nulls\n",
    "  Hint #3: In SQL, trying `variable=null` doesn't work (null is not equal to itself, to help us not match missing data to other missing data). When looking for null values, use `WHERE variable IS null` instead."
   ]
  },
  {
   "cell_type": "markdown",
   "metadata": {},
   "source": [
    "Find the total number of children born in the US between 2000 and 2010 (You should have one number)"
   ]
  },
  {
   "cell_type": "code",
   "execution_count": 36,
   "metadata": {},
   "outputs": [
    {
     "data": {
      "text/plain": [
       "[(29760359,)]"
      ]
     },
     "execution_count": 36,
     "metadata": {},
     "output_type": "execute_result"
    }
   ],
   "source": [
    "query_1 = \"\"\"\n",
    "SELECT SUM(freq) AS total_number_of_Children_born_2000_to_2010 \n",
    "FROM name_freq\n",
    "WHERE \n",
    "    year > 2000 \n",
    "    AND year < 2010\n",
    "\"\"\"\n",
    "cursor.execute(query_1)\n",
    "cursor.fetchall()"
   ]
  },
  {
   "cell_type": "markdown",
   "metadata": {},
   "source": [
    "Find the number of children born in the US between 2000 and 2010, broken down by region (you should have 6 numbers)"
   ]
  },
  {
   "cell_type": "code",
   "execution_count": 37,
   "metadata": {},
   "outputs": [
    {
     "data": {
      "text/plain": [
       "[('Mid_Atlantic', 3788345),\n",
       " ('Midwest', 5428522),\n",
       " ('Mountain', 2177567),\n",
       " ('New England', 1050322),\n",
       " ('New_England', 76556),\n",
       " ('Pacific', 5348074),\n",
       " ('South', 10580302),\n",
       " (None, 1310671)]"
      ]
     },
     "execution_count": 37,
     "metadata": {},
     "output_type": "execute_result"
    }
   ],
   "source": [
    "query_2 = \"\"\"\n",
    "SELECT region, SUM(freq) AS total_no_children_born_2000_to_2010_by_region \n",
    "FROM name_freq_region \n",
    "WHERE \n",
    "    year > 2000 \n",
    "    AND year < 2010 \n",
    "GROUP BY \n",
    "    region;\n",
    "\"\"\"\n",
    "\n",
    "cursor.execute(query_2)\n",
    "cursor.fetchall()"
   ]
  },
  {
   "cell_type": "markdown",
   "metadata": {},
   "source": [
    "Find the # of children born for EACH YEAR between 2000 and 2010, in each region (i.e. you should have 60 numbers returned). Put these in a dataframe. We can try and plot them (a line graph like the Damien's, but one line per region)."
   ]
  },
  {
   "cell_type": "code",
   "execution_count": 38,
   "metadata": {},
   "outputs": [],
   "source": [
    "query_3 = \"\"\"\n",
    "SELECT year, region, sum(freq) AS no_children_born_between_2000_and_2010 \n",
    "FROM name_freq_region \n",
    "WHERE \n",
    "    year > 2000 AND year < 2010 \n",
    "GROUP BY \n",
    "    year, region \n",
    "ORDER BY \n",
    "    year, region;\n",
    "\"\"\"\n",
    "\n",
    "# Using dataframe method (pd.read_sql)\n",
    "# damien_df = pd_sql.read_sql(query_damien, connection)\n",
    "\n",
    "df_children_born_2010_2000_year_region = pd_sql.read_sql(query_3, connection)"
   ]
  },
  {
   "cell_type": "code",
   "execution_count": 39,
   "metadata": {},
   "outputs": [
    {
     "data": {
      "text/html": [
       "<div>\n",
       "<style scoped>\n",
       "    .dataframe tbody tr th:only-of-type {\n",
       "        vertical-align: middle;\n",
       "    }\n",
       "\n",
       "    .dataframe tbody tr th {\n",
       "        vertical-align: top;\n",
       "    }\n",
       "\n",
       "    .dataframe thead th {\n",
       "        text-align: right;\n",
       "    }\n",
       "</style>\n",
       "<table border=\"1\" class=\"dataframe\">\n",
       "  <thead>\n",
       "    <tr style=\"text-align: right;\">\n",
       "      <th></th>\n",
       "      <th>year</th>\n",
       "      <th>region</th>\n",
       "      <th>no_children_born_between_2000_and_2010</th>\n",
       "    </tr>\n",
       "  </thead>\n",
       "  <tbody>\n",
       "    <tr>\n",
       "      <td>0</td>\n",
       "      <td>2001</td>\n",
       "      <td>Mid_Atlantic</td>\n",
       "      <td>427198</td>\n",
       "    </tr>\n",
       "    <tr>\n",
       "      <td>1</td>\n",
       "      <td>2001</td>\n",
       "      <td>Midwest</td>\n",
       "      <td>609697</td>\n",
       "    </tr>\n",
       "    <tr>\n",
       "      <td>2</td>\n",
       "      <td>2001</td>\n",
       "      <td>Mountain</td>\n",
       "      <td>226183</td>\n",
       "    </tr>\n",
       "    <tr>\n",
       "      <td>3</td>\n",
       "      <td>2001</td>\n",
       "      <td>New England</td>\n",
       "      <td>124597</td>\n",
       "    </tr>\n",
       "    <tr>\n",
       "      <td>4</td>\n",
       "      <td>2001</td>\n",
       "      <td>New_England</td>\n",
       "      <td>9034</td>\n",
       "    </tr>\n",
       "  </tbody>\n",
       "</table>\n",
       "</div>"
      ],
      "text/plain": [
       "   year        region  no_children_born_between_2000_and_2010\n",
       "0  2001  Mid_Atlantic                                  427198\n",
       "1  2001       Midwest                                  609697\n",
       "2  2001      Mountain                                  226183\n",
       "3  2001   New England                                  124597\n",
       "4  2001   New_England                                    9034"
      ]
     },
     "execution_count": 39,
     "metadata": {},
     "output_type": "execute_result"
    }
   ],
   "source": [
    "df_children_born_2010_2000_year_region.head()"
   ]
  },
  {
   "cell_type": "code",
   "execution_count": 45,
   "metadata": {},
   "outputs": [],
   "source": [
    "import seaborn as sns\n"
   ]
  },
  {
   "cell_type": "code",
   "execution_count": null,
   "metadata": {},
   "outputs": [],
   "source": [
    "sns.lineplot()"
   ]
  },
  {
   "cell_type": "code",
   "execution_count": 54,
   "metadata": {},
   "outputs": [
    {
     "name": "stderr",
     "output_type": "stream",
     "text": [
      "No handles with labels found to put in legend.\n"
     ]
    },
    {
     "data": {
      "text/plain": [
       "Text(0, 0.5, 'Number of Children')"
      ]
     },
     "execution_count": 54,
     "metadata": {},
     "output_type": "execute_result"
    },
    {
     "data": {
      "image/png": "[encoded data removed]",
      "text/plain": [
       "<Figure size 1080x1080 with 1 Axes>"
      ]
     },
     "metadata": {},
     "output_type": "display_data"
    }
   ],
   "source": [
    "# Plotting the results out in a graph for 1 line per region\n",
    "import seaborn as sns\n",
    "import matplotlib.pyplot as plt\n",
    "\n",
    "fig,ax = plt.subplots(figsize=(15,15))\n",
    "sns.lineplot(x='year', y='no_children_born_between_2000_and_2010', hue = 'region',\n",
    "             data=df_children_born_2010_2000_year_region, ax=ax)\n",
    "ax.legend(loc=0)\n",
    "# Can also do\n",
    "# plt.plot(damien_df['year'], damien_df['num_alice'], 'r-')\n",
    "\n",
    "# import matplotlib as plt\n",
    "# fig, ax = plt.subplots(figsize=(15,15))\n",
    "\n",
    "# for region in df_children_born_2010_2000_year_region['region']:\n",
    "#     ax.plot(df_children_born_2010_2000_year_region[df_children_born_2010_2000_year_region==region]['',\n",
    "#                df[df.name==name].weight,label=name)\n",
    "\n",
    "plt.title(\"Number of Children in the US per year\")\n",
    "plt.xlabel(\"Years\")\n",
    "plt.ylabel(\"Number of Children\")\n",
    "                  "
   ]
  },
  {
   "cell_type": "code",
   "execution_count": null,
   "metadata": {},
   "outputs": [],
   "source": []
  }
 ],
 "metadata": {
  "kernelspec": {
   "display_name": "Python [conda env:metis] *",
   "language": "python",
   "name": "conda-env-metis-py"
  },
  "language_info": {
   "codemirror_mode": {
    "name": "ipython",
    "version": 3
   },
   "file_extension": ".py",
   "mimetype": "text/x-python",
   "name": "python",
   "nbconvert_exporter": "python",
   "pygments_lexer": "ipython3",
   "version": "3.7.3"
  }
 },
 "nbformat": 4,
 "nbformat_minor": 2
}
