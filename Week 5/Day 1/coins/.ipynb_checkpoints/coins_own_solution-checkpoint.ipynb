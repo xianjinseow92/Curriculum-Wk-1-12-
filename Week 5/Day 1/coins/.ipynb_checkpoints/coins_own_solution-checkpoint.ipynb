{
 "cells": [
  {
   "cell_type": "markdown",
   "metadata": {},
   "source": [
    "# Pair Problem\n",
    "\n",
    "This is a classic problem. This particular wording is a variation on the text from [Cracking the Coding Interview](http://www.amazon.com/Cracking-Coding-Interview-Programming-Questions/dp/098478280X) (question 9.8):\n",
    "\n",
    "**For questions 1, 2 and 3, you don't need recursion. For question 4, try to see if you can do it without recursion. Then do question 4 with recursion.**\n",
    "\n",
    "1) Given enough pennies (1 cent) and nickels (5 cents), how many ways can you make change for a given amount of cents? Your function will be def ways(cents).\n",
    "\n",
    "    Example: ways(12) will return 3.\n",
    "    (Because there are three ways: 2 nickels and 2 pennies, 1 nickels and 7 pennies, 12 pennies.)\n",
    "\n",
    "2) Given enough pennies (1 cent), nickels (5 cents) and dimes (10 cents), how many ways can you make change?\n",
    "\n",
    "3) Given enough pennies (1 cent), nickels (5 cents), dimes (10 cents) and quarters (25 cents), how many ways can you make change?\n",
    "\n",
    "4) Given an arbitrary set of coin types, how many ways can you make change? Your function will now look like this:\n",
    "\n",
    "    def ways(cents,coinTypes):\n",
    "\n",
    "  And you will call it this way:\n",
    "\n",
    "    ways(100,[25, 10, 5, 1])\n",
    "    242"
   ]
  },
  {
   "cell_type": "code",
   "execution_count": 24,
   "metadata": {},
   "outputs": [
    {
     "data": {
      "text/plain": [
       "242"
      ]
     },
     "execution_count": 24,
     "metadata": {},
     "output_type": "execute_result"
    }
   ],
   "source": [
    "def ways1(cents, coins=[25, 10, 5, 1]): # quarters, dimes, nickels, pennies\n",
    "    sum = 0\n",
    "    for i in range(cents//coins[0]+1):\n",
    "        for j in range((cents-i*coins[0])//coins[1]+1):\n",
    "            for k in range((cents-i*coins[0]-j*coins[1])//coins[2]+1):\n",
    "                if (cents-i*coins[0]-j*coins[1]-k*coins[2])%coins[3]==0:\n",
    "                    sum+=1\n",
    "    return sum\n",
    "\n",
    "ways1(100)"
   ]
  },
  {
   "cell_type": "code",
   "execution_count": null,
   "metadata": {},
   "outputs": [],
   "source": []
  },
  {
   "cell_type": "code",
   "execution_count": 20,
   "metadata": {},
   "outputs": [
    {
     "data": {
      "text/plain": [
       "4"
      ]
     },
     "execution_count": 20,
     "metadata": {},
     "output_type": "execute_result"
    }
   ],
   "source": [
    "# Question 1 Solution\n",
    "def coins_cents_nickels(cents):\n",
    "    pennies = 1\n",
    "    nickels = 5\n",
    "    ways = int(cents/nickels)\n",
    "    ways = ways + 1\n",
    "    return ways\n",
    "\n",
    "coins_cents_nickels(16)"
   ]
  },
  {
   "cell_type": "code",
   "execution_count": 10,
   "metadata": {},
   "outputs": [],
   "source": [
    "import numpy as np"
   ]
  },
  {
   "cell_type": "code",
   "execution_count": null,
   "metadata": {
    "collapsed": true
   },
   "outputs": [],
   "source": [
    "def coins_cents_nickels_dimes(cents):\n",
    "    penny = 1\n",
    "    nickel = 5\n",
    "    dime = 10\n",
    "    while cents % 5 == 0:\n",
    "        cents -= 1"
   ]
  },
  {
   "cell_type": "code",
   "execution_count": null,
   "metadata": {},
   "outputs": [],
   "source": []
  },
  {
   "cell_type": "code",
   "execution_count": null,
   "metadata": {},
   "outputs": [],
   "source": []
  },
  {
   "cell_type": "code",
   "execution_count": null,
   "metadata": {},
   "outputs": [],
   "source": []
  },
  {
   "cell_type": "code",
   "execution_count": null,
   "metadata": {},
   "outputs": [],
   "source": [
    "def ways(cents, coinTypes):\n",
    "    sorted(int(coinTypes), reverse=True)\n",
    "    quarters = coinTypes[0]\n",
    "    dimes = coinTypes[1]\n",
    "    nickel = coinTypes[2]\n",
    "    cents = coinTypes[3]"
   ]
  }
 ],
 "metadata": {
  "kernelspec": {
   "display_name": "Python [conda env:metis] *",
   "language": "python",
   "name": "conda-env-metis-py"
  },
  "language_info": {
   "codemirror_mode": {
    "name": "ipython",
    "version": 3
   },
   "file_extension": ".py",
   "mimetype": "text/x-python",
   "name": "python",
   "nbconvert_exporter": "python",
   "pygments_lexer": "ipython3",
   "version": "3.7.3"
  }
 },
 "nbformat": 4,
 "nbformat_minor": 2
}
