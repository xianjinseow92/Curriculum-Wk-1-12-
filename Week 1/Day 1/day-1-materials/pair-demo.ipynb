{
 "cells": [
  {
   "cell_type": "code",
   "execution_count": null,
   "metadata": {},
   "outputs": [],
   "source": [
    "from __future__ import print_function, division\n",
    "\n",
    "\"\"\"\n",
    ">>> pairs_for(['Andrea', 'Bob', 'Cassandra', 'Doug'])\n",
    "# [[('Bob', 'Cassandra'), ('Andrea', 'Doug')],\n",
    "#  [('Andrea', 'Bob'), ('Cassandra', 'Doug')],\n",
    "#  [('Andrea', 'Cassandra'), ('Bob', 'Doug')]]\n",
    "\"\"\"\n",
    "\n",
    "\n",
    "def pairs_for(names):\n",
    "    n = len(names)\n",
    "    assert n % 2 == 0\n",
    "    result = []\n",
    "    first = names[:n//2]\n",
    "    second = names[n//2:]\n",
    "    for _ in range(n-1):\n",
    "        second.append(first.pop())\n",
    "        first.insert(1, second.pop(0))\n",
    "        result.append(list(zip(first, second)))\n",
    "    return result\n",
    "\n",
    "print(pairs_for(['Andrea', 'Bob', 'Cassandra', 'Doug']))"
   ]
  },
  {
   "cell_type": "code",
   "execution_count": null,
   "metadata": {},
   "outputs": [],
   "source": [
    "# to output results from a .py file into a cell\n",
    "%run pair_demo.py"
   ]
  },
  {
   "cell_type": "code",
   "execution_count": null,
   "metadata": {},
   "outputs": [],
   "source": [
    "# to load a .py file into a cell\n",
    "#%load pair_demo.py"
   ]
  },
  {
   "cell_type": "markdown",
   "metadata": {},
   "source": [
    "### [More magic tips](https://stackoverflow.com/questions/21034373/how-to-load-edit-run-save-text-files-py-into-an-ipython-notebook-cell)"
   ]
  },
  {
   "cell_type": "code",
   "execution_count": null,
   "metadata": {},
   "outputs": [],
   "source": [
    "%lsmagic"
   ]
  }
 ],
 "metadata": {
  "kernelspec": {
   "display_name": "metis",
   "language": "python",
   "name": "metis"
  },
  "language_info": {
   "codemirror_mode": {
    "name": "ipython",
    "version": 3
   },
   "file_extension": ".py",
   "mimetype": "text/x-python",
   "name": "python",
   "nbconvert_exporter": "python",
   "pygments_lexer": "ipython3",
   "version": "3.5.3"
  }
 },
 "nbformat": 4,
 "nbformat_minor": 2
}
