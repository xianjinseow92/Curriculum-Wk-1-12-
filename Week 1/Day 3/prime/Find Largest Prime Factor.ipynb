{
 "cells": [
  {
   "cell_type": "markdown",
   "metadata": {},
   "source": [
    "#### Pair Problem\n",
    "\n",
    "Another one from Project Euler: [Problem 3](https://projecteuler.net/problem=3):\n",
    "\n",
    "> The prime factors of 13195 are 5, 7, 13 and 29.\n",
    "\n",
    "> What is the largest prime factor of the number 600851475143 ?\n",
    "\n",
    "**Please do not Google. See how best you can solve this problem on your own.**\n",
    "\n",
    "*What's your the complexity? Can you do better?*"
   ]
  },
  {
   "cell_type": "code",
   "execution_count": 16,
   "metadata": {},
   "outputs": [],
   "source": [
    "def prime_number_generator():\n",
    "    n=2\n",
    "    while True:\n",
    "        n += 1\n",
    "        if test_prime(n):\n",
    "            yield n\n",
    "    \n",
    "\n",
    "def test_prime(n):\n",
    "    if n==1:\n",
    "        return False\n",
    "    elif n==2:\n",
    "        return True\n",
    "    else:\n",
    "        for x in range(2,n): # if divisible by anything before the number, eg n= 7, it can't be a prime number.\n",
    "            if n % x == 0:\n",
    "                return False\n",
    "            return True\n",
    "\n",
    "\n",
    "# Will try to divide the main number in increments of prime numbers.\n",
    "# Then continuously divide the remainder until it equates to 1\n",
    "\n",
    "\n",
    "def largest_prime_factor(num):\n",
    "    assert num == int, \"Please enter an integer, mate.\"\n",
    "    # Creates the first prime number, 2\n",
    "    prime_num_gen = prime_number_generator()\n",
    "    prime_num = next(prime_num_gen)\n",
    "    \n",
    "    # Creates a list to draw maximum prime number from\n",
    "    prime_num_list = []\n",
    "    prime_num_list.append(prime_num)\n",
    "    \n",
    "    while remainder == 1:\n",
    "        max_prime_num = prime_num_list.max()\n",
    "        print(max_prime_num)\n",
    "        if num % prime_num == 0:\n",
    "            prime_num = next(prime_num_gen)\n",
    "            \n",
    "            num = num / prime_num\n",
    "        elif \n",
    "    return num"
   ]
  },
  {
   "cell_type": "code",
   "execution_count": 20,
   "metadata": {},
   "outputs": [
    {
     "name": "stdout",
     "output_type": "stream",
     "text": [
      "2\n"
     ]
    }
   ],
   "source": [
    "prime_num_gen = prime_number_generator()\n",
    "prime_num = next(prime_num_gen)\n",
    "print(prime_num)"
   ]
  },
  {
   "cell_type": "code",
   "execution_count": null,
   "metadata": {},
   "outputs": [],
   "source": [
    "[].max()"
   ]
  },
  {
   "cell_type": "code",
   "execution_count": 21,
   "metadata": {},
   "outputs": [],
   "source": [
    "## Solution 1\n",
    "\n",
    "def isPrime(n):\n",
    "    for i in range(2,n): # checking every number smaller than n\n",
    "        if n%i==0:\n",
    "            return False\n",
    "    return True\n",
    "\n",
    "def largestPrimeFactor(n):\n",
    "    for i in range (n,1,-1): # going in reverse. makes the checking process very efficient\n",
    "        if n % i == 0:  # checks if n is divisible by i. (i starts from the max value in the range)\n",
    "            if isPrime(i):  # we use the function to check for prime\n",
    "                return i\n",
    "        "
   ]
  },
  {
   "cell_type": "markdown",
   "metadata": {},
   "source": [
    "I x J = N.  \n",
    "Therefore, I or J cannot be larger than sqrt(N).  "
   ]
  },
  {
   "cell_type": "code",
   "execution_count": null,
   "metadata": {},
   "outputs": [],
   "source": [
    "## Solution 2\n",
    "\n",
    "def isPrime(n):\n",
    "    for i in range(2,int(n**0.5)+1):  \n",
    "        if n%i==0:\n",
    "            return False\n",
    "    return True\n",
    "\n",
    "def largestPrimeFactor(n):\n",
    "    candidate = n\n",
    "    for i in range(2,int(n**0.5)+1):\n",
    "        if n%i==0:\n",
    "            if isPrime(n//i):  # checking if the second product is the largest first\n",
    "                return n//i\n",
    "            elif isPrime(i):  # if not, the divisible checking is the largest.\n",
    "                candidate=i\n",
    "    return candidate"
   ]
  },
  {
   "cell_type": "code",
   "execution_count": null,
   "metadata": {},
   "outputs": [],
   "source": [
    "## Solution 3\n",
    "def largestPrimeFactor(n):\n",
    "    i = 2 # starting from smallest prime number\n",
    "    while i<=n**0.5:\n",
    "        if n%i==0:\n",
    "            return n//i\n",
    "        else:\n",
    "            if i == 2:\n",
    "                i = 3\n",
    "            else:\n",
    "                i += 2\n",
    "                    \n",
    "    return n"
   ]
  }
 ],
 "metadata": {
  "kernelspec": {
   "display_name": "Python [conda env:metis] *",
   "language": "python",
   "name": "conda-env-metis-py"
  },
  "language_info": {
   "codemirror_mode": {
    "name": "ipython",
    "version": 3
   },
   "file_extension": ".py",
   "mimetype": "text/x-python",
   "name": "python",
   "nbconvert_exporter": "python",
   "pygments_lexer": "ipython3",
   "version": "3.7.3"
  }
 },
 "nbformat": 4,
 "nbformat_minor": 2
}
