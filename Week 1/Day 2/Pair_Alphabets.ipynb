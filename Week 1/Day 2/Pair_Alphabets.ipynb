{
 "cells": [
  {
   "cell_type": "markdown",
   "metadata": {},
   "source": [
    "Pair Problem #1  \n",
    "Given a string, write a function to reverse it. Do this using a loop, if possible.\n",
    "\n",
    "reverseString('abcdef') will return 'fedcba'\n",
    "reverseString('moon') will return 'noom'"
   ]
  },
  {
   "cell_type": "code",
   "execution_count": 5,
   "metadata": {},
   "outputs": [],
   "source": [
    "import collections"
   ]
  },
  {
   "cell_type": "code",
   "execution_count": 43,
   "metadata": {},
   "outputs": [
    {
     "name": "stdout",
     "output_type": "stream",
     "text": [
      "uoyolleh\n"
     ]
    }
   ],
   "source": [
    "def reverseString(strng):\n",
    "    de = collections.deque(list(strng))\n",
    "    empty_de = collections.deque([])\n",
    "    reversed_deque = [empty_de.appendleft(char) for char in de]          \n",
    "    converted_de = list(empty_de)\n",
    "    return str(\"\".join(converted_de))\n",
    "\n",
    "print(reverseString('helloyou'))"
   ]
  },
  {
   "cell_type": "markdown",
   "metadata": {},
   "source": [
    "Pair Problem #2  \n",
    "Sal's classroom has a bag of alphabet magnets. She wants to know if she can spell her friend's name using the letters in the bag. Write a function that will take a list of letters and a name and print out yes if the name can be spelled and no otherwise."
   ]
  },
  {
   "cell_type": "code",
   "execution_count": 96,
   "metadata": {},
   "outputs": [],
   "source": [
    "def CanYouSpell(letters, name):\n",
    "    for char in name:    # iterates through each alphabet in the name\n",
    "        if char in letters:    # checks if each alphabet in the name is in the list\n",
    "            letters.remove(char)     # removes each letter in letters that is the same as the alphabets in name\n",
    "        else:     # exits loop the instant alphabet in name doesn't exist in letters (i.e. that means the list definitely cannot spell the name)\n",
    "            print('NO')\n",
    "            return None  # return breaks/stops the entire function\n",
    "    print(\"YES\")\n",
    "    return None "
   ]
  },
  {
   "cell_type": "code",
   "execution_count": 97,
   "metadata": {},
   "outputs": [
    {
     "name": "stdout",
     "output_type": "stream",
     "text": [
      "YES\n"
     ]
    }
   ],
   "source": [
    "CanYouSpell(['y','n','p','g','n','l'],\"lynn\")"
   ]
  },
  {
   "cell_type": "code",
   "execution_count": 98,
   "metadata": {},
   "outputs": [
    {
     "name": "stdout",
     "output_type": "stream",
     "text": [
      "NO\n"
     ]
    }
   ],
   "source": [
    "CanYouSpell(['y','n','p','g','l'],\"lynn\")"
   ]
  },
  {
   "cell_type": "code",
   "execution_count": 81,
   "metadata": {},
   "outputs": [],
   "source": [
    "from collections import defaultdict\n",
    "def canYouSpell(mylist,word):\n",
    "    mydict = defaultdict(int) # intializes the datatype to be stored\n",
    "    for char in mylist:\n",
    "        mydict[char] += 1 # adds 1 for a character in the loop\n",
    "    for char in word:\n",
    "        mydict[char]-=1 # \n",
    "        if mydict[char] < 0:"
   ]
  },
  {
   "cell_type": "code",
   "execution_count": null,
   "metadata": {},
   "outputs": [],
   "source": []
  }
 ],
 "metadata": {
  "kernelspec": {
   "display_name": "Python 3",
   "language": "python",
   "name": "python3"
  },
  "language_info": {
   "codemirror_mode": {
    "name": "ipython",
    "version": 3
   },
   "file_extension": ".py",
   "mimetype": "text/x-python",
   "name": "python",
   "nbconvert_exporter": "python",
   "pygments_lexer": "ipython3",
   "version": "3.7.3"
  }
 },
 "nbformat": 4,
 "nbformat_minor": 2
}
