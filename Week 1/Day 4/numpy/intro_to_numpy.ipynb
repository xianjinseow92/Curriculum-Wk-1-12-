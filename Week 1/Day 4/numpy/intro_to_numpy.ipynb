{
 "cells": [
  {
   "cell_type": "markdown",
   "metadata": {},
   "source": [
    "# Version Checking"
   ]
  },
  {
   "cell_type": "code",
   "execution_count": 1,
   "metadata": {
    "ExecuteTime": {
     "end_time": "2019-03-18T15:27:17.926764Z",
     "start_time": "2019-03-18T15:27:17.685364Z"
    }
   },
   "outputs": [
    {
     "name": "stdout",
     "output_type": "stream",
     "text": [
      "Python Version: 3.7.3 | packaged by conda-forge | (default, Jul  1 2019, 22:01:29) [MSC v.1900 64 bit (AMD64)] \n",
      "\n",
      "Numpy Version:  1.16.1\n"
     ]
    }
   ],
   "source": [
    "import sys \n",
    "import numpy as np\n",
    "print(\"Python Version:\", sys.version, '\\n')\n",
    "print(\"Numpy Version: \", np.__version__)"
   ]
  },
  {
   "cell_type": "markdown",
   "metadata": {},
   "source": [
    "# Why do we like numpy?"
   ]
  },
  {
   "cell_type": "markdown",
   "metadata": {},
   "source": [
    "Numpy is a great library with many, many functions that extend it well beyond normal Python. We're going to focus on some of the primary functions that we use all the time. \n",
    "\n",
    "Also note that Pandas is pretty much just numpy with column names (and some SQL seasoning) in a lot of ways, so anything we can do to a numpy array we can usually do with a Pandas column. A prominent exception: matrix math doesn't work well in pandas."
   ]
  },
  {
   "cell_type": "markdown",
   "metadata": {},
   "source": [
    "### Get some data (we'll just use some random data)"
   ]
  },
  {
   "cell_type": "code",
   "execution_count": 2,
   "metadata": {
    "ExecuteTime": {
     "end_time": "2019-03-18T15:27:19.257062Z",
     "start_time": "2019-03-18T15:27:19.253899Z"
    }
   },
   "outputs": [],
   "source": [
    "import numpy as np"
   ]
  },
  {
   "cell_type": "code",
   "execution_count": 3,
   "metadata": {},
   "outputs": [],
   "source": [
    "np.random?"
   ]
  },
  {
   "cell_type": "code",
   "execution_count": 4,
   "metadata": {
    "ExecuteTime": {
     "end_time": "2019-03-18T15:27:19.533672Z",
     "start_time": "2019-03-18T15:27:19.527800Z"
    }
   },
   "outputs": [],
   "source": [
    "data = np.random.uniform(size=10000) # ndarray object\n",
    "data_as_list = data.tolist() # converting ndarray into a list to prove a point later"
   ]
  },
  {
   "cell_type": "code",
   "execution_count": 6,
   "metadata": {},
   "outputs": [
    {
     "name": "stdout",
     "output_type": "stream",
     "text": [
      "<class 'numpy.ndarray'>\n",
      "<class 'list'>\n"
     ]
    }
   ],
   "source": [
    "print(type(data))\n",
    "print(type(data_as_list))"
   ]
  },
  {
   "cell_type": "code",
   "execution_count": 7,
   "metadata": {
    "ExecuteTime": {
     "end_time": "2019-03-18T15:27:19.857949Z",
     "start_time": "2019-03-18T15:27:19.842558Z"
    }
   },
   "outputs": [
    {
     "data": {
      "text/plain": [
       "(10000,)"
      ]
     },
     "execution_count": 7,
     "metadata": {},
     "output_type": "execute_result"
    }
   ],
   "source": [
    "data.shape"
   ]
  },
  {
   "cell_type": "markdown",
   "metadata": {},
   "source": [
    "### Broadcasting\n",
    "\n",
    "If we want to perform a mathematical operation on a list, we have to explicitly loop through the list. If we want to act on an array, we can just treat it like a single object and the operation is \"broadcast\" to all of the members of the array. **It's LIGHTNING fast**. Let's see it in action."
   ]
  },
  {
   "cell_type": "code",
   "execution_count": 8,
   "metadata": {
    "ExecuteTime": {
     "end_time": "2019-03-18T15:27:20.482241Z",
     "start_time": "2019-03-18T15:27:20.477795Z"
    }
   },
   "outputs": [],
   "source": [
    "new_data = data + 2"
   ]
  },
  {
   "cell_type": "code",
   "execution_count": 13,
   "metadata": {
    "ExecuteTime": {
     "end_time": "2019-03-18T15:27:20.813002Z",
     "start_time": "2019-03-18T15:27:20.805839Z"
    }
   },
   "outputs": [
    {
     "name": "stdout",
     "output_type": "stream",
     "text": [
      "aded:2.529040468307611, raw:0.5290404683076112\n",
      "aded:2.4345553658097723, raw:0.43455536580977205\n",
      "aded:2.9948160802839707, raw:0.9948160802839705\n",
      "aded:2.0155195272523336, raw:0.01551952725233352\n",
      "aded:2.1252780332885735, raw:0.12527803328857323\n"
     ]
    }
   ],
   "source": [
    "# Zip is a really useful function\n",
    "# Imagine on each side of the list, you have two lists runnung beside each other\n",
    "# added, raw in the `for` loop below unzips the list\n",
    "\n",
    "for added, raw in zip(new_data[:5],data):\n",
    "    print(\"aded:{}, raw:{}\".format(added, raw))"
   ]
  },
  {
   "cell_type": "markdown",
   "metadata": {},
   "source": [
    "What do I mean when I say \"lightning fast\"?"
   ]
  },
  {
   "cell_type": "code",
   "execution_count": 10,
   "metadata": {
    "ExecuteTime": {
     "end_time": "2019-03-18T15:27:27.404054Z",
     "start_time": "2019-03-18T15:27:21.428965Z"
    }
   },
   "outputs": [
    {
     "name": "stdout",
     "output_type": "stream",
     "text": [
      "747 µs ± 72.8 µs per loop (mean ± std. dev. of 7 runs, 1000 loops each)\n"
     ]
    }
   ],
   "source": [
    "%%timeit\n",
    "new_list = [x+2 for x in data_as_list]\n"
   ]
  },
  {
   "cell_type": "code",
   "execution_count": 11,
   "metadata": {
    "ExecuteTime": {
     "end_time": "2019-03-18T15:27:33.039527Z",
     "start_time": "2019-03-18T15:27:27.411940Z"
    }
   },
   "outputs": [
    {
     "name": "stdout",
     "output_type": "stream",
     "text": [
      "5.77 µs ± 93.6 ns per loop (mean ± std. dev. of 7 runs, 100000 loops each)\n"
     ]
    }
   ],
   "source": [
    "%%timeit\n",
    "new_data2 = data + 2"
   ]
  },
  {
   "cell_type": "markdown",
   "metadata": {},
   "source": [
    "We can see from the above examples that broadcasting makes it SUPER FAST, as compared to using a for loop (using a base-python list)"
   ]
  },
  {
   "cell_type": "markdown",
   "metadata": {},
   "source": [
    "### Filtering\n",
    "\n",
    "One of the great things about Pandas is the ability to quickly filter your data. Turns out that's because we're working with numpy arrays. Let's check out filtering on arrays - note that we're going to make a condition and each value in the array will be `True` or `False` based on whether it actually passes the condition."
   ]
  },
  {
   "cell_type": "code",
   "execution_count": 18,
   "metadata": {
    "ExecuteTime": {
     "end_time": "2019-03-18T15:27:33.050132Z",
     "start_time": "2019-03-18T15:27:33.042582Z"
    }
   },
   "outputs": [
    {
     "data": {
      "text/plain": [
       "array([ True, False,  True, ..., False,  True,  True])"
      ]
     },
     "execution_count": 18,
     "metadata": {},
     "output_type": "execute_result"
    }
   ],
   "source": [
    "new_data > 2.5 \n",
    "# mask = conditional selection\n",
    "# returns a list of boolean values where the values fulfill or do not fulfill the condition/mask"
   ]
  },
  {
   "cell_type": "code",
   "execution_count": 19,
   "metadata": {},
   "outputs": [
    {
     "data": {
      "text/plain": [
       "(10000,)"
      ]
     },
     "execution_count": 19,
     "metadata": {},
     "output_type": "execute_result"
    }
   ],
   "source": [
    "data.shape"
   ]
  },
  {
   "cell_type": "code",
   "execution_count": 21,
   "metadata": {},
   "outputs": [
    {
     "data": {
      "text/plain": [
       "(4922,)"
      ]
     },
     "execution_count": 21,
     "metadata": {},
     "output_type": "execute_result"
    }
   ],
   "source": [
    "new_data[new_data > 2.5].shape"
   ]
  },
  {
   "cell_type": "markdown",
   "metadata": {},
   "source": [
    "Once we have the filter, if we ask the array to adjust itself based on that filter, it will automatically only keep the rows that are True."
   ]
  },
  {
   "cell_type": "code",
   "execution_count": 22,
   "metadata": {
    "ExecuteTime": {
     "end_time": "2019-03-18T15:27:33.062068Z",
     "start_time": "2019-03-18T15:27:33.054389Z"
    }
   },
   "outputs": [
    {
     "data": {
      "text/plain": [
       "4922"
      ]
     },
     "execution_count": 22,
     "metadata": {},
     "output_type": "execute_result"
    }
   ],
   "source": [
    "np.sum(new_data > 2.5)"
   ]
  },
  {
   "cell_type": "code",
   "execution_count": 24,
   "metadata": {
    "ExecuteTime": {
     "end_time": "2019-03-18T15:27:33.073353Z",
     "start_time": "2019-03-18T15:27:33.065267Z"
    }
   },
   "outputs": [
    {
     "data": {
      "text/plain": [
       "(4922,)"
      ]
     },
     "execution_count": 24,
     "metadata": {},
     "output_type": "execute_result"
    }
   ],
   "source": [
    "new_data[new_data > 2.5].shape"
   ]
  },
  {
   "cell_type": "code",
   "execution_count": 25,
   "metadata": {
    "ExecuteTime": {
     "end_time": "2019-03-18T15:27:36.392926Z",
     "start_time": "2019-03-18T15:27:36.386963Z"
    }
   },
   "outputs": [
    {
     "data": {
      "text/plain": [
       "array([2.52904047, 2.99481608, 2.76679837, ..., 2.91772286, 2.64977849,\n",
       "       2.98701798])"
      ]
     },
     "execution_count": 25,
     "metadata": {},
     "output_type": "execute_result"
    }
   ],
   "source": [
    "new_data[new_data > 2.5]"
   ]
  },
  {
   "cell_type": "markdown",
   "metadata": {},
   "source": [
    "We can also filter on any data source that has the same length as the data we're filtering. So for instance, if we make a condition on `data` which is equivalent to `new_data - 2`, we can still filter `new_data` the same way. That's possible because data has the same length."
   ]
  },
  {
   "cell_type": "code",
   "execution_count": 26,
   "metadata": {
    "ExecuteTime": {
     "end_time": "2019-03-18T15:27:37.320140Z",
     "start_time": "2019-03-18T15:27:37.314043Z"
    }
   },
   "outputs": [
    {
     "data": {
      "text/plain": [
       "array([2.52904047, 2.99481608, 2.76679837, ..., 2.91772286, 2.64977849,\n",
       "       2.98701798])"
      ]
     },
     "execution_count": 26,
     "metadata": {},
     "output_type": "execute_result"
    }
   ],
   "source": [
    "new_data[data > 0.5]"
   ]
  },
  {
   "cell_type": "markdown",
   "metadata": {},
   "source": [
    "#### Exercise:\n",
    "\n",
    "Write a function that takes in two arrays and a value. The first array is a data array, the second is a 1D array, and the value should be numeric.\n",
    "\n",
    "We want to use broadcasting and filtering to return the rows of the first array, that correspond to indexes where the second array has a value larger than the user provided value.  \n",
    "\n",
    "We also want to add 2 to the values in that row.\n",
    "\n",
    "Example:\n",
    "\n",
    "```\n",
    "x1 = np.array([[1,2],[3,4],[5,6]])\n",
    "x2 = np.array([1, 2, 3])\n",
    "value = 1.5\n",
    "\n",
    "my_function(x1, x2, value)\n",
    "----\n",
    "> array([[5, 6],\n",
    ">        [7, 8]])\n",
    "```"
   ]
  },
  {
   "cell_type": "code",
   "execution_count": null,
   "metadata": {},
   "outputs": [],
   "source": [
    "x1 = np.array([[1,2],[3,4],[5,6]])\n",
    "x2 = np.array([1, 2, 3])\n",
    "value = 1.5"
   ]
  },
  {
   "cell_type": "code",
   "execution_count": 47,
   "metadata": {
    "ExecuteTime": {
     "end_time": "2019-03-18T15:27:38.696420Z",
     "start_time": "2019-03-18T15:27:38.692225Z"
    }
   },
   "outputs": [
    {
     "data": {
      "text/plain": [
       "array([[5, 6],\n",
       "       [7, 8]])"
      ]
     },
     "execution_count": 47,
     "metadata": {},
     "output_type": "execute_result"
    }
   ],
   "source": [
    "# complete exercise here\n",
    "\n",
    "def array_commonalities(x1, x2, value):\n",
    "    \"\"\"\n",
    "    ---\n",
    "    param (x1): takes in a 1d np array\n",
    "    param (x2): takes in a 1d np array\n",
    "    param (value): takes in an integer\n",
    "    \"\"\"\n",
    "    return (x1[x2 > value] + 2)\n",
    "\n",
    "\n",
    "array_commonalities(x1,x2,value)"
   ]
  },
  {
   "cell_type": "markdown",
   "metadata": {},
   "source": [
    "### Reorganization"
   ]
  },
  {
   "cell_type": "markdown",
   "metadata": {},
   "source": [
    "\n",
    "\n",
    "`numpy` also allows us to quick reorganize our array. Let's see a simple working example. By providing a list of \"how to align the indexes\" we can rearrange the data. "
   ]
  },
  {
   "cell_type": "code",
   "execution_count": 50,
   "metadata": {
    "ExecuteTime": {
     "end_time": "2019-03-18T15:27:39.970236Z",
     "start_time": "2019-03-18T15:27:39.957564Z"
    }
   },
   "outputs": [
    {
     "data": {
      "text/plain": [
       "array([20, 10, 30, 40, 50])"
      ]
     },
     "execution_count": 50,
     "metadata": {},
     "output_type": "execute_result"
    }
   ],
   "source": [
    "# Very quick way of re-organizing you data using indexes\n",
    "\n",
    "a = np.array([10,20,30,40,50])\n",
    "a[[1,0,2,3,4]]"
   ]
  },
  {
   "cell_type": "markdown",
   "metadata": {},
   "source": [
    "### Random number draws"
   ]
  },
  {
   "cell_type": "markdown",
   "metadata": {},
   "source": [
    "`numpy` also has a great series of tools for generating random numbers effectively. Let's see a few in action (we'll use matplotlib to visualize."
   ]
  },
  {
   "cell_type": "code",
   "execution_count": 51,
   "metadata": {
    "ExecuteTime": {
     "end_time": "2019-03-18T15:27:41.541133Z",
     "start_time": "2019-03-18T15:27:41.121981Z"
    }
   },
   "outputs": [],
   "source": [
    "import matplotlib.pyplot as plt\n",
    "%matplotlib inline\n",
    "plt.style.use(\"seaborn\")\n",
    "\n",
    "def plot_hist(x, bins=None):\n",
    "    plt.figure(dpi=100)\n",
    "    plt.hist(x, bins=bins);"
   ]
  },
  {
   "cell_type": "code",
   "execution_count": 55,
   "metadata": {
    "ExecuteTime": {
     "end_time": "2019-03-18T15:27:42.233263Z",
     "start_time": "2019-03-18T15:27:41.892251Z"
    },
    "scrolled": true
   },
   "outputs": [
    {
     "data": {
      "image/png": "[encoded data removed]",
      "text/plain": [
       "<Figure size 600x400 with 1 Axes>"
      ]
     },
     "metadata": {
      "needs_background": "light"
     },
     "output_type": "display_data"
    }
   ],
   "source": [
    "x = np.random.uniform(0,10,size=500)\n",
    "plot_hist(x)"
   ]
  },
  {
   "cell_type": "code",
   "execution_count": 57,
   "metadata": {
    "ExecuteTime": {
     "end_time": "2019-03-18T15:27:42.995289Z",
     "start_time": "2019-03-18T15:27:42.305886Z"
    }
   },
   "outputs": [
    {
     "data": {
      "image/png": "[encoded data removed]",
      "text/plain": [
       "<Figure size 600x400 with 1 Axes>"
      ]
     },
     "metadata": {
      "needs_background": "light"
     },
     "output_type": "display_data"
    }
   ],
   "source": [
    "x = np.random.normal(3,1,size=20000)  # creates an np array with values that allow you to plot a normal distribution\n",
    "plot_hist(x, bins=100)"
   ]
  },
  {
   "cell_type": "code",
   "execution_count": 59,
   "metadata": {
    "ExecuteTime": {
     "end_time": "2019-03-18T15:27:43.429084Z",
     "start_time": "2019-03-18T15:27:43.002477Z"
    }
   },
   "outputs": [
    {
     "data": {
      "image/png": "[encoded data removed]",
      "text/plain": [
       "<Figure size 600x400 with 1 Axes>"
      ]
     },
     "metadata": {
      "needs_background": "light"
     },
     "output_type": "display_data"
    }
   ],
   "source": [
    "x = np.random.poisson(2, size=20000)  # poisson used for chance of event happening. model rare events/events happening\n",
    "plot_hist(x, bins=20)"
   ]
  },
  {
   "cell_type": "markdown",
   "metadata": {},
   "source": [
    "### Matrix Multiplication"
   ]
  },
  {
   "cell_type": "markdown",
   "metadata": {},
   "source": [
    "Doing matrix multiplication programmatically is usually a hassel. `numpy` makes that simple. There are two methods for doing that: `numpy` treats `@` as meaning \"do the matrix multiplication\"."
   ]
  },
  {
   "cell_type": "code",
   "execution_count": 60,
   "metadata": {
    "ExecuteTime": {
     "end_time": "2019-03-18T15:27:44.467148Z",
     "start_time": "2019-03-18T15:27:44.457842Z"
    }
   },
   "outputs": [
    {
     "data": {
      "text/plain": [
       "array([[0.80065193, 0.86837514, 0.99779956, 0.56537243],\n",
       "       [0.68834082, 0.97121014, 0.79557947, 0.18767269]])"
      ]
     },
     "execution_count": 60,
     "metadata": {},
     "output_type": "execute_result"
    }
   ],
   "source": [
    "mat_a = np.random.uniform(size=(2,4))\n",
    "mat_b = np.random.uniform(size=(4,3))\n",
    "\n",
    "mat_a"
   ]
  },
  {
   "cell_type": "code",
   "execution_count": 62,
   "metadata": {
    "ExecuteTime": {
     "end_time": "2019-03-18T15:27:45.038899Z",
     "start_time": "2019-03-18T15:27:45.031405Z"
    }
   },
   "outputs": [
    {
     "data": {
      "text/plain": [
       "array([[1.49950605, 2.20342101, 1.8112459 ],\n",
       "       [1.4003516 , 1.93465216, 1.50468011]])"
      ]
     },
     "execution_count": 62,
     "metadata": {},
     "output_type": "execute_result"
    }
   ],
   "source": [
    "mat_a@mat_b  #  (2 x 4) * (4 x 3)  matrix"
   ]
  },
  {
   "cell_type": "markdown",
   "metadata": {},
   "source": [
    "It also throws an error if the multiplication can't happen.\n",
    "\n",
    "Try `mat_b@mat_a`"
   ]
  },
  {
   "cell_type": "code",
   "execution_count": 64,
   "metadata": {
    "ExecuteTime": {
     "end_time": "2019-03-18T15:27:45.934019Z",
     "start_time": "2019-03-18T15:27:45.929233Z"
    }
   },
   "outputs": [
    {
     "ename": "ValueError",
     "evalue": "matmul: Input operand 1 has a mismatch in its core dimension 0, with gufunc signature (n?,k),(k,m?)->(n?,m?) (size 2 is different from 3)",
     "output_type": "error",
     "traceback": [
      "\u001b[1;31m---------------------------------------------------------------------------\u001b[0m",
      "\u001b[1;31mValueError\u001b[0m                                Traceback (most recent call last)",
      "\u001b[1;32m<ipython-input-64-104439f272a3>\u001b[0m in \u001b[0;36m<module>\u001b[1;34m\u001b[0m\n\u001b[1;32m----> 1\u001b[1;33m \u001b[0mmat_b\u001b[0m\u001b[1;33m@\u001b[0m\u001b[0mmat_a\u001b[0m\u001b[1;33m\u001b[0m\u001b[1;33m\u001b[0m\u001b[0m\n\u001b[0m",
      "\u001b[1;31mValueError\u001b[0m: matmul: Input operand 1 has a mismatch in its core dimension 0, with gufunc signature (n?,k),(k,m?)->(n?,m?) (size 2 is different from 3)"
     ]
    }
   ],
   "source": [
    "mat_b@mat_a"
   ]
  },
  {
   "cell_type": "markdown",
   "metadata": {},
   "source": [
    "You can also use `np.dot` to do the multiplication. However, be careful with this, as it also computes the actual dot product of vectors. It tries to be smart about how it does that, so it usually does a good job. "
   ]
  },
  {
   "cell_type": "code",
   "execution_count": 65,
   "metadata": {
    "ExecuteTime": {
     "end_time": "2019-03-18T15:27:47.139932Z",
     "start_time": "2019-03-18T15:27:47.131784Z"
    }
   },
   "outputs": [
    {
     "data": {
      "text/plain": [
       "array([[1.49950605, 2.20342101, 1.8112459 ],\n",
       "       [1.4003516 , 1.93465216, 1.50468011]])"
      ]
     },
     "execution_count": 65,
     "metadata": {},
     "output_type": "execute_result"
    }
   ],
   "source": [
    "np.dot(mat_a, mat_b)"
   ]
  },
  {
   "cell_type": "markdown",
   "metadata": {},
   "source": [
    "Vector dot product example:"
   ]
  },
  {
   "cell_type": "code",
   "execution_count": 66,
   "metadata": {
    "ExecuteTime": {
     "end_time": "2019-03-18T15:27:48.121286Z",
     "start_time": "2019-03-18T15:27:48.111633Z"
    }
   },
   "outputs": [
    {
     "data": {
      "text/plain": [
       "32"
      ]
     },
     "execution_count": 66,
     "metadata": {},
     "output_type": "execute_result"
    }
   ],
   "source": [
    "a = np.array([1,2,3])\n",
    "b = np.array([4,5,6])\n",
    "np.dot(a,b)"
   ]
  },
  {
   "cell_type": "markdown",
   "metadata": {},
   "source": [
    "`numpy` also knows about basic matrix stuff like transposes, etc. It also has a ton of cool linear algebra stuff under `np.linalg` but we're going to skip over that for now."
   ]
  },
  {
   "cell_type": "code",
   "execution_count": 67,
   "metadata": {
    "ExecuteTime": {
     "end_time": "2019-03-18T15:27:49.067458Z",
     "start_time": "2019-03-18T15:27:49.062032Z"
    }
   },
   "outputs": [
    {
     "data": {
      "text/plain": [
       "array([[0.80065193, 0.86837514, 0.99779956, 0.56537243],\n",
       "       [0.68834082, 0.97121014, 0.79557947, 0.18767269]])"
      ]
     },
     "execution_count": 67,
     "metadata": {},
     "output_type": "execute_result"
    }
   ],
   "source": [
    "mat_a"
   ]
  },
  {
   "cell_type": "code",
   "execution_count": 69,
   "metadata": {
    "ExecuteTime": {
     "end_time": "2019-03-18T15:27:49.613747Z",
     "start_time": "2019-03-18T15:27:49.605638Z"
    }
   },
   "outputs": [
    {
     "data": {
      "text/plain": [
       "array([[0.80065193, 0.68834082],\n",
       "       [0.86837514, 0.97121014],\n",
       "       [0.99779956, 0.79557947],\n",
       "       [0.56537243, 0.18767269]])"
      ]
     },
     "execution_count": 69,
     "metadata": {},
     "output_type": "execute_result"
    }
   ],
   "source": [
    "# Imagine the face of you palm is facing you.\n",
    "# Transposing is just flipping your palm and now the back of your palm is facing you\n",
    "\n",
    "mat_a.T"
   ]
  },
  {
   "cell_type": "markdown",
   "metadata": {},
   "source": [
    "### Vectorization"
   ]
  },
  {
   "cell_type": "markdown",
   "metadata": {},
   "source": [
    "And here's why `numpy` is a magical beast. We can take many common things and convert them into a \"vectorized\" process - meaning that we do the same thing over the whole dataset using advanced broadcasting. So for instance, let's look at adding a vector to a matrix (we're going to add this vector to each row) "
   ]
  },
  {
   "cell_type": "code",
   "execution_count": 71,
   "metadata": {},
   "outputs": [
    {
     "data": {
      "text/plain": [
       "array([[0.80065193, 0.68834082],\n",
       "       [0.86837514, 0.97121014],\n",
       "       [0.99779956, 0.79557947],\n",
       "       [0.56537243, 0.18767269]])"
      ]
     },
     "execution_count": 71,
     "metadata": {},
     "output_type": "execute_result"
    }
   ],
   "source": [
    "mat_a.T"
   ]
  },
  {
   "cell_type": "code",
   "execution_count": 73,
   "metadata": {
    "ExecuteTime": {
     "end_time": "2019-03-18T15:27:50.889661Z",
     "start_time": "2019-03-18T15:27:50.881878Z"
    }
   },
   "outputs": [
    {
     "data": {
      "text/plain": [
       "array([[1.80065193, 2.68834082],\n",
       "       [1.86837514, 2.97121014],\n",
       "       [1.99779956, 2.79557947],\n",
       "       [1.56537243, 2.18767269]])"
      ]
     },
     "execution_count": 73,
     "metadata": {},
     "output_type": "execute_result"
    }
   ],
   "source": [
    "mat_a.T + np.array([1,2])  # first column added 1, second column added 2\n",
    "# as long as your columns match"
   ]
  },
  {
   "cell_type": "markdown",
   "metadata": {},
   "source": [
    "`numpy` noticed that the column lengths matched and automatically adjusted to adding the whole vectors.\n",
    "\n",
    "What do we think the below code will do?"
   ]
  },
  {
   "cell_type": "code",
   "execution_count": 75,
   "metadata": {},
   "outputs": [
    {
     "data": {
      "text/plain": [
       "array([[0.80065193, 0.86837514, 0.99779956, 0.56537243],\n",
       "       [0.68834082, 0.97121014, 0.79557947, 0.18767269]])"
      ]
     },
     "execution_count": 75,
     "metadata": {},
     "output_type": "execute_result"
    }
   ],
   "source": [
    "mat_a"
   ]
  },
  {
   "cell_type": "code",
   "execution_count": 76,
   "metadata": {
    "ExecuteTime": {
     "end_time": "2019-03-18T15:27:51.976093Z",
     "start_time": "2019-03-18T15:27:51.969824Z"
    }
   },
   "outputs": [
    {
     "data": {
      "text/plain": [
       "array([[-0.19934807, -1.13162486, -2.00220044, -3.43462757],\n",
       "       [-0.31165918, -1.02878986, -2.20442053, -3.81232731]])"
      ]
     },
     "execution_count": 76,
     "metadata": {},
     "output_type": "execute_result"
    }
   ],
   "source": [
    "mat_a - np.array([1,2,3,4])  # 2x4 matrix - 2x4 matrix"
   ]
  },
  {
   "cell_type": "markdown",
   "metadata": {},
   "source": [
    "We can use that to do things like calculating the distance between a single vector and a whole table of vectors. Let's see that in action."
   ]
  },
  {
   "cell_type": "markdown",
   "metadata": {},
   "source": [
    "**Let's find the vector distance between a bunch of vectors and one vector**"
   ]
  },
  {
   "cell_type": "code",
   "execution_count": 77,
   "metadata": {
    "ExecuteTime": {
     "end_time": "2019-03-18T15:27:53.160143Z",
     "start_time": "2019-03-18T15:27:53.154144Z"
    }
   },
   "outputs": [],
   "source": [
    "new_vec = np.array([1,2])\n",
    "all_vecs = np.random.uniform(size=(100,2))"
   ]
  },
  {
   "cell_type": "code",
   "execution_count": 78,
   "metadata": {},
   "outputs": [
    {
     "data": {
      "text/plain": [
       "array([1, 2])"
      ]
     },
     "execution_count": 78,
     "metadata": {},
     "output_type": "execute_result"
    }
   ],
   "source": [
    "new_vec"
   ]
  },
  {
   "cell_type": "code",
   "execution_count": 81,
   "metadata": {},
   "outputs": [
    {
     "data": {
      "text/plain": [
       "array([[0.59416831, 0.90968695],\n",
       "       [0.42818023, 0.50831163],\n",
       "       [0.84109511, 0.60961591]])"
      ]
     },
     "execution_count": 81,
     "metadata": {},
     "output_type": "execute_result"
    }
   ],
   "source": [
    "all_vecs[0:3]"
   ]
  },
  {
   "cell_type": "markdown",
   "metadata": {},
   "source": [
    "If we were doing it for one vector:"
   ]
  },
  {
   "cell_type": "code",
   "execution_count": 82,
   "metadata": {
    "ExecuteTime": {
     "end_time": "2019-03-18T15:27:53.972282Z",
     "start_time": "2019-03-18T15:27:53.961883Z"
    }
   },
   "outputs": [
    {
     "data": {
      "text/plain": [
       "1.1633924100103992"
      ]
     },
     "execution_count": 82,
     "metadata": {},
     "output_type": "execute_result"
    }
   ],
   "source": [
    "x = all_vecs[0]\n",
    "np.sqrt((new_vec[0] - x[0])**2 + (new_vec[1] - x[1])**2)  # this is an L2-norm"
   ]
  },
  {
   "cell_type": "markdown",
   "metadata": {},
   "source": [
    "Now let's do it for all 100 vectors:"
   ]
  },
  {
   "cell_type": "code",
   "execution_count": 83,
   "metadata": {
    "ExecuteTime": {
     "end_time": "2019-03-18T15:27:55.255732Z",
     "start_time": "2019-03-18T15:27:55.244499Z"
    }
   },
   "outputs": [
    {
     "data": {
      "text/plain": [
       "array([1.16339241, 1.59753311, 1.39943513, 1.89832718, 1.48623976,\n",
       "       1.46259267, 1.87842603, 1.53710301, 1.5828222 , 1.06358245])"
      ]
     },
     "execution_count": 83,
     "metadata": {},
     "output_type": "execute_result"
    }
   ],
   "source": [
    "np.sqrt(np.sum((all_vecs - new_vec)**2, axis=1))[:10]"
   ]
  },
  {
   "cell_type": "markdown",
   "metadata": {},
   "source": [
    "Many, many, many processes can be vectorized... and it can be a huge time saver on large datasets. Let's see the difference."
   ]
  },
  {
   "cell_type": "code",
   "execution_count": 84,
   "metadata": {
    "ExecuteTime": {
     "end_time": "2019-03-18T15:28:06.932318Z",
     "start_time": "2019-03-18T15:27:56.763673Z"
    }
   },
   "outputs": [
    {
     "name": "stdout",
     "output_type": "stream",
     "text": [
      "755 µs ± 12.3 µs per loop (mean ± std. dev. of 7 runs, 1000 loops each)\n"
     ]
    }
   ],
   "source": [
    "%%timeit\n",
    "output = []\n",
    "for x in all_vecs:\n",
    "    dist = np.sqrt((new_vec[0] - x[0])**2 + (new_vec[1] - x[1])**2)\n",
    "    output.append(dist)"
   ]
  },
  {
   "cell_type": "code",
   "execution_count": 85,
   "metadata": {
    "ExecuteTime": {
     "end_time": "2019-03-18T15:28:08.468035Z",
     "start_time": "2019-03-18T15:28:06.937337Z"
    }
   },
   "outputs": [
    {
     "name": "stdout",
     "output_type": "stream",
     "text": [
      "11.2 µs ± 168 ns per loop (mean ± std. dev. of 7 runs, 100000 loops each)\n"
     ]
    }
   ],
   "source": [
    "%%timeit\n",
    "np.sqrt(np.sum((all_vecs - new_vec)**2, axis=1))"
   ]
  },
  {
   "cell_type": "markdown",
   "metadata": {},
   "source": [
    "What about at a larger scale than 100?"
   ]
  },
  {
   "cell_type": "code",
   "execution_count": 86,
   "metadata": {
    "ExecuteTime": {
     "end_time": "2019-03-18T15:28:08.483223Z",
     "start_time": "2019-03-18T15:28:08.474347Z"
    }
   },
   "outputs": [],
   "source": [
    "all_vecs = np.random.uniform(size=(10000,2))"
   ]
  },
  {
   "cell_type": "code",
   "execution_count": 87,
   "metadata": {
    "ExecuteTime": {
     "end_time": "2019-03-18T15:28:09.519696Z",
     "start_time": "2019-03-18T15:28:08.489581Z"
    }
   },
   "outputs": [
    {
     "name": "stdout",
     "output_type": "stream",
     "text": [
      "75.1 ms ± 1.36 ms per loop (mean ± std. dev. of 7 runs, 10 loops each)\n"
     ]
    }
   ],
   "source": [
    "%%timeit\n",
    "output = []\n",
    "for x in all_vecs:\n",
    "    dist = np.sqrt((new_vec[0] - x[0])**2 + (new_vec[1] - x[1])**2)\n",
    "    output.append(dist)"
   ]
  },
  {
   "cell_type": "code",
   "execution_count": 88,
   "metadata": {
    "ExecuteTime": {
     "end_time": "2019-03-18T15:28:13.842194Z",
     "start_time": "2019-03-18T15:28:09.523525Z"
    }
   },
   "outputs": [
    {
     "name": "stdout",
     "output_type": "stream",
     "text": [
      "274 µs ± 14.3 µs per loop (mean ± std. dev. of 7 runs, 1000 loops each)\n"
     ]
    }
   ],
   "source": [
    "%%timeit\n",
    "np.sqrt(np.sum((all_vecs - new_vec)**2, axis=1))"
   ]
  },
  {
   "cell_type": "code",
   "execution_count": 89,
   "metadata": {
    "ExecuteTime": {
     "end_time": "2019-03-18T15:28:24.652514Z",
     "start_time": "2019-03-18T15:28:19.203008Z"
    }
   },
   "outputs": [],
   "source": [
    "import time\n",
    "list_timing = []\n",
    "for num_vecs in np.linspace(10,10000,100):\n",
    "    all_vecs = np.random.uniform(size=(int(num_vecs),2)).tolist()\n",
    "    # To measure when we start our process\n",
    "    start = time.time()\n",
    "    \n",
    "    # The actual process\n",
    "    output = []\n",
    "    for x in all_vecs:\n",
    "        dist = np.sqrt((new_vec[0] - x[0])**2 + (new_vec[1] - x[1])**2)\n",
    "        output.append(dist)\n",
    "        \n",
    "    # Figure out when the process was done and \n",
    "    # keep track of how long it took\n",
    "    end = time.time()\n",
    "    list_timing.append((num_vecs, end - start))"
   ]
  },
  {
   "cell_type": "code",
   "execution_count": 90,
   "metadata": {
    "ExecuteTime": {
     "end_time": "2019-03-18T15:28:35.821340Z",
     "start_time": "2019-03-18T15:28:35.728332Z"
    }
   },
   "outputs": [],
   "source": [
    "array_timing = []\n",
    "for num_vecs in np.linspace(10,10000,100):\n",
    "    all_vecs = np.random.uniform(size=(int(num_vecs),2))\n",
    "    # To measure when we start our process\n",
    "    start = time.time()\n",
    "    \n",
    "    # The actual process\n",
    "    output = np.sqrt(np.sum((all_vecs - new_vec)**2, axis=1))\n",
    "        \n",
    "    # Figure out when the process was done and \n",
    "    # keep track of how long it took\n",
    "    end = time.time()\n",
    "    array_timing.append((num_vecs, end - start))"
   ]
  },
  {
   "cell_type": "code",
   "execution_count": 91,
   "metadata": {
    "ExecuteTime": {
     "end_time": "2019-03-18T15:28:37.734128Z",
     "start_time": "2019-03-18T15:28:37.162942Z"
    }
   },
   "outputs": [
    {
     "data": {
      "image/png": "[encoded data removed]",
      "text/plain": [
       "<Figure size 900x600 with 1 Axes>"
      ]
     },
     "metadata": {
      "needs_background": "light"
     },
     "output_type": "display_data"
    }
   ],
   "source": [
    "plt.figure(dpi=150)\n",
    "list_X, list_times = zip(*list_timing)\n",
    "array_X, array_times = zip(*array_timing)\n",
    "\n",
    "plt.plot(list_X, list_times, 'r', label=\"Lists\")\n",
    "plt.plot(array_X, array_times,'b', label='Arrays')\n",
    "plt.xlabel(\"Number of Vectors\")\n",
    "plt.ylabel(\"Computation Time\")\n",
    "plt.legend();"
   ]
  },
  {
   "cell_type": "markdown",
   "metadata": {},
   "source": [
    "Hard to see what's happening there besides numpy kicking ass. Let's look on a log scale."
   ]
  },
  {
   "cell_type": "code",
   "execution_count": 92,
   "metadata": {
    "ExecuteTime": {
     "end_time": "2019-03-18T15:30:35.610618Z",
     "start_time": "2019-03-18T15:30:34.525498Z"
    }
   },
   "outputs": [
    {
     "data": {
      "image/png": "[encoded data removed]",
      "text/plain": [
       "<Figure size 900x600 with 1 Axes>"
      ]
     },
     "metadata": {
      "needs_background": "light"
     },
     "output_type": "display_data"
    }
   ],
   "source": [
    "plt.figure(dpi=150)\n",
    "list_X, list_times = zip(*list_timing)\n",
    "array_X, array_times = zip(*array_timing)\n",
    "\n",
    "plt.plot(list_X, list_times, 'r', label=\"Lists\")\n",
    "plt.plot(array_X, array_times,'b', label='Arrays')\n",
    "plt.yscale('log')\n",
    "plt.xlabel(\"Number of Vectors\")\n",
    "plt.ylabel(\"Computation Time\")\n",
    "plt.legend();"
   ]
  },
  {
   "cell_type": "code",
   "execution_count": null,
   "metadata": {},
   "outputs": [],
   "source": []
  }
 ],
 "metadata": {
  "kernelspec": {
   "display_name": "Python [conda env:metis] *",
   "language": "python",
   "name": "conda-env-metis-py"
  },
  "language_info": {
   "codemirror_mode": {
    "name": "ipython",
    "version": 3
   },
   "file_extension": ".py",
   "mimetype": "text/x-python",
   "name": "python",
   "nbconvert_exporter": "python",
   "pygments_lexer": "ipython3",
   "version": "3.7.3"
  }
 },
 "nbformat": 4,
 "nbformat_minor": 2
}
